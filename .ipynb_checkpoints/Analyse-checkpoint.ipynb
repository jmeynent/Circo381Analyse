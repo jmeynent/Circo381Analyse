{
 "cells": [
  {
   "cell_type": "markdown",
   "id": "bae1087a-3577-4512-80c2-cf7e188b5adf",
   "metadata": {},
   "source": [
    "# Analyse des résultats électoraux de la première circonscription de l'isère\n",
    "\n",
    "Le but de ce travail est de comprendre les reports de voix, les bénéfices de la participation et les effets de scénarios électoraux sur la législative partielle de 2025."
   ]
  },
  {
   "cell_type": "code",
   "execution_count": 304,
   "id": "b74a481b-1a22-4609-a0ad-f19f8fa5a2b9",
   "metadata": {},
   "outputs": [
    {
     "name": "stdout",
     "output_type": "stream",
     "text": [
      "Requirement already satisfied: openpyxl in /opt/conda/lib/python3.12/site-packages (3.1.5)\n",
      "Requirement already satisfied: et-xmlfile in /opt/conda/lib/python3.12/site-packages (from openpyxl) (2.0.0)\n",
      "Requirement already satisfied: kaleido in /opt/conda/lib/python3.12/site-packages (0.2.1)\n",
      "Requirement already satisfied: statsmodels in /opt/conda/lib/python3.12/site-packages (0.14.4)\n",
      "Requirement already satisfied: numpy<3,>=1.22.3 in /opt/conda/lib/python3.12/site-packages (from statsmodels) (2.1.2)\n",
      "Requirement already satisfied: scipy!=1.9.2,>=1.8 in /opt/conda/lib/python3.12/site-packages (from statsmodels) (1.14.1)\n",
      "Requirement already satisfied: pandas!=2.1.0,>=1.4 in /opt/conda/lib/python3.12/site-packages (from statsmodels) (2.2.3)\n",
      "Requirement already satisfied: patsy>=0.5.6 in /opt/conda/lib/python3.12/site-packages (from statsmodels) (0.5.6)\n",
      "Requirement already satisfied: packaging>=21.3 in /opt/conda/lib/python3.12/site-packages (from statsmodels) (24.1)\n",
      "Requirement already satisfied: python-dateutil>=2.8.2 in /opt/conda/lib/python3.12/site-packages (from pandas!=2.1.0,>=1.4->statsmodels) (2.9.0)\n",
      "Requirement already satisfied: pytz>=2020.1 in /opt/conda/lib/python3.12/site-packages (from pandas!=2.1.0,>=1.4->statsmodels) (2024.1)\n",
      "Requirement already satisfied: tzdata>=2022.7 in /opt/conda/lib/python3.12/site-packages (from pandas!=2.1.0,>=1.4->statsmodels) (2024.2)\n",
      "Requirement already satisfied: six in /opt/conda/lib/python3.12/site-packages (from patsy>=0.5.6->statsmodels) (1.16.0)\n"
     ]
    }
   ],
   "source": [
    "#Importation des packages\n",
    "!pip install openpyxl\n",
    "!pip install -U kaleido\n",
    "!pip install statsmodels\n",
    "\n",
    "import kaleido\n",
    "from statsmodels.stats.outliers_influence import variance_inflation_factor\n",
    "import numpy as np\n",
    "import pandas as pd\n",
    "import openpyxl\n",
    "import matplotlib.pyplot as plt \n",
    "import plotly.express as px\n",
    "import statsmodels.api as sm\n",
    "import seaborn as sns"
   ]
  },
  {
   "cell_type": "markdown",
   "id": "2b51435d-fba4-419e-97c7-b8b68f962176",
   "metadata": {},
   "source": [
    "## Nettoyage des données\n",
    "\n",
    "Cette partie n'a pas besoin d'être utilisée pour obtenir les données nettoyées, il est possible de les récupérer à la Section Analyse de données.\n",
    "\n",
    "Avant toute chose, il faut fusionner les données du ministère de l'intérieur pour avoir les résultats à chaque élection (présidentielles 2022 1er tour), législatives anticipées 2024, européennes 2024) pour chaque bureau de vote de la circonscription."
   ]
  },
  {
   "cell_type": "code",
   "execution_count": 305,
   "id": "e8c9353d-b399-4ceb-b23b-b17eaa7fd1b8",
   "metadata": {},
   "outputs": [],
   "source": [
    "#Importation des données\n",
    "legi24T1 = pd.read_excel('data/LEGI24T1.xlsx', engine='openpyxl')\n",
    "legi24T2 = pd.read_excel('data/LEGI24T2.xlsx', engine='openpyxl')"
   ]
  },
  {
   "cell_type": "code",
   "execution_count": 260,
   "id": "de2bc989-90c4-48e6-8313-33246c214bb9",
   "metadata": {},
   "outputs": [],
   "source": [
    "pres22T = pd.read_excel('data/PREZ22.xlsx') "
   ]
  },
  {
   "cell_type": "code",
   "execution_count": 261,
   "id": "bc81cb2b-eb13-49d0-9dc1-3d08ea0ef58a",
   "metadata": {},
   "outputs": [
    {
     "ename": "KeyboardInterrupt",
     "evalue": "",
     "output_type": "error",
     "traceback": [
      "\u001b[0;31m---------------------------------------------------------------------------\u001b[0m",
      "\u001b[0;31mKeyboardInterrupt\u001b[0m                         Traceback (most recent call last)",
      "Cell \u001b[0;32mIn[261], line 1\u001b[0m\n\u001b[0;32m----> 1\u001b[0m euro24 \u001b[38;5;241m=\u001b[39m \u001b[43mpd\u001b[49m\u001b[38;5;241;43m.\u001b[39;49m\u001b[43mread_excel\u001b[49m\u001b[43m(\u001b[49m\u001b[38;5;124;43m'\u001b[39;49m\u001b[38;5;124;43mdata/EURO24.xlsx\u001b[39;49m\u001b[38;5;124;43m'\u001b[39;49m\u001b[43m)\u001b[49m\n",
      "File \u001b[0;32m/opt/conda/lib/python3.12/site-packages/pandas/io/excel/_base.py:508\u001b[0m, in \u001b[0;36mread_excel\u001b[0;34m(io, sheet_name, header, names, index_col, usecols, dtype, engine, converters, true_values, false_values, skiprows, nrows, na_values, keep_default_na, na_filter, verbose, parse_dates, date_parser, date_format, thousands, decimal, comment, skipfooter, storage_options, dtype_backend, engine_kwargs)\u001b[0m\n\u001b[1;32m    502\u001b[0m     \u001b[38;5;28;01mraise\u001b[39;00m \u001b[38;5;167;01mValueError\u001b[39;00m(\n\u001b[1;32m    503\u001b[0m         \u001b[38;5;124m\"\u001b[39m\u001b[38;5;124mEngine should not be specified when passing \u001b[39m\u001b[38;5;124m\"\u001b[39m\n\u001b[1;32m    504\u001b[0m         \u001b[38;5;124m\"\u001b[39m\u001b[38;5;124man ExcelFile - ExcelFile already has the engine set\u001b[39m\u001b[38;5;124m\"\u001b[39m\n\u001b[1;32m    505\u001b[0m     )\n\u001b[1;32m    507\u001b[0m \u001b[38;5;28;01mtry\u001b[39;00m:\n\u001b[0;32m--> 508\u001b[0m     data \u001b[38;5;241m=\u001b[39m \u001b[43mio\u001b[49m\u001b[38;5;241;43m.\u001b[39;49m\u001b[43mparse\u001b[49m\u001b[43m(\u001b[49m\n\u001b[1;32m    509\u001b[0m \u001b[43m        \u001b[49m\u001b[43msheet_name\u001b[49m\u001b[38;5;241;43m=\u001b[39;49m\u001b[43msheet_name\u001b[49m\u001b[43m,\u001b[49m\n\u001b[1;32m    510\u001b[0m \u001b[43m        \u001b[49m\u001b[43mheader\u001b[49m\u001b[38;5;241;43m=\u001b[39;49m\u001b[43mheader\u001b[49m\u001b[43m,\u001b[49m\n\u001b[1;32m    511\u001b[0m \u001b[43m        \u001b[49m\u001b[43mnames\u001b[49m\u001b[38;5;241;43m=\u001b[39;49m\u001b[43mnames\u001b[49m\u001b[43m,\u001b[49m\n\u001b[1;32m    512\u001b[0m \u001b[43m        \u001b[49m\u001b[43mindex_col\u001b[49m\u001b[38;5;241;43m=\u001b[39;49m\u001b[43mindex_col\u001b[49m\u001b[43m,\u001b[49m\n\u001b[1;32m    513\u001b[0m \u001b[43m        \u001b[49m\u001b[43musecols\u001b[49m\u001b[38;5;241;43m=\u001b[39;49m\u001b[43musecols\u001b[49m\u001b[43m,\u001b[49m\n\u001b[1;32m    514\u001b[0m \u001b[43m        \u001b[49m\u001b[43mdtype\u001b[49m\u001b[38;5;241;43m=\u001b[39;49m\u001b[43mdtype\u001b[49m\u001b[43m,\u001b[49m\n\u001b[1;32m    515\u001b[0m \u001b[43m        \u001b[49m\u001b[43mconverters\u001b[49m\u001b[38;5;241;43m=\u001b[39;49m\u001b[43mconverters\u001b[49m\u001b[43m,\u001b[49m\n\u001b[1;32m    516\u001b[0m \u001b[43m        \u001b[49m\u001b[43mtrue_values\u001b[49m\u001b[38;5;241;43m=\u001b[39;49m\u001b[43mtrue_values\u001b[49m\u001b[43m,\u001b[49m\n\u001b[1;32m    517\u001b[0m \u001b[43m        \u001b[49m\u001b[43mfalse_values\u001b[49m\u001b[38;5;241;43m=\u001b[39;49m\u001b[43mfalse_values\u001b[49m\u001b[43m,\u001b[49m\n\u001b[1;32m    518\u001b[0m \u001b[43m        \u001b[49m\u001b[43mskiprows\u001b[49m\u001b[38;5;241;43m=\u001b[39;49m\u001b[43mskiprows\u001b[49m\u001b[43m,\u001b[49m\n\u001b[1;32m    519\u001b[0m \u001b[43m        \u001b[49m\u001b[43mnrows\u001b[49m\u001b[38;5;241;43m=\u001b[39;49m\u001b[43mnrows\u001b[49m\u001b[43m,\u001b[49m\n\u001b[1;32m    520\u001b[0m \u001b[43m        \u001b[49m\u001b[43mna_values\u001b[49m\u001b[38;5;241;43m=\u001b[39;49m\u001b[43mna_values\u001b[49m\u001b[43m,\u001b[49m\n\u001b[1;32m    521\u001b[0m \u001b[43m        \u001b[49m\u001b[43mkeep_default_na\u001b[49m\u001b[38;5;241;43m=\u001b[39;49m\u001b[43mkeep_default_na\u001b[49m\u001b[43m,\u001b[49m\n\u001b[1;32m    522\u001b[0m \u001b[43m        \u001b[49m\u001b[43mna_filter\u001b[49m\u001b[38;5;241;43m=\u001b[39;49m\u001b[43mna_filter\u001b[49m\u001b[43m,\u001b[49m\n\u001b[1;32m    523\u001b[0m \u001b[43m        \u001b[49m\u001b[43mverbose\u001b[49m\u001b[38;5;241;43m=\u001b[39;49m\u001b[43mverbose\u001b[49m\u001b[43m,\u001b[49m\n\u001b[1;32m    524\u001b[0m \u001b[43m        \u001b[49m\u001b[43mparse_dates\u001b[49m\u001b[38;5;241;43m=\u001b[39;49m\u001b[43mparse_dates\u001b[49m\u001b[43m,\u001b[49m\n\u001b[1;32m    525\u001b[0m \u001b[43m        \u001b[49m\u001b[43mdate_parser\u001b[49m\u001b[38;5;241;43m=\u001b[39;49m\u001b[43mdate_parser\u001b[49m\u001b[43m,\u001b[49m\n\u001b[1;32m    526\u001b[0m \u001b[43m        \u001b[49m\u001b[43mdate_format\u001b[49m\u001b[38;5;241;43m=\u001b[39;49m\u001b[43mdate_format\u001b[49m\u001b[43m,\u001b[49m\n\u001b[1;32m    527\u001b[0m \u001b[43m        \u001b[49m\u001b[43mthousands\u001b[49m\u001b[38;5;241;43m=\u001b[39;49m\u001b[43mthousands\u001b[49m\u001b[43m,\u001b[49m\n\u001b[1;32m    528\u001b[0m \u001b[43m        \u001b[49m\u001b[43mdecimal\u001b[49m\u001b[38;5;241;43m=\u001b[39;49m\u001b[43mdecimal\u001b[49m\u001b[43m,\u001b[49m\n\u001b[1;32m    529\u001b[0m \u001b[43m        \u001b[49m\u001b[43mcomment\u001b[49m\u001b[38;5;241;43m=\u001b[39;49m\u001b[43mcomment\u001b[49m\u001b[43m,\u001b[49m\n\u001b[1;32m    530\u001b[0m \u001b[43m        \u001b[49m\u001b[43mskipfooter\u001b[49m\u001b[38;5;241;43m=\u001b[39;49m\u001b[43mskipfooter\u001b[49m\u001b[43m,\u001b[49m\n\u001b[1;32m    531\u001b[0m \u001b[43m        \u001b[49m\u001b[43mdtype_backend\u001b[49m\u001b[38;5;241;43m=\u001b[39;49m\u001b[43mdtype_backend\u001b[49m\u001b[43m,\u001b[49m\n\u001b[1;32m    532\u001b[0m \u001b[43m    \u001b[49m\u001b[43m)\u001b[49m\n\u001b[1;32m    533\u001b[0m \u001b[38;5;28;01mfinally\u001b[39;00m:\n\u001b[1;32m    534\u001b[0m     \u001b[38;5;66;03m# make sure to close opened file handles\u001b[39;00m\n\u001b[1;32m    535\u001b[0m     \u001b[38;5;28;01mif\u001b[39;00m should_close:\n",
      "File \u001b[0;32m/opt/conda/lib/python3.12/site-packages/pandas/io/excel/_base.py:1616\u001b[0m, in \u001b[0;36mExcelFile.parse\u001b[0;34m(self, sheet_name, header, names, index_col, usecols, converters, true_values, false_values, skiprows, nrows, na_values, parse_dates, date_parser, date_format, thousands, comment, skipfooter, dtype_backend, **kwds)\u001b[0m\n\u001b[1;32m   1576\u001b[0m \u001b[38;5;28;01mdef\u001b[39;00m \u001b[38;5;21mparse\u001b[39m(\n\u001b[1;32m   1577\u001b[0m     \u001b[38;5;28mself\u001b[39m,\n\u001b[1;32m   1578\u001b[0m     sheet_name: \u001b[38;5;28mstr\u001b[39m \u001b[38;5;241m|\u001b[39m \u001b[38;5;28mint\u001b[39m \u001b[38;5;241m|\u001b[39m \u001b[38;5;28mlist\u001b[39m[\u001b[38;5;28mint\u001b[39m] \u001b[38;5;241m|\u001b[39m \u001b[38;5;28mlist\u001b[39m[\u001b[38;5;28mstr\u001b[39m] \u001b[38;5;241m|\u001b[39m \u001b[38;5;28;01mNone\u001b[39;00m \u001b[38;5;241m=\u001b[39m \u001b[38;5;241m0\u001b[39m,\n\u001b[0;32m   (...)\u001b[0m\n\u001b[1;32m   1596\u001b[0m     \u001b[38;5;241m*\u001b[39m\u001b[38;5;241m*\u001b[39mkwds,\n\u001b[1;32m   1597\u001b[0m ) \u001b[38;5;241m-\u001b[39m\u001b[38;5;241m>\u001b[39m DataFrame \u001b[38;5;241m|\u001b[39m \u001b[38;5;28mdict\u001b[39m[\u001b[38;5;28mstr\u001b[39m, DataFrame] \u001b[38;5;241m|\u001b[39m \u001b[38;5;28mdict\u001b[39m[\u001b[38;5;28mint\u001b[39m, DataFrame]:\n\u001b[1;32m   1598\u001b[0m \u001b[38;5;250m    \u001b[39m\u001b[38;5;124;03m\"\"\"\u001b[39;00m\n\u001b[1;32m   1599\u001b[0m \u001b[38;5;124;03m    Parse specified sheet(s) into a DataFrame.\u001b[39;00m\n\u001b[1;32m   1600\u001b[0m \n\u001b[0;32m   (...)\u001b[0m\n\u001b[1;32m   1614\u001b[0m \u001b[38;5;124;03m    >>> file.parse()  # doctest: +SKIP\u001b[39;00m\n\u001b[1;32m   1615\u001b[0m \u001b[38;5;124;03m    \"\"\"\u001b[39;00m\n\u001b[0;32m-> 1616\u001b[0m     \u001b[38;5;28;01mreturn\u001b[39;00m \u001b[38;5;28;43mself\u001b[39;49m\u001b[38;5;241;43m.\u001b[39;49m\u001b[43m_reader\u001b[49m\u001b[38;5;241;43m.\u001b[39;49m\u001b[43mparse\u001b[49m\u001b[43m(\u001b[49m\n\u001b[1;32m   1617\u001b[0m \u001b[43m        \u001b[49m\u001b[43msheet_name\u001b[49m\u001b[38;5;241;43m=\u001b[39;49m\u001b[43msheet_name\u001b[49m\u001b[43m,\u001b[49m\n\u001b[1;32m   1618\u001b[0m \u001b[43m        \u001b[49m\u001b[43mheader\u001b[49m\u001b[38;5;241;43m=\u001b[39;49m\u001b[43mheader\u001b[49m\u001b[43m,\u001b[49m\n\u001b[1;32m   1619\u001b[0m \u001b[43m        \u001b[49m\u001b[43mnames\u001b[49m\u001b[38;5;241;43m=\u001b[39;49m\u001b[43mnames\u001b[49m\u001b[43m,\u001b[49m\n\u001b[1;32m   1620\u001b[0m \u001b[43m        \u001b[49m\u001b[43mindex_col\u001b[49m\u001b[38;5;241;43m=\u001b[39;49m\u001b[43mindex_col\u001b[49m\u001b[43m,\u001b[49m\n\u001b[1;32m   1621\u001b[0m \u001b[43m        \u001b[49m\u001b[43musecols\u001b[49m\u001b[38;5;241;43m=\u001b[39;49m\u001b[43musecols\u001b[49m\u001b[43m,\u001b[49m\n\u001b[1;32m   1622\u001b[0m \u001b[43m        \u001b[49m\u001b[43mconverters\u001b[49m\u001b[38;5;241;43m=\u001b[39;49m\u001b[43mconverters\u001b[49m\u001b[43m,\u001b[49m\n\u001b[1;32m   1623\u001b[0m \u001b[43m        \u001b[49m\u001b[43mtrue_values\u001b[49m\u001b[38;5;241;43m=\u001b[39;49m\u001b[43mtrue_values\u001b[49m\u001b[43m,\u001b[49m\n\u001b[1;32m   1624\u001b[0m \u001b[43m        \u001b[49m\u001b[43mfalse_values\u001b[49m\u001b[38;5;241;43m=\u001b[39;49m\u001b[43mfalse_values\u001b[49m\u001b[43m,\u001b[49m\n\u001b[1;32m   1625\u001b[0m \u001b[43m        \u001b[49m\u001b[43mskiprows\u001b[49m\u001b[38;5;241;43m=\u001b[39;49m\u001b[43mskiprows\u001b[49m\u001b[43m,\u001b[49m\n\u001b[1;32m   1626\u001b[0m \u001b[43m        \u001b[49m\u001b[43mnrows\u001b[49m\u001b[38;5;241;43m=\u001b[39;49m\u001b[43mnrows\u001b[49m\u001b[43m,\u001b[49m\n\u001b[1;32m   1627\u001b[0m \u001b[43m        \u001b[49m\u001b[43mna_values\u001b[49m\u001b[38;5;241;43m=\u001b[39;49m\u001b[43mna_values\u001b[49m\u001b[43m,\u001b[49m\n\u001b[1;32m   1628\u001b[0m \u001b[43m        \u001b[49m\u001b[43mparse_dates\u001b[49m\u001b[38;5;241;43m=\u001b[39;49m\u001b[43mparse_dates\u001b[49m\u001b[43m,\u001b[49m\n\u001b[1;32m   1629\u001b[0m \u001b[43m        \u001b[49m\u001b[43mdate_parser\u001b[49m\u001b[38;5;241;43m=\u001b[39;49m\u001b[43mdate_parser\u001b[49m\u001b[43m,\u001b[49m\n\u001b[1;32m   1630\u001b[0m \u001b[43m        \u001b[49m\u001b[43mdate_format\u001b[49m\u001b[38;5;241;43m=\u001b[39;49m\u001b[43mdate_format\u001b[49m\u001b[43m,\u001b[49m\n\u001b[1;32m   1631\u001b[0m \u001b[43m        \u001b[49m\u001b[43mthousands\u001b[49m\u001b[38;5;241;43m=\u001b[39;49m\u001b[43mthousands\u001b[49m\u001b[43m,\u001b[49m\n\u001b[1;32m   1632\u001b[0m \u001b[43m        \u001b[49m\u001b[43mcomment\u001b[49m\u001b[38;5;241;43m=\u001b[39;49m\u001b[43mcomment\u001b[49m\u001b[43m,\u001b[49m\n\u001b[1;32m   1633\u001b[0m \u001b[43m        \u001b[49m\u001b[43mskipfooter\u001b[49m\u001b[38;5;241;43m=\u001b[39;49m\u001b[43mskipfooter\u001b[49m\u001b[43m,\u001b[49m\n\u001b[1;32m   1634\u001b[0m \u001b[43m        \u001b[49m\u001b[43mdtype_backend\u001b[49m\u001b[38;5;241;43m=\u001b[39;49m\u001b[43mdtype_backend\u001b[49m\u001b[43m,\u001b[49m\n\u001b[1;32m   1635\u001b[0m \u001b[43m        \u001b[49m\u001b[38;5;241;43m*\u001b[39;49m\u001b[38;5;241;43m*\u001b[39;49m\u001b[43mkwds\u001b[49m\u001b[43m,\u001b[49m\n\u001b[1;32m   1636\u001b[0m \u001b[43m    \u001b[49m\u001b[43m)\u001b[49m\n",
      "File \u001b[0;32m/opt/conda/lib/python3.12/site-packages/pandas/io/excel/_base.py:778\u001b[0m, in \u001b[0;36mBaseExcelReader.parse\u001b[0;34m(self, sheet_name, header, names, index_col, usecols, dtype, true_values, false_values, skiprows, nrows, na_values, verbose, parse_dates, date_parser, date_format, thousands, decimal, comment, skipfooter, dtype_backend, **kwds)\u001b[0m\n\u001b[1;32m    775\u001b[0m     sheet \u001b[38;5;241m=\u001b[39m \u001b[38;5;28mself\u001b[39m\u001b[38;5;241m.\u001b[39mget_sheet_by_index(asheetname)\n\u001b[1;32m    777\u001b[0m file_rows_needed \u001b[38;5;241m=\u001b[39m \u001b[38;5;28mself\u001b[39m\u001b[38;5;241m.\u001b[39m_calc_rows(header, index_col, skiprows, nrows)\n\u001b[0;32m--> 778\u001b[0m data \u001b[38;5;241m=\u001b[39m \u001b[38;5;28;43mself\u001b[39;49m\u001b[38;5;241;43m.\u001b[39;49m\u001b[43mget_sheet_data\u001b[49m\u001b[43m(\u001b[49m\u001b[43msheet\u001b[49m\u001b[43m,\u001b[49m\u001b[43m \u001b[49m\u001b[43mfile_rows_needed\u001b[49m\u001b[43m)\u001b[49m\n\u001b[1;32m    779\u001b[0m \u001b[38;5;28;01mif\u001b[39;00m \u001b[38;5;28mhasattr\u001b[39m(sheet, \u001b[38;5;124m\"\u001b[39m\u001b[38;5;124mclose\u001b[39m\u001b[38;5;124m\"\u001b[39m):\n\u001b[1;32m    780\u001b[0m     \u001b[38;5;66;03m# pyxlsb opens two TemporaryFiles\u001b[39;00m\n\u001b[1;32m    781\u001b[0m     sheet\u001b[38;5;241m.\u001b[39mclose()\n",
      "File \u001b[0;32m/opt/conda/lib/python3.12/site-packages/pandas/io/excel/_openpyxl.py:615\u001b[0m, in \u001b[0;36mOpenpyxlReader.get_sheet_data\u001b[0;34m(self, sheet, file_rows_needed)\u001b[0m\n\u001b[1;32m    613\u001b[0m data: \u001b[38;5;28mlist\u001b[39m[\u001b[38;5;28mlist\u001b[39m[Scalar]] \u001b[38;5;241m=\u001b[39m []\n\u001b[1;32m    614\u001b[0m last_row_with_data \u001b[38;5;241m=\u001b[39m \u001b[38;5;241m-\u001b[39m\u001b[38;5;241m1\u001b[39m\n\u001b[0;32m--> 615\u001b[0m \u001b[43m\u001b[49m\u001b[38;5;28;43;01mfor\u001b[39;49;00m\u001b[43m \u001b[49m\u001b[43mrow_number\u001b[49m\u001b[43m,\u001b[49m\u001b[43m \u001b[49m\u001b[43mrow\u001b[49m\u001b[43m \u001b[49m\u001b[38;5;129;43;01min\u001b[39;49;00m\u001b[43m \u001b[49m\u001b[38;5;28;43menumerate\u001b[39;49m\u001b[43m(\u001b[49m\u001b[43msheet\u001b[49m\u001b[38;5;241;43m.\u001b[39;49m\u001b[43mrows\u001b[49m\u001b[43m)\u001b[49m\u001b[43m:\u001b[49m\n\u001b[1;32m    616\u001b[0m \u001b[43m    \u001b[49m\u001b[43mconverted_row\u001b[49m\u001b[43m \u001b[49m\u001b[38;5;241;43m=\u001b[39;49m\u001b[43m \u001b[49m\u001b[43m[\u001b[49m\u001b[38;5;28;43mself\u001b[39;49m\u001b[38;5;241;43m.\u001b[39;49m\u001b[43m_convert_cell\u001b[49m\u001b[43m(\u001b[49m\u001b[43mcell\u001b[49m\u001b[43m)\u001b[49m\u001b[43m \u001b[49m\u001b[38;5;28;43;01mfor\u001b[39;49;00m\u001b[43m \u001b[49m\u001b[43mcell\u001b[49m\u001b[43m \u001b[49m\u001b[38;5;129;43;01min\u001b[39;49;00m\u001b[43m \u001b[49m\u001b[43mrow\u001b[49m\u001b[43m]\u001b[49m\n\u001b[1;32m    617\u001b[0m \u001b[43m    \u001b[49m\u001b[38;5;28;43;01mwhile\u001b[39;49;00m\u001b[43m \u001b[49m\u001b[43mconverted_row\u001b[49m\u001b[43m \u001b[49m\u001b[38;5;129;43;01mand\u001b[39;49;00m\u001b[43m \u001b[49m\u001b[43mconverted_row\u001b[49m\u001b[43m[\u001b[49m\u001b[38;5;241;43m-\u001b[39;49m\u001b[38;5;241;43m1\u001b[39;49m\u001b[43m]\u001b[49m\u001b[43m \u001b[49m\u001b[38;5;241;43m==\u001b[39;49m\u001b[43m \u001b[49m\u001b[38;5;124;43m\"\u001b[39;49m\u001b[38;5;124;43m\"\u001b[39;49m\u001b[43m:\u001b[49m\n\u001b[1;32m    618\u001b[0m \u001b[43m        \u001b[49m\u001b[38;5;66;43;03m# trim trailing empty elements\u001b[39;49;00m\n",
      "File \u001b[0;32m/opt/conda/lib/python3.12/site-packages/openpyxl/worksheet/_read_only.py:85\u001b[0m, in \u001b[0;36mReadOnlyWorksheet._cells_by_row\u001b[0;34m(self, min_col, min_row, max_col, max_row, values_only)\u001b[0m\n\u001b[1;32m     77\u001b[0m \u001b[38;5;28;01mwith\u001b[39;00m \u001b[38;5;28mself\u001b[39m\u001b[38;5;241m.\u001b[39m_get_source() \u001b[38;5;28;01mas\u001b[39;00m src:\n\u001b[1;32m     78\u001b[0m     parser \u001b[38;5;241m=\u001b[39m WorkSheetParser(src,\n\u001b[1;32m     79\u001b[0m                              \u001b[38;5;28mself\u001b[39m\u001b[38;5;241m.\u001b[39m_shared_strings,\n\u001b[1;32m     80\u001b[0m                              data_only\u001b[38;5;241m=\u001b[39m\u001b[38;5;28mself\u001b[39m\u001b[38;5;241m.\u001b[39mparent\u001b[38;5;241m.\u001b[39mdata_only,\n\u001b[1;32m     81\u001b[0m                              epoch\u001b[38;5;241m=\u001b[39m\u001b[38;5;28mself\u001b[39m\u001b[38;5;241m.\u001b[39mparent\u001b[38;5;241m.\u001b[39mepoch,\n\u001b[1;32m     82\u001b[0m                              date_formats\u001b[38;5;241m=\u001b[39m\u001b[38;5;28mself\u001b[39m\u001b[38;5;241m.\u001b[39mparent\u001b[38;5;241m.\u001b[39m_date_formats,\n\u001b[1;32m     83\u001b[0m                              timedelta_formats\u001b[38;5;241m=\u001b[39m\u001b[38;5;28mself\u001b[39m\u001b[38;5;241m.\u001b[39mparent\u001b[38;5;241m.\u001b[39m_timedelta_formats)\n\u001b[0;32m---> 85\u001b[0m \u001b[43m    \u001b[49m\u001b[38;5;28;43;01mfor\u001b[39;49;00m\u001b[43m \u001b[49m\u001b[43midx\u001b[49m\u001b[43m,\u001b[49m\u001b[43m \u001b[49m\u001b[43mrow\u001b[49m\u001b[43m \u001b[49m\u001b[38;5;129;43;01min\u001b[39;49;00m\u001b[43m \u001b[49m\u001b[43mparser\u001b[49m\u001b[38;5;241;43m.\u001b[39;49m\u001b[43mparse\u001b[49m\u001b[43m(\u001b[49m\u001b[43m)\u001b[49m\u001b[43m:\u001b[49m\n\u001b[1;32m     86\u001b[0m \u001b[43m        \u001b[49m\u001b[38;5;28;43;01mif\u001b[39;49;00m\u001b[43m \u001b[49m\u001b[43mmax_row\u001b[49m\u001b[43m \u001b[49m\u001b[38;5;129;43;01mis\u001b[39;49;00m\u001b[43m \u001b[49m\u001b[38;5;129;43;01mnot\u001b[39;49;00m\u001b[43m \u001b[49m\u001b[38;5;28;43;01mNone\u001b[39;49;00m\u001b[43m \u001b[49m\u001b[38;5;129;43;01mand\u001b[39;49;00m\u001b[43m \u001b[49m\u001b[43midx\u001b[49m\u001b[43m \u001b[49m\u001b[38;5;241;43m>\u001b[39;49m\u001b[43m \u001b[49m\u001b[43mmax_row\u001b[49m\u001b[43m:\u001b[49m\n\u001b[1;32m     87\u001b[0m \u001b[43m            \u001b[49m\u001b[38;5;28;43;01mbreak\u001b[39;49;00m\n",
      "File \u001b[0;32m/opt/conda/lib/python3.12/site-packages/openpyxl/worksheet/_reader.py:156\u001b[0m, in \u001b[0;36mWorkSheetParser.parse\u001b[0;34m(self)\u001b[0m\n\u001b[1;32m    137\u001b[0m properties \u001b[38;5;241m=\u001b[39m {\n\u001b[1;32m    138\u001b[0m     PRINT_TAG: (\u001b[38;5;124m'\u001b[39m\u001b[38;5;124mprint_options\u001b[39m\u001b[38;5;124m'\u001b[39m, PrintOptions),\n\u001b[1;32m    139\u001b[0m     MARGINS_TAG: (\u001b[38;5;124m'\u001b[39m\u001b[38;5;124mpage_margins\u001b[39m\u001b[38;5;124m'\u001b[39m, PageMargins),\n\u001b[0;32m   (...)\u001b[0m\n\u001b[1;32m    151\u001b[0m \n\u001b[1;32m    152\u001b[0m }\n\u001b[1;32m    154\u001b[0m it \u001b[38;5;241m=\u001b[39m iterparse(\u001b[38;5;28mself\u001b[39m\u001b[38;5;241m.\u001b[39msource) \u001b[38;5;66;03m# add a finaliser to close the source when this becomes possible\u001b[39;00m\n\u001b[0;32m--> 156\u001b[0m \u001b[43m\u001b[49m\u001b[38;5;28;43;01mfor\u001b[39;49;00m\u001b[43m \u001b[49m\u001b[43m_\u001b[49m\u001b[43m,\u001b[49m\u001b[43m \u001b[49m\u001b[43melement\u001b[49m\u001b[43m \u001b[49m\u001b[38;5;129;43;01min\u001b[39;49;00m\u001b[43m \u001b[49m\u001b[43mit\u001b[49m\u001b[43m:\u001b[49m\n\u001b[1;32m    157\u001b[0m \u001b[43m    \u001b[49m\u001b[43mtag_name\u001b[49m\u001b[43m \u001b[49m\u001b[38;5;241;43m=\u001b[39;49m\u001b[43m \u001b[49m\u001b[43melement\u001b[49m\u001b[38;5;241;43m.\u001b[39;49m\u001b[43mtag\u001b[49m\n\u001b[1;32m    158\u001b[0m \u001b[43m    \u001b[49m\u001b[38;5;28;43;01mif\u001b[39;49;00m\u001b[43m \u001b[49m\u001b[43mtag_name\u001b[49m\u001b[43m \u001b[49m\u001b[38;5;129;43;01min\u001b[39;49;00m\u001b[43m \u001b[49m\u001b[43mdispatcher\u001b[49m\u001b[43m:\u001b[49m\n",
      "File \u001b[0;32m/opt/conda/lib/python3.12/xml/etree/ElementTree.py:1241\u001b[0m, in \u001b[0;36miterparse.<locals>.iterator\u001b[0;34m(source)\u001b[0m\n\u001b[1;32m   1239\u001b[0m     \u001b[38;5;28;01mif\u001b[39;00m \u001b[38;5;129;01mnot\u001b[39;00m data:\n\u001b[1;32m   1240\u001b[0m         \u001b[38;5;28;01mbreak\u001b[39;00m\n\u001b[0;32m-> 1241\u001b[0m     \u001b[43mpullparser\u001b[49m\u001b[38;5;241;43m.\u001b[39;49m\u001b[43mfeed\u001b[49m\u001b[43m(\u001b[49m\u001b[43mdata\u001b[49m\u001b[43m)\u001b[49m\n\u001b[1;32m   1242\u001b[0m root \u001b[38;5;241m=\u001b[39m pullparser\u001b[38;5;241m.\u001b[39m_close_and_return_root()\n\u001b[1;32m   1243\u001b[0m \u001b[38;5;28;01myield from\u001b[39;00m pullparser\u001b[38;5;241m.\u001b[39mread_events()\n",
      "File \u001b[0;32m/opt/conda/lib/python3.12/xml/etree/ElementTree.py:1284\u001b[0m, in \u001b[0;36mXMLPullParser.feed\u001b[0;34m(self, data)\u001b[0m\n\u001b[1;32m   1282\u001b[0m \u001b[38;5;28;01mif\u001b[39;00m data:\n\u001b[1;32m   1283\u001b[0m     \u001b[38;5;28;01mtry\u001b[39;00m:\n\u001b[0;32m-> 1284\u001b[0m         \u001b[38;5;28;43mself\u001b[39;49m\u001b[38;5;241;43m.\u001b[39;49m\u001b[43m_parser\u001b[49m\u001b[38;5;241;43m.\u001b[39;49m\u001b[43mfeed\u001b[49m\u001b[43m(\u001b[49m\u001b[43mdata\u001b[49m\u001b[43m)\u001b[49m\n\u001b[1;32m   1285\u001b[0m     \u001b[38;5;28;01mexcept\u001b[39;00m \u001b[38;5;167;01mSyntaxError\u001b[39;00m \u001b[38;5;28;01mas\u001b[39;00m exc:\n\u001b[1;32m   1286\u001b[0m         \u001b[38;5;28mself\u001b[39m\u001b[38;5;241m.\u001b[39m_events_queue\u001b[38;5;241m.\u001b[39mappend(exc)\n",
      "File \u001b[0;32m/opt/conda/lib/python3.12/xml/etree/ElementTree.py:1706\u001b[0m, in \u001b[0;36mXMLParser.feed\u001b[0;34m(self, data)\u001b[0m\n\u001b[1;32m   1704\u001b[0m \u001b[38;5;250m\u001b[39m\u001b[38;5;124;03m\"\"\"Feed encoded data to parser.\"\"\"\u001b[39;00m\n\u001b[1;32m   1705\u001b[0m \u001b[38;5;28;01mtry\u001b[39;00m:\n\u001b[0;32m-> 1706\u001b[0m     \u001b[38;5;28;43mself\u001b[39;49m\u001b[38;5;241;43m.\u001b[39;49m\u001b[43mparser\u001b[49m\u001b[38;5;241;43m.\u001b[39;49m\u001b[43mParse\u001b[49m\u001b[43m(\u001b[49m\u001b[43mdata\u001b[49m\u001b[43m,\u001b[49m\u001b[43m \u001b[49m\u001b[38;5;28;43;01mFalse\u001b[39;49;00m\u001b[43m)\u001b[49m\n\u001b[1;32m   1707\u001b[0m \u001b[38;5;28;01mexcept\u001b[39;00m \u001b[38;5;28mself\u001b[39m\u001b[38;5;241m.\u001b[39m_error \u001b[38;5;28;01mas\u001b[39;00m v:\n\u001b[1;32m   1708\u001b[0m     \u001b[38;5;28mself\u001b[39m\u001b[38;5;241m.\u001b[39m_raiseerror(v)\n",
      "File \u001b[0;32m/home/conda/feedstock_root/build_artifacts/python-split_1727718181343/work/Modules/pyexpat.c:423\u001b[0m, in \u001b[0;36mStartElement\u001b[0;34m()\u001b[0m\n",
      "File \u001b[0;32m/opt/conda/lib/python3.12/xml/etree/ElementTree.py:1634\u001b[0m, in \u001b[0;36mXMLParser._start\u001b[0;34m(self, tag, attr_list)\u001b[0m\n\u001b[1;32m   1631\u001b[0m \u001b[38;5;28;01mdef\u001b[39;00m \u001b[38;5;21m_end_ns\u001b[39m(\u001b[38;5;28mself\u001b[39m, prefix):\n\u001b[1;32m   1632\u001b[0m     \u001b[38;5;28;01mreturn\u001b[39;00m \u001b[38;5;28mself\u001b[39m\u001b[38;5;241m.\u001b[39mtarget\u001b[38;5;241m.\u001b[39mend_ns(prefix \u001b[38;5;129;01mor\u001b[39;00m \u001b[38;5;124m'\u001b[39m\u001b[38;5;124m'\u001b[39m)\n\u001b[0;32m-> 1634\u001b[0m \u001b[38;5;28;01mdef\u001b[39;00m \u001b[38;5;21m_start\u001b[39m(\u001b[38;5;28mself\u001b[39m, tag, attr_list):\n\u001b[1;32m   1635\u001b[0m     \u001b[38;5;66;03m# Handler for expat's StartElementHandler. Since ordered_attributes\u001b[39;00m\n\u001b[1;32m   1636\u001b[0m     \u001b[38;5;66;03m# is set, the attributes are reported as a list of alternating\u001b[39;00m\n\u001b[1;32m   1637\u001b[0m     \u001b[38;5;66;03m# attribute name,value.\u001b[39;00m\n\u001b[1;32m   1638\u001b[0m     fixname \u001b[38;5;241m=\u001b[39m \u001b[38;5;28mself\u001b[39m\u001b[38;5;241m.\u001b[39m_fixname\n\u001b[1;32m   1639\u001b[0m     tag \u001b[38;5;241m=\u001b[39m fixname(tag)\n",
      "\u001b[0;31mKeyboardInterrupt\u001b[0m: "
     ]
    }
   ],
   "source": [
    "euro24 = pd.read_excel('data/EURO24.xlsx')"
   ]
  },
  {
   "cell_type": "code",
   "execution_count": null,
   "id": "79559551-587f-4b31-9db4-1812114c3bde",
   "metadata": {},
   "outputs": [],
   "source": [
    "#On va se restreindre aux bureaux de vote de la circonscription \n",
    "#Restriction à l'échelle de l'Isère pour alléger les bases de données \n",
    "legi24T1['Code département'] = legi24T1['Code département'].astype(str, errors='ignore')\n",
    "legi24T138 = legi24T1[legi24T1['Code département'] == '38']\n",
    "\n",
    "legi24T2['Code département'] = legi24T2['Code département'].astype(str, errors='ignore')\n",
    "legi24T238 = legi24T2[legi24T2['Code département'] == '38']\n",
    "\n",
    "euro24['Code département'] = euro24['Code département'].astype(str, errors='ignore')\n",
    "euro2438 = euro24[euro24['Code département'] == '38']\n",
    "\n",
    "pres22T['Code du département'] = pres22T['Code du département'].astype(str, errors='ignore')\n",
    "pres22T138 = pres22T[pres22T['Code du département'] == '38']"
   ]
  },
  {
   "cell_type": "code",
   "execution_count": null,
   "id": "4116619e-d6ae-4269-bbc6-83def16dfd5d",
   "metadata": {},
   "outputs": [],
   "source": [
    "#On vérifie le nombre de bureaux de vote obtenus \n",
    "[legi24T138.shape[0], legi24T238.shape[0], euro2438.shape[0], pres22T138.shape[0]]"
   ]
  },
  {
   "cell_type": "markdown",
   "id": "4476c52b-cf0f-4e72-92cd-1f138bf60ff7",
   "metadata": {},
   "source": [
    "Le nombre de bureaux de vote a changé entre 2022 et 2024, donc il faudra prendre avec prudence les résultats liant 2022 et 2024. (Il y'a d'ailleurs eu des changements sur la circonscription aussi). \n",
    "En effet, ils ne renverront possiblement pas aux mêmes bureaux de vote. Nous ne considérerons donc que les résultats de 2024 pour éviter des erreurs de jointure dans les nomenclatures. \n",
    "\n",
    "Nous n'avons pas directement les circonscriptions, nous allons sélectionner les communes puis trier les bureaux de Grenoble pour garder les bureaux de la circonscription."
   ]
  },
  {
   "cell_type": "code",
   "execution_count": null,
   "id": "ff0c14c1-3979-462b-99e7-96e00837d2d2",
   "metadata": {},
   "outputs": [],
   "source": [
    "liste_communes_circo1 = ['38185', '38229', '38249', '38045', '38126', '38471', '38516', '38039', '38431', '38397']\n",
    "legi24T138['Code commune'] = legi24T138['Code commune'].astype(str, errors='ignore')\n",
    "legi24T1_C1 = legi24T138[legi24T138['Code commune'].isin(liste_communes_circo1)]\n",
    "\n",
    "legi24T238['Code commune'] = legi24T238['Code commune'].astype(str, errors='ignore')\n",
    "legi24T2_C1 = legi24T238[legi24T238['Code commune'].isin(liste_communes_circo1)]\n",
    "\n",
    "euro2438['Code commune'] = euro2438['Code commune'].astype(str, errors='ignore')\n",
    "euro24_C1 = euro2438[euro2438['Code commune'].isin(liste_communes_circo1)]"
   ]
  },
  {
   "cell_type": "markdown",
   "id": "a202981f-a2ec-4999-932e-175f5db27c0a",
   "metadata": {},
   "source": [
    "Pour conserver les bureaux grenoblois, nous avons récupéré les numéros de bureaux de vote déclarés sur https://www.grenoble.fr/2707-bureaux-de-vote.htm en étant associé à la circo 1."
   ]
  },
  {
   "cell_type": "code",
   "execution_count": null,
   "id": "36d8feb9-1386-4043-9c36-848188aac164",
   "metadata": {},
   "outputs": [],
   "source": [
    "# Créer un masque pour les lignes à exclure\n",
    "mask = (\n",
    "    (legi24T1_C1['Code commune'] == '38185') & \n",
    "    (      (legi24T1_C1['Code BV'] < 3) |\n",
    "        (legi24T1_C1['Code BV'] < 25) &  (legi24T1_C1['Code BV'] > 4)  |\n",
    "        (legi24T1_C1['Code BV'] > 36) & (legi24T1_C1['Code BV'] < 42) |\n",
    "        (legi24T1_C1['Code BV'] > 61) & (legi24T1_C1['Code BV'] < 65) |\n",
    "        (legi24T1_C1['Code BV'] > 73)\n",
    "    )\n",
    ")\n",
    "\n",
    "# Filtrer le DataFrame pour conserver uniquement les lignes qui ne correspondent pas à ce masque\n",
    "legi24T1_C1 = legi24T1_C1[~mask]\n",
    "\n",
    "# Créer un masque pour les lignes à exclure\n",
    "legi24T2_C1['Code BV'] = legi24T2_C1['Code BV'].astype(int) \n",
    "mask = (\n",
    "    (legi24T2_C1['Code commune'] == '38185') & \n",
    "    (   (legi24T2_C1['Code BV'] < 3) |\n",
    "        (legi24T2_C1['Code BV'] < 25)  & (legi24T2_C1['Code BV'] > 4) | \n",
    "        (legi24T2_C1['Code BV'] > 36) & (legi24T2_C1['Code BV'] < 42) |\n",
    "        (legi24T2_C1['Code BV'] > 61) & (legi24T2_C1['Code BV'] < 65) |\n",
    "        (legi24T2_C1['Code BV'] > 73)\n",
    "    )\n",
    ")\n",
    "\n",
    "# Filtrer le DataFrame pour conserver uniquement les lignes qui ne correspondent pas à ce masque\n",
    "legi24T2_C1 = legi24T2_C1[~mask]\n",
    "\n",
    "# Créer un masque pour les lignes à exclure\n",
    "euro24_C1['Code BV'] = euro24_C1['Code BV'].astype(int)\n",
    "\n",
    "mask = (\n",
    "    (euro24_C1['Code commune'] == '38185') & \n",
    "    ((euro24_C1['Code BV'] < 3) |\n",
    "        (euro24_C1['Code BV'] < 25)  & (euro24_C1['Code BV'] > 4 )  |\n",
    "        (euro24_C1['Code BV'] > 36) & (euro24_C1['Code BV'] < 42) |\n",
    "        (euro24_C1['Code BV'] > 61) & (euro24_C1['Code BV'] < 65) |\n",
    "        (euro24_C1['Code BV'] > 73)\n",
    "    )\n",
    ")\n",
    "\n",
    "# Filtrer le DataFrame pour conserver uniquement les lignes qui ne correspondent pas à ce masque\n",
    "euro24_C1 = euro24_C1[~mask]"
   ]
  },
  {
   "cell_type": "markdown",
   "id": "10cb35c1-c714-4c01-a495-ec74f31890b7",
   "metadata": {},
   "source": [
    "Nous allons garder uniquement les colonnes qui nous intéressent dans chaque base de données pour rendre la jointure plus lisible à la fin."
   ]
  },
  {
   "cell_type": "code",
   "execution_count": null,
   "id": "e3df1330-898a-4eeb-a73b-c0121eaa3f2c",
   "metadata": {},
   "outputs": [],
   "source": [
    "euro_drop=['Code localisation', 'Libellé localisation', 'Code département', 'Libellé département', 'Libellé commune'] \n",
    "num_drop = [f'Numéro de panneau {i}' for i in range(1, 39)] \n",
    "libab_drop = [f'Libellé abrégé de liste {i}' for i in range(1, 39)] \n",
    "lib_drop = [f'Libellé de liste {i}' for i in range(1, 39)] \n",
    "siege_drop = [f'Sièges {i}' for i in range(1, 39)] \n",
    "\n",
    "euro_drop = euro_drop + num_drop + libab_drop + lib_drop + siege_drop\n",
    "\n",
    "euro24_C1_clean = euro24_C1.drop(columns=euro_drop)\n",
    "euro24_C1_clean"
   ]
  },
  {
   "cell_type": "code",
   "execution_count": 217,
   "id": "9df3cd0c-2a7b-4c2c-afcf-51e988e58aba",
   "metadata": {},
   "outputs": [
    {
     "data": {
      "text/plain": [
       "Index(['Voix 1', 'Voix 2', 'Voix 9', 'Voix 17', 'Voix 36'], dtype='object')"
      ]
     },
     "execution_count": 217,
     "metadata": {},
     "output_type": "execute_result"
    }
   ],
   "source": [
    "zero_columns = euro24_C1_clean.columns[(euro24_C1_clean == 0).all()]\n",
    "zero_columns"
   ]
  },
  {
   "cell_type": "code",
   "execution_count": 218,
   "id": "9848497b-5876-405e-9461-58a72a8e477e",
   "metadata": {},
   "outputs": [
    {
     "data": {
      "text/html": [
       "<div>\n",
       "<style scoped>\n",
       "    .dataframe tbody tr th:only-of-type {\n",
       "        vertical-align: middle;\n",
       "    }\n",
       "\n",
       "    .dataframe tbody tr th {\n",
       "        vertical-align: top;\n",
       "    }\n",
       "\n",
       "    .dataframe thead th {\n",
       "        text-align: right;\n",
       "    }\n",
       "</style>\n",
       "<table border=\"1\" class=\"dataframe\">\n",
       "  <thead>\n",
       "    <tr style=\"text-align: right;\">\n",
       "      <th></th>\n",
       "      <th>Code commune</th>\n",
       "      <th>Code BV</th>\n",
       "      <th>Inscrits</th>\n",
       "      <th>Votants</th>\n",
       "      <th>% Votants</th>\n",
       "      <th>Abstentions</th>\n",
       "      <th>% Abstentions</th>\n",
       "      <th>Exprimés</th>\n",
       "      <th>% Exprimés/inscrits</th>\n",
       "      <th>% Exprimés/votants</th>\n",
       "      <th>...</th>\n",
       "      <th>% Voix/inscrits 35</th>\n",
       "      <th>% Voix/exprimés 35</th>\n",
       "      <th>Nuance liste 37</th>\n",
       "      <th>Voix 37</th>\n",
       "      <th>% Voix/inscrits 37</th>\n",
       "      <th>% Voix/exprimés 37</th>\n",
       "      <th>Nuance liste 38</th>\n",
       "      <th>Voix 38</th>\n",
       "      <th>% Voix/inscrits 38</th>\n",
       "      <th>% Voix/exprimés 38</th>\n",
       "    </tr>\n",
       "  </thead>\n",
       "  <tbody>\n",
       "    <tr>\n",
       "      <th>24666</th>\n",
       "      <td>38039</td>\n",
       "      <td>1</td>\n",
       "      <td>973</td>\n",
       "      <td>610</td>\n",
       "      <td>62,69%</td>\n",
       "      <td>363</td>\n",
       "      <td>37,31%</td>\n",
       "      <td>600</td>\n",
       "      <td>61,66%</td>\n",
       "      <td>98,36%</td>\n",
       "      <td>...</td>\n",
       "      <td>1,64%</td>\n",
       "      <td>2,67%</td>\n",
       "      <td>LDIV</td>\n",
       "      <td>0</td>\n",
       "      <td>0,00%</td>\n",
       "      <td>0,00%</td>\n",
       "      <td>LDIV</td>\n",
       "      <td>0</td>\n",
       "      <td>0,00%</td>\n",
       "      <td>0,00%</td>\n",
       "    </tr>\n",
       "    <tr>\n",
       "      <th>24667</th>\n",
       "      <td>38039</td>\n",
       "      <td>2</td>\n",
       "      <td>996</td>\n",
       "      <td>618</td>\n",
       "      <td>62,05%</td>\n",
       "      <td>378</td>\n",
       "      <td>37,95%</td>\n",
       "      <td>611</td>\n",
       "      <td>61,35%</td>\n",
       "      <td>98,87%</td>\n",
       "      <td>...</td>\n",
       "      <td>0,90%</td>\n",
       "      <td>1,47%</td>\n",
       "      <td>LDIV</td>\n",
       "      <td>1</td>\n",
       "      <td>0,10%</td>\n",
       "      <td>0,16%</td>\n",
       "      <td>LDIV</td>\n",
       "      <td>0</td>\n",
       "      <td>0,00%</td>\n",
       "      <td>0,00%</td>\n",
       "    </tr>\n",
       "    <tr>\n",
       "      <th>24668</th>\n",
       "      <td>38039</td>\n",
       "      <td>3</td>\n",
       "      <td>988</td>\n",
       "      <td>621</td>\n",
       "      <td>62,85%</td>\n",
       "      <td>367</td>\n",
       "      <td>37,15%</td>\n",
       "      <td>617</td>\n",
       "      <td>62,45%</td>\n",
       "      <td>99,36%</td>\n",
       "      <td>...</td>\n",
       "      <td>1,11%</td>\n",
       "      <td>1,78%</td>\n",
       "      <td>LDIV</td>\n",
       "      <td>0</td>\n",
       "      <td>0,00%</td>\n",
       "      <td>0,00%</td>\n",
       "      <td>LDIV</td>\n",
       "      <td>0</td>\n",
       "      <td>0,00%</td>\n",
       "      <td>0,00%</td>\n",
       "    </tr>\n",
       "    <tr>\n",
       "      <th>24675</th>\n",
       "      <td>38045</td>\n",
       "      <td>1</td>\n",
       "      <td>1037</td>\n",
       "      <td>756</td>\n",
       "      <td>72,90%</td>\n",
       "      <td>281</td>\n",
       "      <td>27,10%</td>\n",
       "      <td>749</td>\n",
       "      <td>72,23%</td>\n",
       "      <td>99,07%</td>\n",
       "      <td>...</td>\n",
       "      <td>1,16%</td>\n",
       "      <td>1,60%</td>\n",
       "      <td>LDIV</td>\n",
       "      <td>1</td>\n",
       "      <td>0,10%</td>\n",
       "      <td>0,13%</td>\n",
       "      <td>LDIV</td>\n",
       "      <td>0</td>\n",
       "      <td>0,00%</td>\n",
       "      <td>0,00%</td>\n",
       "    </tr>\n",
       "    <tr>\n",
       "      <th>24676</th>\n",
       "      <td>38045</td>\n",
       "      <td>2</td>\n",
       "      <td>1033</td>\n",
       "      <td>716</td>\n",
       "      <td>69,31%</td>\n",
       "      <td>317</td>\n",
       "      <td>30,69%</td>\n",
       "      <td>702</td>\n",
       "      <td>67,96%</td>\n",
       "      <td>98,04%</td>\n",
       "      <td>...</td>\n",
       "      <td>0,29%</td>\n",
       "      <td>0,43%</td>\n",
       "      <td>LDIV</td>\n",
       "      <td>0</td>\n",
       "      <td>0,00%</td>\n",
       "      <td>0,00%</td>\n",
       "      <td>LDIV</td>\n",
       "      <td>0</td>\n",
       "      <td>0,00%</td>\n",
       "      <td>0,00%</td>\n",
       "    </tr>\n",
       "    <tr>\n",
       "      <th>...</th>\n",
       "      <td>...</td>\n",
       "      <td>...</td>\n",
       "      <td>...</td>\n",
       "      <td>...</td>\n",
       "      <td>...</td>\n",
       "      <td>...</td>\n",
       "      <td>...</td>\n",
       "      <td>...</td>\n",
       "      <td>...</td>\n",
       "      <td>...</td>\n",
       "      <td>...</td>\n",
       "      <td>...</td>\n",
       "      <td>...</td>\n",
       "      <td>...</td>\n",
       "      <td>...</td>\n",
       "      <td>...</td>\n",
       "      <td>...</td>\n",
       "      <td>...</td>\n",
       "      <td>...</td>\n",
       "      <td>...</td>\n",
       "      <td>...</td>\n",
       "    </tr>\n",
       "    <tr>\n",
       "      <th>25461</th>\n",
       "      <td>38471</td>\n",
       "      <td>1</td>\n",
       "      <td>1022</td>\n",
       "      <td>724</td>\n",
       "      <td>70,84%</td>\n",
       "      <td>298</td>\n",
       "      <td>29,16%</td>\n",
       "      <td>715</td>\n",
       "      <td>69,96%</td>\n",
       "      <td>98,76%</td>\n",
       "      <td>...</td>\n",
       "      <td>1,47%</td>\n",
       "      <td>2,10%</td>\n",
       "      <td>LDIV</td>\n",
       "      <td>0</td>\n",
       "      <td>0,00%</td>\n",
       "      <td>0,00%</td>\n",
       "      <td>LDIV</td>\n",
       "      <td>0</td>\n",
       "      <td>0,00%</td>\n",
       "      <td>0,00%</td>\n",
       "    </tr>\n",
       "    <tr>\n",
       "      <th>25539</th>\n",
       "      <td>38516</td>\n",
       "      <td>1</td>\n",
       "      <td>1065</td>\n",
       "      <td>637</td>\n",
       "      <td>59,81%</td>\n",
       "      <td>428</td>\n",
       "      <td>40,19%</td>\n",
       "      <td>632</td>\n",
       "      <td>59,34%</td>\n",
       "      <td>99,22%</td>\n",
       "      <td>...</td>\n",
       "      <td>0,56%</td>\n",
       "      <td>0,95%</td>\n",
       "      <td>LDIV</td>\n",
       "      <td>0</td>\n",
       "      <td>0,00%</td>\n",
       "      <td>0,00%</td>\n",
       "      <td>LDIV</td>\n",
       "      <td>0</td>\n",
       "      <td>0,00%</td>\n",
       "      <td>0,00%</td>\n",
       "    </tr>\n",
       "    <tr>\n",
       "      <th>25540</th>\n",
       "      <td>38516</td>\n",
       "      <td>2</td>\n",
       "      <td>1115</td>\n",
       "      <td>767</td>\n",
       "      <td>68,79%</td>\n",
       "      <td>348</td>\n",
       "      <td>31,21%</td>\n",
       "      <td>761</td>\n",
       "      <td>68,25%</td>\n",
       "      <td>99,22%</td>\n",
       "      <td>...</td>\n",
       "      <td>1,43%</td>\n",
       "      <td>2,10%</td>\n",
       "      <td>LDIV</td>\n",
       "      <td>0</td>\n",
       "      <td>0,00%</td>\n",
       "      <td>0,00%</td>\n",
       "      <td>LDIV</td>\n",
       "      <td>0</td>\n",
       "      <td>0,00%</td>\n",
       "      <td>0,00%</td>\n",
       "    </tr>\n",
       "    <tr>\n",
       "      <th>25541</th>\n",
       "      <td>38516</td>\n",
       "      <td>3</td>\n",
       "      <td>1075</td>\n",
       "      <td>644</td>\n",
       "      <td>59,91%</td>\n",
       "      <td>431</td>\n",
       "      <td>40,09%</td>\n",
       "      <td>638</td>\n",
       "      <td>59,35%</td>\n",
       "      <td>99,07%</td>\n",
       "      <td>...</td>\n",
       "      <td>0,37%</td>\n",
       "      <td>0,63%</td>\n",
       "      <td>LDIV</td>\n",
       "      <td>0</td>\n",
       "      <td>0,00%</td>\n",
       "      <td>0,00%</td>\n",
       "      <td>LDIV</td>\n",
       "      <td>0</td>\n",
       "      <td>0,00%</td>\n",
       "      <td>0,00%</td>\n",
       "    </tr>\n",
       "    <tr>\n",
       "      <th>25542</th>\n",
       "      <td>38516</td>\n",
       "      <td>4</td>\n",
       "      <td>930</td>\n",
       "      <td>591</td>\n",
       "      <td>63,55%</td>\n",
       "      <td>339</td>\n",
       "      <td>36,45%</td>\n",
       "      <td>584</td>\n",
       "      <td>62,80%</td>\n",
       "      <td>98,82%</td>\n",
       "      <td>...</td>\n",
       "      <td>0,97%</td>\n",
       "      <td>1,54%</td>\n",
       "      <td>LDIV</td>\n",
       "      <td>0</td>\n",
       "      <td>0,00%</td>\n",
       "      <td>0,00%</td>\n",
       "      <td>LDIV</td>\n",
       "      <td>0</td>\n",
       "      <td>0,00%</td>\n",
       "      <td>0,00%</td>\n",
       "    </tr>\n",
       "  </tbody>\n",
       "</table>\n",
       "<p>87 rows × 148 columns</p>\n",
       "</div>"
      ],
      "text/plain": [
       "      Code commune  Code BV  Inscrits  Votants % Votants  Abstentions  \\\n",
       "24666        38039        1       973      610    62,69%          363   \n",
       "24667        38039        2       996      618    62,05%          378   \n",
       "24668        38039        3       988      621    62,85%          367   \n",
       "24675        38045        1      1037      756    72,90%          281   \n",
       "24676        38045        2      1033      716    69,31%          317   \n",
       "...            ...      ...       ...      ...       ...          ...   \n",
       "25461        38471        1      1022      724    70,84%          298   \n",
       "25539        38516        1      1065      637    59,81%          428   \n",
       "25540        38516        2      1115      767    68,79%          348   \n",
       "25541        38516        3      1075      644    59,91%          431   \n",
       "25542        38516        4       930      591    63,55%          339   \n",
       "\n",
       "      % Abstentions  Exprimés % Exprimés/inscrits % Exprimés/votants  ...  \\\n",
       "24666        37,31%       600              61,66%             98,36%  ...   \n",
       "24667        37,95%       611              61,35%             98,87%  ...   \n",
       "24668        37,15%       617              62,45%             99,36%  ...   \n",
       "24675        27,10%       749              72,23%             99,07%  ...   \n",
       "24676        30,69%       702              67,96%             98,04%  ...   \n",
       "...             ...       ...                 ...                ...  ...   \n",
       "25461        29,16%       715              69,96%             98,76%  ...   \n",
       "25539        40,19%       632              59,34%             99,22%  ...   \n",
       "25540        31,21%       761              68,25%             99,22%  ...   \n",
       "25541        40,09%       638              59,35%             99,07%  ...   \n",
       "25542        36,45%       584              62,80%             98,82%  ...   \n",
       "\n",
       "       % Voix/inscrits 35 % Voix/exprimés 35 Nuance liste 37  Voix 37  \\\n",
       "24666               1,64%              2,67%            LDIV        0   \n",
       "24667               0,90%              1,47%            LDIV        1   \n",
       "24668               1,11%              1,78%            LDIV        0   \n",
       "24675               1,16%              1,60%            LDIV        1   \n",
       "24676               0,29%              0,43%            LDIV        0   \n",
       "...                   ...                ...             ...      ...   \n",
       "25461               1,47%              2,10%            LDIV        0   \n",
       "25539               0,56%              0,95%            LDIV        0   \n",
       "25540               1,43%              2,10%            LDIV        0   \n",
       "25541               0,37%              0,63%            LDIV        0   \n",
       "25542               0,97%              1,54%            LDIV        0   \n",
       "\n",
       "      % Voix/inscrits 37 % Voix/exprimés 37 Nuance liste 38  Voix 38  \\\n",
       "24666              0,00%              0,00%            LDIV        0   \n",
       "24667              0,10%              0,16%            LDIV        0   \n",
       "24668              0,00%              0,00%            LDIV        0   \n",
       "24675              0,10%              0,13%            LDIV        0   \n",
       "24676              0,00%              0,00%            LDIV        0   \n",
       "...                  ...                ...             ...      ...   \n",
       "25461              0,00%              0,00%            LDIV        0   \n",
       "25539              0,00%              0,00%            LDIV        0   \n",
       "25540              0,00%              0,00%            LDIV        0   \n",
       "25541              0,00%              0,00%            LDIV        0   \n",
       "25542              0,00%              0,00%            LDIV        0   \n",
       "\n",
       "      % Voix/inscrits 38 % Voix/exprimés 38  \n",
       "24666              0,00%              0,00%  \n",
       "24667              0,00%              0,00%  \n",
       "24668              0,00%              0,00%  \n",
       "24675              0,00%              0,00%  \n",
       "24676              0,00%              0,00%  \n",
       "...                  ...                ...  \n",
       "25461              0,00%              0,00%  \n",
       "25539              0,00%              0,00%  \n",
       "25540              0,00%              0,00%  \n",
       "25541              0,00%              0,00%  \n",
       "25542              0,00%              0,00%  \n",
       "\n",
       "[87 rows x 148 columns]"
      ]
     },
     "execution_count": 218,
     "metadata": {},
     "output_type": "execute_result"
    }
   ],
   "source": [
    "#Nous excluons toutes les colonnes qui impliquent des candidats n'ayant eu aucun vote pour alléger la base euro \n",
    "to_drop2=['Nuance liste 1', 'Voix 1', '% Voix/inscrits 1', '% Voix/exprimés 1', 'Nuance liste 2', 'Voix 2', '% Voix/inscrits 2', '% Voix/exprimés 2', 'Nuance liste 9', 'Voix 9', '% Voix/inscrits 9', '% Voix/exprimés 9', 'Nuance liste 36', 'Voix 36', '% Voix/inscrits 36', '% Voix/exprimés 36', 'Nuance liste 17', 'Voix 17', '% Voix/inscrits 17', '% Voix/exprimés 17']\n",
    "euro24_C1_clean = euro24_C1_clean.drop(columns=to_drop2)\n",
    "euro24_C1_clean"
   ]
  },
  {
   "cell_type": "code",
   "execution_count": 219,
   "id": "9bae5034-d827-438d-b484-b4ed179f2e01",
   "metadata": {},
   "outputs": [
    {
     "name": "stderr",
     "output_type": "stream",
     "text": [
      "/tmp/ipykernel_2359/1826210764.py:10: FutureWarning: DataFrame.applymap has been deprecated. Use DataFrame.map instead.\n",
      "  df_numeric = euro24_C1_clean.applymap(convert_percentage)\n"
     ]
    },
    {
     "data": {
      "text/plain": [
       "Index(['% Blancs/inscrits', '% Nuls/inscrits', '% Voix/inscrits 10',\n",
       "       '% Voix/inscrits 12', '% Voix/exprimés 12', '% Voix/inscrits 13',\n",
       "       '% Voix/inscrits 14', '% Voix/exprimés 14', '% Voix/inscrits 15',\n",
       "       '% Voix/inscrits 16', '% Voix/exprimés 16', '% Voix/inscrits 19',\n",
       "       '% Voix/exprimés 19', '% Voix/inscrits 20', '% Voix/exprimés 20',\n",
       "       '% Voix/inscrits 21', '% Voix/exprimés 21', '% Voix/inscrits 22',\n",
       "       '% Voix/exprimés 22', '% Voix/inscrits 23', '% Voix/exprimés 23',\n",
       "       '% Voix/inscrits 24', '% Voix/inscrits 25', '% Voix/exprimés 25',\n",
       "       '% Voix/inscrits 26', '% Voix/exprimés 26', '% Voix/inscrits 28',\n",
       "       '% Voix/exprimés 28', '% Voix/inscrits 29', '% Voix/exprimés 29',\n",
       "       '% Voix/inscrits 30', '% Voix/exprimés 30', '% Voix/inscrits 31',\n",
       "       '% Voix/exprimés 31', '% Voix/inscrits 32', '% Voix/exprimés 32',\n",
       "       '% Voix/inscrits 34', '% Voix/exprimés 34', '% Voix/inscrits 37',\n",
       "       '% Voix/exprimés 37', '% Voix/inscrits 38', '% Voix/exprimés 38'],\n",
       "      dtype='object')"
      ]
     },
     "execution_count": 219,
     "metadata": {},
     "output_type": "execute_result"
    }
   ],
   "source": [
    "def is_percentage(val):\n",
    "    return isinstance(val, str) and '%' in val\n",
    "\n",
    "def convert_percentage(val):\n",
    "    if is_percentage(val):\n",
    "        return float(val.replace(',', '.').replace('%', '')) / 100\n",
    "    return val \n",
    "\n",
    "# Convertir toutes les colonnes de pourcentages en valeurs numériques\n",
    "df_numeric = euro24_C1_clean.applymap(convert_percentage)\n",
    "\n",
    "numeric_cols = df_numeric.select_dtypes(include='number')\n",
    "\n",
    "# Identifier les colonnes à exclure (où toutes les valeurs sont < 0,01)\n",
    "cols_to_drop = numeric_cols.columns[(numeric_cols < 0.015).all()]\n",
    "cols_to_drop\n"
   ]
  },
  {
   "cell_type": "code",
   "execution_count": 220,
   "id": "ccf5eba4-fdd4-4594-8fe0-981042d8f7fc",
   "metadata": {},
   "outputs": [
    {
     "data": {
      "text/html": [
       "<div>\n",
       "<style scoped>\n",
       "    .dataframe tbody tr th:only-of-type {\n",
       "        vertical-align: middle;\n",
       "    }\n",
       "\n",
       "    .dataframe tbody tr th {\n",
       "        vertical-align: top;\n",
       "    }\n",
       "\n",
       "    .dataframe thead th {\n",
       "        text-align: right;\n",
       "    }\n",
       "</style>\n",
       "<table border=\"1\" class=\"dataframe\">\n",
       "  <thead>\n",
       "    <tr style=\"text-align: right;\">\n",
       "      <th></th>\n",
       "      <th>Code commune</th>\n",
       "      <th>Code BV</th>\n",
       "      <th>Inscrits</th>\n",
       "      <th>Votants</th>\n",
       "      <th>% Votants</th>\n",
       "      <th>Abstentions</th>\n",
       "      <th>% Abstentions</th>\n",
       "      <th>Exprimés</th>\n",
       "      <th>% Exprimés/inscrits</th>\n",
       "      <th>% Exprimés/votants</th>\n",
       "      <th>...</th>\n",
       "      <th>% Voix/inscrits 27</th>\n",
       "      <th>% Voix/exprimés 27</th>\n",
       "      <th>Nuance liste 33</th>\n",
       "      <th>Voix 33</th>\n",
       "      <th>% Voix/inscrits 33</th>\n",
       "      <th>% Voix/exprimés 33</th>\n",
       "      <th>Nuance liste 35</th>\n",
       "      <th>Voix 35</th>\n",
       "      <th>% Voix/inscrits 35</th>\n",
       "      <th>% Voix/exprimés 35</th>\n",
       "    </tr>\n",
       "  </thead>\n",
       "  <tbody>\n",
       "    <tr>\n",
       "      <th>24666</th>\n",
       "      <td>38039</td>\n",
       "      <td>1</td>\n",
       "      <td>973</td>\n",
       "      <td>610</td>\n",
       "      <td>62,69%</td>\n",
       "      <td>363</td>\n",
       "      <td>37,31%</td>\n",
       "      <td>600</td>\n",
       "      <td>61,66%</td>\n",
       "      <td>98,36%</td>\n",
       "      <td>...</td>\n",
       "      <td>13,67%</td>\n",
       "      <td>22,17%</td>\n",
       "      <td>LCOM</td>\n",
       "      <td>4</td>\n",
       "      <td>0,41%</td>\n",
       "      <td>0,67%</td>\n",
       "      <td>LECO</td>\n",
       "      <td>16</td>\n",
       "      <td>1,64%</td>\n",
       "      <td>2,67%</td>\n",
       "    </tr>\n",
       "    <tr>\n",
       "      <th>24667</th>\n",
       "      <td>38039</td>\n",
       "      <td>2</td>\n",
       "      <td>996</td>\n",
       "      <td>618</td>\n",
       "      <td>62,05%</td>\n",
       "      <td>378</td>\n",
       "      <td>37,95%</td>\n",
       "      <td>611</td>\n",
       "      <td>61,35%</td>\n",
       "      <td>98,87%</td>\n",
       "      <td>...</td>\n",
       "      <td>13,96%</td>\n",
       "      <td>22,75%</td>\n",
       "      <td>LCOM</td>\n",
       "      <td>3</td>\n",
       "      <td>0,30%</td>\n",
       "      <td>0,49%</td>\n",
       "      <td>LECO</td>\n",
       "      <td>9</td>\n",
       "      <td>0,90%</td>\n",
       "      <td>1,47%</td>\n",
       "    </tr>\n",
       "    <tr>\n",
       "      <th>24668</th>\n",
       "      <td>38039</td>\n",
       "      <td>3</td>\n",
       "      <td>988</td>\n",
       "      <td>621</td>\n",
       "      <td>62,85%</td>\n",
       "      <td>367</td>\n",
       "      <td>37,15%</td>\n",
       "      <td>617</td>\n",
       "      <td>62,45%</td>\n",
       "      <td>99,36%</td>\n",
       "      <td>...</td>\n",
       "      <td>12,75%</td>\n",
       "      <td>20,42%</td>\n",
       "      <td>LCOM</td>\n",
       "      <td>4</td>\n",
       "      <td>0,40%</td>\n",
       "      <td>0,65%</td>\n",
       "      <td>LECO</td>\n",
       "      <td>11</td>\n",
       "      <td>1,11%</td>\n",
       "      <td>1,78%</td>\n",
       "    </tr>\n",
       "    <tr>\n",
       "      <th>24675</th>\n",
       "      <td>38045</td>\n",
       "      <td>1</td>\n",
       "      <td>1037</td>\n",
       "      <td>756</td>\n",
       "      <td>72,90%</td>\n",
       "      <td>281</td>\n",
       "      <td>27,10%</td>\n",
       "      <td>749</td>\n",
       "      <td>72,23%</td>\n",
       "      <td>99,07%</td>\n",
       "      <td>...</td>\n",
       "      <td>13,50%</td>\n",
       "      <td>18,69%</td>\n",
       "      <td>LCOM</td>\n",
       "      <td>4</td>\n",
       "      <td>0,39%</td>\n",
       "      <td>0,53%</td>\n",
       "      <td>LECO</td>\n",
       "      <td>12</td>\n",
       "      <td>1,16%</td>\n",
       "      <td>1,60%</td>\n",
       "    </tr>\n",
       "    <tr>\n",
       "      <th>24676</th>\n",
       "      <td>38045</td>\n",
       "      <td>2</td>\n",
       "      <td>1033</td>\n",
       "      <td>716</td>\n",
       "      <td>69,31%</td>\n",
       "      <td>317</td>\n",
       "      <td>30,69%</td>\n",
       "      <td>702</td>\n",
       "      <td>67,96%</td>\n",
       "      <td>98,04%</td>\n",
       "      <td>...</td>\n",
       "      <td>13,07%</td>\n",
       "      <td>19,23%</td>\n",
       "      <td>LCOM</td>\n",
       "      <td>6</td>\n",
       "      <td>0,58%</td>\n",
       "      <td>0,85%</td>\n",
       "      <td>LECO</td>\n",
       "      <td>3</td>\n",
       "      <td>0,29%</td>\n",
       "      <td>0,43%</td>\n",
       "    </tr>\n",
       "    <tr>\n",
       "      <th>...</th>\n",
       "      <td>...</td>\n",
       "      <td>...</td>\n",
       "      <td>...</td>\n",
       "      <td>...</td>\n",
       "      <td>...</td>\n",
       "      <td>...</td>\n",
       "      <td>...</td>\n",
       "      <td>...</td>\n",
       "      <td>...</td>\n",
       "      <td>...</td>\n",
       "      <td>...</td>\n",
       "      <td>...</td>\n",
       "      <td>...</td>\n",
       "      <td>...</td>\n",
       "      <td>...</td>\n",
       "      <td>...</td>\n",
       "      <td>...</td>\n",
       "      <td>...</td>\n",
       "      <td>...</td>\n",
       "      <td>...</td>\n",
       "      <td>...</td>\n",
       "    </tr>\n",
       "    <tr>\n",
       "      <th>25461</th>\n",
       "      <td>38471</td>\n",
       "      <td>1</td>\n",
       "      <td>1022</td>\n",
       "      <td>724</td>\n",
       "      <td>70,84%</td>\n",
       "      <td>298</td>\n",
       "      <td>29,16%</td>\n",
       "      <td>715</td>\n",
       "      <td>69,96%</td>\n",
       "      <td>98,76%</td>\n",
       "      <td>...</td>\n",
       "      <td>16,63%</td>\n",
       "      <td>23,78%</td>\n",
       "      <td>LCOM</td>\n",
       "      <td>4</td>\n",
       "      <td>0,39%</td>\n",
       "      <td>0,56%</td>\n",
       "      <td>LECO</td>\n",
       "      <td>15</td>\n",
       "      <td>1,47%</td>\n",
       "      <td>2,10%</td>\n",
       "    </tr>\n",
       "    <tr>\n",
       "      <th>25539</th>\n",
       "      <td>38516</td>\n",
       "      <td>1</td>\n",
       "      <td>1065</td>\n",
       "      <td>637</td>\n",
       "      <td>59,81%</td>\n",
       "      <td>428</td>\n",
       "      <td>40,19%</td>\n",
       "      <td>632</td>\n",
       "      <td>59,34%</td>\n",
       "      <td>99,22%</td>\n",
       "      <td>...</td>\n",
       "      <td>11,74%</td>\n",
       "      <td>19,78%</td>\n",
       "      <td>LCOM</td>\n",
       "      <td>3</td>\n",
       "      <td>0,28%</td>\n",
       "      <td>0,47%</td>\n",
       "      <td>LECO</td>\n",
       "      <td>6</td>\n",
       "      <td>0,56%</td>\n",
       "      <td>0,95%</td>\n",
       "    </tr>\n",
       "    <tr>\n",
       "      <th>25540</th>\n",
       "      <td>38516</td>\n",
       "      <td>2</td>\n",
       "      <td>1115</td>\n",
       "      <td>767</td>\n",
       "      <td>68,79%</td>\n",
       "      <td>348</td>\n",
       "      <td>31,21%</td>\n",
       "      <td>761</td>\n",
       "      <td>68,25%</td>\n",
       "      <td>99,22%</td>\n",
       "      <td>...</td>\n",
       "      <td>15,87%</td>\n",
       "      <td>23,26%</td>\n",
       "      <td>LCOM</td>\n",
       "      <td>1</td>\n",
       "      <td>0,09%</td>\n",
       "      <td>0,13%</td>\n",
       "      <td>LECO</td>\n",
       "      <td>16</td>\n",
       "      <td>1,43%</td>\n",
       "      <td>2,10%</td>\n",
       "    </tr>\n",
       "    <tr>\n",
       "      <th>25541</th>\n",
       "      <td>38516</td>\n",
       "      <td>3</td>\n",
       "      <td>1075</td>\n",
       "      <td>644</td>\n",
       "      <td>59,91%</td>\n",
       "      <td>431</td>\n",
       "      <td>40,09%</td>\n",
       "      <td>638</td>\n",
       "      <td>59,35%</td>\n",
       "      <td>99,07%</td>\n",
       "      <td>...</td>\n",
       "      <td>12,47%</td>\n",
       "      <td>21,00%</td>\n",
       "      <td>LCOM</td>\n",
       "      <td>10</td>\n",
       "      <td>0,93%</td>\n",
       "      <td>1,57%</td>\n",
       "      <td>LECO</td>\n",
       "      <td>4</td>\n",
       "      <td>0,37%</td>\n",
       "      <td>0,63%</td>\n",
       "    </tr>\n",
       "    <tr>\n",
       "      <th>25542</th>\n",
       "      <td>38516</td>\n",
       "      <td>4</td>\n",
       "      <td>930</td>\n",
       "      <td>591</td>\n",
       "      <td>63,55%</td>\n",
       "      <td>339</td>\n",
       "      <td>36,45%</td>\n",
       "      <td>584</td>\n",
       "      <td>62,80%</td>\n",
       "      <td>98,82%</td>\n",
       "      <td>...</td>\n",
       "      <td>15,38%</td>\n",
       "      <td>24,49%</td>\n",
       "      <td>LCOM</td>\n",
       "      <td>3</td>\n",
       "      <td>0,32%</td>\n",
       "      <td>0,51%</td>\n",
       "      <td>LECO</td>\n",
       "      <td>9</td>\n",
       "      <td>0,97%</td>\n",
       "      <td>1,54%</td>\n",
       "    </tr>\n",
       "  </tbody>\n",
       "</table>\n",
       "<p>87 rows × 76 columns</p>\n",
       "</div>"
      ],
      "text/plain": [
       "      Code commune  Code BV  Inscrits  Votants % Votants  Abstentions  \\\n",
       "24666        38039        1       973      610    62,69%          363   \n",
       "24667        38039        2       996      618    62,05%          378   \n",
       "24668        38039        3       988      621    62,85%          367   \n",
       "24675        38045        1      1037      756    72,90%          281   \n",
       "24676        38045        2      1033      716    69,31%          317   \n",
       "...            ...      ...       ...      ...       ...          ...   \n",
       "25461        38471        1      1022      724    70,84%          298   \n",
       "25539        38516        1      1065      637    59,81%          428   \n",
       "25540        38516        2      1115      767    68,79%          348   \n",
       "25541        38516        3      1075      644    59,91%          431   \n",
       "25542        38516        4       930      591    63,55%          339   \n",
       "\n",
       "      % Abstentions  Exprimés % Exprimés/inscrits % Exprimés/votants  ...  \\\n",
       "24666        37,31%       600              61,66%             98,36%  ...   \n",
       "24667        37,95%       611              61,35%             98,87%  ...   \n",
       "24668        37,15%       617              62,45%             99,36%  ...   \n",
       "24675        27,10%       749              72,23%             99,07%  ...   \n",
       "24676        30,69%       702              67,96%             98,04%  ...   \n",
       "...             ...       ...                 ...                ...  ...   \n",
       "25461        29,16%       715              69,96%             98,76%  ...   \n",
       "25539        40,19%       632              59,34%             99,22%  ...   \n",
       "25540        31,21%       761              68,25%             99,22%  ...   \n",
       "25541        40,09%       638              59,35%             99,07%  ...   \n",
       "25542        36,45%       584              62,80%             98,82%  ...   \n",
       "\n",
       "       % Voix/inscrits 27 % Voix/exprimés 27 Nuance liste 33  Voix 33  \\\n",
       "24666              13,67%             22,17%            LCOM        4   \n",
       "24667              13,96%             22,75%            LCOM        3   \n",
       "24668              12,75%             20,42%            LCOM        4   \n",
       "24675              13,50%             18,69%            LCOM        4   \n",
       "24676              13,07%             19,23%            LCOM        6   \n",
       "...                   ...                ...             ...      ...   \n",
       "25461              16,63%             23,78%            LCOM        4   \n",
       "25539              11,74%             19,78%            LCOM        3   \n",
       "25540              15,87%             23,26%            LCOM        1   \n",
       "25541              12,47%             21,00%            LCOM       10   \n",
       "25542              15,38%             24,49%            LCOM        3   \n",
       "\n",
       "      % Voix/inscrits 33 % Voix/exprimés 33 Nuance liste 35  Voix 35  \\\n",
       "24666              0,41%              0,67%            LECO       16   \n",
       "24667              0,30%              0,49%            LECO        9   \n",
       "24668              0,40%              0,65%            LECO       11   \n",
       "24675              0,39%              0,53%            LECO       12   \n",
       "24676              0,58%              0,85%            LECO        3   \n",
       "...                  ...                ...             ...      ...   \n",
       "25461              0,39%              0,56%            LECO       15   \n",
       "25539              0,28%              0,47%            LECO        6   \n",
       "25540              0,09%              0,13%            LECO       16   \n",
       "25541              0,93%              1,57%            LECO        4   \n",
       "25542              0,32%              0,51%            LECO        9   \n",
       "\n",
       "      % Voix/inscrits 35 % Voix/exprimés 35  \n",
       "24666              1,64%              2,67%  \n",
       "24667              0,90%              1,47%  \n",
       "24668              1,11%              1,78%  \n",
       "24675              1,16%              1,60%  \n",
       "24676              0,29%              0,43%  \n",
       "...                  ...                ...  \n",
       "25461              1,47%              2,10%  \n",
       "25539              0,56%              0,95%  \n",
       "25540              1,43%              2,10%  \n",
       "25541              0,37%              0,63%  \n",
       "25542              0,97%              1,54%  \n",
       "\n",
       "[87 rows x 76 columns]"
      ]
     },
     "execution_count": 220,
     "metadata": {},
     "output_type": "execute_result"
    }
   ],
   "source": [
    "#On retire toutes les listes n'ayant pas excédé les 1.5% de suffrage exprimés dans tous les bureaux de votes \n",
    "cols_to_drop = ['% Voix/inscrits 12', '% Voix/exprimés 12', 'Nuance liste 12', 'Voix 12', '% Voix/inscrits 14', '% Voix/exprimés 14', 'Nuance liste 14', 'Voix 14', \n",
    "       '% Voix/inscrits 16', '% Voix/exprimés 16', 'Nuance liste 16', 'Voix 16', '% Voix/inscrits 19',\n",
    "       '% Voix/exprimés 19', 'Nuance liste 19', 'Voix 19', '% Voix/inscrits 20', '% Voix/exprimés 20', 'Nuance liste 20', 'Voix 20', \n",
    "       '% Voix/inscrits 21', '% Voix/exprimés 21', 'Nuance liste 21', 'Voix 21', '% Voix/inscrits 22',\n",
    "       '% Voix/exprimés 22', 'Nuance liste 22', 'Voix 22', '% Voix/inscrits 23', '% Voix/exprimés 23', 'Nuance liste 23', 'Voix 23', '% Voix/inscrits 25', '% Voix/exprimés 25',\n",
    "                'Nuance liste 25', 'Voix 25', '% Voix/inscrits 26', '% Voix/exprimés 26', 'Nuance liste 26', 'Voix 26', '% Voix/inscrits 28',\n",
    "       '% Voix/exprimés 28', 'Nuance liste 28', 'Voix 28', '% Voix/inscrits 29', '% Voix/exprimés 29', 'Nuance liste 29', 'Voix 29',\n",
    "       '% Voix/inscrits 30', '% Voix/exprimés 30', 'Nuance liste 30', 'Voix 30', '% Voix/inscrits 31',\n",
    "       '% Voix/exprimés 31', 'Nuance liste 31', 'Voix 31', '% Voix/inscrits 32', '% Voix/exprimés 32', 'Nuance liste 32', 'Voix 32',\n",
    "       '% Voix/inscrits 34', '% Voix/exprimés 34', 'Nuance liste 34', 'Voix 34', '% Voix/inscrits 37',\n",
    "       '% Voix/exprimés 37', 'Nuance liste 37', 'Voix 37', '% Voix/inscrits 38', '% Voix/exprimés 38', 'Nuance liste 38', 'Voix 38' ]\n",
    "\n",
    "euro24_C1_clean = euro24_C1_clean.drop(columns=cols_to_drop)\n",
    "euro24_C1_clean"
   ]
  },
  {
   "cell_type": "code",
   "execution_count": 221,
   "id": "7faf5d1c-fa57-4ec9-9a2c-1f0b77e3fd48",
   "metadata": {},
   "outputs": [
    {
     "data": {
      "text/plain": [
       "Index(['Code commune', 'Code BV', 'Inscrits', 'Votants', '% Votants',\n",
       "       'Abstentions', '% Abstentions', 'Exprimés', '% Exprimés/inscrits',\n",
       "       '% Exprimés/votants', 'Blancs', '% Blancs/inscrits', '% Blancs/votants',\n",
       "       'Nuls', '% Nuls/inscrits', '% Nuls/votants', 'Nuance liste 3', 'Voix 3',\n",
       "       '% Voix/inscrits 3', '% Voix/exprimés 3', 'Nuance liste 4', 'Voix 4',\n",
       "       '% Voix/inscrits 4', '% Voix/exprimés 4', 'Nuance liste 5', 'Voix 5',\n",
       "       '% Voix/inscrits 5', '% Voix/exprimés 5', 'Nuance liste 6', 'Voix 6',\n",
       "       '% Voix/inscrits 6', '% Voix/exprimés 6', 'Nuance liste 7', 'Voix 7',\n",
       "       '% Voix/inscrits 7', '% Voix/exprimés 7', 'Nuance liste 8', 'Voix 8',\n",
       "       '% Voix/inscrits 8', '% Voix/exprimés 8', 'Nuance liste 10', 'Voix 10',\n",
       "       '% Voix/inscrits 10', '% Voix/exprimés 10', 'Nuance liste 11',\n",
       "       'Voix 11', '% Voix/inscrits 11', '% Voix/exprimés 11',\n",
       "       'Nuance liste 13', 'Voix 13', '% Voix/inscrits 13',\n",
       "       '% Voix/exprimés 13', 'Nuance liste 15', 'Voix 15',\n",
       "       '% Voix/inscrits 15', '% Voix/exprimés 15', 'Nuance liste 18',\n",
       "       'Voix 18', '% Voix/inscrits 18', '% Voix/exprimés 18',\n",
       "       'Nuance liste 24', 'Voix 24', '% Voix/inscrits 24',\n",
       "       '% Voix/exprimés 24', 'Nuance liste 27', 'Voix 27',\n",
       "       '% Voix/inscrits 27', '% Voix/exprimés 27', 'Nuance liste 33',\n",
       "       'Voix 33', '% Voix/inscrits 33', '% Voix/exprimés 33',\n",
       "       'Nuance liste 35', 'Voix 35', '% Voix/inscrits 35',\n",
       "       '% Voix/exprimés 35'],\n",
       "      dtype='object')"
      ]
     },
     "execution_count": 221,
     "metadata": {},
     "output_type": "execute_result"
    }
   ],
   "source": [
    "euro24_C1_clean.columns"
   ]
  },
  {
   "cell_type": "code",
   "execution_count": 222,
   "id": "9a2b9a48-430b-4df6-9403-588691159dba",
   "metadata": {},
   "outputs": [],
   "source": [
    "#Nous allons renommer les colonnes pour clarifier les nuances auxquelles elles renvoient \n",
    "euro_final = pd.DataFrame({\n",
    "    'Code commune' : euro24_C1_clean['Code commune'],\n",
    "    'Code BV' : euro24_C1_clean['Code BV'],\n",
    "    'Inscrits_Euro' : euro24_C1_clean['Inscrits'],\n",
    "    'Votants_Euro' : euro24_C1_clean['Votants'], \n",
    "    '% Votants_Euro' : euro24_C1_clean['% Votants'],\n",
    "    'Abstention_Euro' : euro24_C1_clean['Abstentions'], \n",
    "    '% Abstention_Euro' : euro24_C1_clean['% Abstentions'],\n",
    "    'Exp_Euro' : euro24_C1_clean['Exprimés'],\n",
    "    'Blancs_Euro' : euro24_C1_clean['Blancs'],\n",
    "    'Nuls_Euro' : euro24_C1_clean['Nuls'],\n",
    "    'Voix_REC_Euro' :  euro24_C1_clean['Voix 3'],\n",
    "    '% VINSC_REC_Euro' :  euro24_C1_clean['% Voix/inscrits 3'],\n",
    "    '% VEXP_REC_Euro' :  euro24_C1_clean['% Voix/exprimés 3'],\n",
    "    'Voix_LFI_Euro' :  euro24_C1_clean['Voix 4'],\n",
    "    '% VINSC_LFI_Euro' :  euro24_C1_clean['% Voix/inscrits 4'],\n",
    "    '% VEXP_LFI_Euro' :  euro24_C1_clean['% Voix/exprimés 4'],\n",
    "    'Voix_RN_Euro' :  euro24_C1_clean['Voix 5'],\n",
    "    '% VINSC_RN_Euro' :  euro24_C1_clean['% Voix/inscrits 5'],\n",
    "    '% VEXP_RN_Euro' :  euro24_C1_clean['% Voix/exprimés 5'],\n",
    "    'Voix_EELV_Euro' :  euro24_C1_clean['Voix 6'],\n",
    "    '% VINSC_EELV_Euro' :  euro24_C1_clean['% Voix/inscrits 6'],\n",
    "    '% VEXP_EELV_Euro' :  euro24_C1_clean['% Voix/exprimés 6'],\n",
    "    'Voix_PALES_Euro' :  euro24_C1_clean['Voix 7'], #Liste Free Palestine\n",
    "    '% VINSC_PALES_Euro' :  euro24_C1_clean['% Voix/inscrits 7'],\n",
    "    '% VEXP_PALES_Euro' :  euro24_C1_clean['% Voix/exprimés 7'],\n",
    "    'Voix_ANIM_Euro' :  euro24_C1_clean['Voix 8'], #Parti animaliste\n",
    "    '% VINSC_ANIM_Euro' :  euro24_C1_clean['% Voix/inscrits 8'],\n",
    "    '% VEXP_ANIM_Euro' :  euro24_C1_clean['% Voix/exprimés 8'],\n",
    "    'Voix_PIRATE_Euro' :  euro24_C1_clean['Voix 10'],\n",
    "    '% VINSC_PIRATE_Euro' :  euro24_C1_clean['% Voix/inscrits 10'],\n",
    "    '% VEXP_PIRATE_Euro' :  euro24_C1_clean['% Voix/exprimés 10'],\n",
    "    'Voix_LREM_Euro' :  euro24_C1_clean['Voix 11'],\n",
    "    '% VINSC_LREM_Euro' :  euro24_C1_clean['% Voix/inscrits 11'],\n",
    "    '% VEXP_LREM_Euro' :  euro24_C1_clean['% Voix/exprimés 11'],\n",
    "    'Voix_EQUI_Euro' :  euro24_C1_clean['Voix 13'], #Equinoxe\n",
    "    '% VINSC_EQUI_Euro' :  euro24_C1_clean['% Voix/inscrits 13'],\n",
    "    '% VEXP_EQUI_Euro' :  euro24_C1_clean['% Voix/exprimés 13'],\n",
    "    'Voix_UPR_Euro' :  euro24_C1_clean['Voix 15'], #Asselineau\n",
    "    '% VINSC_UPR_Euro' :  euro24_C1_clean['% Voix/inscrits 15'],\n",
    "    '% VEXP_UPR_Euro' :  euro24_C1_clean['% Voix/exprimés 15'],\n",
    "    'Voix_LR_Euro' :  euro24_C1_clean['Voix 18'],\n",
    "    '% VINSC_LR_Euro' :  euro24_C1_clean['% Voix/inscrits 18'],\n",
    "    '% VEXP_LR_Euro' :  euro24_C1_clean['% Voix/exprimés 18'],\n",
    "    'Voix_PHIL_Euro' :  euro24_C1_clean['Voix 24'], #Philippot\n",
    "    '% VINSC_PHIL_Euro' :  euro24_C1_clean['% Voix/inscrits 24'],\n",
    "    '% VEXP_PHIL_Euro' :  euro24_C1_clean['% Voix/exprimés 24'],\n",
    "    'Voix_PP_Euro' :  euro24_C1_clean['Voix 27'], #Place Publique\n",
    "    '% VINSC_PP_Euro' :  euro24_C1_clean['% Voix/inscrits 27'],\n",
    "    '% VEXP_PP_Euro' :  euro24_C1_clean['% Voix/exprimés 27'],\n",
    "    'Voix_PCF_Euro' :  euro24_C1_clean['Voix 33'],\n",
    "    '% VINSC_PCF_Euro' :  euro24_C1_clean['% Voix/inscrits 33'],\n",
    "    '% VEXP_PCF_Euro' :  euro24_C1_clean['% Voix/exprimés 33'],\n",
    "    'Voix_ECOC_Euro' :  euro24_C1_clean['Voix 35'], #Ecologie au centre\n",
    "    '% VINSC_ECOC_Euro' :  euro24_C1_clean['% Voix/inscrits 35'],\n",
    "    '% VEXP_ECOC_Euro' :  euro24_C1_clean['% Voix/exprimés 35'],\n",
    "})"
   ]
  },
  {
   "cell_type": "code",
   "execution_count": 223,
   "id": "0c278c78-aa86-45a8-83e6-a842eb0749ec",
   "metadata": {},
   "outputs": [
    {
     "data": {
      "text/html": [
       "<div>\n",
       "<style scoped>\n",
       "    .dataframe tbody tr th:only-of-type {\n",
       "        vertical-align: middle;\n",
       "    }\n",
       "\n",
       "    .dataframe tbody tr th {\n",
       "        vertical-align: top;\n",
       "    }\n",
       "\n",
       "    .dataframe thead th {\n",
       "        text-align: right;\n",
       "    }\n",
       "</style>\n",
       "<table border=\"1\" class=\"dataframe\">\n",
       "  <thead>\n",
       "    <tr style=\"text-align: right;\">\n",
       "      <th></th>\n",
       "      <th>Code commune</th>\n",
       "      <th>Code BV</th>\n",
       "      <th>Inscrits_Euro</th>\n",
       "      <th>Votants_Euro</th>\n",
       "      <th>% Votants_Euro</th>\n",
       "      <th>Abstention_Euro</th>\n",
       "      <th>% Abstention_Euro</th>\n",
       "      <th>Exp_Euro</th>\n",
       "      <th>Blancs_Euro</th>\n",
       "      <th>Nuls_Euro</th>\n",
       "      <th>...</th>\n",
       "      <th>% VEXP_PHIL_Euro</th>\n",
       "      <th>Voix_PP_Euro</th>\n",
       "      <th>% VINSC_PP_Euro</th>\n",
       "      <th>% VEXP_PP_Euro</th>\n",
       "      <th>Voix_PCF_Euro</th>\n",
       "      <th>% VINSC_PCF_Euro</th>\n",
       "      <th>% VEXP_PCF_Euro</th>\n",
       "      <th>Voix_ECOC_Euro</th>\n",
       "      <th>% VINSC_ECOC_Euro</th>\n",
       "      <th>% VEXP_ECOC_Euro</th>\n",
       "    </tr>\n",
       "  </thead>\n",
       "  <tbody>\n",
       "    <tr>\n",
       "      <th>24666</th>\n",
       "      <td>38039</td>\n",
       "      <td>1</td>\n",
       "      <td>973</td>\n",
       "      <td>610</td>\n",
       "      <td>62,69%</td>\n",
       "      <td>363</td>\n",
       "      <td>37,31%</td>\n",
       "      <td>600</td>\n",
       "      <td>5</td>\n",
       "      <td>5</td>\n",
       "      <td>...</td>\n",
       "      <td>1,33%</td>\n",
       "      <td>133</td>\n",
       "      <td>13,67%</td>\n",
       "      <td>22,17%</td>\n",
       "      <td>4</td>\n",
       "      <td>0,41%</td>\n",
       "      <td>0,67%</td>\n",
       "      <td>16</td>\n",
       "      <td>1,64%</td>\n",
       "      <td>2,67%</td>\n",
       "    </tr>\n",
       "    <tr>\n",
       "      <th>24667</th>\n",
       "      <td>38039</td>\n",
       "      <td>2</td>\n",
       "      <td>996</td>\n",
       "      <td>618</td>\n",
       "      <td>62,05%</td>\n",
       "      <td>378</td>\n",
       "      <td>37,95%</td>\n",
       "      <td>611</td>\n",
       "      <td>2</td>\n",
       "      <td>5</td>\n",
       "      <td>...</td>\n",
       "      <td>1,47%</td>\n",
       "      <td>139</td>\n",
       "      <td>13,96%</td>\n",
       "      <td>22,75%</td>\n",
       "      <td>3</td>\n",
       "      <td>0,30%</td>\n",
       "      <td>0,49%</td>\n",
       "      <td>9</td>\n",
       "      <td>0,90%</td>\n",
       "      <td>1,47%</td>\n",
       "    </tr>\n",
       "    <tr>\n",
       "      <th>24668</th>\n",
       "      <td>38039</td>\n",
       "      <td>3</td>\n",
       "      <td>988</td>\n",
       "      <td>621</td>\n",
       "      <td>62,85%</td>\n",
       "      <td>367</td>\n",
       "      <td>37,15%</td>\n",
       "      <td>617</td>\n",
       "      <td>3</td>\n",
       "      <td>1</td>\n",
       "      <td>...</td>\n",
       "      <td>0,65%</td>\n",
       "      <td>126</td>\n",
       "      <td>12,75%</td>\n",
       "      <td>20,42%</td>\n",
       "      <td>4</td>\n",
       "      <td>0,40%</td>\n",
       "      <td>0,65%</td>\n",
       "      <td>11</td>\n",
       "      <td>1,11%</td>\n",
       "      <td>1,78%</td>\n",
       "    </tr>\n",
       "    <tr>\n",
       "      <th>24675</th>\n",
       "      <td>38045</td>\n",
       "      <td>1</td>\n",
       "      <td>1037</td>\n",
       "      <td>756</td>\n",
       "      <td>72,90%</td>\n",
       "      <td>281</td>\n",
       "      <td>27,10%</td>\n",
       "      <td>749</td>\n",
       "      <td>2</td>\n",
       "      <td>5</td>\n",
       "      <td>...</td>\n",
       "      <td>0,40%</td>\n",
       "      <td>140</td>\n",
       "      <td>13,50%</td>\n",
       "      <td>18,69%</td>\n",
       "      <td>4</td>\n",
       "      <td>0,39%</td>\n",
       "      <td>0,53%</td>\n",
       "      <td>12</td>\n",
       "      <td>1,16%</td>\n",
       "      <td>1,60%</td>\n",
       "    </tr>\n",
       "    <tr>\n",
       "      <th>24676</th>\n",
       "      <td>38045</td>\n",
       "      <td>2</td>\n",
       "      <td>1033</td>\n",
       "      <td>716</td>\n",
       "      <td>69,31%</td>\n",
       "      <td>317</td>\n",
       "      <td>30,69%</td>\n",
       "      <td>702</td>\n",
       "      <td>3</td>\n",
       "      <td>11</td>\n",
       "      <td>...</td>\n",
       "      <td>1,00%</td>\n",
       "      <td>135</td>\n",
       "      <td>13,07%</td>\n",
       "      <td>19,23%</td>\n",
       "      <td>6</td>\n",
       "      <td>0,58%</td>\n",
       "      <td>0,85%</td>\n",
       "      <td>3</td>\n",
       "      <td>0,29%</td>\n",
       "      <td>0,43%</td>\n",
       "    </tr>\n",
       "    <tr>\n",
       "      <th>...</th>\n",
       "      <td>...</td>\n",
       "      <td>...</td>\n",
       "      <td>...</td>\n",
       "      <td>...</td>\n",
       "      <td>...</td>\n",
       "      <td>...</td>\n",
       "      <td>...</td>\n",
       "      <td>...</td>\n",
       "      <td>...</td>\n",
       "      <td>...</td>\n",
       "      <td>...</td>\n",
       "      <td>...</td>\n",
       "      <td>...</td>\n",
       "      <td>...</td>\n",
       "      <td>...</td>\n",
       "      <td>...</td>\n",
       "      <td>...</td>\n",
       "      <td>...</td>\n",
       "      <td>...</td>\n",
       "      <td>...</td>\n",
       "      <td>...</td>\n",
       "    </tr>\n",
       "    <tr>\n",
       "      <th>25461</th>\n",
       "      <td>38471</td>\n",
       "      <td>1</td>\n",
       "      <td>1022</td>\n",
       "      <td>724</td>\n",
       "      <td>70,84%</td>\n",
       "      <td>298</td>\n",
       "      <td>29,16%</td>\n",
       "      <td>715</td>\n",
       "      <td>5</td>\n",
       "      <td>4</td>\n",
       "      <td>...</td>\n",
       "      <td>0,56%</td>\n",
       "      <td>170</td>\n",
       "      <td>16,63%</td>\n",
       "      <td>23,78%</td>\n",
       "      <td>4</td>\n",
       "      <td>0,39%</td>\n",
       "      <td>0,56%</td>\n",
       "      <td>15</td>\n",
       "      <td>1,47%</td>\n",
       "      <td>2,10%</td>\n",
       "    </tr>\n",
       "    <tr>\n",
       "      <th>25539</th>\n",
       "      <td>38516</td>\n",
       "      <td>1</td>\n",
       "      <td>1065</td>\n",
       "      <td>637</td>\n",
       "      <td>59,81%</td>\n",
       "      <td>428</td>\n",
       "      <td>40,19%</td>\n",
       "      <td>632</td>\n",
       "      <td>3</td>\n",
       "      <td>2</td>\n",
       "      <td>...</td>\n",
       "      <td>0,95%</td>\n",
       "      <td>125</td>\n",
       "      <td>11,74%</td>\n",
       "      <td>19,78%</td>\n",
       "      <td>3</td>\n",
       "      <td>0,28%</td>\n",
       "      <td>0,47%</td>\n",
       "      <td>6</td>\n",
       "      <td>0,56%</td>\n",
       "      <td>0,95%</td>\n",
       "    </tr>\n",
       "    <tr>\n",
       "      <th>25540</th>\n",
       "      <td>38516</td>\n",
       "      <td>2</td>\n",
       "      <td>1115</td>\n",
       "      <td>767</td>\n",
       "      <td>68,79%</td>\n",
       "      <td>348</td>\n",
       "      <td>31,21%</td>\n",
       "      <td>761</td>\n",
       "      <td>5</td>\n",
       "      <td>1</td>\n",
       "      <td>...</td>\n",
       "      <td>0,39%</td>\n",
       "      <td>177</td>\n",
       "      <td>15,87%</td>\n",
       "      <td>23,26%</td>\n",
       "      <td>1</td>\n",
       "      <td>0,09%</td>\n",
       "      <td>0,13%</td>\n",
       "      <td>16</td>\n",
       "      <td>1,43%</td>\n",
       "      <td>2,10%</td>\n",
       "    </tr>\n",
       "    <tr>\n",
       "      <th>25541</th>\n",
       "      <td>38516</td>\n",
       "      <td>3</td>\n",
       "      <td>1075</td>\n",
       "      <td>644</td>\n",
       "      <td>59,91%</td>\n",
       "      <td>431</td>\n",
       "      <td>40,09%</td>\n",
       "      <td>638</td>\n",
       "      <td>3</td>\n",
       "      <td>3</td>\n",
       "      <td>...</td>\n",
       "      <td>0,63%</td>\n",
       "      <td>134</td>\n",
       "      <td>12,47%</td>\n",
       "      <td>21,00%</td>\n",
       "      <td>10</td>\n",
       "      <td>0,93%</td>\n",
       "      <td>1,57%</td>\n",
       "      <td>4</td>\n",
       "      <td>0,37%</td>\n",
       "      <td>0,63%</td>\n",
       "    </tr>\n",
       "    <tr>\n",
       "      <th>25542</th>\n",
       "      <td>38516</td>\n",
       "      <td>4</td>\n",
       "      <td>930</td>\n",
       "      <td>591</td>\n",
       "      <td>63,55%</td>\n",
       "      <td>339</td>\n",
       "      <td>36,45%</td>\n",
       "      <td>584</td>\n",
       "      <td>6</td>\n",
       "      <td>1</td>\n",
       "      <td>...</td>\n",
       "      <td>1,03%</td>\n",
       "      <td>143</td>\n",
       "      <td>15,38%</td>\n",
       "      <td>24,49%</td>\n",
       "      <td>3</td>\n",
       "      <td>0,32%</td>\n",
       "      <td>0,51%</td>\n",
       "      <td>9</td>\n",
       "      <td>0,97%</td>\n",
       "      <td>1,54%</td>\n",
       "    </tr>\n",
       "  </tbody>\n",
       "</table>\n",
       "<p>87 rows × 55 columns</p>\n",
       "</div>"
      ],
      "text/plain": [
       "      Code commune  Code BV  Inscrits_Euro  Votants_Euro % Votants_Euro  \\\n",
       "24666        38039        1            973           610         62,69%   \n",
       "24667        38039        2            996           618         62,05%   \n",
       "24668        38039        3            988           621         62,85%   \n",
       "24675        38045        1           1037           756         72,90%   \n",
       "24676        38045        2           1033           716         69,31%   \n",
       "...            ...      ...            ...           ...            ...   \n",
       "25461        38471        1           1022           724         70,84%   \n",
       "25539        38516        1           1065           637         59,81%   \n",
       "25540        38516        2           1115           767         68,79%   \n",
       "25541        38516        3           1075           644         59,91%   \n",
       "25542        38516        4            930           591         63,55%   \n",
       "\n",
       "       Abstention_Euro % Abstention_Euro  Exp_Euro  Blancs_Euro  Nuls_Euro  \\\n",
       "24666              363            37,31%       600            5          5   \n",
       "24667              378            37,95%       611            2          5   \n",
       "24668              367            37,15%       617            3          1   \n",
       "24675              281            27,10%       749            2          5   \n",
       "24676              317            30,69%       702            3         11   \n",
       "...                ...               ...       ...          ...        ...   \n",
       "25461              298            29,16%       715            5          4   \n",
       "25539              428            40,19%       632            3          2   \n",
       "25540              348            31,21%       761            5          1   \n",
       "25541              431            40,09%       638            3          3   \n",
       "25542              339            36,45%       584            6          1   \n",
       "\n",
       "       ...  % VEXP_PHIL_Euro Voix_PP_Euro % VINSC_PP_Euro  % VEXP_PP_Euro  \\\n",
       "24666  ...             1,33%          133          13,67%          22,17%   \n",
       "24667  ...             1,47%          139          13,96%          22,75%   \n",
       "24668  ...             0,65%          126          12,75%          20,42%   \n",
       "24675  ...             0,40%          140          13,50%          18,69%   \n",
       "24676  ...             1,00%          135          13,07%          19,23%   \n",
       "...    ...               ...          ...             ...             ...   \n",
       "25461  ...             0,56%          170          16,63%          23,78%   \n",
       "25539  ...             0,95%          125          11,74%          19,78%   \n",
       "25540  ...             0,39%          177          15,87%          23,26%   \n",
       "25541  ...             0,63%          134          12,47%          21,00%   \n",
       "25542  ...             1,03%          143          15,38%          24,49%   \n",
       "\n",
       "      Voix_PCF_Euro % VINSC_PCF_Euro  % VEXP_PCF_Euro Voix_ECOC_Euro  \\\n",
       "24666             4            0,41%            0,67%             16   \n",
       "24667             3            0,30%            0,49%              9   \n",
       "24668             4            0,40%            0,65%             11   \n",
       "24675             4            0,39%            0,53%             12   \n",
       "24676             6            0,58%            0,85%              3   \n",
       "...             ...              ...              ...            ...   \n",
       "25461             4            0,39%            0,56%             15   \n",
       "25539             3            0,28%            0,47%              6   \n",
       "25540             1            0,09%            0,13%             16   \n",
       "25541            10            0,93%            1,57%              4   \n",
       "25542             3            0,32%            0,51%              9   \n",
       "\n",
       "      % VINSC_ECOC_Euro  % VEXP_ECOC_Euro  \n",
       "24666             1,64%             2,67%  \n",
       "24667             0,90%             1,47%  \n",
       "24668             1,11%             1,78%  \n",
       "24675             1,16%             1,60%  \n",
       "24676             0,29%             0,43%  \n",
       "...                 ...               ...  \n",
       "25461             1,47%             2,10%  \n",
       "25539             0,56%             0,95%  \n",
       "25540             1,43%             2,10%  \n",
       "25541             0,37%             0,63%  \n",
       "25542             0,97%             1,54%  \n",
       "\n",
       "[87 rows x 55 columns]"
      ]
     },
     "execution_count": 223,
     "metadata": {},
     "output_type": "execute_result"
    }
   ],
   "source": [
    "euro_final"
   ]
  },
  {
   "cell_type": "code",
   "execution_count": 224,
   "id": "d129ceb7-c818-49a8-bbf6-f057be810582",
   "metadata": {},
   "outputs": [
    {
     "data": {
      "text/plain": [
       "Index(['Code département', 'Libellé département', 'Code commune',\n",
       "       'Libellé commune', 'Code BV', 'Inscrits', 'Votants', '% Votants',\n",
       "       'Abstentions', '% Abstentions', 'Exprimés', '% Exprimés/inscrits',\n",
       "       '% Exprimés/votants', 'Blancs', '% Blancs/inscrits', '% Blancs/votants',\n",
       "       'Nuls', '% Nuls/inscrits', '% Nuls/votants', 'Numéro de panneau 1',\n",
       "       'Nuance candidat 1', 'Nom candidat 1', 'Prénom candidat 1',\n",
       "       'Sexe candidat 1', 'Voix 1', '% Voix/inscrits 1', '% Voix/exprimés 1',\n",
       "       'Numéro de panneau 2', 'Nuance candidat 2', 'Nom candidat 2',\n",
       "       'Prénom candidat 2', 'Sexe candidat 2', 'Voix 2', '% Voix/inscrits 2',\n",
       "       '% Voix/exprimés 2', 'Numéro de panneau 3', 'Nuance candidat 3',\n",
       "       'Nom candidat 3', 'Prénom candidat 3', 'Sexe candidat 3', 'Voix 3',\n",
       "       '% Voix/inscrits 3', '% Voix/exprimés 3', 'Numéro de panneau 4',\n",
       "       'Nuance candidat 4', 'Nom candidat 4', 'Prénom candidat 4',\n",
       "       'Sexe candidat 4', 'Voix 4', '% Voix/inscrits 4', '% Voix/exprimés 4',\n",
       "       'Numéro de panneau 5', 'Nuance candidat 5', 'Nom candidat 5',\n",
       "       'Prénom candidat 5', 'Sexe candidat 5', 'Voix 5', '% Voix/inscrits 5',\n",
       "       '% Voix/exprimés 5'],\n",
       "      dtype='object')"
      ]
     },
     "execution_count": 224,
     "metadata": {},
     "output_type": "execute_result"
    }
   ],
   "source": [
    "legi24T1_C1 = legi24T1_C1.dropna(how='all', inplace=False, axis=1)\n",
    "legi24T1_C1.columns"
   ]
  },
  {
   "cell_type": "code",
   "execution_count": 225,
   "id": "1de2f62f-3f9c-49c3-bf9f-4a9eaa7c5dd6",
   "metadata": {},
   "outputs": [],
   "source": [
    "legi24T1_C1 = legi24T1_C1[['Code commune', 'Libellé commune', 'Code BV', 'Inscrits', 'Votants', '% Votants',\n",
    "       'Abstentions', '% Abstentions', 'Exprimés', 'Blancs', 'Nuls', 'Nuance candidat 1', 'Voix 1', '% Voix/inscrits 1', '% Voix/exprimés 1', 'Nuance candidat 2', 'Voix 2', '% Voix/inscrits 2', '% Voix/exprimés 2', 'Nuance candidat 3', 'Voix 3', '% Voix/inscrits 3', '% Voix/exprimés 3', 'Nuance candidat 4', 'Voix 4', '% Voix/inscrits 4', '% Voix/exprimés 4','Nuance candidat 5', 'Voix 5', '% Voix/inscrits 5', '% Voix/exprimés 5']]"
   ]
  },
  {
   "cell_type": "code",
   "execution_count": 226,
   "id": "03f8d5c7-74ce-4355-b0bf-6fb5769488f6",
   "metadata": {},
   "outputs": [
    {
     "data": {
      "text/plain": [
       "Index(['Code commune', 'Libellé commune', 'Code BV', 'Inscrits', 'Votants',\n",
       "       '% Votants', 'Abstentions', '% Abstentions', 'Exprimés', 'Blancs',\n",
       "       'Nuls', 'Nuance candidat 1', 'Voix 1', '% Voix/inscrits 1',\n",
       "       '% Voix/exprimés 1', 'Nuance candidat 2', 'Voix 2', '% Voix/inscrits 2',\n",
       "       '% Voix/exprimés 2', 'Nuance candidat 3', 'Voix 3', '% Voix/inscrits 3',\n",
       "       '% Voix/exprimés 3', 'Nuance candidat 4', 'Voix 4', '% Voix/inscrits 4',\n",
       "       '% Voix/exprimés 4', 'Nuance candidat 5', 'Voix 5', '% Voix/inscrits 5',\n",
       "       '% Voix/exprimés 5'],\n",
       "      dtype='object')"
      ]
     },
     "execution_count": 226,
     "metadata": {},
     "output_type": "execute_result"
    }
   ],
   "source": [
    "legi24T1_C1.columns"
   ]
  },
  {
   "cell_type": "code",
   "execution_count": 228,
   "id": "46d758a1-c3e8-43d2-be83-bf48fe79509e",
   "metadata": {},
   "outputs": [],
   "source": [
    "legit1_final = pd.DataFrame({\n",
    "    'Code commune' : legi24T1_C1['Code commune'],\n",
    "    'Libellé commune' : legi24T1_C1['Libellé commune'],\n",
    "    'Code BV' : legi24T1_C1['Code BV'],\n",
    "    'Inscrits_LegiT1' : legi24T1_C1['Inscrits'], \n",
    "    'Votants_LegiT1' : legi24T1_C1['Votants'], \n",
    "    '% Votants_LegiT1' : legi24T1_C1['% Votants'], \n",
    "    'Abstention_LegiT1' : legi24T1_C1['Abstentions'], \n",
    "    '% Abstentions_LegiT1' : legi24T1_C1['% Abstentions'],\n",
    "    'Exprimés_LegiT1' : legi24T1_C1['Exprimés'],\n",
    "    'Blancs_LegiT1' : legi24T1_C1['Blancs'],\n",
    "    'Nuls_LegiT1' : legi24T1_C1['Nuls'],\n",
    "    'Voix_LR_LegiT1' : legi24T1_C1['Voix 1'], \n",
    "    '% VINSC_LR_LegiT1' : legi24T1_C1['% Voix/inscrits 1'], \n",
    "    '% VEXP_LR_LegiT1' : legi24T1_C1['% Voix/exprimés 1'], \n",
    "     'Voix_LO_LegiT1' : legi24T1_C1['Voix 2'], \n",
    "    '% VINSC_LO_LegiT1' : legi24T1_C1['% Voix/inscrits 2'], \n",
    "    '% VEXP_LO_LegiT1' : legi24T1_C1['% Voix/exprimés 2'], \n",
    "     'Voix_UXD_LegiT1' : legi24T1_C1['Voix 3'], \n",
    "    '% VINSC_UXD_LegiT1' : legi24T1_C1['% Voix/inscrits 3'], \n",
    "    '% VEXP_UXD_LegiT1' : legi24T1_C1['% Voix/exprimés 3'], \n",
    "     'Voix_UG_LegiT1' : legi24T1_C1['Voix 4'], \n",
    "    '% VINSC_UG_LegiT1' : legi24T1_C1['% Voix/inscrits 4'], \n",
    "    '% VEXP_UG_LegiT1' : legi24T1_C1['% Voix/exprimés 4'], \n",
    "     'Voix_LREM_LegiT1' : legi24T1_C1['Voix 5'], \n",
    "    '% VINSC_LREM_LegiT1' : legi24T1_C1['% Voix/inscrits 5'], \n",
    "    '% VEXP_LREM_LegiT1' : legi24T1_C1['% Voix/exprimés 5'], \n",
    "})"
   ]
  },
  {
   "cell_type": "code",
   "execution_count": 229,
   "id": "a4d1d136-9877-4aa1-8650-a62a3c69f7e0",
   "metadata": {},
   "outputs": [
    {
     "data": {
      "text/html": [
       "<div>\n",
       "<style scoped>\n",
       "    .dataframe tbody tr th:only-of-type {\n",
       "        vertical-align: middle;\n",
       "    }\n",
       "\n",
       "    .dataframe tbody tr th {\n",
       "        vertical-align: top;\n",
       "    }\n",
       "\n",
       "    .dataframe thead th {\n",
       "        text-align: right;\n",
       "    }\n",
       "</style>\n",
       "<table border=\"1\" class=\"dataframe\">\n",
       "  <thead>\n",
       "    <tr style=\"text-align: right;\">\n",
       "      <th></th>\n",
       "      <th>Code commune</th>\n",
       "      <th>Libellé commune</th>\n",
       "      <th>Code BV</th>\n",
       "      <th>Inscrits_LegiT1</th>\n",
       "      <th>Votants_LegiT1</th>\n",
       "      <th>% Votants_LegiT1</th>\n",
       "      <th>Abstention_LegiT1</th>\n",
       "      <th>% Abstentions_LegiT1</th>\n",
       "      <th>Exprimés_LegiT1</th>\n",
       "      <th>Blancs_LegiT1</th>\n",
       "      <th>...</th>\n",
       "      <th>% VEXP_LO_LegiT1</th>\n",
       "      <th>Voix_UXD_LegiT1</th>\n",
       "      <th>% VINSC_UXD_LegiT1</th>\n",
       "      <th>% VEXP_UXD_LegiT1</th>\n",
       "      <th>Voix_UG_LegiT1</th>\n",
       "      <th>% VINSC_UG_LegiT1</th>\n",
       "      <th>% VEXP_UG_LegiT1</th>\n",
       "      <th>Voix_LREM_LegiT1</th>\n",
       "      <th>% VINSC_LREM_LegiT1</th>\n",
       "      <th>% VEXP_LREM_LegiT1</th>\n",
       "    </tr>\n",
       "  </thead>\n",
       "  <tbody>\n",
       "    <tr>\n",
       "      <th>24667</th>\n",
       "      <td>38039</td>\n",
       "      <td>Bernin</td>\n",
       "      <td>1</td>\n",
       "      <td>965</td>\n",
       "      <td>754</td>\n",
       "      <td>78,13%</td>\n",
       "      <td>211</td>\n",
       "      <td>21,87%</td>\n",
       "      <td>741</td>\n",
       "      <td>10</td>\n",
       "      <td>...</td>\n",
       "      <td>1,89%</td>\n",
       "      <td>163</td>\n",
       "      <td>16,89%</td>\n",
       "      <td>22,00%</td>\n",
       "      <td>186</td>\n",
       "      <td>19,27%</td>\n",
       "      <td>25,10%</td>\n",
       "      <td>331.0</td>\n",
       "      <td>34,30%</td>\n",
       "      <td>44,67%</td>\n",
       "    </tr>\n",
       "    <tr>\n",
       "      <th>24668</th>\n",
       "      <td>38039</td>\n",
       "      <td>Bernin</td>\n",
       "      <td>2</td>\n",
       "      <td>992</td>\n",
       "      <td>778</td>\n",
       "      <td>78,43%</td>\n",
       "      <td>214</td>\n",
       "      <td>21,57%</td>\n",
       "      <td>771</td>\n",
       "      <td>4</td>\n",
       "      <td>...</td>\n",
       "      <td>0,78%</td>\n",
       "      <td>162</td>\n",
       "      <td>16,33%</td>\n",
       "      <td>21,01%</td>\n",
       "      <td>197</td>\n",
       "      <td>19,86%</td>\n",
       "      <td>25,55%</td>\n",
       "      <td>334.0</td>\n",
       "      <td>33,67%</td>\n",
       "      <td>43,32%</td>\n",
       "    </tr>\n",
       "    <tr>\n",
       "      <th>24669</th>\n",
       "      <td>38039</td>\n",
       "      <td>Bernin</td>\n",
       "      <td>3</td>\n",
       "      <td>980</td>\n",
       "      <td>745</td>\n",
       "      <td>76,02%</td>\n",
       "      <td>235</td>\n",
       "      <td>23,98%</td>\n",
       "      <td>738</td>\n",
       "      <td>4</td>\n",
       "      <td>...</td>\n",
       "      <td>0,54%</td>\n",
       "      <td>189</td>\n",
       "      <td>19,29%</td>\n",
       "      <td>25,61%</td>\n",
       "      <td>185</td>\n",
       "      <td>18,88%</td>\n",
       "      <td>25,07%</td>\n",
       "      <td>310.0</td>\n",
       "      <td>31,63%</td>\n",
       "      <td>42,01%</td>\n",
       "    </tr>\n",
       "    <tr>\n",
       "      <th>24676</th>\n",
       "      <td>38045</td>\n",
       "      <td>Biviers</td>\n",
       "      <td>1</td>\n",
       "      <td>1036</td>\n",
       "      <td>845</td>\n",
       "      <td>81,56%</td>\n",
       "      <td>191</td>\n",
       "      <td>18,44%</td>\n",
       "      <td>837</td>\n",
       "      <td>7</td>\n",
       "      <td>...</td>\n",
       "      <td>0,12%</td>\n",
       "      <td>166</td>\n",
       "      <td>16,02%</td>\n",
       "      <td>19,83%</td>\n",
       "      <td>164</td>\n",
       "      <td>15,83%</td>\n",
       "      <td>19,59%</td>\n",
       "      <td>419.0</td>\n",
       "      <td>40,44%</td>\n",
       "      <td>50,06%</td>\n",
       "    </tr>\n",
       "    <tr>\n",
       "      <th>24677</th>\n",
       "      <td>38045</td>\n",
       "      <td>Biviers</td>\n",
       "      <td>2</td>\n",
       "      <td>1032</td>\n",
       "      <td>826</td>\n",
       "      <td>80,04%</td>\n",
       "      <td>206</td>\n",
       "      <td>19,96%</td>\n",
       "      <td>820</td>\n",
       "      <td>4</td>\n",
       "      <td>...</td>\n",
       "      <td>0,61%</td>\n",
       "      <td>209</td>\n",
       "      <td>20,25%</td>\n",
       "      <td>25,49%</td>\n",
       "      <td>168</td>\n",
       "      <td>16,28%</td>\n",
       "      <td>20,49%</td>\n",
       "      <td>369.0</td>\n",
       "      <td>35,76%</td>\n",
       "      <td>45,00%</td>\n",
       "    </tr>\n",
       "    <tr>\n",
       "      <th>...</th>\n",
       "      <td>...</td>\n",
       "      <td>...</td>\n",
       "      <td>...</td>\n",
       "      <td>...</td>\n",
       "      <td>...</td>\n",
       "      <td>...</td>\n",
       "      <td>...</td>\n",
       "      <td>...</td>\n",
       "      <td>...</td>\n",
       "      <td>...</td>\n",
       "      <td>...</td>\n",
       "      <td>...</td>\n",
       "      <td>...</td>\n",
       "      <td>...</td>\n",
       "      <td>...</td>\n",
       "      <td>...</td>\n",
       "      <td>...</td>\n",
       "      <td>...</td>\n",
       "      <td>...</td>\n",
       "      <td>...</td>\n",
       "      <td>...</td>\n",
       "    </tr>\n",
       "    <tr>\n",
       "      <th>25462</th>\n",
       "      <td>38471</td>\n",
       "      <td>Le Sappey-en-Chartreuse</td>\n",
       "      <td>1</td>\n",
       "      <td>1009</td>\n",
       "      <td>841</td>\n",
       "      <td>83,35%</td>\n",
       "      <td>168</td>\n",
       "      <td>16,65%</td>\n",
       "      <td>832</td>\n",
       "      <td>8</td>\n",
       "      <td>...</td>\n",
       "      <td>1,32%</td>\n",
       "      <td>104</td>\n",
       "      <td>10,31%</td>\n",
       "      <td>12,50%</td>\n",
       "      <td>433</td>\n",
       "      <td>42,91%</td>\n",
       "      <td>52,04%</td>\n",
       "      <td>246.0</td>\n",
       "      <td>24,38%</td>\n",
       "      <td>29,57%</td>\n",
       "    </tr>\n",
       "    <tr>\n",
       "      <th>25540</th>\n",
       "      <td>38516</td>\n",
       "      <td>La Tronche</td>\n",
       "      <td>1</td>\n",
       "      <td>1070</td>\n",
       "      <td>771</td>\n",
       "      <td>72,06%</td>\n",
       "      <td>299</td>\n",
       "      <td>27,94%</td>\n",
       "      <td>759</td>\n",
       "      <td>11</td>\n",
       "      <td>...</td>\n",
       "      <td>1,19%</td>\n",
       "      <td>132</td>\n",
       "      <td>12,34%</td>\n",
       "      <td>17,39%</td>\n",
       "      <td>310</td>\n",
       "      <td>28,97%</td>\n",
       "      <td>40,84%</td>\n",
       "      <td>256.0</td>\n",
       "      <td>23,93%</td>\n",
       "      <td>33,73%</td>\n",
       "    </tr>\n",
       "    <tr>\n",
       "      <th>25541</th>\n",
       "      <td>38516</td>\n",
       "      <td>La Tronche</td>\n",
       "      <td>2</td>\n",
       "      <td>1103</td>\n",
       "      <td>906</td>\n",
       "      <td>82,14%</td>\n",
       "      <td>197</td>\n",
       "      <td>17,86%</td>\n",
       "      <td>889</td>\n",
       "      <td>12</td>\n",
       "      <td>...</td>\n",
       "      <td>0,56%</td>\n",
       "      <td>118</td>\n",
       "      <td>10,70%</td>\n",
       "      <td>13,27%</td>\n",
       "      <td>305</td>\n",
       "      <td>27,65%</td>\n",
       "      <td>34,31%</td>\n",
       "      <td>385.0</td>\n",
       "      <td>34,90%</td>\n",
       "      <td>43,31%</td>\n",
       "    </tr>\n",
       "    <tr>\n",
       "      <th>25542</th>\n",
       "      <td>38516</td>\n",
       "      <td>La Tronche</td>\n",
       "      <td>3</td>\n",
       "      <td>1069</td>\n",
       "      <td>769</td>\n",
       "      <td>71,94%</td>\n",
       "      <td>300</td>\n",
       "      <td>28,06%</td>\n",
       "      <td>766</td>\n",
       "      <td>3</td>\n",
       "      <td>...</td>\n",
       "      <td>0,78%</td>\n",
       "      <td>129</td>\n",
       "      <td>12,07%</td>\n",
       "      <td>16,84%</td>\n",
       "      <td>334</td>\n",
       "      <td>31,24%</td>\n",
       "      <td>43,60%</td>\n",
       "      <td>237.0</td>\n",
       "      <td>22,17%</td>\n",
       "      <td>30,94%</td>\n",
       "    </tr>\n",
       "    <tr>\n",
       "      <th>25543</th>\n",
       "      <td>38516</td>\n",
       "      <td>La Tronche</td>\n",
       "      <td>4</td>\n",
       "      <td>923</td>\n",
       "      <td>729</td>\n",
       "      <td>78,98%</td>\n",
       "      <td>194</td>\n",
       "      <td>21,02%</td>\n",
       "      <td>714</td>\n",
       "      <td>11</td>\n",
       "      <td>...</td>\n",
       "      <td>0,28%</td>\n",
       "      <td>126</td>\n",
       "      <td>13,65%</td>\n",
       "      <td>17,65%</td>\n",
       "      <td>303</td>\n",
       "      <td>32,83%</td>\n",
       "      <td>42,44%</td>\n",
       "      <td>225.0</td>\n",
       "      <td>24,38%</td>\n",
       "      <td>31,51%</td>\n",
       "    </tr>\n",
       "  </tbody>\n",
       "</table>\n",
       "<p>87 rows × 26 columns</p>\n",
       "</div>"
      ],
      "text/plain": [
       "      Code commune          Libellé commune Code BV  Inscrits_LegiT1  \\\n",
       "24667        38039                   Bernin       1              965   \n",
       "24668        38039                   Bernin       2              992   \n",
       "24669        38039                   Bernin       3              980   \n",
       "24676        38045                  Biviers       1             1036   \n",
       "24677        38045                  Biviers       2             1032   \n",
       "...            ...                      ...     ...              ...   \n",
       "25462        38471  Le Sappey-en-Chartreuse       1             1009   \n",
       "25540        38516               La Tronche       1             1070   \n",
       "25541        38516               La Tronche       2             1103   \n",
       "25542        38516               La Tronche       3             1069   \n",
       "25543        38516               La Tronche       4              923   \n",
       "\n",
       "       Votants_LegiT1 % Votants_LegiT1  Abstention_LegiT1  \\\n",
       "24667             754           78,13%                211   \n",
       "24668             778           78,43%                214   \n",
       "24669             745           76,02%                235   \n",
       "24676             845           81,56%                191   \n",
       "24677             826           80,04%                206   \n",
       "...               ...              ...                ...   \n",
       "25462             841           83,35%                168   \n",
       "25540             771           72,06%                299   \n",
       "25541             906           82,14%                197   \n",
       "25542             769           71,94%                300   \n",
       "25543             729           78,98%                194   \n",
       "\n",
       "      % Abstentions_LegiT1  Exprimés_LegiT1  Blancs_LegiT1  ...  \\\n",
       "24667               21,87%              741             10  ...   \n",
       "24668               21,57%              771              4  ...   \n",
       "24669               23,98%              738              4  ...   \n",
       "24676               18,44%              837              7  ...   \n",
       "24677               19,96%              820              4  ...   \n",
       "...                    ...              ...            ...  ...   \n",
       "25462               16,65%              832              8  ...   \n",
       "25540               27,94%              759             11  ...   \n",
       "25541               17,86%              889             12  ...   \n",
       "25542               28,06%              766              3  ...   \n",
       "25543               21,02%              714             11  ...   \n",
       "\n",
       "       % VEXP_LO_LegiT1  Voix_UXD_LegiT1 % VINSC_UXD_LegiT1 % VEXP_UXD_LegiT1  \\\n",
       "24667             1,89%              163             16,89%            22,00%   \n",
       "24668             0,78%              162             16,33%            21,01%   \n",
       "24669             0,54%              189             19,29%            25,61%   \n",
       "24676             0,12%              166             16,02%            19,83%   \n",
       "24677             0,61%              209             20,25%            25,49%   \n",
       "...                 ...              ...                ...               ...   \n",
       "25462             1,32%              104             10,31%            12,50%   \n",
       "25540             1,19%              132             12,34%            17,39%   \n",
       "25541             0,56%              118             10,70%            13,27%   \n",
       "25542             0,78%              129             12,07%            16,84%   \n",
       "25543             0,28%              126             13,65%            17,65%   \n",
       "\n",
       "       Voix_UG_LegiT1 % VINSC_UG_LegiT1 % VEXP_UG_LegiT1  Voix_LREM_LegiT1  \\\n",
       "24667             186            19,27%           25,10%             331.0   \n",
       "24668             197            19,86%           25,55%             334.0   \n",
       "24669             185            18,88%           25,07%             310.0   \n",
       "24676             164            15,83%           19,59%             419.0   \n",
       "24677             168            16,28%           20,49%             369.0   \n",
       "...               ...               ...              ...               ...   \n",
       "25462             433            42,91%           52,04%             246.0   \n",
       "25540             310            28,97%           40,84%             256.0   \n",
       "25541             305            27,65%           34,31%             385.0   \n",
       "25542             334            31,24%           43,60%             237.0   \n",
       "25543             303            32,83%           42,44%             225.0   \n",
       "\n",
       "      % VINSC_LREM_LegiT1 % VEXP_LREM_LegiT1  \n",
       "24667              34,30%             44,67%  \n",
       "24668              33,67%             43,32%  \n",
       "24669              31,63%             42,01%  \n",
       "24676              40,44%             50,06%  \n",
       "24677              35,76%             45,00%  \n",
       "...                   ...                ...  \n",
       "25462              24,38%             29,57%  \n",
       "25540              23,93%             33,73%  \n",
       "25541              34,90%             43,31%  \n",
       "25542              22,17%             30,94%  \n",
       "25543              24,38%             31,51%  \n",
       "\n",
       "[87 rows x 26 columns]"
      ]
     },
     "execution_count": 229,
     "metadata": {},
     "output_type": "execute_result"
    }
   ],
   "source": [
    "legit1_final"
   ]
  },
  {
   "cell_type": "code",
   "execution_count": 230,
   "id": "3569420a-ba6f-4d7a-9829-d55a0945634e",
   "metadata": {},
   "outputs": [
    {
     "data": {
      "text/plain": [
       "Index(['Code département', 'Libellé département', 'Code commune',\n",
       "       'Libellé commune', 'Code BV', 'Inscrits', 'Votants', '% Votants',\n",
       "       'Abstentions', '% Abstentions', 'Exprimés', '% Exprimés/inscrits',\n",
       "       '% Exprimés/votants', 'Blancs', '% Blancs/inscrits', '% Blancs/votants',\n",
       "       'Nuls', '% Nuls/inscrits', '% Nuls/votants', 'Numéro de panneau 1',\n",
       "       'Nuance candidat 1', 'Nom candidat 1', 'Prénom candidat 1',\n",
       "       'Sexe candidat 1', 'Voix 1', '% Voix/inscrits 1', '% Voix/exprimés 1',\n",
       "       'Numéro de panneau 2', 'Nuance candidat 2', 'Nom candidat 2',\n",
       "       'Prénom candidat 2', 'Sexe candidat 2', 'Voix 2', '% Voix/inscrits 2',\n",
       "       '% Voix/exprimés 2', 'Elu 2', 'Numéro de panneau 3',\n",
       "       'Nuance candidat 3', 'Nom candidat 3', 'Prénom candidat 3',\n",
       "       'Sexe candidat 3', 'Voix 3', '% Voix/inscrits 3', '% Voix/exprimés 3'],\n",
       "      dtype='object')"
      ]
     },
     "execution_count": 230,
     "metadata": {},
     "output_type": "execute_result"
    }
   ],
   "source": [
    "legi24T2_C1 = legi24T2_C1.dropna(how='all', inplace=False, axis=1)\n",
    "legi24T2_C1.columns"
   ]
  },
  {
   "cell_type": "code",
   "execution_count": 231,
   "id": "2ace271e-4cc0-4471-bb35-92d28c4bcf67",
   "metadata": {},
   "outputs": [],
   "source": [
    "legit2_final = pd.DataFrame({\n",
    "    'Code commune' : legi24T2_C1['Code commune'],\n",
    "    'Code BV' : legi24T2_C1['Code BV'],\n",
    "    'Inscrits_LegiT2' : legi24T2_C1['Inscrits'], \n",
    "    'Votants_LegiT2' : legi24T2_C1['Votants'], \n",
    "    '% Votants_LegiT2' : legi24T2_C1['% Votants'], \n",
    "    'Abstention_LegiT2' : legi24T2_C1['Abstentions'], \n",
    "    '% Abstentions_LegiT2' : legi24T2_C1['% Abstentions'],\n",
    "    'Exprimés_LegiT2' : legi24T2_C1['Exprimés'],\n",
    "    'Blancs_LegiT2' : legi24T2_C1['Blancs'],\n",
    "    'Nuls_LegiT2' : legi24T2_C1['Nuls'],\n",
    "    'Voix_LREM_LegiT2' : legi24T2_C1['Voix 3'], \n",
    "    '% VINSC_LREM_LegiT2' : legi24T2_C1['% Voix/inscrits 3'], \n",
    "    '% VEXP_LREM_LegiT2' : legi24T2_C1['% Voix/exprimés 3'], \n",
    "     'Voix_UG_LegiT2' : legi24T2_C1['Voix 2'], \n",
    "    '% VINSC_UG_LegiT2' : legi24T2_C1['% Voix/inscrits 2'], \n",
    "    '% VEXP_UG_LegiT2' : legi24T2_C1['% Voix/exprimés 2'], \n",
    "     'Voix_UXD_LegiT2' : legi24T2_C1['Voix 1'], \n",
    "    '% VINSC_UXD_LegiT2' : legi24T2_C1['% Voix/inscrits 1'], \n",
    "    '% VEXP_UXD_LegiT2' : legi24T2_C1['% Voix/exprimés 1'], \n",
    "})"
   ]
  },
  {
   "cell_type": "code",
   "execution_count": 232,
   "id": "155fa9e8-af2a-471e-931e-3e1996476cad",
   "metadata": {},
   "outputs": [
    {
     "data": {
      "text/html": [
       "<div>\n",
       "<style scoped>\n",
       "    .dataframe tbody tr th:only-of-type {\n",
       "        vertical-align: middle;\n",
       "    }\n",
       "\n",
       "    .dataframe tbody tr th {\n",
       "        vertical-align: top;\n",
       "    }\n",
       "\n",
       "    .dataframe thead th {\n",
       "        text-align: right;\n",
       "    }\n",
       "</style>\n",
       "<table border=\"1\" class=\"dataframe\">\n",
       "  <thead>\n",
       "    <tr style=\"text-align: right;\">\n",
       "      <th></th>\n",
       "      <th>Code commune</th>\n",
       "      <th>Code BV</th>\n",
       "      <th>Inscrits_LegiT2</th>\n",
       "      <th>Votants_LegiT2</th>\n",
       "      <th>% Votants_LegiT2</th>\n",
       "      <th>Abstention_LegiT2</th>\n",
       "      <th>% Abstentions_LegiT2</th>\n",
       "      <th>Exprimés_LegiT2</th>\n",
       "      <th>Blancs_LegiT2</th>\n",
       "      <th>Nuls_LegiT2</th>\n",
       "      <th>Voix_LREM_LegiT2</th>\n",
       "      <th>% VINSC_LREM_LegiT2</th>\n",
       "      <th>% VEXP_LREM_LegiT2</th>\n",
       "      <th>Voix_UG_LegiT2</th>\n",
       "      <th>% VINSC_UG_LegiT2</th>\n",
       "      <th>% VEXP_UG_LegiT2</th>\n",
       "      <th>Voix_UXD_LegiT2</th>\n",
       "      <th>% VINSC_UXD_LegiT2</th>\n",
       "      <th>% VEXP_UXD_LegiT2</th>\n",
       "    </tr>\n",
       "  </thead>\n",
       "  <tbody>\n",
       "    <tr>\n",
       "      <th>22263</th>\n",
       "      <td>38039</td>\n",
       "      <td>1</td>\n",
       "      <td>965</td>\n",
       "      <td>739</td>\n",
       "      <td>76,58%</td>\n",
       "      <td>226</td>\n",
       "      <td>23,42%</td>\n",
       "      <td>720</td>\n",
       "      <td>16</td>\n",
       "      <td>3</td>\n",
       "      <td>377.0</td>\n",
       "      <td>39,07%</td>\n",
       "      <td>52,36%</td>\n",
       "      <td>193.0</td>\n",
       "      <td>20,00%</td>\n",
       "      <td>26,81%</td>\n",
       "      <td>150</td>\n",
       "      <td>15,54%</td>\n",
       "      <td>20,83%</td>\n",
       "    </tr>\n",
       "    <tr>\n",
       "      <th>22264</th>\n",
       "      <td>38039</td>\n",
       "      <td>2</td>\n",
       "      <td>992</td>\n",
       "      <td>804</td>\n",
       "      <td>81,05%</td>\n",
       "      <td>188</td>\n",
       "      <td>18,95%</td>\n",
       "      <td>791</td>\n",
       "      <td>8</td>\n",
       "      <td>5</td>\n",
       "      <td>425.0</td>\n",
       "      <td>42,84%</td>\n",
       "      <td>53,73%</td>\n",
       "      <td>206.0</td>\n",
       "      <td>20,77%</td>\n",
       "      <td>26,04%</td>\n",
       "      <td>160</td>\n",
       "      <td>16,13%</td>\n",
       "      <td>20,23%</td>\n",
       "    </tr>\n",
       "    <tr>\n",
       "      <th>22265</th>\n",
       "      <td>38039</td>\n",
       "      <td>3</td>\n",
       "      <td>980</td>\n",
       "      <td>741</td>\n",
       "      <td>75,61%</td>\n",
       "      <td>239</td>\n",
       "      <td>24,39%</td>\n",
       "      <td>727</td>\n",
       "      <td>10</td>\n",
       "      <td>4</td>\n",
       "      <td>357.0</td>\n",
       "      <td>36,43%</td>\n",
       "      <td>49,11%</td>\n",
       "      <td>188.0</td>\n",
       "      <td>19,18%</td>\n",
       "      <td>25,86%</td>\n",
       "      <td>182</td>\n",
       "      <td>18,57%</td>\n",
       "      <td>25,03%</td>\n",
       "    </tr>\n",
       "    <tr>\n",
       "      <th>22272</th>\n",
       "      <td>38045</td>\n",
       "      <td>1</td>\n",
       "      <td>1037</td>\n",
       "      <td>844</td>\n",
       "      <td>81,39%</td>\n",
       "      <td>193</td>\n",
       "      <td>18,61%</td>\n",
       "      <td>835</td>\n",
       "      <td>7</td>\n",
       "      <td>2</td>\n",
       "      <td>501.0</td>\n",
       "      <td>48,31%</td>\n",
       "      <td>60,00%</td>\n",
       "      <td>166.0</td>\n",
       "      <td>16,01%</td>\n",
       "      <td>19,88%</td>\n",
       "      <td>168</td>\n",
       "      <td>16,20%</td>\n",
       "      <td>20,12%</td>\n",
       "    </tr>\n",
       "    <tr>\n",
       "      <th>22273</th>\n",
       "      <td>38045</td>\n",
       "      <td>2</td>\n",
       "      <td>1032</td>\n",
       "      <td>822</td>\n",
       "      <td>79,65%</td>\n",
       "      <td>210</td>\n",
       "      <td>20,35%</td>\n",
       "      <td>815</td>\n",
       "      <td>5</td>\n",
       "      <td>2</td>\n",
       "      <td>452.0</td>\n",
       "      <td>43,80%</td>\n",
       "      <td>55,46%</td>\n",
       "      <td>168.0</td>\n",
       "      <td>16,28%</td>\n",
       "      <td>20,61%</td>\n",
       "      <td>195</td>\n",
       "      <td>18,90%</td>\n",
       "      <td>23,93%</td>\n",
       "    </tr>\n",
       "    <tr>\n",
       "      <th>...</th>\n",
       "      <td>...</td>\n",
       "      <td>...</td>\n",
       "      <td>...</td>\n",
       "      <td>...</td>\n",
       "      <td>...</td>\n",
       "      <td>...</td>\n",
       "      <td>...</td>\n",
       "      <td>...</td>\n",
       "      <td>...</td>\n",
       "      <td>...</td>\n",
       "      <td>...</td>\n",
       "      <td>...</td>\n",
       "      <td>...</td>\n",
       "      <td>...</td>\n",
       "      <td>...</td>\n",
       "      <td>...</td>\n",
       "      <td>...</td>\n",
       "      <td>...</td>\n",
       "      <td>...</td>\n",
       "    </tr>\n",
       "    <tr>\n",
       "      <th>23058</th>\n",
       "      <td>38471</td>\n",
       "      <td>1</td>\n",
       "      <td>1010</td>\n",
       "      <td>854</td>\n",
       "      <td>84,55%</td>\n",
       "      <td>156</td>\n",
       "      <td>15,45%</td>\n",
       "      <td>841</td>\n",
       "      <td>12</td>\n",
       "      <td>1</td>\n",
       "      <td>285.0</td>\n",
       "      <td>28,22%</td>\n",
       "      <td>33,89%</td>\n",
       "      <td>440.0</td>\n",
       "      <td>43,56%</td>\n",
       "      <td>52,32%</td>\n",
       "      <td>116</td>\n",
       "      <td>11,49%</td>\n",
       "      <td>13,79%</td>\n",
       "    </tr>\n",
       "    <tr>\n",
       "      <th>23136</th>\n",
       "      <td>38516</td>\n",
       "      <td>1</td>\n",
       "      <td>1070</td>\n",
       "      <td>758</td>\n",
       "      <td>70,84%</td>\n",
       "      <td>312</td>\n",
       "      <td>29,16%</td>\n",
       "      <td>741</td>\n",
       "      <td>5</td>\n",
       "      <td>12</td>\n",
       "      <td>305.0</td>\n",
       "      <td>28,50%</td>\n",
       "      <td>41,16%</td>\n",
       "      <td>327.0</td>\n",
       "      <td>30,56%</td>\n",
       "      <td>44,13%</td>\n",
       "      <td>109</td>\n",
       "      <td>10,19%</td>\n",
       "      <td>14,71%</td>\n",
       "    </tr>\n",
       "    <tr>\n",
       "      <th>23137</th>\n",
       "      <td>38516</td>\n",
       "      <td>2</td>\n",
       "      <td>1103</td>\n",
       "      <td>906</td>\n",
       "      <td>82,14%</td>\n",
       "      <td>197</td>\n",
       "      <td>17,86%</td>\n",
       "      <td>889</td>\n",
       "      <td>16</td>\n",
       "      <td>1</td>\n",
       "      <td>467.0</td>\n",
       "      <td>42,34%</td>\n",
       "      <td>52,53%</td>\n",
       "      <td>318.0</td>\n",
       "      <td>28,83%</td>\n",
       "      <td>35,77%</td>\n",
       "      <td>104</td>\n",
       "      <td>9,43%</td>\n",
       "      <td>11,70%</td>\n",
       "    </tr>\n",
       "    <tr>\n",
       "      <th>23138</th>\n",
       "      <td>38516</td>\n",
       "      <td>3</td>\n",
       "      <td>1068</td>\n",
       "      <td>763</td>\n",
       "      <td>71,44%</td>\n",
       "      <td>305</td>\n",
       "      <td>28,56%</td>\n",
       "      <td>751</td>\n",
       "      <td>9</td>\n",
       "      <td>3</td>\n",
       "      <td>288.0</td>\n",
       "      <td>26,97%</td>\n",
       "      <td>38,35%</td>\n",
       "      <td>334.0</td>\n",
       "      <td>31,27%</td>\n",
       "      <td>44,47%</td>\n",
       "      <td>129</td>\n",
       "      <td>12,08%</td>\n",
       "      <td>17,18%</td>\n",
       "    </tr>\n",
       "    <tr>\n",
       "      <th>23139</th>\n",
       "      <td>38516</td>\n",
       "      <td>4</td>\n",
       "      <td>923</td>\n",
       "      <td>726</td>\n",
       "      <td>78,66%</td>\n",
       "      <td>197</td>\n",
       "      <td>21,34%</td>\n",
       "      <td>710</td>\n",
       "      <td>15</td>\n",
       "      <td>1</td>\n",
       "      <td>279.0</td>\n",
       "      <td>30,23%</td>\n",
       "      <td>39,30%</td>\n",
       "      <td>301.0</td>\n",
       "      <td>32,61%</td>\n",
       "      <td>42,39%</td>\n",
       "      <td>130</td>\n",
       "      <td>14,08%</td>\n",
       "      <td>18,31%</td>\n",
       "    </tr>\n",
       "  </tbody>\n",
       "</table>\n",
       "<p>87 rows × 19 columns</p>\n",
       "</div>"
      ],
      "text/plain": [
       "      Code commune  Code BV  Inscrits_LegiT2  Votants_LegiT2 % Votants_LegiT2  \\\n",
       "22263        38039        1              965             739           76,58%   \n",
       "22264        38039        2              992             804           81,05%   \n",
       "22265        38039        3              980             741           75,61%   \n",
       "22272        38045        1             1037             844           81,39%   \n",
       "22273        38045        2             1032             822           79,65%   \n",
       "...            ...      ...              ...             ...              ...   \n",
       "23058        38471        1             1010             854           84,55%   \n",
       "23136        38516        1             1070             758           70,84%   \n",
       "23137        38516        2             1103             906           82,14%   \n",
       "23138        38516        3             1068             763           71,44%   \n",
       "23139        38516        4              923             726           78,66%   \n",
       "\n",
       "       Abstention_LegiT2 % Abstentions_LegiT2  Exprimés_LegiT2  Blancs_LegiT2  \\\n",
       "22263                226               23,42%              720             16   \n",
       "22264                188               18,95%              791              8   \n",
       "22265                239               24,39%              727             10   \n",
       "22272                193               18,61%              835              7   \n",
       "22273                210               20,35%              815              5   \n",
       "...                  ...                  ...              ...            ...   \n",
       "23058                156               15,45%              841             12   \n",
       "23136                312               29,16%              741              5   \n",
       "23137                197               17,86%              889             16   \n",
       "23138                305               28,56%              751              9   \n",
       "23139                197               21,34%              710             15   \n",
       "\n",
       "       Nuls_LegiT2  Voix_LREM_LegiT2 % VINSC_LREM_LegiT2 % VEXP_LREM_LegiT2  \\\n",
       "22263            3             377.0              39,07%             52,36%   \n",
       "22264            5             425.0              42,84%             53,73%   \n",
       "22265            4             357.0              36,43%             49,11%   \n",
       "22272            2             501.0              48,31%             60,00%   \n",
       "22273            2             452.0              43,80%             55,46%   \n",
       "...            ...               ...                 ...                ...   \n",
       "23058            1             285.0              28,22%             33,89%   \n",
       "23136           12             305.0              28,50%             41,16%   \n",
       "23137            1             467.0              42,34%             52,53%   \n",
       "23138            3             288.0              26,97%             38,35%   \n",
       "23139            1             279.0              30,23%             39,30%   \n",
       "\n",
       "       Voix_UG_LegiT2 % VINSC_UG_LegiT2 % VEXP_UG_LegiT2  Voix_UXD_LegiT2  \\\n",
       "22263           193.0            20,00%           26,81%              150   \n",
       "22264           206.0            20,77%           26,04%              160   \n",
       "22265           188.0            19,18%           25,86%              182   \n",
       "22272           166.0            16,01%           19,88%              168   \n",
       "22273           168.0            16,28%           20,61%              195   \n",
       "...               ...               ...              ...              ...   \n",
       "23058           440.0            43,56%           52,32%              116   \n",
       "23136           327.0            30,56%           44,13%              109   \n",
       "23137           318.0            28,83%           35,77%              104   \n",
       "23138           334.0            31,27%           44,47%              129   \n",
       "23139           301.0            32,61%           42,39%              130   \n",
       "\n",
       "      % VINSC_UXD_LegiT2 % VEXP_UXD_LegiT2  \n",
       "22263             15,54%            20,83%  \n",
       "22264             16,13%            20,23%  \n",
       "22265             18,57%            25,03%  \n",
       "22272             16,20%            20,12%  \n",
       "22273             18,90%            23,93%  \n",
       "...                  ...               ...  \n",
       "23058             11,49%            13,79%  \n",
       "23136             10,19%            14,71%  \n",
       "23137              9,43%            11,70%  \n",
       "23138             12,08%            17,18%  \n",
       "23139             14,08%            18,31%  \n",
       "\n",
       "[87 rows x 19 columns]"
      ]
     },
     "execution_count": 232,
     "metadata": {},
     "output_type": "execute_result"
    }
   ],
   "source": [
    "legit2_final"
   ]
  },
  {
   "cell_type": "markdown",
   "id": "0cb41d9d-711d-4107-81c9-08973f1074e8",
   "metadata": {},
   "source": [
    "Nous allons vérifier que chaque base de donnée renvoie les bons scores pour voir si on a pas fait d'erreur\n",
    "\n",
    "Sources européennes : https://www.lemonde.fr/les-decodeurs/article/2024/06/12/en-cartes-les-resultats-des-europeennes-projetes-dans-les-577-circonscriptions-legislatives_6239173_4355770.html\n",
    "\n",
    "Législatives : https://www.ouest-france.fr/elections/resultats/isere/1ere-circonscription/"
   ]
  },
  {
   "cell_type": "code",
   "execution_count": 233,
   "id": "a3f29425-35c3-4755-8f6b-4129df94d568",
   "metadata": {},
   "outputs": [
    {
     "name": "stdout",
     "output_type": "stream",
     "text": [
      "Place Publique: 11279\n",
      "Renaissance: 9288\n",
      "RN: 7626\n",
      "LFI: 7116\n",
      "EELV: 6298\n"
     ]
    }
   ],
   "source": [
    "#vérification européennes\n",
    "Total = euro_final[\"Voix_PP_Euro\"].sum()\n",
    "print(\"Place Publique:\", Total)\n",
    "Total = euro_final[\"Voix_LREM_Euro\"].sum()\n",
    "print(\"Renaissance:\", Total)\n",
    "Total = euro_final[\"Voix_RN_Euro\"].sum()\n",
    "print(\"RN:\", Total)\n",
    "Total = euro_final[\"Voix_LFI_Euro\"].sum()\n",
    "print(\"LFI:\", Total)\n",
    "Total = euro_final[\"Voix_EELV_Euro\"].sum()\n",
    "print(\"EELV:\", Total)"
   ]
  },
  {
   "cell_type": "code",
   "execution_count": 234,
   "id": "09f1359d-cfd7-444c-8a55-5dea87872dd1",
   "metadata": {},
   "outputs": [
    {
     "name": "stdout",
     "output_type": "stream",
     "text": [
      "NFP: 25207\n",
      "LREM: 21089.0\n",
      "UXD: 11504\n",
      "LR: 4379\n",
      "LO: 541\n"
     ]
    }
   ],
   "source": [
    "#Vérification T1 législatives\n",
    "Total = legit1_final[\"Voix_UG_LegiT1\"].sum()\n",
    "print(\"NFP:\", Total)\n",
    "Total = legit1_final[\"Voix_LREM_LegiT1\"].sum()\n",
    "print(\"LREM:\", Total)\n",
    "Total = legit1_final[\"Voix_UXD_LegiT1\"].sum()\n",
    "print(\"UXD:\", Total)\n",
    "Total = legit1_final[\"Voix_LR_LegiT1\"].sum()\n",
    "print(\"LR:\", Total)\n",
    "Total = legit1_final[\"Voix_LO_LegiT1\"].sum()\n",
    "print(\"LO:\", Total)"
   ]
  },
  {
   "cell_type": "code",
   "execution_count": 235,
   "id": "8498f091-e1a0-4587-aa8a-a1e8ca879984",
   "metadata": {},
   "outputs": [
    {
     "name": "stdout",
     "output_type": "stream",
     "text": [
      "NFP: 26438.0\n",
      "LREM: 25120.0\n",
      "UXD: 10865\n"
     ]
    }
   ],
   "source": [
    "#Vérification T2 législatives\n",
    "Total = legit2_final[\"Voix_UG_LegiT2\"].sum()\n",
    "print(\"NFP:\", Total)\n",
    "Total = legit2_final[\"Voix_LREM_LegiT2\"].sum()\n",
    "print(\"LREM:\", Total)\n",
    "Total = legit2_final[\"Voix_UXD_LegiT2\"].sum()\n",
    "print(\"UXD:\", Total)"
   ]
  },
  {
   "cell_type": "markdown",
   "id": "b83e0a02-d91a-490d-b995-f9c152d478e9",
   "metadata": {},
   "source": [
    "Nous allons créer un code unique de bureau de vote (reposant sur la fusion des codes communes et des numéros de bureau) afin de fusionner les résultats des bureaux de vote dans une même base de données."
   ]
  },
  {
   "cell_type": "code",
   "execution_count": 236,
   "id": "a3b59226-3206-41c9-ae2e-92940727f504",
   "metadata": {},
   "outputs": [],
   "source": [
    "#Adaptation pour des codes à 4 chiffres de numéro de bureau de vote\n",
    "legit1_final['Code BV'] = legit1_final['Code BV'].astype(str).str.zfill(4)\n",
    "legit2_final['Code BV'] = legit2_final['Code BV'].astype(str).str.zfill(4)\n",
    "euro_final['Code BV'] = euro_final['Code BV'].astype(str).str.zfill(4)\n",
    "\n",
    "#Conversion des colonnes en chaines de caractères des codes communes et numéro de bureveau de vote\n",
    "legit1_final['Code BV'] = legit1_final['Code BV'].astype(str)\n",
    "legit1_final['Code commune'] = legit1_final['Code commune'].astype(str)\n",
    "legit2_final['Code BV'] = legit2_final['Code BV'].astype(str)\n",
    "legit2_final['Code commune'] = legit2_final['Code commune'].astype(str)\n",
    "euro_final['Code BV'] = euro_final['Code BV'].astype(str)\n",
    "euro_final['Code commune'] = euro_final['Code commune'].astype(str)\n",
    "\n",
    "#On somme les chaines de caractère pour créer un identifiant unique\n",
    "legit1_final['id_bv'] = legit1_final['Code commune'].astype(str) + legit1_final['Code BV'].astype(str)\n",
    "legit2_final['id_bv'] = legit2_final['Code commune'].astype(str) + legit2_final['Code BV'].astype(str)\n",
    "euro_final['id_bv'] = euro_final['Code commune'].astype(str) + euro_final['Code BV'].astype(str)"
   ]
  },
  {
   "cell_type": "code",
   "execution_count": 237,
   "id": "f419fa19-31fd-43bc-8efb-01516f3c2a21",
   "metadata": {},
   "outputs": [],
   "source": [
    "#Jointures \n",
    "final_df = pd.merge(legit1_final, legit2_final, on='id_bv')\n",
    "final_df = final_df.merge(euro_final, on='id_bv')"
   ]
  },
  {
   "cell_type": "code",
   "execution_count": 238,
   "id": "1fcf877e-c9b7-4bb3-966b-546a4c9c0bdc",
   "metadata": {},
   "outputs": [
    {
     "data": {
      "text/html": [
       "<div>\n",
       "<style scoped>\n",
       "    .dataframe tbody tr th:only-of-type {\n",
       "        vertical-align: middle;\n",
       "    }\n",
       "\n",
       "    .dataframe tbody tr th {\n",
       "        vertical-align: top;\n",
       "    }\n",
       "\n",
       "    .dataframe thead th {\n",
       "        text-align: right;\n",
       "    }\n",
       "</style>\n",
       "<table border=\"1\" class=\"dataframe\">\n",
       "  <thead>\n",
       "    <tr style=\"text-align: right;\">\n",
       "      <th></th>\n",
       "      <th>Libellé commune</th>\n",
       "      <th>Inscrits_LegiT1</th>\n",
       "      <th>Votants_LegiT1</th>\n",
       "      <th>% Votants_LegiT1</th>\n",
       "      <th>Abstention_LegiT1</th>\n",
       "      <th>% Abstentions_LegiT1</th>\n",
       "      <th>Exprimés_LegiT1</th>\n",
       "      <th>Blancs_LegiT1</th>\n",
       "      <th>Nuls_LegiT1</th>\n",
       "      <th>Voix_LR_LegiT1</th>\n",
       "      <th>...</th>\n",
       "      <th>% VEXP_PHIL_Euro</th>\n",
       "      <th>Voix_PP_Euro</th>\n",
       "      <th>% VINSC_PP_Euro</th>\n",
       "      <th>% VEXP_PP_Euro</th>\n",
       "      <th>Voix_PCF_Euro</th>\n",
       "      <th>% VINSC_PCF_Euro</th>\n",
       "      <th>% VEXP_PCF_Euro</th>\n",
       "      <th>Voix_ECOC_Euro</th>\n",
       "      <th>% VINSC_ECOC_Euro</th>\n",
       "      <th>% VEXP_ECOC_Euro</th>\n",
       "    </tr>\n",
       "  </thead>\n",
       "  <tbody>\n",
       "    <tr>\n",
       "      <th>0</th>\n",
       "      <td>Bernin</td>\n",
       "      <td>965</td>\n",
       "      <td>754</td>\n",
       "      <td>78,13%</td>\n",
       "      <td>211</td>\n",
       "      <td>21,87%</td>\n",
       "      <td>741</td>\n",
       "      <td>10</td>\n",
       "      <td>3</td>\n",
       "      <td>47</td>\n",
       "      <td>...</td>\n",
       "      <td>1,33%</td>\n",
       "      <td>133</td>\n",
       "      <td>13,67%</td>\n",
       "      <td>22,17%</td>\n",
       "      <td>4</td>\n",
       "      <td>0,41%</td>\n",
       "      <td>0,67%</td>\n",
       "      <td>16</td>\n",
       "      <td>1,64%</td>\n",
       "      <td>2,67%</td>\n",
       "    </tr>\n",
       "    <tr>\n",
       "      <th>1</th>\n",
       "      <td>Bernin</td>\n",
       "      <td>992</td>\n",
       "      <td>778</td>\n",
       "      <td>78,43%</td>\n",
       "      <td>214</td>\n",
       "      <td>21,57%</td>\n",
       "      <td>771</td>\n",
       "      <td>4</td>\n",
       "      <td>3</td>\n",
       "      <td>72</td>\n",
       "      <td>...</td>\n",
       "      <td>1,47%</td>\n",
       "      <td>139</td>\n",
       "      <td>13,96%</td>\n",
       "      <td>22,75%</td>\n",
       "      <td>3</td>\n",
       "      <td>0,30%</td>\n",
       "      <td>0,49%</td>\n",
       "      <td>9</td>\n",
       "      <td>0,90%</td>\n",
       "      <td>1,47%</td>\n",
       "    </tr>\n",
       "    <tr>\n",
       "      <th>2</th>\n",
       "      <td>Bernin</td>\n",
       "      <td>980</td>\n",
       "      <td>745</td>\n",
       "      <td>76,02%</td>\n",
       "      <td>235</td>\n",
       "      <td>23,98%</td>\n",
       "      <td>738</td>\n",
       "      <td>4</td>\n",
       "      <td>3</td>\n",
       "      <td>50</td>\n",
       "      <td>...</td>\n",
       "      <td>0,65%</td>\n",
       "      <td>126</td>\n",
       "      <td>12,75%</td>\n",
       "      <td>20,42%</td>\n",
       "      <td>4</td>\n",
       "      <td>0,40%</td>\n",
       "      <td>0,65%</td>\n",
       "      <td>11</td>\n",
       "      <td>1,11%</td>\n",
       "      <td>1,78%</td>\n",
       "    </tr>\n",
       "    <tr>\n",
       "      <th>3</th>\n",
       "      <td>Biviers</td>\n",
       "      <td>1036</td>\n",
       "      <td>845</td>\n",
       "      <td>81,56%</td>\n",
       "      <td>191</td>\n",
       "      <td>18,44%</td>\n",
       "      <td>837</td>\n",
       "      <td>7</td>\n",
       "      <td>1</td>\n",
       "      <td>87</td>\n",
       "      <td>...</td>\n",
       "      <td>0,40%</td>\n",
       "      <td>140</td>\n",
       "      <td>13,50%</td>\n",
       "      <td>18,69%</td>\n",
       "      <td>4</td>\n",
       "      <td>0,39%</td>\n",
       "      <td>0,53%</td>\n",
       "      <td>12</td>\n",
       "      <td>1,16%</td>\n",
       "      <td>1,60%</td>\n",
       "    </tr>\n",
       "    <tr>\n",
       "      <th>4</th>\n",
       "      <td>Biviers</td>\n",
       "      <td>1032</td>\n",
       "      <td>826</td>\n",
       "      <td>80,04%</td>\n",
       "      <td>206</td>\n",
       "      <td>19,96%</td>\n",
       "      <td>820</td>\n",
       "      <td>4</td>\n",
       "      <td>2</td>\n",
       "      <td>69</td>\n",
       "      <td>...</td>\n",
       "      <td>1,00%</td>\n",
       "      <td>135</td>\n",
       "      <td>13,07%</td>\n",
       "      <td>19,23%</td>\n",
       "      <td>6</td>\n",
       "      <td>0,58%</td>\n",
       "      <td>0,85%</td>\n",
       "      <td>3</td>\n",
       "      <td>0,29%</td>\n",
       "      <td>0,43%</td>\n",
       "    </tr>\n",
       "    <tr>\n",
       "      <th>...</th>\n",
       "      <td>...</td>\n",
       "      <td>...</td>\n",
       "      <td>...</td>\n",
       "      <td>...</td>\n",
       "      <td>...</td>\n",
       "      <td>...</td>\n",
       "      <td>...</td>\n",
       "      <td>...</td>\n",
       "      <td>...</td>\n",
       "      <td>...</td>\n",
       "      <td>...</td>\n",
       "      <td>...</td>\n",
       "      <td>...</td>\n",
       "      <td>...</td>\n",
       "      <td>...</td>\n",
       "      <td>...</td>\n",
       "      <td>...</td>\n",
       "      <td>...</td>\n",
       "      <td>...</td>\n",
       "      <td>...</td>\n",
       "      <td>...</td>\n",
       "    </tr>\n",
       "    <tr>\n",
       "      <th>82</th>\n",
       "      <td>Le Sappey-en-Chartreuse</td>\n",
       "      <td>1009</td>\n",
       "      <td>841</td>\n",
       "      <td>83,35%</td>\n",
       "      <td>168</td>\n",
       "      <td>16,65%</td>\n",
       "      <td>832</td>\n",
       "      <td>8</td>\n",
       "      <td>1</td>\n",
       "      <td>38</td>\n",
       "      <td>...</td>\n",
       "      <td>0,56%</td>\n",
       "      <td>170</td>\n",
       "      <td>16,63%</td>\n",
       "      <td>23,78%</td>\n",
       "      <td>4</td>\n",
       "      <td>0,39%</td>\n",
       "      <td>0,56%</td>\n",
       "      <td>15</td>\n",
       "      <td>1,47%</td>\n",
       "      <td>2,10%</td>\n",
       "    </tr>\n",
       "    <tr>\n",
       "      <th>83</th>\n",
       "      <td>La Tronche</td>\n",
       "      <td>1070</td>\n",
       "      <td>771</td>\n",
       "      <td>72,06%</td>\n",
       "      <td>299</td>\n",
       "      <td>27,94%</td>\n",
       "      <td>759</td>\n",
       "      <td>11</td>\n",
       "      <td>1</td>\n",
       "      <td>52</td>\n",
       "      <td>...</td>\n",
       "      <td>0,95%</td>\n",
       "      <td>125</td>\n",
       "      <td>11,74%</td>\n",
       "      <td>19,78%</td>\n",
       "      <td>3</td>\n",
       "      <td>0,28%</td>\n",
       "      <td>0,47%</td>\n",
       "      <td>6</td>\n",
       "      <td>0,56%</td>\n",
       "      <td>0,95%</td>\n",
       "    </tr>\n",
       "    <tr>\n",
       "      <th>84</th>\n",
       "      <td>La Tronche</td>\n",
       "      <td>1103</td>\n",
       "      <td>906</td>\n",
       "      <td>82,14%</td>\n",
       "      <td>197</td>\n",
       "      <td>17,86%</td>\n",
       "      <td>889</td>\n",
       "      <td>12</td>\n",
       "      <td>5</td>\n",
       "      <td>76</td>\n",
       "      <td>...</td>\n",
       "      <td>0,39%</td>\n",
       "      <td>177</td>\n",
       "      <td>15,87%</td>\n",
       "      <td>23,26%</td>\n",
       "      <td>1</td>\n",
       "      <td>0,09%</td>\n",
       "      <td>0,13%</td>\n",
       "      <td>16</td>\n",
       "      <td>1,43%</td>\n",
       "      <td>2,10%</td>\n",
       "    </tr>\n",
       "    <tr>\n",
       "      <th>85</th>\n",
       "      <td>La Tronche</td>\n",
       "      <td>1069</td>\n",
       "      <td>769</td>\n",
       "      <td>71,94%</td>\n",
       "      <td>300</td>\n",
       "      <td>28,06%</td>\n",
       "      <td>766</td>\n",
       "      <td>3</td>\n",
       "      <td>0</td>\n",
       "      <td>60</td>\n",
       "      <td>...</td>\n",
       "      <td>0,63%</td>\n",
       "      <td>134</td>\n",
       "      <td>12,47%</td>\n",
       "      <td>21,00%</td>\n",
       "      <td>10</td>\n",
       "      <td>0,93%</td>\n",
       "      <td>1,57%</td>\n",
       "      <td>4</td>\n",
       "      <td>0,37%</td>\n",
       "      <td>0,63%</td>\n",
       "    </tr>\n",
       "    <tr>\n",
       "      <th>86</th>\n",
       "      <td>La Tronche</td>\n",
       "      <td>923</td>\n",
       "      <td>729</td>\n",
       "      <td>78,98%</td>\n",
       "      <td>194</td>\n",
       "      <td>21,02%</td>\n",
       "      <td>714</td>\n",
       "      <td>11</td>\n",
       "      <td>4</td>\n",
       "      <td>58</td>\n",
       "      <td>...</td>\n",
       "      <td>1,03%</td>\n",
       "      <td>143</td>\n",
       "      <td>15,38%</td>\n",
       "      <td>24,49%</td>\n",
       "      <td>3</td>\n",
       "      <td>0,32%</td>\n",
       "      <td>0,51%</td>\n",
       "      <td>9</td>\n",
       "      <td>0,97%</td>\n",
       "      <td>1,54%</td>\n",
       "    </tr>\n",
       "  </tbody>\n",
       "</table>\n",
       "<p>87 rows × 96 columns</p>\n",
       "</div>"
      ],
      "text/plain": [
       "            Libellé commune  Inscrits_LegiT1  Votants_LegiT1 % Votants_LegiT1  \\\n",
       "0                    Bernin              965             754           78,13%   \n",
       "1                    Bernin              992             778           78,43%   \n",
       "2                    Bernin              980             745           76,02%   \n",
       "3                   Biviers             1036             845           81,56%   \n",
       "4                   Biviers             1032             826           80,04%   \n",
       "..                      ...              ...             ...              ...   \n",
       "82  Le Sappey-en-Chartreuse             1009             841           83,35%   \n",
       "83               La Tronche             1070             771           72,06%   \n",
       "84               La Tronche             1103             906           82,14%   \n",
       "85               La Tronche             1069             769           71,94%   \n",
       "86               La Tronche              923             729           78,98%   \n",
       "\n",
       "    Abstention_LegiT1 % Abstentions_LegiT1  Exprimés_LegiT1  Blancs_LegiT1  \\\n",
       "0                 211               21,87%              741             10   \n",
       "1                 214               21,57%              771              4   \n",
       "2                 235               23,98%              738              4   \n",
       "3                 191               18,44%              837              7   \n",
       "4                 206               19,96%              820              4   \n",
       "..                ...                  ...              ...            ...   \n",
       "82                168               16,65%              832              8   \n",
       "83                299               27,94%              759             11   \n",
       "84                197               17,86%              889             12   \n",
       "85                300               28,06%              766              3   \n",
       "86                194               21,02%              714             11   \n",
       "\n",
       "    Nuls_LegiT1  Voix_LR_LegiT1  ... % VEXP_PHIL_Euro Voix_PP_Euro  \\\n",
       "0             3              47  ...            1,33%          133   \n",
       "1             3              72  ...            1,47%          139   \n",
       "2             3              50  ...            0,65%          126   \n",
       "3             1              87  ...            0,40%          140   \n",
       "4             2              69  ...            1,00%          135   \n",
       "..          ...             ...  ...              ...          ...   \n",
       "82            1              38  ...            0,56%          170   \n",
       "83            1              52  ...            0,95%          125   \n",
       "84            5              76  ...            0,39%          177   \n",
       "85            0              60  ...            0,63%          134   \n",
       "86            4              58  ...            1,03%          143   \n",
       "\n",
       "    % VINSC_PP_Euro % VEXP_PP_Euro Voix_PCF_Euro  % VINSC_PCF_Euro  \\\n",
       "0            13,67%         22,17%             4             0,41%   \n",
       "1            13,96%         22,75%             3             0,30%   \n",
       "2            12,75%         20,42%             4             0,40%   \n",
       "3            13,50%         18,69%             4             0,39%   \n",
       "4            13,07%         19,23%             6             0,58%   \n",
       "..              ...            ...           ...               ...   \n",
       "82           16,63%         23,78%             4             0,39%   \n",
       "83           11,74%         19,78%             3             0,28%   \n",
       "84           15,87%         23,26%             1             0,09%   \n",
       "85           12,47%         21,00%            10             0,93%   \n",
       "86           15,38%         24,49%             3             0,32%   \n",
       "\n",
       "   % VEXP_PCF_Euro Voix_ECOC_Euro  % VINSC_ECOC_Euro % VEXP_ECOC_Euro  \n",
       "0            0,67%             16              1,64%            2,67%  \n",
       "1            0,49%              9              0,90%            1,47%  \n",
       "2            0,65%             11              1,11%            1,78%  \n",
       "3            0,53%             12              1,16%            1,60%  \n",
       "4            0,85%              3              0,29%            0,43%  \n",
       "..             ...            ...                ...              ...  \n",
       "82           0,56%             15              1,47%            2,10%  \n",
       "83           0,47%              6              0,56%            0,95%  \n",
       "84           0,13%             16              1,43%            2,10%  \n",
       "85           1,57%              4              0,37%            0,63%  \n",
       "86           0,51%              9              0,97%            1,54%  \n",
       "\n",
       "[87 rows x 96 columns]"
      ]
     },
     "execution_count": 238,
     "metadata": {},
     "output_type": "execute_result"
    }
   ],
   "source": [
    "#Suppression de colonnes inutiles \n",
    "final_df.columns\n",
    "\n",
    "to_drop = ['Code commune_x', 'Code BV_x', 'Code commune_y', 'Code BV_y', 'Code BV']\n",
    "\n",
    "final_df = final_df.drop(columns=to_drop)\n",
    "final_df"
   ]
  },
  {
   "cell_type": "code",
   "execution_count": 239,
   "id": "4e058a2b-2de9-46aa-b20b-b786d5ca8c66",
   "metadata": {},
   "outputs": [
    {
     "data": {
      "text/html": [
       "<div>\n",
       "<style scoped>\n",
       "    .dataframe tbody tr th:only-of-type {\n",
       "        vertical-align: middle;\n",
       "    }\n",
       "\n",
       "    .dataframe tbody tr th {\n",
       "        vertical-align: top;\n",
       "    }\n",
       "\n",
       "    .dataframe thead th {\n",
       "        text-align: right;\n",
       "    }\n",
       "</style>\n",
       "<table border=\"1\" class=\"dataframe\">\n",
       "  <thead>\n",
       "    <tr style=\"text-align: right;\">\n",
       "      <th></th>\n",
       "      <th>Libellé commune</th>\n",
       "      <th>Code commune</th>\n",
       "      <th>id_bv</th>\n",
       "      <th>Inscrits_LegiT1</th>\n",
       "      <th>Votants_LegiT1</th>\n",
       "      <th>% Votants_LegiT1</th>\n",
       "      <th>Abstention_LegiT1</th>\n",
       "      <th>% Abstentions_LegiT1</th>\n",
       "      <th>Exprimés_LegiT1</th>\n",
       "      <th>Blancs_LegiT1</th>\n",
       "      <th>...</th>\n",
       "      <th>% VEXP_PHIL_Euro</th>\n",
       "      <th>Voix_PP_Euro</th>\n",
       "      <th>% VINSC_PP_Euro</th>\n",
       "      <th>% VEXP_PP_Euro</th>\n",
       "      <th>Voix_PCF_Euro</th>\n",
       "      <th>% VINSC_PCF_Euro</th>\n",
       "      <th>% VEXP_PCF_Euro</th>\n",
       "      <th>Voix_ECOC_Euro</th>\n",
       "      <th>% VINSC_ECOC_Euro</th>\n",
       "      <th>% VEXP_ECOC_Euro</th>\n",
       "    </tr>\n",
       "  </thead>\n",
       "  <tbody>\n",
       "    <tr>\n",
       "      <th>0</th>\n",
       "      <td>Bernin</td>\n",
       "      <td>38039</td>\n",
       "      <td>380390001</td>\n",
       "      <td>965</td>\n",
       "      <td>754</td>\n",
       "      <td>78,13%</td>\n",
       "      <td>211</td>\n",
       "      <td>21,87%</td>\n",
       "      <td>741</td>\n",
       "      <td>10</td>\n",
       "      <td>...</td>\n",
       "      <td>1,33%</td>\n",
       "      <td>133</td>\n",
       "      <td>13,67%</td>\n",
       "      <td>22,17%</td>\n",
       "      <td>4</td>\n",
       "      <td>0,41%</td>\n",
       "      <td>0,67%</td>\n",
       "      <td>16</td>\n",
       "      <td>1,64%</td>\n",
       "      <td>2,67%</td>\n",
       "    </tr>\n",
       "    <tr>\n",
       "      <th>1</th>\n",
       "      <td>Bernin</td>\n",
       "      <td>38039</td>\n",
       "      <td>380390002</td>\n",
       "      <td>992</td>\n",
       "      <td>778</td>\n",
       "      <td>78,43%</td>\n",
       "      <td>214</td>\n",
       "      <td>21,57%</td>\n",
       "      <td>771</td>\n",
       "      <td>4</td>\n",
       "      <td>...</td>\n",
       "      <td>1,47%</td>\n",
       "      <td>139</td>\n",
       "      <td>13,96%</td>\n",
       "      <td>22,75%</td>\n",
       "      <td>3</td>\n",
       "      <td>0,30%</td>\n",
       "      <td>0,49%</td>\n",
       "      <td>9</td>\n",
       "      <td>0,90%</td>\n",
       "      <td>1,47%</td>\n",
       "    </tr>\n",
       "    <tr>\n",
       "      <th>2</th>\n",
       "      <td>Bernin</td>\n",
       "      <td>38039</td>\n",
       "      <td>380390003</td>\n",
       "      <td>980</td>\n",
       "      <td>745</td>\n",
       "      <td>76,02%</td>\n",
       "      <td>235</td>\n",
       "      <td>23,98%</td>\n",
       "      <td>738</td>\n",
       "      <td>4</td>\n",
       "      <td>...</td>\n",
       "      <td>0,65%</td>\n",
       "      <td>126</td>\n",
       "      <td>12,75%</td>\n",
       "      <td>20,42%</td>\n",
       "      <td>4</td>\n",
       "      <td>0,40%</td>\n",
       "      <td>0,65%</td>\n",
       "      <td>11</td>\n",
       "      <td>1,11%</td>\n",
       "      <td>1,78%</td>\n",
       "    </tr>\n",
       "    <tr>\n",
       "      <th>3</th>\n",
       "      <td>Biviers</td>\n",
       "      <td>38045</td>\n",
       "      <td>380450001</td>\n",
       "      <td>1036</td>\n",
       "      <td>845</td>\n",
       "      <td>81,56%</td>\n",
       "      <td>191</td>\n",
       "      <td>18,44%</td>\n",
       "      <td>837</td>\n",
       "      <td>7</td>\n",
       "      <td>...</td>\n",
       "      <td>0,40%</td>\n",
       "      <td>140</td>\n",
       "      <td>13,50%</td>\n",
       "      <td>18,69%</td>\n",
       "      <td>4</td>\n",
       "      <td>0,39%</td>\n",
       "      <td>0,53%</td>\n",
       "      <td>12</td>\n",
       "      <td>1,16%</td>\n",
       "      <td>1,60%</td>\n",
       "    </tr>\n",
       "    <tr>\n",
       "      <th>4</th>\n",
       "      <td>Biviers</td>\n",
       "      <td>38045</td>\n",
       "      <td>380450002</td>\n",
       "      <td>1032</td>\n",
       "      <td>826</td>\n",
       "      <td>80,04%</td>\n",
       "      <td>206</td>\n",
       "      <td>19,96%</td>\n",
       "      <td>820</td>\n",
       "      <td>4</td>\n",
       "      <td>...</td>\n",
       "      <td>1,00%</td>\n",
       "      <td>135</td>\n",
       "      <td>13,07%</td>\n",
       "      <td>19,23%</td>\n",
       "      <td>6</td>\n",
       "      <td>0,58%</td>\n",
       "      <td>0,85%</td>\n",
       "      <td>3</td>\n",
       "      <td>0,29%</td>\n",
       "      <td>0,43%</td>\n",
       "    </tr>\n",
       "    <tr>\n",
       "      <th>...</th>\n",
       "      <td>...</td>\n",
       "      <td>...</td>\n",
       "      <td>...</td>\n",
       "      <td>...</td>\n",
       "      <td>...</td>\n",
       "      <td>...</td>\n",
       "      <td>...</td>\n",
       "      <td>...</td>\n",
       "      <td>...</td>\n",
       "      <td>...</td>\n",
       "      <td>...</td>\n",
       "      <td>...</td>\n",
       "      <td>...</td>\n",
       "      <td>...</td>\n",
       "      <td>...</td>\n",
       "      <td>...</td>\n",
       "      <td>...</td>\n",
       "      <td>...</td>\n",
       "      <td>...</td>\n",
       "      <td>...</td>\n",
       "      <td>...</td>\n",
       "    </tr>\n",
       "    <tr>\n",
       "      <th>82</th>\n",
       "      <td>Le Sappey-en-Chartreuse</td>\n",
       "      <td>38471</td>\n",
       "      <td>384710001</td>\n",
       "      <td>1009</td>\n",
       "      <td>841</td>\n",
       "      <td>83,35%</td>\n",
       "      <td>168</td>\n",
       "      <td>16,65%</td>\n",
       "      <td>832</td>\n",
       "      <td>8</td>\n",
       "      <td>...</td>\n",
       "      <td>0,56%</td>\n",
       "      <td>170</td>\n",
       "      <td>16,63%</td>\n",
       "      <td>23,78%</td>\n",
       "      <td>4</td>\n",
       "      <td>0,39%</td>\n",
       "      <td>0,56%</td>\n",
       "      <td>15</td>\n",
       "      <td>1,47%</td>\n",
       "      <td>2,10%</td>\n",
       "    </tr>\n",
       "    <tr>\n",
       "      <th>83</th>\n",
       "      <td>La Tronche</td>\n",
       "      <td>38516</td>\n",
       "      <td>385160001</td>\n",
       "      <td>1070</td>\n",
       "      <td>771</td>\n",
       "      <td>72,06%</td>\n",
       "      <td>299</td>\n",
       "      <td>27,94%</td>\n",
       "      <td>759</td>\n",
       "      <td>11</td>\n",
       "      <td>...</td>\n",
       "      <td>0,95%</td>\n",
       "      <td>125</td>\n",
       "      <td>11,74%</td>\n",
       "      <td>19,78%</td>\n",
       "      <td>3</td>\n",
       "      <td>0,28%</td>\n",
       "      <td>0,47%</td>\n",
       "      <td>6</td>\n",
       "      <td>0,56%</td>\n",
       "      <td>0,95%</td>\n",
       "    </tr>\n",
       "    <tr>\n",
       "      <th>84</th>\n",
       "      <td>La Tronche</td>\n",
       "      <td>38516</td>\n",
       "      <td>385160002</td>\n",
       "      <td>1103</td>\n",
       "      <td>906</td>\n",
       "      <td>82,14%</td>\n",
       "      <td>197</td>\n",
       "      <td>17,86%</td>\n",
       "      <td>889</td>\n",
       "      <td>12</td>\n",
       "      <td>...</td>\n",
       "      <td>0,39%</td>\n",
       "      <td>177</td>\n",
       "      <td>15,87%</td>\n",
       "      <td>23,26%</td>\n",
       "      <td>1</td>\n",
       "      <td>0,09%</td>\n",
       "      <td>0,13%</td>\n",
       "      <td>16</td>\n",
       "      <td>1,43%</td>\n",
       "      <td>2,10%</td>\n",
       "    </tr>\n",
       "    <tr>\n",
       "      <th>85</th>\n",
       "      <td>La Tronche</td>\n",
       "      <td>38516</td>\n",
       "      <td>385160003</td>\n",
       "      <td>1069</td>\n",
       "      <td>769</td>\n",
       "      <td>71,94%</td>\n",
       "      <td>300</td>\n",
       "      <td>28,06%</td>\n",
       "      <td>766</td>\n",
       "      <td>3</td>\n",
       "      <td>...</td>\n",
       "      <td>0,63%</td>\n",
       "      <td>134</td>\n",
       "      <td>12,47%</td>\n",
       "      <td>21,00%</td>\n",
       "      <td>10</td>\n",
       "      <td>0,93%</td>\n",
       "      <td>1,57%</td>\n",
       "      <td>4</td>\n",
       "      <td>0,37%</td>\n",
       "      <td>0,63%</td>\n",
       "    </tr>\n",
       "    <tr>\n",
       "      <th>86</th>\n",
       "      <td>La Tronche</td>\n",
       "      <td>38516</td>\n",
       "      <td>385160004</td>\n",
       "      <td>923</td>\n",
       "      <td>729</td>\n",
       "      <td>78,98%</td>\n",
       "      <td>194</td>\n",
       "      <td>21,02%</td>\n",
       "      <td>714</td>\n",
       "      <td>11</td>\n",
       "      <td>...</td>\n",
       "      <td>1,03%</td>\n",
       "      <td>143</td>\n",
       "      <td>15,38%</td>\n",
       "      <td>24,49%</td>\n",
       "      <td>3</td>\n",
       "      <td>0,32%</td>\n",
       "      <td>0,51%</td>\n",
       "      <td>9</td>\n",
       "      <td>0,97%</td>\n",
       "      <td>1,54%</td>\n",
       "    </tr>\n",
       "  </tbody>\n",
       "</table>\n",
       "<p>87 rows × 96 columns</p>\n",
       "</div>"
      ],
      "text/plain": [
       "            Libellé commune Code commune      id_bv  Inscrits_LegiT1  \\\n",
       "0                    Bernin        38039  380390001              965   \n",
       "1                    Bernin        38039  380390002              992   \n",
       "2                    Bernin        38039  380390003              980   \n",
       "3                   Biviers        38045  380450001             1036   \n",
       "4                   Biviers        38045  380450002             1032   \n",
       "..                      ...          ...        ...              ...   \n",
       "82  Le Sappey-en-Chartreuse        38471  384710001             1009   \n",
       "83               La Tronche        38516  385160001             1070   \n",
       "84               La Tronche        38516  385160002             1103   \n",
       "85               La Tronche        38516  385160003             1069   \n",
       "86               La Tronche        38516  385160004              923   \n",
       "\n",
       "    Votants_LegiT1 % Votants_LegiT1  Abstention_LegiT1 % Abstentions_LegiT1  \\\n",
       "0              754           78,13%                211               21,87%   \n",
       "1              778           78,43%                214               21,57%   \n",
       "2              745           76,02%                235               23,98%   \n",
       "3              845           81,56%                191               18,44%   \n",
       "4              826           80,04%                206               19,96%   \n",
       "..             ...              ...                ...                  ...   \n",
       "82             841           83,35%                168               16,65%   \n",
       "83             771           72,06%                299               27,94%   \n",
       "84             906           82,14%                197               17,86%   \n",
       "85             769           71,94%                300               28,06%   \n",
       "86             729           78,98%                194               21,02%   \n",
       "\n",
       "    Exprimés_LegiT1  Blancs_LegiT1  ...  % VEXP_PHIL_Euro  Voix_PP_Euro  \\\n",
       "0               741             10  ...             1,33%           133   \n",
       "1               771              4  ...             1,47%           139   \n",
       "2               738              4  ...             0,65%           126   \n",
       "3               837              7  ...             0,40%           140   \n",
       "4               820              4  ...             1,00%           135   \n",
       "..              ...            ...  ...               ...           ...   \n",
       "82              832              8  ...             0,56%           170   \n",
       "83              759             11  ...             0,95%           125   \n",
       "84              889             12  ...             0,39%           177   \n",
       "85              766              3  ...             0,63%           134   \n",
       "86              714             11  ...             1,03%           143   \n",
       "\n",
       "   % VINSC_PP_Euro % VEXP_PP_Euro  Voix_PCF_Euro % VINSC_PCF_Euro  \\\n",
       "0           13,67%         22,17%              4            0,41%   \n",
       "1           13,96%         22,75%              3            0,30%   \n",
       "2           12,75%         20,42%              4            0,40%   \n",
       "3           13,50%         18,69%              4            0,39%   \n",
       "4           13,07%         19,23%              6            0,58%   \n",
       "..             ...            ...            ...              ...   \n",
       "82          16,63%         23,78%              4            0,39%   \n",
       "83          11,74%         19,78%              3            0,28%   \n",
       "84          15,87%         23,26%              1            0,09%   \n",
       "85          12,47%         21,00%             10            0,93%   \n",
       "86          15,38%         24,49%              3            0,32%   \n",
       "\n",
       "   % VEXP_PCF_Euro  Voix_ECOC_Euro % VINSC_ECOC_Euro % VEXP_ECOC_Euro  \n",
       "0            0,67%              16             1,64%            2,67%  \n",
       "1            0,49%               9             0,90%            1,47%  \n",
       "2            0,65%              11             1,11%            1,78%  \n",
       "3            0,53%              12             1,16%            1,60%  \n",
       "4            0,85%               3             0,29%            0,43%  \n",
       "..             ...             ...               ...              ...  \n",
       "82           0,56%              15             1,47%            2,10%  \n",
       "83           0,47%               6             0,56%            0,95%  \n",
       "84           0,13%              16             1,43%            2,10%  \n",
       "85           1,57%               4             0,37%            0,63%  \n",
       "86           0,51%               9             0,97%            1,54%  \n",
       "\n",
       "[87 rows x 96 columns]"
      ]
     },
     "execution_count": 239,
     "metadata": {},
     "output_type": "execute_result"
    }
   ],
   "source": [
    "#Replacer id_bv en deuxième position pour avoir les identifiants au début \n",
    "# Définir l'ordre souhaité pour les colonnes\n",
    "cols = ['Libellé commune', 'Code commune', 'id_bv'] + [col for col in final_df.columns if col != 'Libellé commune' and col != 'id_bv' and col !='Code commune']\n",
    "\n",
    "# Réorganiser le DataFrame selon cet ordre\n",
    "final_df = final_df[cols]\n",
    "final_df"
   ]
  },
  {
   "cell_type": "code",
   "execution_count": 240,
   "id": "6e948927-60ae-4f17-aedb-0e6db25bf2ea",
   "metadata": {},
   "outputs": [
    {
     "name": "stdout",
     "output_type": "stream",
     "text": [
      "Place Publique EURO: 11279\n",
      "Renaissance EURO: 9288\n",
      "RN EURO: 7626\n",
      "LFI EURO: 7116\n",
      "EELV EURO: 6298\n",
      "NFP LT1: 25207\n",
      "LREM LT1: 21089.0\n",
      "UXD Lt1: 11504\n",
      "NFP LT2: 26438.0\n",
      "LREM LT2: 25120.0\n",
      "UXD LT2: 10865\n"
     ]
    }
   ],
   "source": [
    "#Revérifications de conformité des scores\n",
    "Total = final_df[\"Voix_PP_Euro\"].sum()\n",
    "print(\"Place Publique EURO:\", Total)\n",
    "Total = final_df[\"Voix_LREM_Euro\"].sum()\n",
    "print(\"Renaissance EURO:\", Total)\n",
    "Total = final_df[\"Voix_RN_Euro\"].sum()\n",
    "print(\"RN EURO:\", Total)\n",
    "Total = final_df[\"Voix_LFI_Euro\"].sum()\n",
    "print(\"LFI EURO:\", Total)\n",
    "Total = final_df[\"Voix_EELV_Euro\"].sum()\n",
    "print(\"EELV EURO:\", Total)\n",
    "\n",
    "Total = final_df[\"Voix_UG_LegiT1\"].sum()\n",
    "print(\"NFP LT1:\", Total)\n",
    "Total = final_df[\"Voix_LREM_LegiT1\"].sum()\n",
    "print(\"LREM LT1:\", Total)\n",
    "Total = final_df[\"Voix_UXD_LegiT1\"].sum()\n",
    "print(\"UXD Lt1:\", Total)\n",
    "\n",
    "Total = final_df[\"Voix_UG_LegiT2\"].sum()\n",
    "print(\"NFP LT2:\", Total)\n",
    "Total = final_df[\"Voix_LREM_LegiT2\"].sum()\n",
    "print(\"LREM LT2:\", Total)\n",
    "Total = final_df[\"Voix_UXD_LegiT2\"].sum()\n",
    "print(\"UXD LT2:\", Total)"
   ]
  },
  {
   "cell_type": "code",
   "execution_count": 241,
   "id": "71ecd687-6858-47b0-917d-f6fcfb285bc3",
   "metadata": {},
   "outputs": [],
   "source": [
    "#On exporte pour avoir une base de données utilisable \n",
    "final_df.to_excel('data/transformed/Circo3801_Scores2024.xlsx', index=False)"
   ]
  },
  {
   "cell_type": "markdown",
   "id": "486ee9b4-272d-4ebf-b35f-d187b699a9f7",
   "metadata": {},
   "source": [
    "## Analyse des dynamiques de 2024 \n",
    "\n",
    "L'objectif est de comprendre les dynamiques de 2024 avant de se lancer dans des projections. On va essayer d'analyser les éléments suivants : \n",
    "\n",
    "- Les reports de voix entre européennes et législatives pour les électeurs de la liste PS-PP (score important dans la circonscription)\n",
    "- Analyse d'un éventuel gain de participation et de à qui il a profité"
   ]
  },
  {
   "cell_type": "code",
   "execution_count": 313,
   "id": "8267bfb4-2705-4f8d-bbde-33cf2b79e3dc",
   "metadata": {},
   "outputs": [],
   "source": [
    "#Importation des données électorales de la circo\n",
    "df = pd.read_excel('data/transformed/Circo3801_Scores2024.xlsx')"
   ]
  },
  {
   "cell_type": "markdown",
   "id": "0a7ac1b7-768a-4f3d-b7f9-fe96da68814b",
   "metadata": {},
   "source": [
    "### Informations préliminaires\n",
    "Le nombre d'inscrits a pu légèrement varier "
   ]
  },
  {
   "cell_type": "code",
   "execution_count": 264,
   "id": "1be3da7b-c4fb-43e1-b9d0-0b81a49e7229",
   "metadata": {},
   "outputs": [
    {
     "data": {
      "text/html": [
       "<div>\n",
       "<style scoped>\n",
       "    .dataframe tbody tr th:only-of-type {\n",
       "        vertical-align: middle;\n",
       "    }\n",
       "\n",
       "    .dataframe tbody tr th {\n",
       "        vertical-align: top;\n",
       "    }\n",
       "\n",
       "    .dataframe thead th {\n",
       "        text-align: right;\n",
       "    }\n",
       "</style>\n",
       "<table border=\"1\" class=\"dataframe\">\n",
       "  <thead>\n",
       "    <tr style=\"text-align: right;\">\n",
       "      <th></th>\n",
       "      <th>diff Euro_legiT1</th>\n",
       "      <th>diff LEGI_E2T</th>\n",
       "    </tr>\n",
       "  </thead>\n",
       "  <tbody>\n",
       "    <tr>\n",
       "      <th>count</th>\n",
       "      <td>87.000000</td>\n",
       "      <td>87.000000</td>\n",
       "    </tr>\n",
       "    <tr>\n",
       "      <th>mean</th>\n",
       "      <td>2.172414</td>\n",
       "      <td>-0.770115</td>\n",
       "    </tr>\n",
       "    <tr>\n",
       "      <th>std</th>\n",
       "      <td>6.206161</td>\n",
       "      <td>1.647416</td>\n",
       "    </tr>\n",
       "    <tr>\n",
       "      <th>min</th>\n",
       "      <td>-15.000000</td>\n",
       "      <td>-8.000000</td>\n",
       "    </tr>\n",
       "    <tr>\n",
       "      <th>25%</th>\n",
       "      <td>-1.000000</td>\n",
       "      <td>-1.000000</td>\n",
       "    </tr>\n",
       "    <tr>\n",
       "      <th>50%</th>\n",
       "      <td>3.000000</td>\n",
       "      <td>0.000000</td>\n",
       "    </tr>\n",
       "    <tr>\n",
       "      <th>75%</th>\n",
       "      <td>6.000000</td>\n",
       "      <td>0.000000</td>\n",
       "    </tr>\n",
       "    <tr>\n",
       "      <th>max</th>\n",
       "      <td>14.000000</td>\n",
       "      <td>2.000000</td>\n",
       "    </tr>\n",
       "  </tbody>\n",
       "</table>\n",
       "</div>"
      ],
      "text/plain": [
       "       diff Euro_legiT1  diff LEGI_E2T\n",
       "count         87.000000      87.000000\n",
       "mean           2.172414      -0.770115\n",
       "std            6.206161       1.647416\n",
       "min          -15.000000      -8.000000\n",
       "25%           -1.000000      -1.000000\n",
       "50%            3.000000       0.000000\n",
       "75%            6.000000       0.000000\n",
       "max           14.000000       2.000000"
      ]
     },
     "execution_count": 264,
     "metadata": {},
     "output_type": "execute_result"
    }
   ],
   "source": [
    "manip = df.copy() #Copie de la dataframe pour créer des nouvelles colonnes utiles à nos analyses sans modifier df initial qui nous intéresse\n",
    "\n",
    "manip['diff Euro_legiT1'] = df['Inscrits_Euro'] - df['Inscrits_LegiT1'] #Diff Legi T1 et européennes\n",
    "manip['diff LEGI_E2T'] = df['Inscrits_LegiT1'] - df['Inscrits_LegiT2'] #Diff enter-deux-tours\n",
    "\n",
    "manip[['diff Euro_legiT1', 'diff LEGI_E2T']].describe()"
   ]
  },
  {
   "cell_type": "markdown",
   "id": "e3dcb239-73d4-445c-816e-d6ddb071e355",
   "metadata": {},
   "source": [
    "L'écart reste léger. On va regarder si les bureaux de vote ont un nombre de votants assez proche (on prendra les législatives au premier tour)"
   ]
  },
  {
   "cell_type": "code",
   "execution_count": 265,
   "id": "61623bac-18b9-4d5e-beac-b8a0129f1f6f",
   "metadata": {},
   "outputs": [
    {
     "data": {
      "image/png": "[encoded data removed]",
      "text/plain": [
       "<Figure size 1000x600 with 1 Axes>"
      ]
     },
     "metadata": {},
     "output_type": "display_data"
    }
   ],
   "source": [
    "x_values = np.arange(0, len(df), 1)\n",
    "# Créer le nuage de points\n",
    "plt.figure(figsize=(10, 6))\n",
    "plt.scatter(x_values, df['Inscrits_LegiT1'], alpha=0.7)\n",
    "plt.xlabel(\"Bureau de vote (index)\")\n",
    "plt.ylabel(\"Nombre d'inscrits\")\n",
    "plt.title(\"Nombre d'inscrits par bureaux de vote\")\n",
    "plt.savefig('graphiques/inscrits_par_bv_nbr.jpg')\n",
    "plt.show()"
   ]
  },
  {
   "cell_type": "markdown",
   "id": "e58c6f0a-124f-4ac3-84a8-0038d259930a",
   "metadata": {},
   "source": [
    "Un bureau a des scores plus faibles, c'est le bureau \"Hotel de Ville 3' qui concerne des dispositions électorales particulières (militaires, français établis hors de France). Ce n'est pas fondé sur la carte électorale classique. Sinon, on observe entre 800 et 1200 électeurs par bureaux de vote, il faudra en tenir compte dans les analyses statistiques : chaque bureau de vote n'ayant pas le même poids dans les élections. \n",
    "\n",
    "### Brève description des bureaux de vote"
   ]
  },
  {
   "cell_type": "code",
   "execution_count": 316,
   "id": "ed606e72-0c18-4c8f-b297-42f30d47cb2e",
   "metadata": {},
   "outputs": [
    {
     "name": "stderr",
     "output_type": "stream",
     "text": [
      "/tmp/ipykernel_10038/4040646162.py:11: FutureWarning:\n",
      "\n",
      "DataFrame.applymap has been deprecated. Use DataFrame.map instead.\n",
      "\n"
     ]
    }
   ],
   "source": [
    "#Conversion des pourcentages en proportion de votes \n",
    "def is_percentage(val):\n",
    "    return isinstance(val, str) and '%' in val\n",
    "\n",
    "def convert_percentage(val):\n",
    "    if is_percentage(val):\n",
    "        return float(val.replace(',', '.').replace('%', ''))\n",
    "    return val \n",
    "\n",
    "# Convertir toutes les colonnes de pourcentages en valeurs numériques\n",
    "df = df.applymap(convert_percentage)"
   ]
  },
  {
   "cell_type": "code",
   "execution_count": 267,
   "id": "0d6e5d69-869d-4c1d-8029-cd310c8748ba",
   "metadata": {},
   "outputs": [
    {
     "data": {
      "text/plain": [
       "Index(['Libellé commune', 'Code commune', 'id_bv', 'Inscrits_LegiT1',\n",
       "       'Votants_LegiT1', '% Votants_LegiT1', 'Abstention_LegiT1',\n",
       "       '% Abstentions_LegiT1', 'Exprimés_LegiT1', 'Blancs_LegiT1',\n",
       "       'Nuls_LegiT1', 'Voix_LR_LegiT1', '% VINSC_LR_LegiT1',\n",
       "       '% VEXP_LR_LegiT1', 'Voix_LO_LegiT1', '% VINSC_LO_LegiT1',\n",
       "       '% VEXP_LO_LegiT1', 'Voix_UXD_LegiT1', '% VINSC_UXD_LegiT1',\n",
       "       '% VEXP_UXD_LegiT1', 'Voix_UG_LegiT1', '% VINSC_UG_LegiT1',\n",
       "       '% VEXP_UG_LegiT1', 'Voix_LREM_LegiT1', '% VINSC_LREM_LegiT1',\n",
       "       '% VEXP_LREM_LegiT1', 'Inscrits_LegiT2', 'Votants_LegiT2',\n",
       "       '% Votants_LegiT2', 'Abstention_LegiT2', '% Abstentions_LegiT2',\n",
       "       'Exprimés_LegiT2', 'Blancs_LegiT2', 'Nuls_LegiT2', 'Voix_LREM_LegiT2',\n",
       "       '% VINSC_LREM_LegiT2', '% VEXP_LREM_LegiT2', 'Voix_UG_LegiT2',\n",
       "       '% VINSC_UG_LegiT2', '% VEXP_UG_LegiT2', 'Voix_UXD_LegiT2',\n",
       "       '% VINSC_UXD_LegiT2', '% VEXP_UXD_LegiT2', 'Inscrits_Euro',\n",
       "       'Votants_Euro', '% Votants_Euro', 'Abstention_Euro',\n",
       "       '% Abstention_Euro', 'Exp_Euro', 'Blancs_Euro', 'Nuls_Euro',\n",
       "       'Voix_REC_Euro', '% VINSC_REC_Euro', '% VEXP_REC_Euro', 'Voix_LFI_Euro',\n",
       "       '% VINSC_LFI_Euro', '% VEXP_LFI_Euro', 'Voix_RN_Euro',\n",
       "       '% VINSC_RN_Euro', '% VEXP_RN_Euro', 'Voix_EELV_Euro',\n",
       "       '% VINSC_EELV_Euro', '% VEXP_EELV_Euro', 'Voix_PALES_Euro',\n",
       "       '% VINSC_PALES_Euro', '% VEXP_PALES_Euro', 'Voix_ANIM_Euro',\n",
       "       '% VINSC_ANIM_Euro', '% VEXP_ANIM_Euro', 'Voix_PIRATE_Euro',\n",
       "       '% VINSC_PIRATE_Euro', '% VEXP_PIRATE_Euro', 'Voix_LREM_Euro',\n",
       "       '% VINSC_LREM_Euro', '% VEXP_LREM_Euro', 'Voix_EQUI_Euro',\n",
       "       '% VINSC_EQUI_Euro', '% VEXP_EQUI_Euro', 'Voix_UPR_Euro',\n",
       "       '% VINSC_UPR_Euro', '% VEXP_UPR_Euro', 'Voix_LR_Euro',\n",
       "       '% VINSC_LR_Euro', '% VEXP_LR_Euro', 'Voix_PHIL_Euro',\n",
       "       '% VINSC_PHIL_Euro', '% VEXP_PHIL_Euro', 'Voix_PP_Euro',\n",
       "       '% VINSC_PP_Euro', '% VEXP_PP_Euro', 'Voix_PCF_Euro',\n",
       "       '% VINSC_PCF_Euro', '% VEXP_PCF_Euro', 'Voix_ECOC_Euro',\n",
       "       '% VINSC_ECOC_Euro', '% VEXP_ECOC_Euro'],\n",
       "      dtype='object')"
      ]
     },
     "execution_count": 267,
     "metadata": {},
     "output_type": "execute_result"
    }
   ],
   "source": [
    "df.columns"
   ]
  },
  {
   "cell_type": "code",
   "execution_count": 268,
   "id": "50fa4d2b-cd43-4c38-a526-c998af686ffe",
   "metadata": {},
   "outputs": [
    {
     "data": {
      "application/vnd.plotly.v1+json": {
       "config": {
        "plotlyServerURL": "https://plot.ly"
       },
       "data": [
        {
         "alignmentgroup": "True",
         "customdata": [
          [
           "Bernin"
          ],
          [
           "Bernin"
          ],
          [
           "Bernin"
          ],
          [
           "Biviers"
          ],
          [
           "Biviers"
          ],
          [
           "Corenc"
          ],
          [
           "Corenc"
          ],
          [
           "Corenc"
          ],
          [
           "Grenoble"
          ],
          [
           "Grenoble"
          ],
          [
           "Grenoble"
          ],
          [
           "Grenoble"
          ],
          [
           "Grenoble"
          ],
          [
           "Grenoble"
          ],
          [
           "Grenoble"
          ],
          [
           "Grenoble"
          ],
          [
           "Grenoble"
          ],
          [
           "Grenoble"
          ],
          [
           "Grenoble"
          ],
          [
           "Grenoble"
          ],
          [
           "Grenoble"
          ],
          [
           "Grenoble"
          ],
          [
           "Grenoble"
          ],
          [
           "Grenoble"
          ],
          [
           "Grenoble"
          ],
          [
           "Grenoble"
          ],
          [
           "Grenoble"
          ],
          [
           "Grenoble"
          ],
          [
           "Grenoble"
          ],
          [
           "Grenoble"
          ],
          [
           "Grenoble"
          ],
          [
           "Grenoble"
          ],
          [
           "Grenoble"
          ],
          [
           "Grenoble"
          ],
          [
           "Grenoble"
          ],
          [
           "Grenoble"
          ],
          [
           "Grenoble"
          ],
          [
           "Grenoble"
          ],
          [
           "Grenoble"
          ],
          [
           "Grenoble"
          ],
          [
           "Grenoble"
          ],
          [
           "Grenoble"
          ],
          [
           "Grenoble"
          ],
          [
           "Grenoble"
          ],
          [
           "Grenoble"
          ],
          [
           "Grenoble"
          ],
          [
           "Grenoble"
          ],
          [
           "Grenoble"
          ],
          [
           "Grenoble"
          ],
          [
           "Grenoble"
          ],
          [
           "Grenoble"
          ],
          [
           "Meylan"
          ],
          [
           "Meylan"
          ],
          [
           "Meylan"
          ],
          [
           "Meylan"
          ],
          [
           "Meylan"
          ],
          [
           "Meylan"
          ],
          [
           "Meylan"
          ],
          [
           "Meylan"
          ],
          [
           "Meylan"
          ],
          [
           "Meylan"
          ],
          [
           "Meylan"
          ],
          [
           "Meylan"
          ],
          [
           "Meylan"
          ],
          [
           "Meylan"
          ],
          [
           "Meylan"
          ],
          [
           "Meylan"
          ],
          [
           "Montbonnot-Saint-Martin"
          ],
          [
           "Montbonnot-Saint-Martin"
          ],
          [
           "Montbonnot-Saint-Martin"
          ],
          [
           "Montbonnot-Saint-Martin"
          ],
          [
           "Montbonnot-Saint-Martin"
          ],
          [
           "Saint-Ismier"
          ],
          [
           "Saint-Ismier"
          ],
          [
           "Saint-Ismier"
          ],
          [
           "Saint-Ismier"
          ],
          [
           "Saint-Ismier"
          ],
          [
           "Saint-Ismier"
          ],
          [
           "Saint-Ismier"
          ],
          [
           "Saint-Nazaire-les-Eymes"
          ],
          [
           "Saint-Nazaire-les-Eymes"
          ],
          [
           "Saint-Nazaire-les-Eymes"
          ],
          [
           "Le Sappey-en-Chartreuse"
          ],
          [
           "La Tronche"
          ],
          [
           "La Tronche"
          ],
          [
           "La Tronche"
          ],
          [
           "La Tronche"
          ]
         ],
         "hovertemplate": "Liste=Abstention<br>Index=%{x}<br>Pourcentage de Votes=%{text}<br>Commune=%{customdata[0]}<extra></extra>",
         "legendgroup": "Abstention",
         "marker": {
          "color": "grey",
          "pattern": {
           "shape": ""
          }
         },
         "name": "Abstention",
         "offsetgroup": "Abstention",
         "orientation": "v",
         "showlegend": true,
         "text": [
          37.31,
          37.95,
          37.15,
          27.1,
          30.69,
          31.72,
          33.39,
          30.57,
          35.15,
          40.76,
          33.07,
          38.25,
          32.69,
          34.23,
          31.52,
          39.06,
          39,
          41.53,
          31.3,
          29.85,
          38.01,
          38.52,
          40.49,
          54.99,
          33.97,
          35.24,
          44.61,
          54.91,
          37.94,
          39.88,
          36.88,
          35.17,
          45.46,
          34.72,
          43.63,
          36.64,
          34.52,
          35.45,
          35.32,
          34.8,
          35.62,
          68.04,
          31.7,
          31.66,
          30.73,
          35.35,
          34.04,
          32.44,
          35.16,
          39.26,
          38.97,
          37.74,
          33.26,
          45.01,
          40.35,
          38.01,
          35.73,
          40.26,
          37.17,
          30.88,
          33.97,
          34.92,
          35.23,
          31.28,
          38.27,
          34.47,
          38.72,
          34.17,
          33,
          31.99,
          37.78,
          33.99,
          30.77,
          30.63,
          38.14,
          32.49,
          39.42,
          41.56,
          38.62,
          31.26,
          34.02,
          30.75,
          29.16,
          40.19,
          31.21,
          40.09,
          36.45
         ],
         "textposition": "inside",
         "texttemplate": "%{text:.2f}%",
         "type": "bar",
         "x": [
          0,
          1,
          2,
          3,
          4,
          5,
          6,
          7,
          8,
          9,
          10,
          11,
          12,
          13,
          14,
          15,
          16,
          17,
          18,
          19,
          20,
          21,
          22,
          23,
          24,
          25,
          26,
          27,
          28,
          29,
          30,
          31,
          32,
          33,
          34,
          35,
          36,
          37,
          38,
          39,
          40,
          41,
          42,
          43,
          44,
          45,
          46,
          47,
          48,
          49,
          50,
          51,
          52,
          53,
          54,
          55,
          56,
          57,
          58,
          59,
          60,
          61,
          62,
          63,
          64,
          65,
          66,
          67,
          68,
          69,
          70,
          71,
          72,
          73,
          74,
          75,
          76,
          77,
          78,
          79,
          80,
          81,
          82,
          83,
          84,
          85,
          86
         ],
         "xaxis": "x",
         "y": [
          37.31,
          37.95,
          37.15,
          27.1,
          30.69,
          31.72,
          33.39,
          30.57,
          35.15,
          40.76,
          33.07,
          38.25,
          32.69,
          34.23,
          31.52,
          39.06,
          39,
          41.53,
          31.3,
          29.85,
          38.01,
          38.52,
          40.49,
          54.99,
          33.97,
          35.24,
          44.61,
          54.91,
          37.94,
          39.88,
          36.88,
          35.17,
          45.46,
          34.72,
          43.63,
          36.64,
          34.52,
          35.45,
          35.32,
          34.8,
          35.62,
          68.04,
          31.7,
          31.66,
          30.73,
          35.35,
          34.04,
          32.44,
          35.16,
          39.26,
          38.97,
          37.74,
          33.26,
          45.01,
          40.35,
          38.01,
          35.73,
          40.26,
          37.17,
          30.88,
          33.97,
          34.92,
          35.23,
          31.28,
          38.27,
          34.47,
          38.72,
          34.17,
          33,
          31.99,
          37.78,
          33.99,
          30.77,
          30.63,
          38.14,
          32.49,
          39.42,
          41.56,
          38.62,
          31.26,
          34.02,
          30.75,
          29.16,
          40.19,
          31.21,
          40.09,
          36.45
         ],
         "yaxis": "y"
        },
        {
         "alignmentgroup": "True",
         "customdata": [
          [
           "Bernin"
          ],
          [
           "Bernin"
          ],
          [
           "Bernin"
          ],
          [
           "Biviers"
          ],
          [
           "Biviers"
          ],
          [
           "Corenc"
          ],
          [
           "Corenc"
          ],
          [
           "Corenc"
          ],
          [
           "Grenoble"
          ],
          [
           "Grenoble"
          ],
          [
           "Grenoble"
          ],
          [
           "Grenoble"
          ],
          [
           "Grenoble"
          ],
          [
           "Grenoble"
          ],
          [
           "Grenoble"
          ],
          [
           "Grenoble"
          ],
          [
           "Grenoble"
          ],
          [
           "Grenoble"
          ],
          [
           "Grenoble"
          ],
          [
           "Grenoble"
          ],
          [
           "Grenoble"
          ],
          [
           "Grenoble"
          ],
          [
           "Grenoble"
          ],
          [
           "Grenoble"
          ],
          [
           "Grenoble"
          ],
          [
           "Grenoble"
          ],
          [
           "Grenoble"
          ],
          [
           "Grenoble"
          ],
          [
           "Grenoble"
          ],
          [
           "Grenoble"
          ],
          [
           "Grenoble"
          ],
          [
           "Grenoble"
          ],
          [
           "Grenoble"
          ],
          [
           "Grenoble"
          ],
          [
           "Grenoble"
          ],
          [
           "Grenoble"
          ],
          [
           "Grenoble"
          ],
          [
           "Grenoble"
          ],
          [
           "Grenoble"
          ],
          [
           "Grenoble"
          ],
          [
           "Grenoble"
          ],
          [
           "Grenoble"
          ],
          [
           "Grenoble"
          ],
          [
           "Grenoble"
          ],
          [
           "Grenoble"
          ],
          [
           "Grenoble"
          ],
          [
           "Grenoble"
          ],
          [
           "Grenoble"
          ],
          [
           "Grenoble"
          ],
          [
           "Grenoble"
          ],
          [
           "Grenoble"
          ],
          [
           "Meylan"
          ],
          [
           "Meylan"
          ],
          [
           "Meylan"
          ],
          [
           "Meylan"
          ],
          [
           "Meylan"
          ],
          [
           "Meylan"
          ],
          [
           "Meylan"
          ],
          [
           "Meylan"
          ],
          [
           "Meylan"
          ],
          [
           "Meylan"
          ],
          [
           "Meylan"
          ],
          [
           "Meylan"
          ],
          [
           "Meylan"
          ],
          [
           "Meylan"
          ],
          [
           "Meylan"
          ],
          [
           "Meylan"
          ],
          [
           "Montbonnot-Saint-Martin"
          ],
          [
           "Montbonnot-Saint-Martin"
          ],
          [
           "Montbonnot-Saint-Martin"
          ],
          [
           "Montbonnot-Saint-Martin"
          ],
          [
           "Montbonnot-Saint-Martin"
          ],
          [
           "Saint-Ismier"
          ],
          [
           "Saint-Ismier"
          ],
          [
           "Saint-Ismier"
          ],
          [
           "Saint-Ismier"
          ],
          [
           "Saint-Ismier"
          ],
          [
           "Saint-Ismier"
          ],
          [
           "Saint-Ismier"
          ],
          [
           "Saint-Nazaire-les-Eymes"
          ],
          [
           "Saint-Nazaire-les-Eymes"
          ],
          [
           "Saint-Nazaire-les-Eymes"
          ],
          [
           "Le Sappey-en-Chartreuse"
          ],
          [
           "La Tronche"
          ],
          [
           "La Tronche"
          ],
          [
           "La Tronche"
          ],
          [
           "La Tronche"
          ]
         ],
         "hovertemplate": "Liste=Free Palestine<br>Index=%{x}<br>Pourcentage de Votes=%{text}<br>Commune=%{customdata[0]}<extra></extra>",
         "legendgroup": "Free Palestine",
         "marker": {
          "color": "#225b2f",
          "pattern": {
           "shape": ""
          }
         },
         "name": "Free Palestine",
         "offsetgroup": "Free Palestine",
         "orientation": "v",
         "showlegend": true,
         "text": [
          0,
          0,
          0,
          0,
          0,
          0,
          0,
          0,
          0.26,
          0.2,
          0,
          0.26,
          7.69,
          0.09,
          0,
          0.13,
          0.31,
          0.09,
          0,
          0,
          0.33,
          0.11,
          0,
          0.3,
          0,
          0,
          0.7,
          0.58,
          0.47,
          0,
          0.41,
          0,
          0.09,
          0,
          0.12,
          0.1,
          0.28,
          0.1,
          0.2,
          0,
          0.11,
          0,
          0.1,
          0,
          0,
          0,
          0.18,
          0,
          0,
          0.44,
          0,
          0,
          0,
          0,
          0,
          1.61,
          0,
          0,
          0,
          0,
          0,
          0,
          0,
          0,
          0,
          0,
          0.2,
          0,
          0,
          0,
          0,
          0,
          0,
          0,
          0,
          0,
          0,
          0,
          0,
          0,
          0,
          0,
          0,
          0,
          0,
          0,
          0
         ],
         "textposition": "inside",
         "texttemplate": "%{text:.2f}%",
         "type": "bar",
         "x": [
          0,
          1,
          2,
          3,
          4,
          5,
          6,
          7,
          8,
          9,
          10,
          11,
          12,
          13,
          14,
          15,
          16,
          17,
          18,
          19,
          20,
          21,
          22,
          23,
          24,
          25,
          26,
          27,
          28,
          29,
          30,
          31,
          32,
          33,
          34,
          35,
          36,
          37,
          38,
          39,
          40,
          41,
          42,
          43,
          44,
          45,
          46,
          47,
          48,
          49,
          50,
          51,
          52,
          53,
          54,
          55,
          56,
          57,
          58,
          59,
          60,
          61,
          62,
          63,
          64,
          65,
          66,
          67,
          68,
          69,
          70,
          71,
          72,
          73,
          74,
          75,
          76,
          77,
          78,
          79,
          80,
          81,
          82,
          83,
          84,
          85,
          86
         ],
         "xaxis": "x",
         "y": [
          0,
          0,
          0,
          0,
          0,
          0,
          0,
          0,
          0.26,
          0.2,
          0,
          0.26,
          7.69,
          0.09,
          0,
          0.13,
          0.31,
          0.09,
          0,
          0,
          0.33,
          0.11,
          0,
          0.3,
          0,
          0,
          0.7,
          0.58,
          0.47,
          0,
          0.41,
          0,
          0.09,
          0,
          0.12,
          0.1,
          0.28,
          0.1,
          0.2,
          0,
          0.11,
          0,
          0.1,
          0,
          0,
          0,
          0.18,
          0,
          0,
          0.44,
          0,
          0,
          0,
          0,
          0,
          1.61,
          0,
          0,
          0,
          0,
          0,
          0,
          0,
          0,
          0,
          0,
          0.2,
          0,
          0,
          0,
          0,
          0,
          0,
          0,
          0,
          0,
          0,
          0,
          0,
          0,
          0,
          0,
          0,
          0,
          0,
          0,
          0
         ],
         "yaxis": "y"
        },
        {
         "alignmentgroup": "True",
         "customdata": [
          [
           "Bernin"
          ],
          [
           "Bernin"
          ],
          [
           "Bernin"
          ],
          [
           "Biviers"
          ],
          [
           "Biviers"
          ],
          [
           "Corenc"
          ],
          [
           "Corenc"
          ],
          [
           "Corenc"
          ],
          [
           "Grenoble"
          ],
          [
           "Grenoble"
          ],
          [
           "Grenoble"
          ],
          [
           "Grenoble"
          ],
          [
           "Grenoble"
          ],
          [
           "Grenoble"
          ],
          [
           "Grenoble"
          ],
          [
           "Grenoble"
          ],
          [
           "Grenoble"
          ],
          [
           "Grenoble"
          ],
          [
           "Grenoble"
          ],
          [
           "Grenoble"
          ],
          [
           "Grenoble"
          ],
          [
           "Grenoble"
          ],
          [
           "Grenoble"
          ],
          [
           "Grenoble"
          ],
          [
           "Grenoble"
          ],
          [
           "Grenoble"
          ],
          [
           "Grenoble"
          ],
          [
           "Grenoble"
          ],
          [
           "Grenoble"
          ],
          [
           "Grenoble"
          ],
          [
           "Grenoble"
          ],
          [
           "Grenoble"
          ],
          [
           "Grenoble"
          ],
          [
           "Grenoble"
          ],
          [
           "Grenoble"
          ],
          [
           "Grenoble"
          ],
          [
           "Grenoble"
          ],
          [
           "Grenoble"
          ],
          [
           "Grenoble"
          ],
          [
           "Grenoble"
          ],
          [
           "Grenoble"
          ],
          [
           "Grenoble"
          ],
          [
           "Grenoble"
          ],
          [
           "Grenoble"
          ],
          [
           "Grenoble"
          ],
          [
           "Grenoble"
          ],
          [
           "Grenoble"
          ],
          [
           "Grenoble"
          ],
          [
           "Grenoble"
          ],
          [
           "Grenoble"
          ],
          [
           "Grenoble"
          ],
          [
           "Meylan"
          ],
          [
           "Meylan"
          ],
          [
           "Meylan"
          ],
          [
           "Meylan"
          ],
          [
           "Meylan"
          ],
          [
           "Meylan"
          ],
          [
           "Meylan"
          ],
          [
           "Meylan"
          ],
          [
           "Meylan"
          ],
          [
           "Meylan"
          ],
          [
           "Meylan"
          ],
          [
           "Meylan"
          ],
          [
           "Meylan"
          ],
          [
           "Meylan"
          ],
          [
           "Meylan"
          ],
          [
           "Meylan"
          ],
          [
           "Montbonnot-Saint-Martin"
          ],
          [
           "Montbonnot-Saint-Martin"
          ],
          [
           "Montbonnot-Saint-Martin"
          ],
          [
           "Montbonnot-Saint-Martin"
          ],
          [
           "Montbonnot-Saint-Martin"
          ],
          [
           "Saint-Ismier"
          ],
          [
           "Saint-Ismier"
          ],
          [
           "Saint-Ismier"
          ],
          [
           "Saint-Ismier"
          ],
          [
           "Saint-Ismier"
          ],
          [
           "Saint-Ismier"
          ],
          [
           "Saint-Ismier"
          ],
          [
           "Saint-Nazaire-les-Eymes"
          ],
          [
           "Saint-Nazaire-les-Eymes"
          ],
          [
           "Saint-Nazaire-les-Eymes"
          ],
          [
           "Le Sappey-en-Chartreuse"
          ],
          [
           "La Tronche"
          ],
          [
           "La Tronche"
          ],
          [
           "La Tronche"
          ],
          [
           "La Tronche"
          ]
         ],
         "hovertemplate": "Liste=LFI<br>Index=%{x}<br>Pourcentage de Votes=%{text}<br>Commune=%{customdata[0]}<extra></extra>",
         "legendgroup": "LFI",
         "marker": {
          "color": "#e11818",
          "pattern": {
           "shape": ""
          }
         },
         "name": "LFI",
         "offsetgroup": "LFI",
         "orientation": "v",
         "showlegend": true,
         "text": [
          3.08,
          3.21,
          2.73,
          2.7,
          2.61,
          4.24,
          3.72,
          4.01,
          12.54,
          14.66,
          9.98,
          10.72,
          8.61,
          13.99,
          9.92,
          15.39,
          14.02,
          15.89,
          9.12,
          7.52,
          10.5,
          7.83,
          12.65,
          17.28,
          10.47,
          13.56,
          18.67,
          17.69,
          14.39,
          15.18,
          11.35,
          10.29,
          14.63,
          9.48,
          13.34,
          14.53,
          12.22,
          11.57,
          9.11,
          9.26,
          11.63,
          7.76,
          11.86,
          13.8,
          10.4,
          12.5,
          13.42,
          10.93,
          13.24,
          14.52,
          10.88,
          6.77,
          5.21,
          6.65,
          5.69,
          5.84,
          4.47,
          6.5,
          7.3,
          4.16,
          4.17,
          3.95,
          10.07,
          3.54,
          4.8,
          3.22,
          4.59,
          2.64,
          3.23,
          3.16,
          3.96,
          2.54,
          2.49,
          3,
          3.24,
          3.14,
          2.39,
          2.34,
          5.49,
          2.23,
          2.47,
          3.17,
          6.85,
          7.04,
          5.38,
          7.81,
          5.38
         ],
         "textposition": "inside",
         "texttemplate": "%{text:.2f}%",
         "type": "bar",
         "x": [
          0,
          1,
          2,
          3,
          4,
          5,
          6,
          7,
          8,
          9,
          10,
          11,
          12,
          13,
          14,
          15,
          16,
          17,
          18,
          19,
          20,
          21,
          22,
          23,
          24,
          25,
          26,
          27,
          28,
          29,
          30,
          31,
          32,
          33,
          34,
          35,
          36,
          37,
          38,
          39,
          40,
          41,
          42,
          43,
          44,
          45,
          46,
          47,
          48,
          49,
          50,
          51,
          52,
          53,
          54,
          55,
          56,
          57,
          58,
          59,
          60,
          61,
          62,
          63,
          64,
          65,
          66,
          67,
          68,
          69,
          70,
          71,
          72,
          73,
          74,
          75,
          76,
          77,
          78,
          79,
          80,
          81,
          82,
          83,
          84,
          85,
          86
         ],
         "xaxis": "x",
         "y": [
          3.08,
          3.21,
          2.73,
          2.7,
          2.61,
          4.24,
          3.72,
          4.01,
          12.54,
          14.66,
          9.98,
          10.72,
          8.61,
          13.99,
          9.92,
          15.39,
          14.02,
          15.89,
          9.12,
          7.52,
          10.5,
          7.83,
          12.65,
          17.28,
          10.47,
          13.56,
          18.67,
          17.69,
          14.39,
          15.18,
          11.35,
          10.29,
          14.63,
          9.48,
          13.34,
          14.53,
          12.22,
          11.57,
          9.11,
          9.26,
          11.63,
          7.76,
          11.86,
          13.8,
          10.4,
          12.5,
          13.42,
          10.93,
          13.24,
          14.52,
          10.88,
          6.77,
          5.21,
          6.65,
          5.69,
          5.84,
          4.47,
          6.5,
          7.3,
          4.16,
          4.17,
          3.95,
          10.07,
          3.54,
          4.8,
          3.22,
          4.59,
          2.64,
          3.23,
          3.16,
          3.96,
          2.54,
          2.49,
          3,
          3.24,
          3.14,
          2.39,
          2.34,
          5.49,
          2.23,
          2.47,
          3.17,
          6.85,
          7.04,
          5.38,
          7.81,
          5.38
         ],
         "yaxis": "y"
        },
        {
         "alignmentgroup": "True",
         "customdata": [
          [
           "Bernin"
          ],
          [
           "Bernin"
          ],
          [
           "Bernin"
          ],
          [
           "Biviers"
          ],
          [
           "Biviers"
          ],
          [
           "Corenc"
          ],
          [
           "Corenc"
          ],
          [
           "Corenc"
          ],
          [
           "Grenoble"
          ],
          [
           "Grenoble"
          ],
          [
           "Grenoble"
          ],
          [
           "Grenoble"
          ],
          [
           "Grenoble"
          ],
          [
           "Grenoble"
          ],
          [
           "Grenoble"
          ],
          [
           "Grenoble"
          ],
          [
           "Grenoble"
          ],
          [
           "Grenoble"
          ],
          [
           "Grenoble"
          ],
          [
           "Grenoble"
          ],
          [
           "Grenoble"
          ],
          [
           "Grenoble"
          ],
          [
           "Grenoble"
          ],
          [
           "Grenoble"
          ],
          [
           "Grenoble"
          ],
          [
           "Grenoble"
          ],
          [
           "Grenoble"
          ],
          [
           "Grenoble"
          ],
          [
           "Grenoble"
          ],
          [
           "Grenoble"
          ],
          [
           "Grenoble"
          ],
          [
           "Grenoble"
          ],
          [
           "Grenoble"
          ],
          [
           "Grenoble"
          ],
          [
           "Grenoble"
          ],
          [
           "Grenoble"
          ],
          [
           "Grenoble"
          ],
          [
           "Grenoble"
          ],
          [
           "Grenoble"
          ],
          [
           "Grenoble"
          ],
          [
           "Grenoble"
          ],
          [
           "Grenoble"
          ],
          [
           "Grenoble"
          ],
          [
           "Grenoble"
          ],
          [
           "Grenoble"
          ],
          [
           "Grenoble"
          ],
          [
           "Grenoble"
          ],
          [
           "Grenoble"
          ],
          [
           "Grenoble"
          ],
          [
           "Grenoble"
          ],
          [
           "Grenoble"
          ],
          [
           "Meylan"
          ],
          [
           "Meylan"
          ],
          [
           "Meylan"
          ],
          [
           "Meylan"
          ],
          [
           "Meylan"
          ],
          [
           "Meylan"
          ],
          [
           "Meylan"
          ],
          [
           "Meylan"
          ],
          [
           "Meylan"
          ],
          [
           "Meylan"
          ],
          [
           "Meylan"
          ],
          [
           "Meylan"
          ],
          [
           "Meylan"
          ],
          [
           "Meylan"
          ],
          [
           "Meylan"
          ],
          [
           "Meylan"
          ],
          [
           "Montbonnot-Saint-Martin"
          ],
          [
           "Montbonnot-Saint-Martin"
          ],
          [
           "Montbonnot-Saint-Martin"
          ],
          [
           "Montbonnot-Saint-Martin"
          ],
          [
           "Montbonnot-Saint-Martin"
          ],
          [
           "Saint-Ismier"
          ],
          [
           "Saint-Ismier"
          ],
          [
           "Saint-Ismier"
          ],
          [
           "Saint-Ismier"
          ],
          [
           "Saint-Ismier"
          ],
          [
           "Saint-Ismier"
          ],
          [
           "Saint-Ismier"
          ],
          [
           "Saint-Nazaire-les-Eymes"
          ],
          [
           "Saint-Nazaire-les-Eymes"
          ],
          [
           "Saint-Nazaire-les-Eymes"
          ],
          [
           "Le Sappey-en-Chartreuse"
          ],
          [
           "La Tronche"
          ],
          [
           "La Tronche"
          ],
          [
           "La Tronche"
          ],
          [
           "La Tronche"
          ]
         ],
         "hovertemplate": "Liste=PCF<br>Index=%{x}<br>Pourcentage de Votes=%{text}<br>Commune=%{customdata[0]}<extra></extra>",
         "legendgroup": "PCF",
         "marker": {
          "color": "#db435c",
          "pattern": {
           "shape": ""
          }
         },
         "name": "PCF",
         "offsetgroup": "PCF",
         "orientation": "v",
         "showlegend": true,
         "text": [
          0.41,
          0.3,
          0.4,
          0.39,
          0.58,
          0.95,
          0.58,
          0.55,
          0.77,
          1.08,
          0.59,
          1.37,
          0.34,
          0.96,
          0.97,
          0.51,
          0.82,
          0.76,
          1.14,
          1.06,
          0.99,
          1.07,
          1.13,
          0.39,
          1.73,
          2.03,
          0.88,
          0.92,
          1.12,
          1.57,
          0.81,
          1.13,
          0.7,
          0.71,
          1.44,
          1.43,
          1.14,
          1.25,
          1.42,
          0.94,
          1.06,
          0.46,
          0.9,
          1.25,
          0.96,
          1.21,
          0.89,
          0.87,
          1.34,
          0.7,
          2.01,
          0.86,
          1.04,
          1.35,
          1.11,
          0.37,
          0.76,
          0.93,
          0.91,
          0.36,
          0.48,
          0.23,
          0.66,
          0.3,
          0.75,
          0.3,
          0.6,
          0.28,
          0.28,
          0.29,
          0.99,
          0.23,
          0.33,
          0.13,
          0,
          0.48,
          0.38,
          0.52,
          0.2,
          1.53,
          0.82,
          0.94,
          0.39,
          0.28,
          0.09,
          0.93,
          0.32
         ],
         "textposition": "inside",
         "texttemplate": "%{text:.2f}%",
         "type": "bar",
         "x": [
          0,
          1,
          2,
          3,
          4,
          5,
          6,
          7,
          8,
          9,
          10,
          11,
          12,
          13,
          14,
          15,
          16,
          17,
          18,
          19,
          20,
          21,
          22,
          23,
          24,
          25,
          26,
          27,
          28,
          29,
          30,
          31,
          32,
          33,
          34,
          35,
          36,
          37,
          38,
          39,
          40,
          41,
          42,
          43,
          44,
          45,
          46,
          47,
          48,
          49,
          50,
          51,
          52,
          53,
          54,
          55,
          56,
          57,
          58,
          59,
          60,
          61,
          62,
          63,
          64,
          65,
          66,
          67,
          68,
          69,
          70,
          71,
          72,
          73,
          74,
          75,
          76,
          77,
          78,
          79,
          80,
          81,
          82,
          83,
          84,
          85,
          86
         ],
         "xaxis": "x",
         "y": [
          0.41,
          0.3,
          0.4,
          0.39,
          0.58,
          0.95,
          0.58,
          0.55,
          0.77,
          1.08,
          0.59,
          1.37,
          0.34,
          0.96,
          0.97,
          0.51,
          0.82,
          0.76,
          1.14,
          1.06,
          0.99,
          1.07,
          1.13,
          0.39,
          1.73,
          2.03,
          0.88,
          0.92,
          1.12,
          1.57,
          0.81,
          1.13,
          0.7,
          0.71,
          1.44,
          1.43,
          1.14,
          1.25,
          1.42,
          0.94,
          1.06,
          0.46,
          0.9,
          1.25,
          0.96,
          1.21,
          0.89,
          0.87,
          1.34,
          0.7,
          2.01,
          0.86,
          1.04,
          1.35,
          1.11,
          0.37,
          0.76,
          0.93,
          0.91,
          0.36,
          0.48,
          0.23,
          0.66,
          0.3,
          0.75,
          0.3,
          0.6,
          0.28,
          0.28,
          0.29,
          0.99,
          0.23,
          0.33,
          0.13,
          0,
          0.48,
          0.38,
          0.52,
          0.2,
          1.53,
          0.82,
          0.94,
          0.39,
          0.28,
          0.09,
          0.93,
          0.32
         ],
         "yaxis": "y"
        },
        {
         "alignmentgroup": "True",
         "customdata": [
          [
           "Bernin"
          ],
          [
           "Bernin"
          ],
          [
           "Bernin"
          ],
          [
           "Biviers"
          ],
          [
           "Biviers"
          ],
          [
           "Corenc"
          ],
          [
           "Corenc"
          ],
          [
           "Corenc"
          ],
          [
           "Grenoble"
          ],
          [
           "Grenoble"
          ],
          [
           "Grenoble"
          ],
          [
           "Grenoble"
          ],
          [
           "Grenoble"
          ],
          [
           "Grenoble"
          ],
          [
           "Grenoble"
          ],
          [
           "Grenoble"
          ],
          [
           "Grenoble"
          ],
          [
           "Grenoble"
          ],
          [
           "Grenoble"
          ],
          [
           "Grenoble"
          ],
          [
           "Grenoble"
          ],
          [
           "Grenoble"
          ],
          [
           "Grenoble"
          ],
          [
           "Grenoble"
          ],
          [
           "Grenoble"
          ],
          [
           "Grenoble"
          ],
          [
           "Grenoble"
          ],
          [
           "Grenoble"
          ],
          [
           "Grenoble"
          ],
          [
           "Grenoble"
          ],
          [
           "Grenoble"
          ],
          [
           "Grenoble"
          ],
          [
           "Grenoble"
          ],
          [
           "Grenoble"
          ],
          [
           "Grenoble"
          ],
          [
           "Grenoble"
          ],
          [
           "Grenoble"
          ],
          [
           "Grenoble"
          ],
          [
           "Grenoble"
          ],
          [
           "Grenoble"
          ],
          [
           "Grenoble"
          ],
          [
           "Grenoble"
          ],
          [
           "Grenoble"
          ],
          [
           "Grenoble"
          ],
          [
           "Grenoble"
          ],
          [
           "Grenoble"
          ],
          [
           "Grenoble"
          ],
          [
           "Grenoble"
          ],
          [
           "Grenoble"
          ],
          [
           "Grenoble"
          ],
          [
           "Grenoble"
          ],
          [
           "Meylan"
          ],
          [
           "Meylan"
          ],
          [
           "Meylan"
          ],
          [
           "Meylan"
          ],
          [
           "Meylan"
          ],
          [
           "Meylan"
          ],
          [
           "Meylan"
          ],
          [
           "Meylan"
          ],
          [
           "Meylan"
          ],
          [
           "Meylan"
          ],
          [
           "Meylan"
          ],
          [
           "Meylan"
          ],
          [
           "Meylan"
          ],
          [
           "Meylan"
          ],
          [
           "Meylan"
          ],
          [
           "Meylan"
          ],
          [
           "Montbonnot-Saint-Martin"
          ],
          [
           "Montbonnot-Saint-Martin"
          ],
          [
           "Montbonnot-Saint-Martin"
          ],
          [
           "Montbonnot-Saint-Martin"
          ],
          [
           "Montbonnot-Saint-Martin"
          ],
          [
           "Saint-Ismier"
          ],
          [
           "Saint-Ismier"
          ],
          [
           "Saint-Ismier"
          ],
          [
           "Saint-Ismier"
          ],
          [
           "Saint-Ismier"
          ],
          [
           "Saint-Ismier"
          ],
          [
           "Saint-Ismier"
          ],
          [
           "Saint-Nazaire-les-Eymes"
          ],
          [
           "Saint-Nazaire-les-Eymes"
          ],
          [
           "Saint-Nazaire-les-Eymes"
          ],
          [
           "Le Sappey-en-Chartreuse"
          ],
          [
           "La Tronche"
          ],
          [
           "La Tronche"
          ],
          [
           "La Tronche"
          ],
          [
           "La Tronche"
          ]
         ],
         "hovertemplate": "Liste=EELV<br>Index=%{x}<br>Pourcentage de Votes=%{text}<br>Commune=%{customdata[0]}<extra></extra>",
         "legendgroup": "EELV",
         "marker": {
          "color": "#53dc20",
          "pattern": {
           "shape": ""
          }
         },
         "name": "EELV",
         "offsetgroup": "EELV",
         "orientation": "v",
         "showlegend": true,
         "text": [
          6.58,
          6.63,
          7.39,
          6.46,
          6.2,
          8.21,
          8.6,
          7.76,
          9.04,
          9.97,
          8.61,
          9.01,
          0,
          11.29,
          10.8,
          10.69,
          9.62,
          8.23,
          7.77,
          11.63,
          9.72,
          10.73,
          10.03,
          3.85,
          8.65,
          8.67,
          3.59,
          2.89,
          7.66,
          6.99,
          8.31,
          9.97,
          6.08,
          8.24,
          7.33,
          8.5,
          10.8,
          8.34,
          6.88,
          8.51,
          6.24,
          1.83,
          9.87,
          12.45,
          10.5,
          10.63,
          8.36,
          12.32,
          8.07,
          4.84,
          8.03,
          5.59,
          5.45,
          3.95,
          3.84,
          5.22,
          5.66,
          5.8,
          6.16,
          6.65,
          5.01,
          3.73,
          10.18,
          6.78,
          8.32,
          3.22,
          4.99,
          4.86,
          5.53,
          4.59,
          5.14,
          7.05,
          6.28,
          6.38,
          3.8,
          5.07,
          4.16,
          4.42,
          4.79,
          5.52,
          6.31,
          9.04,
          16.63,
          10.42,
          9.06,
          7.53,
          9.35
         ],
         "textposition": "inside",
         "texttemplate": "%{text:.2f}%",
         "type": "bar",
         "x": [
          0,
          1,
          2,
          3,
          4,
          5,
          6,
          7,
          8,
          9,
          10,
          11,
          12,
          13,
          14,
          15,
          16,
          17,
          18,
          19,
          20,
          21,
          22,
          23,
          24,
          25,
          26,
          27,
          28,
          29,
          30,
          31,
          32,
          33,
          34,
          35,
          36,
          37,
          38,
          39,
          40,
          41,
          42,
          43,
          44,
          45,
          46,
          47,
          48,
          49,
          50,
          51,
          52,
          53,
          54,
          55,
          56,
          57,
          58,
          59,
          60,
          61,
          62,
          63,
          64,
          65,
          66,
          67,
          68,
          69,
          70,
          71,
          72,
          73,
          74,
          75,
          76,
          77,
          78,
          79,
          80,
          81,
          82,
          83,
          84,
          85,
          86
         ],
         "xaxis": "x",
         "y": [
          6.58,
          6.63,
          7.39,
          6.46,
          6.2,
          8.21,
          8.6,
          7.76,
          9.04,
          9.97,
          8.61,
          9.01,
          0,
          11.29,
          10.8,
          10.69,
          9.62,
          8.23,
          7.77,
          11.63,
          9.72,
          10.73,
          10.03,
          3.85,
          8.65,
          8.67,
          3.59,
          2.89,
          7.66,
          6.99,
          8.31,
          9.97,
          6.08,
          8.24,
          7.33,
          8.5,
          10.8,
          8.34,
          6.88,
          8.51,
          6.24,
          1.83,
          9.87,
          12.45,
          10.5,
          10.63,
          8.36,
          12.32,
          8.07,
          4.84,
          8.03,
          5.59,
          5.45,
          3.95,
          3.84,
          5.22,
          5.66,
          5.8,
          6.16,
          6.65,
          5.01,
          3.73,
          10.18,
          6.78,
          8.32,
          3.22,
          4.99,
          4.86,
          5.53,
          4.59,
          5.14,
          7.05,
          6.28,
          6.38,
          3.8,
          5.07,
          4.16,
          4.42,
          4.79,
          5.52,
          6.31,
          9.04,
          16.63,
          10.42,
          9.06,
          7.53,
          9.35
         ],
         "yaxis": "y"
        },
        {
         "alignmentgroup": "True",
         "customdata": [
          [
           "Bernin"
          ],
          [
           "Bernin"
          ],
          [
           "Bernin"
          ],
          [
           "Biviers"
          ],
          [
           "Biviers"
          ],
          [
           "Corenc"
          ],
          [
           "Corenc"
          ],
          [
           "Corenc"
          ],
          [
           "Grenoble"
          ],
          [
           "Grenoble"
          ],
          [
           "Grenoble"
          ],
          [
           "Grenoble"
          ],
          [
           "Grenoble"
          ],
          [
           "Grenoble"
          ],
          [
           "Grenoble"
          ],
          [
           "Grenoble"
          ],
          [
           "Grenoble"
          ],
          [
           "Grenoble"
          ],
          [
           "Grenoble"
          ],
          [
           "Grenoble"
          ],
          [
           "Grenoble"
          ],
          [
           "Grenoble"
          ],
          [
           "Grenoble"
          ],
          [
           "Grenoble"
          ],
          [
           "Grenoble"
          ],
          [
           "Grenoble"
          ],
          [
           "Grenoble"
          ],
          [
           "Grenoble"
          ],
          [
           "Grenoble"
          ],
          [
           "Grenoble"
          ],
          [
           "Grenoble"
          ],
          [
           "Grenoble"
          ],
          [
           "Grenoble"
          ],
          [
           "Grenoble"
          ],
          [
           "Grenoble"
          ],
          [
           "Grenoble"
          ],
          [
           "Grenoble"
          ],
          [
           "Grenoble"
          ],
          [
           "Grenoble"
          ],
          [
           "Grenoble"
          ],
          [
           "Grenoble"
          ],
          [
           "Grenoble"
          ],
          [
           "Grenoble"
          ],
          [
           "Grenoble"
          ],
          [
           "Grenoble"
          ],
          [
           "Grenoble"
          ],
          [
           "Grenoble"
          ],
          [
           "Grenoble"
          ],
          [
           "Grenoble"
          ],
          [
           "Grenoble"
          ],
          [
           "Grenoble"
          ],
          [
           "Meylan"
          ],
          [
           "Meylan"
          ],
          [
           "Meylan"
          ],
          [
           "Meylan"
          ],
          [
           "Meylan"
          ],
          [
           "Meylan"
          ],
          [
           "Meylan"
          ],
          [
           "Meylan"
          ],
          [
           "Meylan"
          ],
          [
           "Meylan"
          ],
          [
           "Meylan"
          ],
          [
           "Meylan"
          ],
          [
           "Meylan"
          ],
          [
           "Meylan"
          ],
          [
           "Meylan"
          ],
          [
           "Meylan"
          ],
          [
           "Montbonnot-Saint-Martin"
          ],
          [
           "Montbonnot-Saint-Martin"
          ],
          [
           "Montbonnot-Saint-Martin"
          ],
          [
           "Montbonnot-Saint-Martin"
          ],
          [
           "Montbonnot-Saint-Martin"
          ],
          [
           "Saint-Ismier"
          ],
          [
           "Saint-Ismier"
          ],
          [
           "Saint-Ismier"
          ],
          [
           "Saint-Ismier"
          ],
          [
           "Saint-Ismier"
          ],
          [
           "Saint-Ismier"
          ],
          [
           "Saint-Ismier"
          ],
          [
           "Saint-Nazaire-les-Eymes"
          ],
          [
           "Saint-Nazaire-les-Eymes"
          ],
          [
           "Saint-Nazaire-les-Eymes"
          ],
          [
           "Le Sappey-en-Chartreuse"
          ],
          [
           "La Tronche"
          ],
          [
           "La Tronche"
          ],
          [
           "La Tronche"
          ],
          [
           "La Tronche"
          ]
         ],
         "hovertemplate": "Liste=PS-PP<br>Index=%{x}<br>Pourcentage de Votes=%{text}<br>Commune=%{customdata[0]}<extra></extra>",
         "legendgroup": "PS-PP",
         "marker": {
          "color": "#fe92fc",
          "pattern": {
           "shape": ""
          }
         },
         "name": "PS-PP",
         "offsetgroup": "PS-PP",
         "orientation": "v",
         "showlegend": true,
         "text": [
          13.67,
          13.96,
          12.75,
          13.5,
          13.07,
          14,
          14.96,
          12.41,
          14.68,
          14.57,
          14.68,
          15.87,
          14.27,
          17.55,
          15.47,
          13.87,
          15.25,
          15.7,
          21.35,
          17.86,
          14.25,
          17.7,
          11.69,
          3.55,
          18.31,
          13.56,
          7.98,
          3.58,
          11.21,
          11.33,
          14.29,
          14.99,
          11.01,
          13.37,
          8.89,
          11.16,
          10.65,
          15.54,
          14.78,
          15.25,
          13.21,
          1.83,
          15.75,
          16.6,
          20.42,
          14.27,
          14.67,
          16.91,
          14.17,
          11.09,
          12.25,
          11.29,
          15.99,
          11.43,
          11.51,
          12.8,
          12.31,
          12.53,
          12.43,
          12.47,
          8.82,
          9.6,
          15.54,
          14.57,
          14.61,
          9.75,
          10.98,
          10.83,
          15.21,
          13.63,
          10.29,
          13.06,
          12.68,
          16,
          11.07,
          13.65,
          10.2,
          11.43,
          10.78,
          12.46,
          13.72,
          13.26,
          16.63,
          11.74,
          15.87,
          12.47,
          15.38
         ],
         "textposition": "inside",
         "texttemplate": "%{text:.2f}%",
         "type": "bar",
         "x": [
          0,
          1,
          2,
          3,
          4,
          5,
          6,
          7,
          8,
          9,
          10,
          11,
          12,
          13,
          14,
          15,
          16,
          17,
          18,
          19,
          20,
          21,
          22,
          23,
          24,
          25,
          26,
          27,
          28,
          29,
          30,
          31,
          32,
          33,
          34,
          35,
          36,
          37,
          38,
          39,
          40,
          41,
          42,
          43,
          44,
          45,
          46,
          47,
          48,
          49,
          50,
          51,
          52,
          53,
          54,
          55,
          56,
          57,
          58,
          59,
          60,
          61,
          62,
          63,
          64,
          65,
          66,
          67,
          68,
          69,
          70,
          71,
          72,
          73,
          74,
          75,
          76,
          77,
          78,
          79,
          80,
          81,
          82,
          83,
          84,
          85,
          86
         ],
         "xaxis": "x",
         "y": [
          13.67,
          13.96,
          12.75,
          13.5,
          13.07,
          14,
          14.96,
          12.41,
          14.68,
          14.57,
          14.68,
          15.87,
          14.27,
          17.55,
          15.47,
          13.87,
          15.25,
          15.7,
          21.35,
          17.86,
          14.25,
          17.7,
          11.69,
          3.55,
          18.31,
          13.56,
          7.98,
          3.58,
          11.21,
          11.33,
          14.29,
          14.99,
          11.01,
          13.37,
          8.89,
          11.16,
          10.65,
          15.54,
          14.78,
          15.25,
          13.21,
          1.83,
          15.75,
          16.6,
          20.42,
          14.27,
          14.67,
          16.91,
          14.17,
          11.09,
          12.25,
          11.29,
          15.99,
          11.43,
          11.51,
          12.8,
          12.31,
          12.53,
          12.43,
          12.47,
          8.82,
          9.6,
          15.54,
          14.57,
          14.61,
          9.75,
          10.98,
          10.83,
          15.21,
          13.63,
          10.29,
          13.06,
          12.68,
          16,
          11.07,
          13.65,
          10.2,
          11.43,
          10.78,
          12.46,
          13.72,
          13.26,
          16.63,
          11.74,
          15.87,
          12.47,
          15.38
         ],
         "yaxis": "y"
        },
        {
         "alignmentgroup": "True",
         "customdata": [
          [
           "Bernin"
          ],
          [
           "Bernin"
          ],
          [
           "Bernin"
          ],
          [
           "Biviers"
          ],
          [
           "Biviers"
          ],
          [
           "Corenc"
          ],
          [
           "Corenc"
          ],
          [
           "Corenc"
          ],
          [
           "Grenoble"
          ],
          [
           "Grenoble"
          ],
          [
           "Grenoble"
          ],
          [
           "Grenoble"
          ],
          [
           "Grenoble"
          ],
          [
           "Grenoble"
          ],
          [
           "Grenoble"
          ],
          [
           "Grenoble"
          ],
          [
           "Grenoble"
          ],
          [
           "Grenoble"
          ],
          [
           "Grenoble"
          ],
          [
           "Grenoble"
          ],
          [
           "Grenoble"
          ],
          [
           "Grenoble"
          ],
          [
           "Grenoble"
          ],
          [
           "Grenoble"
          ],
          [
           "Grenoble"
          ],
          [
           "Grenoble"
          ],
          [
           "Grenoble"
          ],
          [
           "Grenoble"
          ],
          [
           "Grenoble"
          ],
          [
           "Grenoble"
          ],
          [
           "Grenoble"
          ],
          [
           "Grenoble"
          ],
          [
           "Grenoble"
          ],
          [
           "Grenoble"
          ],
          [
           "Grenoble"
          ],
          [
           "Grenoble"
          ],
          [
           "Grenoble"
          ],
          [
           "Grenoble"
          ],
          [
           "Grenoble"
          ],
          [
           "Grenoble"
          ],
          [
           "Grenoble"
          ],
          [
           "Grenoble"
          ],
          [
           "Grenoble"
          ],
          [
           "Grenoble"
          ],
          [
           "Grenoble"
          ],
          [
           "Grenoble"
          ],
          [
           "Grenoble"
          ],
          [
           "Grenoble"
          ],
          [
           "Grenoble"
          ],
          [
           "Grenoble"
          ],
          [
           "Grenoble"
          ],
          [
           "Meylan"
          ],
          [
           "Meylan"
          ],
          [
           "Meylan"
          ],
          [
           "Meylan"
          ],
          [
           "Meylan"
          ],
          [
           "Meylan"
          ],
          [
           "Meylan"
          ],
          [
           "Meylan"
          ],
          [
           "Meylan"
          ],
          [
           "Meylan"
          ],
          [
           "Meylan"
          ],
          [
           "Meylan"
          ],
          [
           "Meylan"
          ],
          [
           "Meylan"
          ],
          [
           "Meylan"
          ],
          [
           "Meylan"
          ],
          [
           "Montbonnot-Saint-Martin"
          ],
          [
           "Montbonnot-Saint-Martin"
          ],
          [
           "Montbonnot-Saint-Martin"
          ],
          [
           "Montbonnot-Saint-Martin"
          ],
          [
           "Montbonnot-Saint-Martin"
          ],
          [
           "Saint-Ismier"
          ],
          [
           "Saint-Ismier"
          ],
          [
           "Saint-Ismier"
          ],
          [
           "Saint-Ismier"
          ],
          [
           "Saint-Ismier"
          ],
          [
           "Saint-Ismier"
          ],
          [
           "Saint-Ismier"
          ],
          [
           "Saint-Nazaire-les-Eymes"
          ],
          [
           "Saint-Nazaire-les-Eymes"
          ],
          [
           "Saint-Nazaire-les-Eymes"
          ],
          [
           "Le Sappey-en-Chartreuse"
          ],
          [
           "La Tronche"
          ],
          [
           "La Tronche"
          ],
          [
           "La Tronche"
          ],
          [
           "La Tronche"
          ]
         ],
         "hovertemplate": "Liste=Pirate<br>Index=%{x}<br>Pourcentage de Votes=%{text}<br>Commune=%{customdata[0]}<extra></extra>",
         "legendgroup": "Pirate",
         "marker": {
          "color": "#000000",
          "pattern": {
           "shape": ""
          }
         },
         "name": "Pirate",
         "offsetgroup": "Pirate",
         "orientation": "v",
         "showlegend": true,
         "text": [
          0,
          0,
          0,
          0.19,
          0,
          0,
          0,
          0,
          0.17,
          0,
          1.08,
          0,
          0,
          0.09,
          0,
          0,
          0.2,
          0.09,
          0.21,
          0.12,
          0.11,
          0,
          0,
          0,
          0.18,
          0.09,
          0.09,
          0,
          0.09,
          0.24,
          0.1,
          0,
          0,
          0,
          0.12,
          0,
          0,
          0,
          0,
          0,
          0.32,
          0,
          0,
          0,
          0.1,
          0,
          0.36,
          0.17,
          0,
          0.18,
          0,
          0,
          0,
          0.21,
          0,
          0.12,
          0.11,
          0.35,
          0,
          0,
          0,
          0,
          0.22,
          0,
          0.11,
          0,
          0,
          0,
          0,
          0,
          0.3,
          0,
          0,
          0,
          0,
          0.12,
          0,
          0,
          0.1,
          0,
          0.27,
          0,
          0.1,
          0,
          0,
          0.28,
          0.32
         ],
         "textposition": "inside",
         "texttemplate": "%{text:.2f}%",
         "type": "bar",
         "x": [
          0,
          1,
          2,
          3,
          4,
          5,
          6,
          7,
          8,
          9,
          10,
          11,
          12,
          13,
          14,
          15,
          16,
          17,
          18,
          19,
          20,
          21,
          22,
          23,
          24,
          25,
          26,
          27,
          28,
          29,
          30,
          31,
          32,
          33,
          34,
          35,
          36,
          37,
          38,
          39,
          40,
          41,
          42,
          43,
          44,
          45,
          46,
          47,
          48,
          49,
          50,
          51,
          52,
          53,
          54,
          55,
          56,
          57,
          58,
          59,
          60,
          61,
          62,
          63,
          64,
          65,
          66,
          67,
          68,
          69,
          70,
          71,
          72,
          73,
          74,
          75,
          76,
          77,
          78,
          79,
          80,
          81,
          82,
          83,
          84,
          85,
          86
         ],
         "xaxis": "x",
         "y": [
          0,
          0,
          0,
          0.19,
          0,
          0,
          0,
          0,
          0.17,
          0,
          1.08,
          0,
          0,
          0.09,
          0,
          0,
          0.2,
          0.09,
          0.21,
          0.12,
          0.11,
          0,
          0,
          0,
          0.18,
          0.09,
          0.09,
          0,
          0.09,
          0.24,
          0.1,
          0,
          0,
          0,
          0.12,
          0,
          0,
          0,
          0,
          0,
          0.32,
          0,
          0,
          0,
          0.1,
          0,
          0.36,
          0.17,
          0,
          0.18,
          0,
          0,
          0,
          0.21,
          0,
          0.12,
          0.11,
          0.35,
          0,
          0,
          0,
          0,
          0.22,
          0,
          0.11,
          0,
          0,
          0,
          0,
          0,
          0.3,
          0,
          0,
          0,
          0,
          0.12,
          0,
          0,
          0.1,
          0,
          0.27,
          0,
          0.1,
          0,
          0,
          0.28,
          0.32
         ],
         "yaxis": "y"
        },
        {
         "alignmentgroup": "True",
         "customdata": [
          [
           "Bernin"
          ],
          [
           "Bernin"
          ],
          [
           "Bernin"
          ],
          [
           "Biviers"
          ],
          [
           "Biviers"
          ],
          [
           "Corenc"
          ],
          [
           "Corenc"
          ],
          [
           "Corenc"
          ],
          [
           "Grenoble"
          ],
          [
           "Grenoble"
          ],
          [
           "Grenoble"
          ],
          [
           "Grenoble"
          ],
          [
           "Grenoble"
          ],
          [
           "Grenoble"
          ],
          [
           "Grenoble"
          ],
          [
           "Grenoble"
          ],
          [
           "Grenoble"
          ],
          [
           "Grenoble"
          ],
          [
           "Grenoble"
          ],
          [
           "Grenoble"
          ],
          [
           "Grenoble"
          ],
          [
           "Grenoble"
          ],
          [
           "Grenoble"
          ],
          [
           "Grenoble"
          ],
          [
           "Grenoble"
          ],
          [
           "Grenoble"
          ],
          [
           "Grenoble"
          ],
          [
           "Grenoble"
          ],
          [
           "Grenoble"
          ],
          [
           "Grenoble"
          ],
          [
           "Grenoble"
          ],
          [
           "Grenoble"
          ],
          [
           "Grenoble"
          ],
          [
           "Grenoble"
          ],
          [
           "Grenoble"
          ],
          [
           "Grenoble"
          ],
          [
           "Grenoble"
          ],
          [
           "Grenoble"
          ],
          [
           "Grenoble"
          ],
          [
           "Grenoble"
          ],
          [
           "Grenoble"
          ],
          [
           "Grenoble"
          ],
          [
           "Grenoble"
          ],
          [
           "Grenoble"
          ],
          [
           "Grenoble"
          ],
          [
           "Grenoble"
          ],
          [
           "Grenoble"
          ],
          [
           "Grenoble"
          ],
          [
           "Grenoble"
          ],
          [
           "Grenoble"
          ],
          [
           "Grenoble"
          ],
          [
           "Meylan"
          ],
          [
           "Meylan"
          ],
          [
           "Meylan"
          ],
          [
           "Meylan"
          ],
          [
           "Meylan"
          ],
          [
           "Meylan"
          ],
          [
           "Meylan"
          ],
          [
           "Meylan"
          ],
          [
           "Meylan"
          ],
          [
           "Meylan"
          ],
          [
           "Meylan"
          ],
          [
           "Meylan"
          ],
          [
           "Meylan"
          ],
          [
           "Meylan"
          ],
          [
           "Meylan"
          ],
          [
           "Meylan"
          ],
          [
           "Montbonnot-Saint-Martin"
          ],
          [
           "Montbonnot-Saint-Martin"
          ],
          [
           "Montbonnot-Saint-Martin"
          ],
          [
           "Montbonnot-Saint-Martin"
          ],
          [
           "Montbonnot-Saint-Martin"
          ],
          [
           "Saint-Ismier"
          ],
          [
           "Saint-Ismier"
          ],
          [
           "Saint-Ismier"
          ],
          [
           "Saint-Ismier"
          ],
          [
           "Saint-Ismier"
          ],
          [
           "Saint-Ismier"
          ],
          [
           "Saint-Ismier"
          ],
          [
           "Saint-Nazaire-les-Eymes"
          ],
          [
           "Saint-Nazaire-les-Eymes"
          ],
          [
           "Saint-Nazaire-les-Eymes"
          ],
          [
           "Le Sappey-en-Chartreuse"
          ],
          [
           "La Tronche"
          ],
          [
           "La Tronche"
          ],
          [
           "La Tronche"
          ],
          [
           "La Tronche"
          ]
         ],
         "hovertemplate": "Liste=Animaliste<br>Index=%{x}<br>Pourcentage de Votes=%{text}<br>Commune=%{customdata[0]}<extra></extra>",
         "legendgroup": "Animaliste",
         "marker": {
          "color": "#b30ef1",
          "pattern": {
           "shape": ""
          }
         },
         "name": "Animaliste",
         "offsetgroup": "Animaliste",
         "orientation": "v",
         "showlegend": true,
         "text": [
          0.62,
          0.3,
          1.11,
          0.58,
          0.48,
          1.04,
          1.32,
          1,
          0.77,
          1.08,
          0.59,
          0.69,
          0.59,
          1.48,
          0.49,
          0.89,
          1.23,
          0.76,
          0.83,
          1.29,
          0.99,
          0.54,
          0.87,
          0.59,
          1,
          1.38,
          0.96,
          0.46,
          1.5,
          0.6,
          1.72,
          1.54,
          1.06,
          0.97,
          0.84,
          0.41,
          1.28,
          1.15,
          0.4,
          0.56,
          0.74,
          1.83,
          1.2,
          0.39,
          0.96,
          1.12,
          1.16,
          0.95,
          1.34,
          1.23,
          0.84,
          0.97,
          0.35,
          0.94,
          0.62,
          0,
          1.31,
          1.51,
          0.57,
          1.19,
          1.19,
          0.68,
          1.53,
          0.61,
          1.49,
          0.3,
          1.1,
          0.83,
          0.74,
          0.72,
          1.19,
          1.04,
          1.08,
          1.25,
          0.22,
          0.6,
          1.76,
          0.39,
          0.9,
          0.94,
          1.1,
          1.41,
          0.78,
          1.22,
          0.45,
          1.3,
          0.65
         ],
         "textposition": "inside",
         "texttemplate": "%{text:.2f}%",
         "type": "bar",
         "x": [
          0,
          1,
          2,
          3,
          4,
          5,
          6,
          7,
          8,
          9,
          10,
          11,
          12,
          13,
          14,
          15,
          16,
          17,
          18,
          19,
          20,
          21,
          22,
          23,
          24,
          25,
          26,
          27,
          28,
          29,
          30,
          31,
          32,
          33,
          34,
          35,
          36,
          37,
          38,
          39,
          40,
          41,
          42,
          43,
          44,
          45,
          46,
          47,
          48,
          49,
          50,
          51,
          52,
          53,
          54,
          55,
          56,
          57,
          58,
          59,
          60,
          61,
          62,
          63,
          64,
          65,
          66,
          67,
          68,
          69,
          70,
          71,
          72,
          73,
          74,
          75,
          76,
          77,
          78,
          79,
          80,
          81,
          82,
          83,
          84,
          85,
          86
         ],
         "xaxis": "x",
         "y": [
          0.62,
          0.3,
          1.11,
          0.58,
          0.48,
          1.04,
          1.32,
          1,
          0.77,
          1.08,
          0.59,
          0.69,
          0.59,
          1.48,
          0.49,
          0.89,
          1.23,
          0.76,
          0.83,
          1.29,
          0.99,
          0.54,
          0.87,
          0.59,
          1,
          1.38,
          0.96,
          0.46,
          1.5,
          0.6,
          1.72,
          1.54,
          1.06,
          0.97,
          0.84,
          0.41,
          1.28,
          1.15,
          0.4,
          0.56,
          0.74,
          1.83,
          1.2,
          0.39,
          0.96,
          1.12,
          1.16,
          0.95,
          1.34,
          1.23,
          0.84,
          0.97,
          0.35,
          0.94,
          0.62,
          0,
          1.31,
          1.51,
          0.57,
          1.19,
          1.19,
          0.68,
          1.53,
          0.61,
          1.49,
          0.3,
          1.1,
          0.83,
          0.74,
          0.72,
          1.19,
          1.04,
          1.08,
          1.25,
          0.22,
          0.6,
          1.76,
          0.39,
          0.9,
          0.94,
          1.1,
          1.41,
          0.78,
          1.22,
          0.45,
          1.3,
          0.65
         ],
         "yaxis": "y"
        },
        {
         "alignmentgroup": "True",
         "customdata": [
          [
           "Bernin"
          ],
          [
           "Bernin"
          ],
          [
           "Bernin"
          ],
          [
           "Biviers"
          ],
          [
           "Biviers"
          ],
          [
           "Corenc"
          ],
          [
           "Corenc"
          ],
          [
           "Corenc"
          ],
          [
           "Grenoble"
          ],
          [
           "Grenoble"
          ],
          [
           "Grenoble"
          ],
          [
           "Grenoble"
          ],
          [
           "Grenoble"
          ],
          [
           "Grenoble"
          ],
          [
           "Grenoble"
          ],
          [
           "Grenoble"
          ],
          [
           "Grenoble"
          ],
          [
           "Grenoble"
          ],
          [
           "Grenoble"
          ],
          [
           "Grenoble"
          ],
          [
           "Grenoble"
          ],
          [
           "Grenoble"
          ],
          [
           "Grenoble"
          ],
          [
           "Grenoble"
          ],
          [
           "Grenoble"
          ],
          [
           "Grenoble"
          ],
          [
           "Grenoble"
          ],
          [
           "Grenoble"
          ],
          [
           "Grenoble"
          ],
          [
           "Grenoble"
          ],
          [
           "Grenoble"
          ],
          [
           "Grenoble"
          ],
          [
           "Grenoble"
          ],
          [
           "Grenoble"
          ],
          [
           "Grenoble"
          ],
          [
           "Grenoble"
          ],
          [
           "Grenoble"
          ],
          [
           "Grenoble"
          ],
          [
           "Grenoble"
          ],
          [
           "Grenoble"
          ],
          [
           "Grenoble"
          ],
          [
           "Grenoble"
          ],
          [
           "Grenoble"
          ],
          [
           "Grenoble"
          ],
          [
           "Grenoble"
          ],
          [
           "Grenoble"
          ],
          [
           "Grenoble"
          ],
          [
           "Grenoble"
          ],
          [
           "Grenoble"
          ],
          [
           "Grenoble"
          ],
          [
           "Grenoble"
          ],
          [
           "Meylan"
          ],
          [
           "Meylan"
          ],
          [
           "Meylan"
          ],
          [
           "Meylan"
          ],
          [
           "Meylan"
          ],
          [
           "Meylan"
          ],
          [
           "Meylan"
          ],
          [
           "Meylan"
          ],
          [
           "Meylan"
          ],
          [
           "Meylan"
          ],
          [
           "Meylan"
          ],
          [
           "Meylan"
          ],
          [
           "Meylan"
          ],
          [
           "Meylan"
          ],
          [
           "Meylan"
          ],
          [
           "Meylan"
          ],
          [
           "Montbonnot-Saint-Martin"
          ],
          [
           "Montbonnot-Saint-Martin"
          ],
          [
           "Montbonnot-Saint-Martin"
          ],
          [
           "Montbonnot-Saint-Martin"
          ],
          [
           "Montbonnot-Saint-Martin"
          ],
          [
           "Saint-Ismier"
          ],
          [
           "Saint-Ismier"
          ],
          [
           "Saint-Ismier"
          ],
          [
           "Saint-Ismier"
          ],
          [
           "Saint-Ismier"
          ],
          [
           "Saint-Ismier"
          ],
          [
           "Saint-Ismier"
          ],
          [
           "Saint-Nazaire-les-Eymes"
          ],
          [
           "Saint-Nazaire-les-Eymes"
          ],
          [
           "Saint-Nazaire-les-Eymes"
          ],
          [
           "Le Sappey-en-Chartreuse"
          ],
          [
           "La Tronche"
          ],
          [
           "La Tronche"
          ],
          [
           "La Tronche"
          ],
          [
           "La Tronche"
          ]
         ],
         "hovertemplate": "Liste=Equinoxe<br>Index=%{x}<br>Pourcentage de Votes=%{text}<br>Commune=%{customdata[0]}<extra></extra>",
         "legendgroup": "Equinoxe",
         "marker": {
          "color": "#f37d00 ",
          "pattern": {
           "shape": ""
          }
         },
         "name": "Equinoxe",
         "offsetgroup": "Equinoxe",
         "orientation": "v",
         "showlegend": true,
         "text": [
          0.1,
          0.6,
          0.4,
          0.68,
          1.06,
          0.35,
          0.5,
          0.64,
          1.11,
          0.59,
          0.39,
          0.51,
          0.51,
          0.26,
          0.88,
          1.27,
          1.02,
          0.09,
          0.52,
          0.12,
          1.1,
          0.54,
          0.26,
          0.2,
          0.46,
          0.65,
          0.44,
          0.12,
          0.28,
          0.6,
          0.2,
          0.89,
          0.53,
          0.62,
          1.2,
          0.31,
          0.57,
          0.52,
          0.61,
          0.47,
          0.42,
          0.46,
          0.2,
          0.58,
          0.58,
          1.31,
          0.36,
          0.69,
          0.1,
          0.18,
          0.74,
          0,
          0.23,
          0.21,
          0.25,
          0.37,
          0.54,
          0.12,
          0.46,
          0.24,
          0.72,
          0.45,
          0,
          0.3,
          0.21,
          0.3,
          0.6,
          0.14,
          0.37,
          0,
          0.59,
          0.23,
          0.87,
          0,
          0.34,
          0.12,
          0.63,
          0.13,
          0.3,
          0.59,
          0.27,
          0,
          0.98,
          0.56,
          0.9,
          0.19,
          0.86
         ],
         "textposition": "inside",
         "texttemplate": "%{text:.2f}%",
         "type": "bar",
         "x": [
          0,
          1,
          2,
          3,
          4,
          5,
          6,
          7,
          8,
          9,
          10,
          11,
          12,
          13,
          14,
          15,
          16,
          17,
          18,
          19,
          20,
          21,
          22,
          23,
          24,
          25,
          26,
          27,
          28,
          29,
          30,
          31,
          32,
          33,
          34,
          35,
          36,
          37,
          38,
          39,
          40,
          41,
          42,
          43,
          44,
          45,
          46,
          47,
          48,
          49,
          50,
          51,
          52,
          53,
          54,
          55,
          56,
          57,
          58,
          59,
          60,
          61,
          62,
          63,
          64,
          65,
          66,
          67,
          68,
          69,
          70,
          71,
          72,
          73,
          74,
          75,
          76,
          77,
          78,
          79,
          80,
          81,
          82,
          83,
          84,
          85,
          86
         ],
         "xaxis": "x",
         "y": [
          0.1,
          0.6,
          0.4,
          0.68,
          1.06,
          0.35,
          0.5,
          0.64,
          1.11,
          0.59,
          0.39,
          0.51,
          0.51,
          0.26,
          0.88,
          1.27,
          1.02,
          0.09,
          0.52,
          0.12,
          1.1,
          0.54,
          0.26,
          0.2,
          0.46,
          0.65,
          0.44,
          0.12,
          0.28,
          0.6,
          0.2,
          0.89,
          0.53,
          0.62,
          1.2,
          0.31,
          0.57,
          0.52,
          0.61,
          0.47,
          0.42,
          0.46,
          0.2,
          0.58,
          0.58,
          1.31,
          0.36,
          0.69,
          0.1,
          0.18,
          0.74,
          0,
          0.23,
          0.21,
          0.25,
          0.37,
          0.54,
          0.12,
          0.46,
          0.24,
          0.72,
          0.45,
          0,
          0.3,
          0.21,
          0.3,
          0.6,
          0.14,
          0.37,
          0,
          0.59,
          0.23,
          0.87,
          0,
          0.34,
          0.12,
          0.63,
          0.13,
          0.3,
          0.59,
          0.27,
          0,
          0.98,
          0.56,
          0.9,
          0.19,
          0.86
         ],
         "yaxis": "y"
        },
        {
         "alignmentgroup": "True",
         "customdata": [
          [
           "Bernin"
          ],
          [
           "Bernin"
          ],
          [
           "Bernin"
          ],
          [
           "Biviers"
          ],
          [
           "Biviers"
          ],
          [
           "Corenc"
          ],
          [
           "Corenc"
          ],
          [
           "Corenc"
          ],
          [
           "Grenoble"
          ],
          [
           "Grenoble"
          ],
          [
           "Grenoble"
          ],
          [
           "Grenoble"
          ],
          [
           "Grenoble"
          ],
          [
           "Grenoble"
          ],
          [
           "Grenoble"
          ],
          [
           "Grenoble"
          ],
          [
           "Grenoble"
          ],
          [
           "Grenoble"
          ],
          [
           "Grenoble"
          ],
          [
           "Grenoble"
          ],
          [
           "Grenoble"
          ],
          [
           "Grenoble"
          ],
          [
           "Grenoble"
          ],
          [
           "Grenoble"
          ],
          [
           "Grenoble"
          ],
          [
           "Grenoble"
          ],
          [
           "Grenoble"
          ],
          [
           "Grenoble"
          ],
          [
           "Grenoble"
          ],
          [
           "Grenoble"
          ],
          [
           "Grenoble"
          ],
          [
           "Grenoble"
          ],
          [
           "Grenoble"
          ],
          [
           "Grenoble"
          ],
          [
           "Grenoble"
          ],
          [
           "Grenoble"
          ],
          [
           "Grenoble"
          ],
          [
           "Grenoble"
          ],
          [
           "Grenoble"
          ],
          [
           "Grenoble"
          ],
          [
           "Grenoble"
          ],
          [
           "Grenoble"
          ],
          [
           "Grenoble"
          ],
          [
           "Grenoble"
          ],
          [
           "Grenoble"
          ],
          [
           "Grenoble"
          ],
          [
           "Grenoble"
          ],
          [
           "Grenoble"
          ],
          [
           "Grenoble"
          ],
          [
           "Grenoble"
          ],
          [
           "Grenoble"
          ],
          [
           "Meylan"
          ],
          [
           "Meylan"
          ],
          [
           "Meylan"
          ],
          [
           "Meylan"
          ],
          [
           "Meylan"
          ],
          [
           "Meylan"
          ],
          [
           "Meylan"
          ],
          [
           "Meylan"
          ],
          [
           "Meylan"
          ],
          [
           "Meylan"
          ],
          [
           "Meylan"
          ],
          [
           "Meylan"
          ],
          [
           "Meylan"
          ],
          [
           "Meylan"
          ],
          [
           "Meylan"
          ],
          [
           "Meylan"
          ],
          [
           "Montbonnot-Saint-Martin"
          ],
          [
           "Montbonnot-Saint-Martin"
          ],
          [
           "Montbonnot-Saint-Martin"
          ],
          [
           "Montbonnot-Saint-Martin"
          ],
          [
           "Montbonnot-Saint-Martin"
          ],
          [
           "Saint-Ismier"
          ],
          [
           "Saint-Ismier"
          ],
          [
           "Saint-Ismier"
          ],
          [
           "Saint-Ismier"
          ],
          [
           "Saint-Ismier"
          ],
          [
           "Saint-Ismier"
          ],
          [
           "Saint-Ismier"
          ],
          [
           "Saint-Nazaire-les-Eymes"
          ],
          [
           "Saint-Nazaire-les-Eymes"
          ],
          [
           "Saint-Nazaire-les-Eymes"
          ],
          [
           "Le Sappey-en-Chartreuse"
          ],
          [
           "La Tronche"
          ],
          [
           "La Tronche"
          ],
          [
           "La Tronche"
          ],
          [
           "La Tronche"
          ]
         ],
         "hovertemplate": "Liste=Ecologie au centre<br>Index=%{x}<br>Pourcentage de Votes=%{text}<br>Commune=%{customdata[0]}<extra></extra>",
         "legendgroup": "Ecologie au centre",
         "marker": {
          "color": "#99fca5",
          "pattern": {
           "shape": ""
          }
         },
         "name": "Ecologie au centre",
         "offsetgroup": "Ecologie au centre",
         "orientation": "v",
         "showlegend": true,
         "text": [
          1.64,
          0.9,
          1.11,
          1.16,
          0.29,
          0.61,
          0.66,
          1.09,
          1.02,
          0.78,
          0.78,
          0.51,
          0.17,
          0.43,
          0.68,
          0.38,
          0.61,
          0.28,
          0.41,
          0.94,
          1.55,
          0.75,
          0.61,
          0.49,
          1.28,
          0.83,
          0.61,
          1.16,
          0.56,
          0.48,
          0.61,
          0.57,
          0.35,
          0.97,
          0.84,
          1.02,
          0.71,
          0.63,
          1.32,
          0.37,
          1.06,
          1.83,
          1,
          1.06,
          0.48,
          0.75,
          0.89,
          0.52,
          0.93,
          0.53,
          0.63,
          0.54,
          0.81,
          0.52,
          0.74,
          0.87,
          0.87,
          0.7,
          0.91,
          0.71,
          1.07,
          0.9,
          0.33,
          0.71,
          0.75,
          0.4,
          0.7,
          0.56,
          1.29,
          0.57,
          1.19,
          1.16,
          0.76,
          0.75,
          0.56,
          0.6,
          0.63,
          0.78,
          0.6,
          0.82,
          0.96,
          1.41,
          1.47,
          0.56,
          1.43,
          0.37,
          0.97
         ],
         "textposition": "inside",
         "texttemplate": "%{text:.2f}%",
         "type": "bar",
         "x": [
          0,
          1,
          2,
          3,
          4,
          5,
          6,
          7,
          8,
          9,
          10,
          11,
          12,
          13,
          14,
          15,
          16,
          17,
          18,
          19,
          20,
          21,
          22,
          23,
          24,
          25,
          26,
          27,
          28,
          29,
          30,
          31,
          32,
          33,
          34,
          35,
          36,
          37,
          38,
          39,
          40,
          41,
          42,
          43,
          44,
          45,
          46,
          47,
          48,
          49,
          50,
          51,
          52,
          53,
          54,
          55,
          56,
          57,
          58,
          59,
          60,
          61,
          62,
          63,
          64,
          65,
          66,
          67,
          68,
          69,
          70,
          71,
          72,
          73,
          74,
          75,
          76,
          77,
          78,
          79,
          80,
          81,
          82,
          83,
          84,
          85,
          86
         ],
         "xaxis": "x",
         "y": [
          1.64,
          0.9,
          1.11,
          1.16,
          0.29,
          0.61,
          0.66,
          1.09,
          1.02,
          0.78,
          0.78,
          0.51,
          0.17,
          0.43,
          0.68,
          0.38,
          0.61,
          0.28,
          0.41,
          0.94,
          1.55,
          0.75,
          0.61,
          0.49,
          1.28,
          0.83,
          0.61,
          1.16,
          0.56,
          0.48,
          0.61,
          0.57,
          0.35,
          0.97,
          0.84,
          1.02,
          0.71,
          0.63,
          1.32,
          0.37,
          1.06,
          1.83,
          1,
          1.06,
          0.48,
          0.75,
          0.89,
          0.52,
          0.93,
          0.53,
          0.63,
          0.54,
          0.81,
          0.52,
          0.74,
          0.87,
          0.87,
          0.7,
          0.91,
          0.71,
          1.07,
          0.9,
          0.33,
          0.71,
          0.75,
          0.4,
          0.7,
          0.56,
          1.29,
          0.57,
          1.19,
          1.16,
          0.76,
          0.75,
          0.56,
          0.6,
          0.63,
          0.78,
          0.6,
          0.82,
          0.96,
          1.41,
          1.47,
          0.56,
          1.43,
          0.37,
          0.97
         ],
         "yaxis": "y"
        },
        {
         "alignmentgroup": "True",
         "customdata": [
          [
           "Bernin"
          ],
          [
           "Bernin"
          ],
          [
           "Bernin"
          ],
          [
           "Biviers"
          ],
          [
           "Biviers"
          ],
          [
           "Corenc"
          ],
          [
           "Corenc"
          ],
          [
           "Corenc"
          ],
          [
           "Grenoble"
          ],
          [
           "Grenoble"
          ],
          [
           "Grenoble"
          ],
          [
           "Grenoble"
          ],
          [
           "Grenoble"
          ],
          [
           "Grenoble"
          ],
          [
           "Grenoble"
          ],
          [
           "Grenoble"
          ],
          [
           "Grenoble"
          ],
          [
           "Grenoble"
          ],
          [
           "Grenoble"
          ],
          [
           "Grenoble"
          ],
          [
           "Grenoble"
          ],
          [
           "Grenoble"
          ],
          [
           "Grenoble"
          ],
          [
           "Grenoble"
          ],
          [
           "Grenoble"
          ],
          [
           "Grenoble"
          ],
          [
           "Grenoble"
          ],
          [
           "Grenoble"
          ],
          [
           "Grenoble"
          ],
          [
           "Grenoble"
          ],
          [
           "Grenoble"
          ],
          [
           "Grenoble"
          ],
          [
           "Grenoble"
          ],
          [
           "Grenoble"
          ],
          [
           "Grenoble"
          ],
          [
           "Grenoble"
          ],
          [
           "Grenoble"
          ],
          [
           "Grenoble"
          ],
          [
           "Grenoble"
          ],
          [
           "Grenoble"
          ],
          [
           "Grenoble"
          ],
          [
           "Grenoble"
          ],
          [
           "Grenoble"
          ],
          [
           "Grenoble"
          ],
          [
           "Grenoble"
          ],
          [
           "Grenoble"
          ],
          [
           "Grenoble"
          ],
          [
           "Grenoble"
          ],
          [
           "Grenoble"
          ],
          [
           "Grenoble"
          ],
          [
           "Grenoble"
          ],
          [
           "Meylan"
          ],
          [
           "Meylan"
          ],
          [
           "Meylan"
          ],
          [
           "Meylan"
          ],
          [
           "Meylan"
          ],
          [
           "Meylan"
          ],
          [
           "Meylan"
          ],
          [
           "Meylan"
          ],
          [
           "Meylan"
          ],
          [
           "Meylan"
          ],
          [
           "Meylan"
          ],
          [
           "Meylan"
          ],
          [
           "Meylan"
          ],
          [
           "Meylan"
          ],
          [
           "Meylan"
          ],
          [
           "Meylan"
          ],
          [
           "Montbonnot-Saint-Martin"
          ],
          [
           "Montbonnot-Saint-Martin"
          ],
          [
           "Montbonnot-Saint-Martin"
          ],
          [
           "Montbonnot-Saint-Martin"
          ],
          [
           "Montbonnot-Saint-Martin"
          ],
          [
           "Saint-Ismier"
          ],
          [
           "Saint-Ismier"
          ],
          [
           "Saint-Ismier"
          ],
          [
           "Saint-Ismier"
          ],
          [
           "Saint-Ismier"
          ],
          [
           "Saint-Ismier"
          ],
          [
           "Saint-Ismier"
          ],
          [
           "Saint-Nazaire-les-Eymes"
          ],
          [
           "Saint-Nazaire-les-Eymes"
          ],
          [
           "Saint-Nazaire-les-Eymes"
          ],
          [
           "Le Sappey-en-Chartreuse"
          ],
          [
           "La Tronche"
          ],
          [
           "La Tronche"
          ],
          [
           "La Tronche"
          ],
          [
           "La Tronche"
          ]
         ],
         "hovertemplate": "Liste=Renaissance<br>Index=%{x}<br>Pourcentage de Votes=%{text}<br>Commune=%{customdata[0]}<extra></extra>",
         "legendgroup": "Renaissance",
         "marker": {
          "color": "#f3e80e",
          "pattern": {
           "shape": ""
          }
         },
         "name": "Renaissance",
         "offsetgroup": "Renaissance",
         "orientation": "v",
         "showlegend": true,
         "text": [
          15.72,
          13.65,
          11.13,
          19.29,
          16.75,
          13.48,
          13.14,
          16.33,
          8.53,
          5.96,
          8.81,
          8.15,
          12.84,
          7.73,
          9.24,
          6.87,
          5.42,
          5.87,
          9.43,
          12.46,
          7.18,
          9.55,
          7.07,
          3.26,
          8.83,
          8.21,
          5.61,
          2.77,
          4.77,
          6.27,
          8,
          8.27,
          5.46,
          10.63,
          5.53,
          6.65,
          6.68,
          8.86,
          9.41,
          10.48,
          10.78,
          2.74,
          9.67,
          9.17,
          10.02,
          7,
          8,
          9.45,
          6.51,
          7.75,
          7.39,
          14.09,
          12.51,
          11.12,
          12,
          13.42,
          12.42,
          10.56,
          12.88,
          18.05,
          18.36,
          18.31,
          6.02,
          18.12,
          10.66,
          17.39,
          12.28,
          16.11,
          15.94,
          17.65,
          11.57,
          15.72,
          21.78,
          18.5,
          17.79,
          20.41,
          12.22,
          13.9,
          12.08,
          18.21,
          12.89,
          14.67,
          10.37,
          10.61,
          15.96,
          10.6,
          10.75
         ],
         "textposition": "inside",
         "texttemplate": "%{text:.2f}%",
         "type": "bar",
         "x": [
          0,
          1,
          2,
          3,
          4,
          5,
          6,
          7,
          8,
          9,
          10,
          11,
          12,
          13,
          14,
          15,
          16,
          17,
          18,
          19,
          20,
          21,
          22,
          23,
          24,
          25,
          26,
          27,
          28,
          29,
          30,
          31,
          32,
          33,
          34,
          35,
          36,
          37,
          38,
          39,
          40,
          41,
          42,
          43,
          44,
          45,
          46,
          47,
          48,
          49,
          50,
          51,
          52,
          53,
          54,
          55,
          56,
          57,
          58,
          59,
          60,
          61,
          62,
          63,
          64,
          65,
          66,
          67,
          68,
          69,
          70,
          71,
          72,
          73,
          74,
          75,
          76,
          77,
          78,
          79,
          80,
          81,
          82,
          83,
          84,
          85,
          86
         ],
         "xaxis": "x",
         "y": [
          15.72,
          13.65,
          11.13,
          19.29,
          16.75,
          13.48,
          13.14,
          16.33,
          8.53,
          5.96,
          8.81,
          8.15,
          12.84,
          7.73,
          9.24,
          6.87,
          5.42,
          5.87,
          9.43,
          12.46,
          7.18,
          9.55,
          7.07,
          3.26,
          8.83,
          8.21,
          5.61,
          2.77,
          4.77,
          6.27,
          8,
          8.27,
          5.46,
          10.63,
          5.53,
          6.65,
          6.68,
          8.86,
          9.41,
          10.48,
          10.78,
          2.74,
          9.67,
          9.17,
          10.02,
          7,
          8,
          9.45,
          6.51,
          7.75,
          7.39,
          14.09,
          12.51,
          11.12,
          12,
          13.42,
          12.42,
          10.56,
          12.88,
          18.05,
          18.36,
          18.31,
          6.02,
          18.12,
          10.66,
          17.39,
          12.28,
          16.11,
          15.94,
          17.65,
          11.57,
          15.72,
          21.78,
          18.5,
          17.79,
          20.41,
          12.22,
          13.9,
          12.08,
          18.21,
          12.89,
          14.67,
          10.37,
          10.61,
          15.96,
          10.6,
          10.75
         ],
         "yaxis": "y"
        },
        {
         "alignmentgroup": "True",
         "customdata": [
          [
           "Bernin"
          ],
          [
           "Bernin"
          ],
          [
           "Bernin"
          ],
          [
           "Biviers"
          ],
          [
           "Biviers"
          ],
          [
           "Corenc"
          ],
          [
           "Corenc"
          ],
          [
           "Corenc"
          ],
          [
           "Grenoble"
          ],
          [
           "Grenoble"
          ],
          [
           "Grenoble"
          ],
          [
           "Grenoble"
          ],
          [
           "Grenoble"
          ],
          [
           "Grenoble"
          ],
          [
           "Grenoble"
          ],
          [
           "Grenoble"
          ],
          [
           "Grenoble"
          ],
          [
           "Grenoble"
          ],
          [
           "Grenoble"
          ],
          [
           "Grenoble"
          ],
          [
           "Grenoble"
          ],
          [
           "Grenoble"
          ],
          [
           "Grenoble"
          ],
          [
           "Grenoble"
          ],
          [
           "Grenoble"
          ],
          [
           "Grenoble"
          ],
          [
           "Grenoble"
          ],
          [
           "Grenoble"
          ],
          [
           "Grenoble"
          ],
          [
           "Grenoble"
          ],
          [
           "Grenoble"
          ],
          [
           "Grenoble"
          ],
          [
           "Grenoble"
          ],
          [
           "Grenoble"
          ],
          [
           "Grenoble"
          ],
          [
           "Grenoble"
          ],
          [
           "Grenoble"
          ],
          [
           "Grenoble"
          ],
          [
           "Grenoble"
          ],
          [
           "Grenoble"
          ],
          [
           "Grenoble"
          ],
          [
           "Grenoble"
          ],
          [
           "Grenoble"
          ],
          [
           "Grenoble"
          ],
          [
           "Grenoble"
          ],
          [
           "Grenoble"
          ],
          [
           "Grenoble"
          ],
          [
           "Grenoble"
          ],
          [
           "Grenoble"
          ],
          [
           "Grenoble"
          ],
          [
           "Grenoble"
          ],
          [
           "Meylan"
          ],
          [
           "Meylan"
          ],
          [
           "Meylan"
          ],
          [
           "Meylan"
          ],
          [
           "Meylan"
          ],
          [
           "Meylan"
          ],
          [
           "Meylan"
          ],
          [
           "Meylan"
          ],
          [
           "Meylan"
          ],
          [
           "Meylan"
          ],
          [
           "Meylan"
          ],
          [
           "Meylan"
          ],
          [
           "Meylan"
          ],
          [
           "Meylan"
          ],
          [
           "Meylan"
          ],
          [
           "Meylan"
          ],
          [
           "Montbonnot-Saint-Martin"
          ],
          [
           "Montbonnot-Saint-Martin"
          ],
          [
           "Montbonnot-Saint-Martin"
          ],
          [
           "Montbonnot-Saint-Martin"
          ],
          [
           "Montbonnot-Saint-Martin"
          ],
          [
           "Saint-Ismier"
          ],
          [
           "Saint-Ismier"
          ],
          [
           "Saint-Ismier"
          ],
          [
           "Saint-Ismier"
          ],
          [
           "Saint-Ismier"
          ],
          [
           "Saint-Ismier"
          ],
          [
           "Saint-Ismier"
          ],
          [
           "Saint-Nazaire-les-Eymes"
          ],
          [
           "Saint-Nazaire-les-Eymes"
          ],
          [
           "Saint-Nazaire-les-Eymes"
          ],
          [
           "Le Sappey-en-Chartreuse"
          ],
          [
           "La Tronche"
          ],
          [
           "La Tronche"
          ],
          [
           "La Tronche"
          ],
          [
           "La Tronche"
          ]
         ],
         "hovertemplate": "Liste=LR<br>Index=%{x}<br>Pourcentage de Votes=%{text}<br>Commune=%{customdata[0]}<extra></extra>",
         "legendgroup": "LR",
         "marker": {
          "color": "#0ebff3",
          "pattern": {
           "shape": ""
          }
         },
         "name": "LR",
         "offsetgroup": "LR",
         "orientation": "v",
         "showlegend": true,
         "text": [
          4.21,
          5.72,
          7.19,
          9.74,
          8.33,
          9.16,
          7.11,
          8.94,
          4.01,
          1.56,
          7.24,
          3.6,
          8.53,
          3.48,
          5.64,
          1.91,
          3.17,
          2.37,
          4.77,
          4.7,
          2.87,
          2.47,
          3.49,
          0.69,
          3.64,
          2.12,
          1.58,
          1.27,
          2.52,
          2.29,
          3.14,
          3.48,
          3.7,
          5.76,
          2.76,
          2.87,
          4.12,
          3.13,
          5.47,
          7.76,
          5.29,
          1.37,
          3.99,
          3.38,
          4.34,
          4.57,
          4.62,
          4.42,
          3.52,
          2.38,
          2.85,
          4.95,
          6.72,
          3.64,
          7.43,
          5.96,
          6.54,
          4.29,
          4.22,
          7.72,
          8.58,
          7.46,
          3.61,
          7.69,
          3.3,
          11.06,
          5.19,
          10.83,
          6.82,
          7.03,
          4.45,
          8.79,
          7.15,
          9.63,
          9.73,
          7.61,
          6.93,
          5.19,
          6.29,
          7.99,
          6.86,
          4.58,
          2.94,
          5.16,
          9.06,
          5.21,
          4.84
         ],
         "textposition": "inside",
         "texttemplate": "%{text:.2f}%",
         "type": "bar",
         "x": [
          0,
          1,
          2,
          3,
          4,
          5,
          6,
          7,
          8,
          9,
          10,
          11,
          12,
          13,
          14,
          15,
          16,
          17,
          18,
          19,
          20,
          21,
          22,
          23,
          24,
          25,
          26,
          27,
          28,
          29,
          30,
          31,
          32,
          33,
          34,
          35,
          36,
          37,
          38,
          39,
          40,
          41,
          42,
          43,
          44,
          45,
          46,
          47,
          48,
          49,
          50,
          51,
          52,
          53,
          54,
          55,
          56,
          57,
          58,
          59,
          60,
          61,
          62,
          63,
          64,
          65,
          66,
          67,
          68,
          69,
          70,
          71,
          72,
          73,
          74,
          75,
          76,
          77,
          78,
          79,
          80,
          81,
          82,
          83,
          84,
          85,
          86
         ],
         "xaxis": "x",
         "y": [
          4.21,
          5.72,
          7.19,
          9.74,
          8.33,
          9.16,
          7.11,
          8.94,
          4.01,
          1.56,
          7.24,
          3.6,
          8.53,
          3.48,
          5.64,
          1.91,
          3.17,
          2.37,
          4.77,
          4.7,
          2.87,
          2.47,
          3.49,
          0.69,
          3.64,
          2.12,
          1.58,
          1.27,
          2.52,
          2.29,
          3.14,
          3.48,
          3.7,
          5.76,
          2.76,
          2.87,
          4.12,
          3.13,
          5.47,
          7.76,
          5.29,
          1.37,
          3.99,
          3.38,
          4.34,
          4.57,
          4.62,
          4.42,
          3.52,
          2.38,
          2.85,
          4.95,
          6.72,
          3.64,
          7.43,
          5.96,
          6.54,
          4.29,
          4.22,
          7.72,
          8.58,
          7.46,
          3.61,
          7.69,
          3.3,
          11.06,
          5.19,
          10.83,
          6.82,
          7.03,
          4.45,
          8.79,
          7.15,
          9.63,
          9.73,
          7.61,
          6.93,
          5.19,
          6.29,
          7.99,
          6.86,
          4.58,
          2.94,
          5.16,
          9.06,
          5.21,
          4.84
         ],
         "yaxis": "y"
        },
        {
         "alignmentgroup": "True",
         "customdata": [
          [
           "Bernin"
          ],
          [
           "Bernin"
          ],
          [
           "Bernin"
          ],
          [
           "Biviers"
          ],
          [
           "Biviers"
          ],
          [
           "Corenc"
          ],
          [
           "Corenc"
          ],
          [
           "Corenc"
          ],
          [
           "Grenoble"
          ],
          [
           "Grenoble"
          ],
          [
           "Grenoble"
          ],
          [
           "Grenoble"
          ],
          [
           "Grenoble"
          ],
          [
           "Grenoble"
          ],
          [
           "Grenoble"
          ],
          [
           "Grenoble"
          ],
          [
           "Grenoble"
          ],
          [
           "Grenoble"
          ],
          [
           "Grenoble"
          ],
          [
           "Grenoble"
          ],
          [
           "Grenoble"
          ],
          [
           "Grenoble"
          ],
          [
           "Grenoble"
          ],
          [
           "Grenoble"
          ],
          [
           "Grenoble"
          ],
          [
           "Grenoble"
          ],
          [
           "Grenoble"
          ],
          [
           "Grenoble"
          ],
          [
           "Grenoble"
          ],
          [
           "Grenoble"
          ],
          [
           "Grenoble"
          ],
          [
           "Grenoble"
          ],
          [
           "Grenoble"
          ],
          [
           "Grenoble"
          ],
          [
           "Grenoble"
          ],
          [
           "Grenoble"
          ],
          [
           "Grenoble"
          ],
          [
           "Grenoble"
          ],
          [
           "Grenoble"
          ],
          [
           "Grenoble"
          ],
          [
           "Grenoble"
          ],
          [
           "Grenoble"
          ],
          [
           "Grenoble"
          ],
          [
           "Grenoble"
          ],
          [
           "Grenoble"
          ],
          [
           "Grenoble"
          ],
          [
           "Grenoble"
          ],
          [
           "Grenoble"
          ],
          [
           "Grenoble"
          ],
          [
           "Grenoble"
          ],
          [
           "Grenoble"
          ],
          [
           "Meylan"
          ],
          [
           "Meylan"
          ],
          [
           "Meylan"
          ],
          [
           "Meylan"
          ],
          [
           "Meylan"
          ],
          [
           "Meylan"
          ],
          [
           "Meylan"
          ],
          [
           "Meylan"
          ],
          [
           "Meylan"
          ],
          [
           "Meylan"
          ],
          [
           "Meylan"
          ],
          [
           "Meylan"
          ],
          [
           "Meylan"
          ],
          [
           "Meylan"
          ],
          [
           "Meylan"
          ],
          [
           "Meylan"
          ],
          [
           "Montbonnot-Saint-Martin"
          ],
          [
           "Montbonnot-Saint-Martin"
          ],
          [
           "Montbonnot-Saint-Martin"
          ],
          [
           "Montbonnot-Saint-Martin"
          ],
          [
           "Montbonnot-Saint-Martin"
          ],
          [
           "Saint-Ismier"
          ],
          [
           "Saint-Ismier"
          ],
          [
           "Saint-Ismier"
          ],
          [
           "Saint-Ismier"
          ],
          [
           "Saint-Ismier"
          ],
          [
           "Saint-Ismier"
          ],
          [
           "Saint-Ismier"
          ],
          [
           "Saint-Nazaire-les-Eymes"
          ],
          [
           "Saint-Nazaire-les-Eymes"
          ],
          [
           "Saint-Nazaire-les-Eymes"
          ],
          [
           "Le Sappey-en-Chartreuse"
          ],
          [
           "La Tronche"
          ],
          [
           "La Tronche"
          ],
          [
           "La Tronche"
          ],
          [
           "La Tronche"
          ]
         ],
         "hovertemplate": "Liste=RN<br>Index=%{x}<br>Pourcentage de Votes=%{text}<br>Commune=%{customdata[0]}<extra></extra>",
         "legendgroup": "RN",
         "marker": {
          "color": "#0e2df3",
          "pattern": {
           "shape": ""
          }
         },
         "name": "RN",
         "offsetgroup": "RN",
         "orientation": "v",
         "showlegend": true,
         "text": [
          9.35,
          10.64,
          12.96,
          8.78,
          11.42,
          8.9,
          9.01,
          8.67,
          6.57,
          4.79,
          7.24,
          5.23,
          6.25,
          4,
          8.27,
          4.58,
          4.71,
          4.45,
          6.63,
          7.29,
          7.4,
          5.79,
          7.16,
          9.38,
          5.74,
          8.86,
          9.2,
          9.94,
          12.24,
          8.92,
          8.81,
          7.54,
          6.96,
          9.03,
          8.41,
          10.44,
          11.79,
          7.3,
          9.92,
          6.83,
          7.51,
          5.94,
          7.88,
          5.12,
          6.74,
          6.53,
          8.09,
          5.29,
          9,
          11.27,
          9.61,
          11.18,
          10.89,
          10.71,
          10.15,
          9.81,
          12.53,
          9.28,
          10.26,
          9.98,
          9.89,
          12.43,
          10.39,
          10.32,
          11.19,
          10.35,
          13.97,
          10.97,
          11.24,
          13.2,
          17.21,
          11.21,
          10.08,
          7.63,
          10.07,
          10.87,
          15.49,
          13.51,
          14.57,
          11.16,
          13.03,
          15.61,
          6.46,
          7.42,
          4.93,
          8.09,
          9.68
         ],
         "textposition": "inside",
         "texttemplate": "%{text:.2f}%",
         "type": "bar",
         "x": [
          0,
          1,
          2,
          3,
          4,
          5,
          6,
          7,
          8,
          9,
          10,
          11,
          12,
          13,
          14,
          15,
          16,
          17,
          18,
          19,
          20,
          21,
          22,
          23,
          24,
          25,
          26,
          27,
          28,
          29,
          30,
          31,
          32,
          33,
          34,
          35,
          36,
          37,
          38,
          39,
          40,
          41,
          42,
          43,
          44,
          45,
          46,
          47,
          48,
          49,
          50,
          51,
          52,
          53,
          54,
          55,
          56,
          57,
          58,
          59,
          60,
          61,
          62,
          63,
          64,
          65,
          66,
          67,
          68,
          69,
          70,
          71,
          72,
          73,
          74,
          75,
          76,
          77,
          78,
          79,
          80,
          81,
          82,
          83,
          84,
          85,
          86
         ],
         "xaxis": "x",
         "y": [
          9.35,
          10.64,
          12.96,
          8.78,
          11.42,
          8.9,
          9.01,
          8.67,
          6.57,
          4.79,
          7.24,
          5.23,
          6.25,
          4,
          8.27,
          4.58,
          4.71,
          4.45,
          6.63,
          7.29,
          7.4,
          5.79,
          7.16,
          9.38,
          5.74,
          8.86,
          9.2,
          9.94,
          12.24,
          8.92,
          8.81,
          7.54,
          6.96,
          9.03,
          8.41,
          10.44,
          11.79,
          7.3,
          9.92,
          6.83,
          7.51,
          5.94,
          7.88,
          5.12,
          6.74,
          6.53,
          8.09,
          5.29,
          9,
          11.27,
          9.61,
          11.18,
          10.89,
          10.71,
          10.15,
          9.81,
          12.53,
          9.28,
          10.26,
          9.98,
          9.89,
          12.43,
          10.39,
          10.32,
          11.19,
          10.35,
          13.97,
          10.97,
          11.24,
          13.2,
          17.21,
          11.21,
          10.08,
          7.63,
          10.07,
          10.87,
          15.49,
          13.51,
          14.57,
          11.16,
          13.03,
          15.61,
          6.46,
          7.42,
          4.93,
          8.09,
          9.68
         ],
         "yaxis": "y"
        },
        {
         "alignmentgroup": "True",
         "customdata": [
          [
           "Bernin"
          ],
          [
           "Bernin"
          ],
          [
           "Bernin"
          ],
          [
           "Biviers"
          ],
          [
           "Biviers"
          ],
          [
           "Corenc"
          ],
          [
           "Corenc"
          ],
          [
           "Corenc"
          ],
          [
           "Grenoble"
          ],
          [
           "Grenoble"
          ],
          [
           "Grenoble"
          ],
          [
           "Grenoble"
          ],
          [
           "Grenoble"
          ],
          [
           "Grenoble"
          ],
          [
           "Grenoble"
          ],
          [
           "Grenoble"
          ],
          [
           "Grenoble"
          ],
          [
           "Grenoble"
          ],
          [
           "Grenoble"
          ],
          [
           "Grenoble"
          ],
          [
           "Grenoble"
          ],
          [
           "Grenoble"
          ],
          [
           "Grenoble"
          ],
          [
           "Grenoble"
          ],
          [
           "Grenoble"
          ],
          [
           "Grenoble"
          ],
          [
           "Grenoble"
          ],
          [
           "Grenoble"
          ],
          [
           "Grenoble"
          ],
          [
           "Grenoble"
          ],
          [
           "Grenoble"
          ],
          [
           "Grenoble"
          ],
          [
           "Grenoble"
          ],
          [
           "Grenoble"
          ],
          [
           "Grenoble"
          ],
          [
           "Grenoble"
          ],
          [
           "Grenoble"
          ],
          [
           "Grenoble"
          ],
          [
           "Grenoble"
          ],
          [
           "Grenoble"
          ],
          [
           "Grenoble"
          ],
          [
           "Grenoble"
          ],
          [
           "Grenoble"
          ],
          [
           "Grenoble"
          ],
          [
           "Grenoble"
          ],
          [
           "Grenoble"
          ],
          [
           "Grenoble"
          ],
          [
           "Grenoble"
          ],
          [
           "Grenoble"
          ],
          [
           "Grenoble"
          ],
          [
           "Grenoble"
          ],
          [
           "Meylan"
          ],
          [
           "Meylan"
          ],
          [
           "Meylan"
          ],
          [
           "Meylan"
          ],
          [
           "Meylan"
          ],
          [
           "Meylan"
          ],
          [
           "Meylan"
          ],
          [
           "Meylan"
          ],
          [
           "Meylan"
          ],
          [
           "Meylan"
          ],
          [
           "Meylan"
          ],
          [
           "Meylan"
          ],
          [
           "Meylan"
          ],
          [
           "Meylan"
          ],
          [
           "Meylan"
          ],
          [
           "Meylan"
          ],
          [
           "Montbonnot-Saint-Martin"
          ],
          [
           "Montbonnot-Saint-Martin"
          ],
          [
           "Montbonnot-Saint-Martin"
          ],
          [
           "Montbonnot-Saint-Martin"
          ],
          [
           "Montbonnot-Saint-Martin"
          ],
          [
           "Saint-Ismier"
          ],
          [
           "Saint-Ismier"
          ],
          [
           "Saint-Ismier"
          ],
          [
           "Saint-Ismier"
          ],
          [
           "Saint-Ismier"
          ],
          [
           "Saint-Ismier"
          ],
          [
           "Saint-Ismier"
          ],
          [
           "Saint-Nazaire-les-Eymes"
          ],
          [
           "Saint-Nazaire-les-Eymes"
          ],
          [
           "Saint-Nazaire-les-Eymes"
          ],
          [
           "Le Sappey-en-Chartreuse"
          ],
          [
           "La Tronche"
          ],
          [
           "La Tronche"
          ],
          [
           "La Tronche"
          ],
          [
           "La Tronche"
          ]
         ],
         "hovertemplate": "Liste=Asselineau<br>Index=%{x}<br>Pourcentage de Votes=%{text}<br>Commune=%{customdata[0]}<extra></extra>",
         "legendgroup": "Asselineau",
         "marker": {
          "color": "#6772ff",
          "pattern": {
           "shape": ""
          }
         },
         "name": "Asselineau",
         "offsetgroup": "Asselineau",
         "orientation": "v",
         "showlegend": true,
         "text": [
          0.41,
          0.5,
          0.3,
          0.48,
          0.48,
          0.78,
          0.66,
          0.36,
          0.43,
          0.59,
          0.49,
          0.6,
          0.42,
          0.35,
          0.49,
          0.13,
          0.1,
          0.38,
          0.41,
          0.71,
          0.44,
          0.11,
          0.26,
          0.79,
          0.82,
          0.37,
          0.26,
          0.81,
          0.37,
          0.48,
          0.3,
          1.05,
          0.18,
          0.53,
          0.48,
          0.2,
          1.14,
          0.52,
          0.51,
          0.28,
          0.63,
          0,
          0.5,
          0.58,
          0.39,
          0.28,
          0.53,
          0.52,
          0.93,
          0.62,
          0.74,
          0.43,
          1.39,
          0.21,
          0.5,
          0.25,
          0.65,
          0.93,
          0.23,
          0.59,
          0.48,
          0.23,
          0.44,
          0.4,
          0.75,
          0.2,
          0.2,
          0.83,
          0.65,
          0.57,
          0.59,
          0.35,
          0.65,
          0.88,
          0.34,
          0.48,
          0.38,
          0.26,
          0,
          0.94,
          0.82,
          0.7,
          0.39,
          0.66,
          0.27,
          0.37,
          0.43
         ],
         "textposition": "inside",
         "texttemplate": "%{text:.2f}%",
         "type": "bar",
         "x": [
          0,
          1,
          2,
          3,
          4,
          5,
          6,
          7,
          8,
          9,
          10,
          11,
          12,
          13,
          14,
          15,
          16,
          17,
          18,
          19,
          20,
          21,
          22,
          23,
          24,
          25,
          26,
          27,
          28,
          29,
          30,
          31,
          32,
          33,
          34,
          35,
          36,
          37,
          38,
          39,
          40,
          41,
          42,
          43,
          44,
          45,
          46,
          47,
          48,
          49,
          50,
          51,
          52,
          53,
          54,
          55,
          56,
          57,
          58,
          59,
          60,
          61,
          62,
          63,
          64,
          65,
          66,
          67,
          68,
          69,
          70,
          71,
          72,
          73,
          74,
          75,
          76,
          77,
          78,
          79,
          80,
          81,
          82,
          83,
          84,
          85,
          86
         ],
         "xaxis": "x",
         "y": [
          0.41,
          0.5,
          0.3,
          0.48,
          0.48,
          0.78,
          0.66,
          0.36,
          0.43,
          0.59,
          0.49,
          0.6,
          0.42,
          0.35,
          0.49,
          0.13,
          0.1,
          0.38,
          0.41,
          0.71,
          0.44,
          0.11,
          0.26,
          0.79,
          0.82,
          0.37,
          0.26,
          0.81,
          0.37,
          0.48,
          0.3,
          1.05,
          0.18,
          0.53,
          0.48,
          0.2,
          1.14,
          0.52,
          0.51,
          0.28,
          0.63,
          0,
          0.5,
          0.58,
          0.39,
          0.28,
          0.53,
          0.52,
          0.93,
          0.62,
          0.74,
          0.43,
          1.39,
          0.21,
          0.5,
          0.25,
          0.65,
          0.93,
          0.23,
          0.59,
          0.48,
          0.23,
          0.44,
          0.4,
          0.75,
          0.2,
          0.2,
          0.83,
          0.65,
          0.57,
          0.59,
          0.35,
          0.65,
          0.88,
          0.34,
          0.48,
          0.38,
          0.26,
          0,
          0.94,
          0.82,
          0.7,
          0.39,
          0.66,
          0.27,
          0.37,
          0.43
         ],
         "yaxis": "y"
        },
        {
         "alignmentgroup": "True",
         "customdata": [
          [
           "Bernin"
          ],
          [
           "Bernin"
          ],
          [
           "Bernin"
          ],
          [
           "Biviers"
          ],
          [
           "Biviers"
          ],
          [
           "Corenc"
          ],
          [
           "Corenc"
          ],
          [
           "Corenc"
          ],
          [
           "Grenoble"
          ],
          [
           "Grenoble"
          ],
          [
           "Grenoble"
          ],
          [
           "Grenoble"
          ],
          [
           "Grenoble"
          ],
          [
           "Grenoble"
          ],
          [
           "Grenoble"
          ],
          [
           "Grenoble"
          ],
          [
           "Grenoble"
          ],
          [
           "Grenoble"
          ],
          [
           "Grenoble"
          ],
          [
           "Grenoble"
          ],
          [
           "Grenoble"
          ],
          [
           "Grenoble"
          ],
          [
           "Grenoble"
          ],
          [
           "Grenoble"
          ],
          [
           "Grenoble"
          ],
          [
           "Grenoble"
          ],
          [
           "Grenoble"
          ],
          [
           "Grenoble"
          ],
          [
           "Grenoble"
          ],
          [
           "Grenoble"
          ],
          [
           "Grenoble"
          ],
          [
           "Grenoble"
          ],
          [
           "Grenoble"
          ],
          [
           "Grenoble"
          ],
          [
           "Grenoble"
          ],
          [
           "Grenoble"
          ],
          [
           "Grenoble"
          ],
          [
           "Grenoble"
          ],
          [
           "Grenoble"
          ],
          [
           "Grenoble"
          ],
          [
           "Grenoble"
          ],
          [
           "Grenoble"
          ],
          [
           "Grenoble"
          ],
          [
           "Grenoble"
          ],
          [
           "Grenoble"
          ],
          [
           "Grenoble"
          ],
          [
           "Grenoble"
          ],
          [
           "Grenoble"
          ],
          [
           "Grenoble"
          ],
          [
           "Grenoble"
          ],
          [
           "Grenoble"
          ],
          [
           "Meylan"
          ],
          [
           "Meylan"
          ],
          [
           "Meylan"
          ],
          [
           "Meylan"
          ],
          [
           "Meylan"
          ],
          [
           "Meylan"
          ],
          [
           "Meylan"
          ],
          [
           "Meylan"
          ],
          [
           "Meylan"
          ],
          [
           "Meylan"
          ],
          [
           "Meylan"
          ],
          [
           "Meylan"
          ],
          [
           "Meylan"
          ],
          [
           "Meylan"
          ],
          [
           "Meylan"
          ],
          [
           "Meylan"
          ],
          [
           "Montbonnot-Saint-Martin"
          ],
          [
           "Montbonnot-Saint-Martin"
          ],
          [
           "Montbonnot-Saint-Martin"
          ],
          [
           "Montbonnot-Saint-Martin"
          ],
          [
           "Montbonnot-Saint-Martin"
          ],
          [
           "Saint-Ismier"
          ],
          [
           "Saint-Ismier"
          ],
          [
           "Saint-Ismier"
          ],
          [
           "Saint-Ismier"
          ],
          [
           "Saint-Ismier"
          ],
          [
           "Saint-Ismier"
          ],
          [
           "Saint-Ismier"
          ],
          [
           "Saint-Nazaire-les-Eymes"
          ],
          [
           "Saint-Nazaire-les-Eymes"
          ],
          [
           "Saint-Nazaire-les-Eymes"
          ],
          [
           "Le Sappey-en-Chartreuse"
          ],
          [
           "La Tronche"
          ],
          [
           "La Tronche"
          ],
          [
           "La Tronche"
          ],
          [
           "La Tronche"
          ]
         ],
         "hovertemplate": "Liste=Les Patriotes<br>Index=%{x}<br>Pourcentage de Votes=%{text}<br>Commune=%{customdata[0]}<extra></extra>",
         "legendgroup": "Les Patriotes",
         "marker": {
          "color": "#afb5fa",
          "pattern": {
           "shape": ""
          }
         },
         "name": "Les Patriotes",
         "offsetgroup": "Les Patriotes",
         "orientation": "v",
         "showlegend": true,
         "text": [
          0.82,
          0.9,
          0.4,
          0.29,
          0.68,
          0.43,
          0.5,
          0.36,
          0.34,
          0,
          0.59,
          0.26,
          0.17,
          0.26,
          0.29,
          0.25,
          0.51,
          0.19,
          0.41,
          0.12,
          0.44,
          0.64,
          0.26,
          0.69,
          0.27,
          0.09,
          0.26,
          0.23,
          0.37,
          0.72,
          0.2,
          0.65,
          0.35,
          0.18,
          0.36,
          0.92,
          0.14,
          0.94,
          0.51,
          0.56,
          0.32,
          1.37,
          0.4,
          0.1,
          0,
          0.19,
          0.18,
          0.26,
          0.62,
          0.44,
          0.63,
          0,
          0.58,
          0,
          0.62,
          0.62,
          0.22,
          0.7,
          0.68,
          0.12,
          0.12,
          0.34,
          0.55,
          1.01,
          0.11,
          0.4,
          0.3,
          0.42,
          0.28,
          0.29,
          0.79,
          0.35,
          0.33,
          0.63,
          0.22,
          0.36,
          0,
          1.17,
          0,
          0.12,
          0.27,
          0,
          0.39,
          0.56,
          0.27,
          0.37,
          0.65
         ],
         "textposition": "inside",
         "texttemplate": "%{text:.2f}%",
         "type": "bar",
         "x": [
          0,
          1,
          2,
          3,
          4,
          5,
          6,
          7,
          8,
          9,
          10,
          11,
          12,
          13,
          14,
          15,
          16,
          17,
          18,
          19,
          20,
          21,
          22,
          23,
          24,
          25,
          26,
          27,
          28,
          29,
          30,
          31,
          32,
          33,
          34,
          35,
          36,
          37,
          38,
          39,
          40,
          41,
          42,
          43,
          44,
          45,
          46,
          47,
          48,
          49,
          50,
          51,
          52,
          53,
          54,
          55,
          56,
          57,
          58,
          59,
          60,
          61,
          62,
          63,
          64,
          65,
          66,
          67,
          68,
          69,
          70,
          71,
          72,
          73,
          74,
          75,
          76,
          77,
          78,
          79,
          80,
          81,
          82,
          83,
          84,
          85,
          86
         ],
         "xaxis": "x",
         "y": [
          0.82,
          0.9,
          0.4,
          0.29,
          0.68,
          0.43,
          0.5,
          0.36,
          0.34,
          0,
          0.59,
          0.26,
          0.17,
          0.26,
          0.29,
          0.25,
          0.51,
          0.19,
          0.41,
          0.12,
          0.44,
          0.64,
          0.26,
          0.69,
          0.27,
          0.09,
          0.26,
          0.23,
          0.37,
          0.72,
          0.2,
          0.65,
          0.35,
          0.18,
          0.36,
          0.92,
          0.14,
          0.94,
          0.51,
          0.56,
          0.32,
          1.37,
          0.4,
          0.1,
          0,
          0.19,
          0.18,
          0.26,
          0.62,
          0.44,
          0.63,
          0,
          0.58,
          0,
          0.62,
          0.62,
          0.22,
          0.7,
          0.68,
          0.12,
          0.12,
          0.34,
          0.55,
          1.01,
          0.11,
          0.4,
          0.3,
          0.42,
          0.28,
          0.29,
          0.79,
          0.35,
          0.33,
          0.63,
          0.22,
          0.36,
          0,
          1.17,
          0,
          0.12,
          0.27,
          0,
          0.39,
          0.56,
          0.27,
          0.37,
          0.65
         ],
         "yaxis": "y"
        },
        {
         "alignmentgroup": "True",
         "customdata": [
          [
           "Bernin"
          ],
          [
           "Bernin"
          ],
          [
           "Bernin"
          ],
          [
           "Biviers"
          ],
          [
           "Biviers"
          ],
          [
           "Corenc"
          ],
          [
           "Corenc"
          ],
          [
           "Corenc"
          ],
          [
           "Grenoble"
          ],
          [
           "Grenoble"
          ],
          [
           "Grenoble"
          ],
          [
           "Grenoble"
          ],
          [
           "Grenoble"
          ],
          [
           "Grenoble"
          ],
          [
           "Grenoble"
          ],
          [
           "Grenoble"
          ],
          [
           "Grenoble"
          ],
          [
           "Grenoble"
          ],
          [
           "Grenoble"
          ],
          [
           "Grenoble"
          ],
          [
           "Grenoble"
          ],
          [
           "Grenoble"
          ],
          [
           "Grenoble"
          ],
          [
           "Grenoble"
          ],
          [
           "Grenoble"
          ],
          [
           "Grenoble"
          ],
          [
           "Grenoble"
          ],
          [
           "Grenoble"
          ],
          [
           "Grenoble"
          ],
          [
           "Grenoble"
          ],
          [
           "Grenoble"
          ],
          [
           "Grenoble"
          ],
          [
           "Grenoble"
          ],
          [
           "Grenoble"
          ],
          [
           "Grenoble"
          ],
          [
           "Grenoble"
          ],
          [
           "Grenoble"
          ],
          [
           "Grenoble"
          ],
          [
           "Grenoble"
          ],
          [
           "Grenoble"
          ],
          [
           "Grenoble"
          ],
          [
           "Grenoble"
          ],
          [
           "Grenoble"
          ],
          [
           "Grenoble"
          ],
          [
           "Grenoble"
          ],
          [
           "Grenoble"
          ],
          [
           "Grenoble"
          ],
          [
           "Grenoble"
          ],
          [
           "Grenoble"
          ],
          [
           "Grenoble"
          ],
          [
           "Grenoble"
          ],
          [
           "Meylan"
          ],
          [
           "Meylan"
          ],
          [
           "Meylan"
          ],
          [
           "Meylan"
          ],
          [
           "Meylan"
          ],
          [
           "Meylan"
          ],
          [
           "Meylan"
          ],
          [
           "Meylan"
          ],
          [
           "Meylan"
          ],
          [
           "Meylan"
          ],
          [
           "Meylan"
          ],
          [
           "Meylan"
          ],
          [
           "Meylan"
          ],
          [
           "Meylan"
          ],
          [
           "Meylan"
          ],
          [
           "Meylan"
          ],
          [
           "Montbonnot-Saint-Martin"
          ],
          [
           "Montbonnot-Saint-Martin"
          ],
          [
           "Montbonnot-Saint-Martin"
          ],
          [
           "Montbonnot-Saint-Martin"
          ],
          [
           "Montbonnot-Saint-Martin"
          ],
          [
           "Saint-Ismier"
          ],
          [
           "Saint-Ismier"
          ],
          [
           "Saint-Ismier"
          ],
          [
           "Saint-Ismier"
          ],
          [
           "Saint-Ismier"
          ],
          [
           "Saint-Ismier"
          ],
          [
           "Saint-Ismier"
          ],
          [
           "Saint-Nazaire-les-Eymes"
          ],
          [
           "Saint-Nazaire-les-Eymes"
          ],
          [
           "Saint-Nazaire-les-Eymes"
          ],
          [
           "Le Sappey-en-Chartreuse"
          ],
          [
           "La Tronche"
          ],
          [
           "La Tronche"
          ],
          [
           "La Tronche"
          ],
          [
           "La Tronche"
          ]
         ],
         "hovertemplate": "Liste=Reconquête<br>Index=%{x}<br>Pourcentage de Votes=%{text}<br>Commune=%{customdata[0]}<extra></extra>",
         "legendgroup": "Reconquête",
         "marker": {
          "color": "#411018",
          "pattern": {
           "shape": ""
          }
         },
         "name": "Reconquête",
         "offsetgroup": "Reconquête",
         "orientation": "v",
         "showlegend": true,
         "text": [
          3.19,
          3.51,
          3.34,
          6.75,
          5.13,
          3.89,
          4.38,
          5.57,
          2.22,
          1.86,
          4.4,
          2.57,
          4.39,
          1.82,
          3.7,
          2.67,
          1.33,
          1.14,
          3.32,
          2.47,
          2.43,
          2.04,
          2.09,
          1.18,
          3.1,
          1.66,
          1.49,
          0.58,
          1.96,
          1.81,
          2.13,
          2.35,
          2.2,
          3.45,
          3.13,
          2.15,
          1.56,
          2.4,
          2.23,
          2.53,
          3.38,
          1.37,
          2.79,
          2.12,
          1.73,
          2.61,
          2.22,
          2.25,
          2.38,
          1.58,
          2.22,
          2.9,
          3.59,
          2.29,
          2.85,
          2.48,
          3.92,
          2.9,
          3.31,
          5.11,
          5.48,
          4.86,
          2.41,
          2.73,
          3.09,
          7.24,
          3.69,
          4.58,
          3.5,
          4.88,
          2.08,
          3.01,
          2.82,
          3.38,
          3.13,
          2.54,
          3.53,
          2.47,
          3.89,
          4.11,
          4.25,
          2.93,
          2.35,
          2.35,
          3.59,
          2.23,
          2.69
         ],
         "textposition": "inside",
         "texttemplate": "%{text:.2f}%",
         "type": "bar",
         "x": [
          0,
          1,
          2,
          3,
          4,
          5,
          6,
          7,
          8,
          9,
          10,
          11,
          12,
          13,
          14,
          15,
          16,
          17,
          18,
          19,
          20,
          21,
          22,
          23,
          24,
          25,
          26,
          27,
          28,
          29,
          30,
          31,
          32,
          33,
          34,
          35,
          36,
          37,
          38,
          39,
          40,
          41,
          42,
          43,
          44,
          45,
          46,
          47,
          48,
          49,
          50,
          51,
          52,
          53,
          54,
          55,
          56,
          57,
          58,
          59,
          60,
          61,
          62,
          63,
          64,
          65,
          66,
          67,
          68,
          69,
          70,
          71,
          72,
          73,
          74,
          75,
          76,
          77,
          78,
          79,
          80,
          81,
          82,
          83,
          84,
          85,
          86
         ],
         "xaxis": "x",
         "y": [
          3.19,
          3.51,
          3.34,
          6.75,
          5.13,
          3.89,
          4.38,
          5.57,
          2.22,
          1.86,
          4.4,
          2.57,
          4.39,
          1.82,
          3.7,
          2.67,
          1.33,
          1.14,
          3.32,
          2.47,
          2.43,
          2.04,
          2.09,
          1.18,
          3.1,
          1.66,
          1.49,
          0.58,
          1.96,
          1.81,
          2.13,
          2.35,
          2.2,
          3.45,
          3.13,
          2.15,
          1.56,
          2.4,
          2.23,
          2.53,
          3.38,
          1.37,
          2.79,
          2.12,
          1.73,
          2.61,
          2.22,
          2.25,
          2.38,
          1.58,
          2.22,
          2.9,
          3.59,
          2.29,
          2.85,
          2.48,
          3.92,
          2.9,
          3.31,
          5.11,
          5.48,
          4.86,
          2.41,
          2.73,
          3.09,
          7.24,
          3.69,
          4.58,
          3.5,
          4.88,
          2.08,
          3.01,
          2.82,
          3.38,
          3.13,
          2.54,
          3.53,
          2.47,
          3.89,
          4.11,
          4.25,
          2.93,
          2.35,
          2.35,
          3.59,
          2.23,
          2.69
         ],
         "yaxis": "y"
        }
       ],
       "layout": {
        "autosize": true,
        "barmode": "stack",
        "legend": {
         "title": {
          "text": "Liste"
         },
         "tracegroupgap": 0
        },
        "template": {
         "data": {
          "bar": [
           {
            "error_x": {
             "color": "#2a3f5f"
            },
            "error_y": {
             "color": "#2a3f5f"
            },
            "marker": {
             "line": {
              "color": "#E5ECF6",
              "width": 0.5
             },
             "pattern": {
              "fillmode": "overlay",
              "size": 10,
              "solidity": 0.2
             }
            },
            "type": "bar"
           }
          ],
          "barpolar": [
           {
            "marker": {
             "line": {
              "color": "#E5ECF6",
              "width": 0.5
             },
             "pattern": {
              "fillmode": "overlay",
              "size": 10,
              "solidity": 0.2
             }
            },
            "type": "barpolar"
           }
          ],
          "carpet": [
           {
            "aaxis": {
             "endlinecolor": "#2a3f5f",
             "gridcolor": "white",
             "linecolor": "white",
             "minorgridcolor": "white",
             "startlinecolor": "#2a3f5f"
            },
            "baxis": {
             "endlinecolor": "#2a3f5f",
             "gridcolor": "white",
             "linecolor": "white",
             "minorgridcolor": "white",
             "startlinecolor": "#2a3f5f"
            },
            "type": "carpet"
           }
          ],
          "choropleth": [
           {
            "colorbar": {
             "outlinewidth": 0,
             "ticks": ""
            },
            "type": "choropleth"
           }
          ],
          "contour": [
           {
            "colorbar": {
             "outlinewidth": 0,
             "ticks": ""
            },
            "colorscale": [
             [
              0,
              "#0d0887"
             ],
             [
              0.1111111111111111,
              "#46039f"
             ],
             [
              0.2222222222222222,
              "#7201a8"
             ],
             [
              0.3333333333333333,
              "#9c179e"
             ],
             [
              0.4444444444444444,
              "#bd3786"
             ],
             [
              0.5555555555555556,
              "#d8576b"
             ],
             [
              0.6666666666666666,
              "#ed7953"
             ],
             [
              0.7777777777777778,
              "#fb9f3a"
             ],
             [
              0.8888888888888888,
              "#fdca26"
             ],
             [
              1,
              "#f0f921"
             ]
            ],
            "type": "contour"
           }
          ],
          "contourcarpet": [
           {
            "colorbar": {
             "outlinewidth": 0,
             "ticks": ""
            },
            "type": "contourcarpet"
           }
          ],
          "heatmap": [
           {
            "colorbar": {
             "outlinewidth": 0,
             "ticks": ""
            },
            "colorscale": [
             [
              0,
              "#0d0887"
             ],
             [
              0.1111111111111111,
              "#46039f"
             ],
             [
              0.2222222222222222,
              "#7201a8"
             ],
             [
              0.3333333333333333,
              "#9c179e"
             ],
             [
              0.4444444444444444,
              "#bd3786"
             ],
             [
              0.5555555555555556,
              "#d8576b"
             ],
             [
              0.6666666666666666,
              "#ed7953"
             ],
             [
              0.7777777777777778,
              "#fb9f3a"
             ],
             [
              0.8888888888888888,
              "#fdca26"
             ],
             [
              1,
              "#f0f921"
             ]
            ],
            "type": "heatmap"
           }
          ],
          "heatmapgl": [
           {
            "colorbar": {
             "outlinewidth": 0,
             "ticks": ""
            },
            "colorscale": [
             [
              0,
              "#0d0887"
             ],
             [
              0.1111111111111111,
              "#46039f"
             ],
             [
              0.2222222222222222,
              "#7201a8"
             ],
             [
              0.3333333333333333,
              "#9c179e"
             ],
             [
              0.4444444444444444,
              "#bd3786"
             ],
             [
              0.5555555555555556,
              "#d8576b"
             ],
             [
              0.6666666666666666,
              "#ed7953"
             ],
             [
              0.7777777777777778,
              "#fb9f3a"
             ],
             [
              0.8888888888888888,
              "#fdca26"
             ],
             [
              1,
              "#f0f921"
             ]
            ],
            "type": "heatmapgl"
           }
          ],
          "histogram": [
           {
            "marker": {
             "pattern": {
              "fillmode": "overlay",
              "size": 10,
              "solidity": 0.2
             }
            },
            "type": "histogram"
           }
          ],
          "histogram2d": [
           {
            "colorbar": {
             "outlinewidth": 0,
             "ticks": ""
            },
            "colorscale": [
             [
              0,
              "#0d0887"
             ],
             [
              0.1111111111111111,
              "#46039f"
             ],
             [
              0.2222222222222222,
              "#7201a8"
             ],
             [
              0.3333333333333333,
              "#9c179e"
             ],
             [
              0.4444444444444444,
              "#bd3786"
             ],
             [
              0.5555555555555556,
              "#d8576b"
             ],
             [
              0.6666666666666666,
              "#ed7953"
             ],
             [
              0.7777777777777778,
              "#fb9f3a"
             ],
             [
              0.8888888888888888,
              "#fdca26"
             ],
             [
              1,
              "#f0f921"
             ]
            ],
            "type": "histogram2d"
           }
          ],
          "histogram2dcontour": [
           {
            "colorbar": {
             "outlinewidth": 0,
             "ticks": ""
            },
            "colorscale": [
             [
              0,
              "#0d0887"
             ],
             [
              0.1111111111111111,
              "#46039f"
             ],
             [
              0.2222222222222222,
              "#7201a8"
             ],
             [
              0.3333333333333333,
              "#9c179e"
             ],
             [
              0.4444444444444444,
              "#bd3786"
             ],
             [
              0.5555555555555556,
              "#d8576b"
             ],
             [
              0.6666666666666666,
              "#ed7953"
             ],
             [
              0.7777777777777778,
              "#fb9f3a"
             ],
             [
              0.8888888888888888,
              "#fdca26"
             ],
             [
              1,
              "#f0f921"
             ]
            ],
            "type": "histogram2dcontour"
           }
          ],
          "mesh3d": [
           {
            "colorbar": {
             "outlinewidth": 0,
             "ticks": ""
            },
            "type": "mesh3d"
           }
          ],
          "parcoords": [
           {
            "line": {
             "colorbar": {
              "outlinewidth": 0,
              "ticks": ""
             }
            },
            "type": "parcoords"
           }
          ],
          "pie": [
           {
            "automargin": true,
            "type": "pie"
           }
          ],
          "scatter": [
           {
            "fillpattern": {
             "fillmode": "overlay",
             "size": 10,
             "solidity": 0.2
            },
            "type": "scatter"
           }
          ],
          "scatter3d": [
           {
            "line": {
             "colorbar": {
              "outlinewidth": 0,
              "ticks": ""
             }
            },
            "marker": {
             "colorbar": {
              "outlinewidth": 0,
              "ticks": ""
             }
            },
            "type": "scatter3d"
           }
          ],
          "scattercarpet": [
           {
            "marker": {
             "colorbar": {
              "outlinewidth": 0,
              "ticks": ""
             }
            },
            "type": "scattercarpet"
           }
          ],
          "scattergeo": [
           {
            "marker": {
             "colorbar": {
              "outlinewidth": 0,
              "ticks": ""
             }
            },
            "type": "scattergeo"
           }
          ],
          "scattergl": [
           {
            "marker": {
             "colorbar": {
              "outlinewidth": 0,
              "ticks": ""
             }
            },
            "type": "scattergl"
           }
          ],
          "scattermapbox": [
           {
            "marker": {
             "colorbar": {
              "outlinewidth": 0,
              "ticks": ""
             }
            },
            "type": "scattermapbox"
           }
          ],
          "scatterpolar": [
           {
            "marker": {
             "colorbar": {
              "outlinewidth": 0,
              "ticks": ""
             }
            },
            "type": "scatterpolar"
           }
          ],
          "scatterpolargl": [
           {
            "marker": {
             "colorbar": {
              "outlinewidth": 0,
              "ticks": ""
             }
            },
            "type": "scatterpolargl"
           }
          ],
          "scatterternary": [
           {
            "marker": {
             "colorbar": {
              "outlinewidth": 0,
              "ticks": ""
             }
            },
            "type": "scatterternary"
           }
          ],
          "surface": [
           {
            "colorbar": {
             "outlinewidth": 0,
             "ticks": ""
            },
            "colorscale": [
             [
              0,
              "#0d0887"
             ],
             [
              0.1111111111111111,
              "#46039f"
             ],
             [
              0.2222222222222222,
              "#7201a8"
             ],
             [
              0.3333333333333333,
              "#9c179e"
             ],
             [
              0.4444444444444444,
              "#bd3786"
             ],
             [
              0.5555555555555556,
              "#d8576b"
             ],
             [
              0.6666666666666666,
              "#ed7953"
             ],
             [
              0.7777777777777778,
              "#fb9f3a"
             ],
             [
              0.8888888888888888,
              "#fdca26"
             ],
             [
              1,
              "#f0f921"
             ]
            ],
            "type": "surface"
           }
          ],
          "table": [
           {
            "cells": {
             "fill": {
              "color": "#EBF0F8"
             },
             "line": {
              "color": "white"
             }
            },
            "header": {
             "fill": {
              "color": "#C8D4E3"
             },
             "line": {
              "color": "white"
             }
            },
            "type": "table"
           }
          ]
         },
         "layout": {
          "annotationdefaults": {
           "arrowcolor": "#2a3f5f",
           "arrowhead": 0,
           "arrowwidth": 1
          },
          "autotypenumbers": "strict",
          "coloraxis": {
           "colorbar": {
            "outlinewidth": 0,
            "ticks": ""
           }
          },
          "colorscale": {
           "diverging": [
            [
             0,
             "#8e0152"
            ],
            [
             0.1,
             "#c51b7d"
            ],
            [
             0.2,
             "#de77ae"
            ],
            [
             0.3,
             "#f1b6da"
            ],
            [
             0.4,
             "#fde0ef"
            ],
            [
             0.5,
             "#f7f7f7"
            ],
            [
             0.6,
             "#e6f5d0"
            ],
            [
             0.7,
             "#b8e186"
            ],
            [
             0.8,
             "#7fbc41"
            ],
            [
             0.9,
             "#4d9221"
            ],
            [
             1,
             "#276419"
            ]
           ],
           "sequential": [
            [
             0,
             "#0d0887"
            ],
            [
             0.1111111111111111,
             "#46039f"
            ],
            [
             0.2222222222222222,
             "#7201a8"
            ],
            [
             0.3333333333333333,
             "#9c179e"
            ],
            [
             0.4444444444444444,
             "#bd3786"
            ],
            [
             0.5555555555555556,
             "#d8576b"
            ],
            [
             0.6666666666666666,
             "#ed7953"
            ],
            [
             0.7777777777777778,
             "#fb9f3a"
            ],
            [
             0.8888888888888888,
             "#fdca26"
            ],
            [
             1,
             "#f0f921"
            ]
           ],
           "sequentialminus": [
            [
             0,
             "#0d0887"
            ],
            [
             0.1111111111111111,
             "#46039f"
            ],
            [
             0.2222222222222222,
             "#7201a8"
            ],
            [
             0.3333333333333333,
             "#9c179e"
            ],
            [
             0.4444444444444444,
             "#bd3786"
            ],
            [
             0.5555555555555556,
             "#d8576b"
            ],
            [
             0.6666666666666666,
             "#ed7953"
            ],
            [
             0.7777777777777778,
             "#fb9f3a"
            ],
            [
             0.8888888888888888,
             "#fdca26"
            ],
            [
             1,
             "#f0f921"
            ]
           ]
          },
          "colorway": [
           "#636efa",
           "#EF553B",
           "#00cc96",
           "#ab63fa",
           "#FFA15A",
           "#19d3f3",
           "#FF6692",
           "#B6E880",
           "#FF97FF",
           "#FECB52"
          ],
          "font": {
           "color": "#2a3f5f"
          },
          "geo": {
           "bgcolor": "white",
           "lakecolor": "white",
           "landcolor": "#E5ECF6",
           "showlakes": true,
           "showland": true,
           "subunitcolor": "white"
          },
          "hoverlabel": {
           "align": "left"
          },
          "hovermode": "closest",
          "mapbox": {
           "style": "light"
          },
          "paper_bgcolor": "white",
          "plot_bgcolor": "#E5ECF6",
          "polar": {
           "angularaxis": {
            "gridcolor": "white",
            "linecolor": "white",
            "ticks": ""
           },
           "bgcolor": "#E5ECF6",
           "radialaxis": {
            "gridcolor": "white",
            "linecolor": "white",
            "ticks": ""
           }
          },
          "scene": {
           "xaxis": {
            "backgroundcolor": "#E5ECF6",
            "gridcolor": "white",
            "gridwidth": 2,
            "linecolor": "white",
            "showbackground": true,
            "ticks": "",
            "zerolinecolor": "white"
           },
           "yaxis": {
            "backgroundcolor": "#E5ECF6",
            "gridcolor": "white",
            "gridwidth": 2,
            "linecolor": "white",
            "showbackground": true,
            "ticks": "",
            "zerolinecolor": "white"
           },
           "zaxis": {
            "backgroundcolor": "#E5ECF6",
            "gridcolor": "white",
            "gridwidth": 2,
            "linecolor": "white",
            "showbackground": true,
            "ticks": "",
            "zerolinecolor": "white"
           }
          },
          "shapedefaults": {
           "line": {
            "color": "#2a3f5f"
           }
          },
          "ternary": {
           "aaxis": {
            "gridcolor": "white",
            "linecolor": "white",
            "ticks": ""
           },
           "baxis": {
            "gridcolor": "white",
            "linecolor": "white",
            "ticks": ""
           },
           "bgcolor": "#E5ECF6",
           "caxis": {
            "gridcolor": "white",
            "linecolor": "white",
            "ticks": ""
           }
          },
          "title": {
           "x": 0.05
          },
          "xaxis": {
           "automargin": true,
           "gridcolor": "white",
           "linecolor": "white",
           "ticks": "",
           "title": {
            "standoff": 15
           },
           "zerolinecolor": "white",
           "zerolinewidth": 2
          },
          "yaxis": {
           "automargin": true,
           "gridcolor": "white",
           "linecolor": "white",
           "ticks": "",
           "title": {
            "standoff": 15
           },
           "zerolinecolor": "white",
           "zerolinewidth": 2
          }
         }
        },
        "title": {
         "text": "Pourcentage des Votes par Bureau de Vote aux Élections Européennes"
        },
        "xaxis": {
         "anchor": "y",
         "autorange": true,
         "domain": [
          0,
          1
         ],
         "range": [
          -0.5,
          86.5
         ],
         "title": {
          "text": "Index"
         },
         "type": "linear"
        },
        "yaxis": {
         "anchor": "x",
         "autorange": true,
         "domain": [
          0,
          1
         ],
         "range": [
          0,
          103.98947368421051
         ],
         "title": {
          "text": "Pourcentage de Votes"
         },
         "type": "linear"
        }
       }
      },
      "text/html": [
       "<div>                            <div id=\"9ec6b05f-40f1-46b4-84a1-45b62ab0e746\" class=\"plotly-graph-div\" style=\"height:525px; width:100%;\"></div>            <script type=\"text/javascript\">                require([\"plotly\"], function(Plotly) {                    window.PLOTLYENV=window.PLOTLYENV || {};                                    if (document.getElementById(\"9ec6b05f-40f1-46b4-84a1-45b62ab0e746\")) {                    Plotly.newPlot(                        \"9ec6b05f-40f1-46b4-84a1-45b62ab0e746\",                        [{\"alignmentgroup\":\"True\",\"customdata\":[[\"Bernin\"],[\"Bernin\"],[\"Bernin\"],[\"Biviers\"],[\"Biviers\"],[\"Corenc\"],[\"Corenc\"],[\"Corenc\"],[\"Grenoble\"],[\"Grenoble\"],[\"Grenoble\"],[\"Grenoble\"],[\"Grenoble\"],[\"Grenoble\"],[\"Grenoble\"],[\"Grenoble\"],[\"Grenoble\"],[\"Grenoble\"],[\"Grenoble\"],[\"Grenoble\"],[\"Grenoble\"],[\"Grenoble\"],[\"Grenoble\"],[\"Grenoble\"],[\"Grenoble\"],[\"Grenoble\"],[\"Grenoble\"],[\"Grenoble\"],[\"Grenoble\"],[\"Grenoble\"],[\"Grenoble\"],[\"Grenoble\"],[\"Grenoble\"],[\"Grenoble\"],[\"Grenoble\"],[\"Grenoble\"],[\"Grenoble\"],[\"Grenoble\"],[\"Grenoble\"],[\"Grenoble\"],[\"Grenoble\"],[\"Grenoble\"],[\"Grenoble\"],[\"Grenoble\"],[\"Grenoble\"],[\"Grenoble\"],[\"Grenoble\"],[\"Grenoble\"],[\"Grenoble\"],[\"Grenoble\"],[\"Grenoble\"],[\"Meylan\"],[\"Meylan\"],[\"Meylan\"],[\"Meylan\"],[\"Meylan\"],[\"Meylan\"],[\"Meylan\"],[\"Meylan\"],[\"Meylan\"],[\"Meylan\"],[\"Meylan\"],[\"Meylan\"],[\"Meylan\"],[\"Meylan\"],[\"Meylan\"],[\"Meylan\"],[\"Montbonnot-Saint-Martin\"],[\"Montbonnot-Saint-Martin\"],[\"Montbonnot-Saint-Martin\"],[\"Montbonnot-Saint-Martin\"],[\"Montbonnot-Saint-Martin\"],[\"Saint-Ismier\"],[\"Saint-Ismier\"],[\"Saint-Ismier\"],[\"Saint-Ismier\"],[\"Saint-Ismier\"],[\"Saint-Ismier\"],[\"Saint-Ismier\"],[\"Saint-Nazaire-les-Eymes\"],[\"Saint-Nazaire-les-Eymes\"],[\"Saint-Nazaire-les-Eymes\"],[\"Le Sappey-en-Chartreuse\"],[\"La Tronche\"],[\"La Tronche\"],[\"La Tronche\"],[\"La Tronche\"]],\"hovertemplate\":\"Liste=Abstention\\u003cbr\\u003eIndex=%{x}\\u003cbr\\u003ePourcentage de Votes=%{text}\\u003cbr\\u003eCommune=%{customdata[0]}\\u003cextra\\u003e\\u003c\\u002fextra\\u003e\",\"legendgroup\":\"Abstention\",\"marker\":{\"color\":\"grey\",\"pattern\":{\"shape\":\"\"}},\"name\":\"Abstention\",\"offsetgroup\":\"Abstention\",\"orientation\":\"v\",\"showlegend\":true,\"text\":[37.31,37.95,37.15,27.1,30.69,31.72,33.39,30.57,35.15,40.76,33.07,38.25,32.69,34.23,31.52,39.06,39.0,41.53,31.3,29.85,38.01,38.52,40.49,54.99,33.97,35.24,44.61,54.91,37.94,39.88,36.88,35.17,45.46,34.72,43.63,36.64,34.52,35.45,35.32,34.8,35.62,68.04,31.7,31.66,30.73,35.35,34.04,32.44,35.16,39.26,38.97,37.74,33.26,45.01,40.35,38.01,35.73,40.26,37.17,30.88,33.97,34.92,35.23,31.28,38.27,34.47,38.72,34.17,33.0,31.99,37.78,33.99,30.77,30.63,38.14,32.49,39.42,41.56,38.62,31.26,34.02,30.75,29.16,40.19,31.21,40.09,36.45],\"textposition\":\"inside\",\"x\":[0,1,2,3,4,5,6,7,8,9,10,11,12,13,14,15,16,17,18,19,20,21,22,23,24,25,26,27,28,29,30,31,32,33,34,35,36,37,38,39,40,41,42,43,44,45,46,47,48,49,50,51,52,53,54,55,56,57,58,59,60,61,62,63,64,65,66,67,68,69,70,71,72,73,74,75,76,77,78,79,80,81,82,83,84,85,86],\"xaxis\":\"x\",\"y\":[37.31,37.95,37.15,27.1,30.69,31.72,33.39,30.57,35.15,40.76,33.07,38.25,32.69,34.23,31.52,39.06,39.0,41.53,31.3,29.85,38.01,38.52,40.49,54.99,33.97,35.24,44.61,54.91,37.94,39.88,36.88,35.17,45.46,34.72,43.63,36.64,34.52,35.45,35.32,34.8,35.62,68.04,31.7,31.66,30.73,35.35,34.04,32.44,35.16,39.26,38.97,37.74,33.26,45.01,40.35,38.01,35.73,40.26,37.17,30.88,33.97,34.92,35.23,31.28,38.27,34.47,38.72,34.17,33.0,31.99,37.78,33.99,30.77,30.63,38.14,32.49,39.42,41.56,38.62,31.26,34.02,30.75,29.16,40.19,31.21,40.09,36.45],\"yaxis\":\"y\",\"type\":\"bar\",\"texttemplate\":\"%{text:.2f}%\"},{\"alignmentgroup\":\"True\",\"customdata\":[[\"Bernin\"],[\"Bernin\"],[\"Bernin\"],[\"Biviers\"],[\"Biviers\"],[\"Corenc\"],[\"Corenc\"],[\"Corenc\"],[\"Grenoble\"],[\"Grenoble\"],[\"Grenoble\"],[\"Grenoble\"],[\"Grenoble\"],[\"Grenoble\"],[\"Grenoble\"],[\"Grenoble\"],[\"Grenoble\"],[\"Grenoble\"],[\"Grenoble\"],[\"Grenoble\"],[\"Grenoble\"],[\"Grenoble\"],[\"Grenoble\"],[\"Grenoble\"],[\"Grenoble\"],[\"Grenoble\"],[\"Grenoble\"],[\"Grenoble\"],[\"Grenoble\"],[\"Grenoble\"],[\"Grenoble\"],[\"Grenoble\"],[\"Grenoble\"],[\"Grenoble\"],[\"Grenoble\"],[\"Grenoble\"],[\"Grenoble\"],[\"Grenoble\"],[\"Grenoble\"],[\"Grenoble\"],[\"Grenoble\"],[\"Grenoble\"],[\"Grenoble\"],[\"Grenoble\"],[\"Grenoble\"],[\"Grenoble\"],[\"Grenoble\"],[\"Grenoble\"],[\"Grenoble\"],[\"Grenoble\"],[\"Grenoble\"],[\"Meylan\"],[\"Meylan\"],[\"Meylan\"],[\"Meylan\"],[\"Meylan\"],[\"Meylan\"],[\"Meylan\"],[\"Meylan\"],[\"Meylan\"],[\"Meylan\"],[\"Meylan\"],[\"Meylan\"],[\"Meylan\"],[\"Meylan\"],[\"Meylan\"],[\"Meylan\"],[\"Montbonnot-Saint-Martin\"],[\"Montbonnot-Saint-Martin\"],[\"Montbonnot-Saint-Martin\"],[\"Montbonnot-Saint-Martin\"],[\"Montbonnot-Saint-Martin\"],[\"Saint-Ismier\"],[\"Saint-Ismier\"],[\"Saint-Ismier\"],[\"Saint-Ismier\"],[\"Saint-Ismier\"],[\"Saint-Ismier\"],[\"Saint-Ismier\"],[\"Saint-Nazaire-les-Eymes\"],[\"Saint-Nazaire-les-Eymes\"],[\"Saint-Nazaire-les-Eymes\"],[\"Le Sappey-en-Chartreuse\"],[\"La Tronche\"],[\"La Tronche\"],[\"La Tronche\"],[\"La Tronche\"]],\"hovertemplate\":\"Liste=Free Palestine\\u003cbr\\u003eIndex=%{x}\\u003cbr\\u003ePourcentage de Votes=%{text}\\u003cbr\\u003eCommune=%{customdata[0]}\\u003cextra\\u003e\\u003c\\u002fextra\\u003e\",\"legendgroup\":\"Free Palestine\",\"marker\":{\"color\":\"#225b2f\",\"pattern\":{\"shape\":\"\"}},\"name\":\"Free Palestine\",\"offsetgroup\":\"Free Palestine\",\"orientation\":\"v\",\"showlegend\":true,\"text\":[0.0,0.0,0.0,0.0,0.0,0.0,0.0,0.0,0.26,0.2,0.0,0.26,7.69,0.09,0.0,0.13,0.31,0.09,0.0,0.0,0.33,0.11,0.0,0.3,0.0,0.0,0.7,0.58,0.47,0.0,0.41,0.0,0.09,0.0,0.12,0.1,0.28,0.1,0.2,0.0,0.11,0.0,0.1,0.0,0.0,0.0,0.18,0.0,0.0,0.44,0.0,0.0,0.0,0.0,0.0,1.61,0.0,0.0,0.0,0.0,0.0,0.0,0.0,0.0,0.0,0.0,0.2,0.0,0.0,0.0,0.0,0.0,0.0,0.0,0.0,0.0,0.0,0.0,0.0,0.0,0.0,0.0,0.0,0.0,0.0,0.0,0.0],\"textposition\":\"inside\",\"x\":[0,1,2,3,4,5,6,7,8,9,10,11,12,13,14,15,16,17,18,19,20,21,22,23,24,25,26,27,28,29,30,31,32,33,34,35,36,37,38,39,40,41,42,43,44,45,46,47,48,49,50,51,52,53,54,55,56,57,58,59,60,61,62,63,64,65,66,67,68,69,70,71,72,73,74,75,76,77,78,79,80,81,82,83,84,85,86],\"xaxis\":\"x\",\"y\":[0.0,0.0,0.0,0.0,0.0,0.0,0.0,0.0,0.26,0.2,0.0,0.26,7.69,0.09,0.0,0.13,0.31,0.09,0.0,0.0,0.33,0.11,0.0,0.3,0.0,0.0,0.7,0.58,0.47,0.0,0.41,0.0,0.09,0.0,0.12,0.1,0.28,0.1,0.2,0.0,0.11,0.0,0.1,0.0,0.0,0.0,0.18,0.0,0.0,0.44,0.0,0.0,0.0,0.0,0.0,1.61,0.0,0.0,0.0,0.0,0.0,0.0,0.0,0.0,0.0,0.0,0.2,0.0,0.0,0.0,0.0,0.0,0.0,0.0,0.0,0.0,0.0,0.0,0.0,0.0,0.0,0.0,0.0,0.0,0.0,0.0,0.0],\"yaxis\":\"y\",\"type\":\"bar\",\"texttemplate\":\"%{text:.2f}%\"},{\"alignmentgroup\":\"True\",\"customdata\":[[\"Bernin\"],[\"Bernin\"],[\"Bernin\"],[\"Biviers\"],[\"Biviers\"],[\"Corenc\"],[\"Corenc\"],[\"Corenc\"],[\"Grenoble\"],[\"Grenoble\"],[\"Grenoble\"],[\"Grenoble\"],[\"Grenoble\"],[\"Grenoble\"],[\"Grenoble\"],[\"Grenoble\"],[\"Grenoble\"],[\"Grenoble\"],[\"Grenoble\"],[\"Grenoble\"],[\"Grenoble\"],[\"Grenoble\"],[\"Grenoble\"],[\"Grenoble\"],[\"Grenoble\"],[\"Grenoble\"],[\"Grenoble\"],[\"Grenoble\"],[\"Grenoble\"],[\"Grenoble\"],[\"Grenoble\"],[\"Grenoble\"],[\"Grenoble\"],[\"Grenoble\"],[\"Grenoble\"],[\"Grenoble\"],[\"Grenoble\"],[\"Grenoble\"],[\"Grenoble\"],[\"Grenoble\"],[\"Grenoble\"],[\"Grenoble\"],[\"Grenoble\"],[\"Grenoble\"],[\"Grenoble\"],[\"Grenoble\"],[\"Grenoble\"],[\"Grenoble\"],[\"Grenoble\"],[\"Grenoble\"],[\"Grenoble\"],[\"Meylan\"],[\"Meylan\"],[\"Meylan\"],[\"Meylan\"],[\"Meylan\"],[\"Meylan\"],[\"Meylan\"],[\"Meylan\"],[\"Meylan\"],[\"Meylan\"],[\"Meylan\"],[\"Meylan\"],[\"Meylan\"],[\"Meylan\"],[\"Meylan\"],[\"Meylan\"],[\"Montbonnot-Saint-Martin\"],[\"Montbonnot-Saint-Martin\"],[\"Montbonnot-Saint-Martin\"],[\"Montbonnot-Saint-Martin\"],[\"Montbonnot-Saint-Martin\"],[\"Saint-Ismier\"],[\"Saint-Ismier\"],[\"Saint-Ismier\"],[\"Saint-Ismier\"],[\"Saint-Ismier\"],[\"Saint-Ismier\"],[\"Saint-Ismier\"],[\"Saint-Nazaire-les-Eymes\"],[\"Saint-Nazaire-les-Eymes\"],[\"Saint-Nazaire-les-Eymes\"],[\"Le Sappey-en-Chartreuse\"],[\"La Tronche\"],[\"La Tronche\"],[\"La Tronche\"],[\"La Tronche\"]],\"hovertemplate\":\"Liste=LFI\\u003cbr\\u003eIndex=%{x}\\u003cbr\\u003ePourcentage de Votes=%{text}\\u003cbr\\u003eCommune=%{customdata[0]}\\u003cextra\\u003e\\u003c\\u002fextra\\u003e\",\"legendgroup\":\"LFI\",\"marker\":{\"color\":\"#e11818\",\"pattern\":{\"shape\":\"\"}},\"name\":\"LFI\",\"offsetgroup\":\"LFI\",\"orientation\":\"v\",\"showlegend\":true,\"text\":[3.08,3.21,2.73,2.7,2.61,4.24,3.72,4.01,12.54,14.66,9.98,10.72,8.61,13.99,9.92,15.39,14.02,15.89,9.12,7.52,10.5,7.83,12.65,17.28,10.47,13.56,18.67,17.69,14.39,15.18,11.35,10.29,14.63,9.48,13.34,14.53,12.22,11.57,9.11,9.26,11.63,7.76,11.86,13.8,10.4,12.5,13.42,10.93,13.24,14.52,10.88,6.77,5.21,6.65,5.69,5.84,4.47,6.5,7.3,4.16,4.17,3.95,10.07,3.54,4.8,3.22,4.59,2.64,3.23,3.16,3.96,2.54,2.49,3.0,3.24,3.14,2.39,2.34,5.49,2.23,2.47,3.17,6.85,7.04,5.38,7.81,5.38],\"textposition\":\"inside\",\"x\":[0,1,2,3,4,5,6,7,8,9,10,11,12,13,14,15,16,17,18,19,20,21,22,23,24,25,26,27,28,29,30,31,32,33,34,35,36,37,38,39,40,41,42,43,44,45,46,47,48,49,50,51,52,53,54,55,56,57,58,59,60,61,62,63,64,65,66,67,68,69,70,71,72,73,74,75,76,77,78,79,80,81,82,83,84,85,86],\"xaxis\":\"x\",\"y\":[3.08,3.21,2.73,2.7,2.61,4.24,3.72,4.01,12.54,14.66,9.98,10.72,8.61,13.99,9.92,15.39,14.02,15.89,9.12,7.52,10.5,7.83,12.65,17.28,10.47,13.56,18.67,17.69,14.39,15.18,11.35,10.29,14.63,9.48,13.34,14.53,12.22,11.57,9.11,9.26,11.63,7.76,11.86,13.8,10.4,12.5,13.42,10.93,13.24,14.52,10.88,6.77,5.21,6.65,5.69,5.84,4.47,6.5,7.3,4.16,4.17,3.95,10.07,3.54,4.8,3.22,4.59,2.64,3.23,3.16,3.96,2.54,2.49,3.0,3.24,3.14,2.39,2.34,5.49,2.23,2.47,3.17,6.85,7.04,5.38,7.81,5.38],\"yaxis\":\"y\",\"type\":\"bar\",\"texttemplate\":\"%{text:.2f}%\"},{\"alignmentgroup\":\"True\",\"customdata\":[[\"Bernin\"],[\"Bernin\"],[\"Bernin\"],[\"Biviers\"],[\"Biviers\"],[\"Corenc\"],[\"Corenc\"],[\"Corenc\"],[\"Grenoble\"],[\"Grenoble\"],[\"Grenoble\"],[\"Grenoble\"],[\"Grenoble\"],[\"Grenoble\"],[\"Grenoble\"],[\"Grenoble\"],[\"Grenoble\"],[\"Grenoble\"],[\"Grenoble\"],[\"Grenoble\"],[\"Grenoble\"],[\"Grenoble\"],[\"Grenoble\"],[\"Grenoble\"],[\"Grenoble\"],[\"Grenoble\"],[\"Grenoble\"],[\"Grenoble\"],[\"Grenoble\"],[\"Grenoble\"],[\"Grenoble\"],[\"Grenoble\"],[\"Grenoble\"],[\"Grenoble\"],[\"Grenoble\"],[\"Grenoble\"],[\"Grenoble\"],[\"Grenoble\"],[\"Grenoble\"],[\"Grenoble\"],[\"Grenoble\"],[\"Grenoble\"],[\"Grenoble\"],[\"Grenoble\"],[\"Grenoble\"],[\"Grenoble\"],[\"Grenoble\"],[\"Grenoble\"],[\"Grenoble\"],[\"Grenoble\"],[\"Grenoble\"],[\"Meylan\"],[\"Meylan\"],[\"Meylan\"],[\"Meylan\"],[\"Meylan\"],[\"Meylan\"],[\"Meylan\"],[\"Meylan\"],[\"Meylan\"],[\"Meylan\"],[\"Meylan\"],[\"Meylan\"],[\"Meylan\"],[\"Meylan\"],[\"Meylan\"],[\"Meylan\"],[\"Montbonnot-Saint-Martin\"],[\"Montbonnot-Saint-Martin\"],[\"Montbonnot-Saint-Martin\"],[\"Montbonnot-Saint-Martin\"],[\"Montbonnot-Saint-Martin\"],[\"Saint-Ismier\"],[\"Saint-Ismier\"],[\"Saint-Ismier\"],[\"Saint-Ismier\"],[\"Saint-Ismier\"],[\"Saint-Ismier\"],[\"Saint-Ismier\"],[\"Saint-Nazaire-les-Eymes\"],[\"Saint-Nazaire-les-Eymes\"],[\"Saint-Nazaire-les-Eymes\"],[\"Le Sappey-en-Chartreuse\"],[\"La Tronche\"],[\"La Tronche\"],[\"La Tronche\"],[\"La Tronche\"]],\"hovertemplate\":\"Liste=PCF\\u003cbr\\u003eIndex=%{x}\\u003cbr\\u003ePourcentage de Votes=%{text}\\u003cbr\\u003eCommune=%{customdata[0]}\\u003cextra\\u003e\\u003c\\u002fextra\\u003e\",\"legendgroup\":\"PCF\",\"marker\":{\"color\":\"#db435c\",\"pattern\":{\"shape\":\"\"}},\"name\":\"PCF\",\"offsetgroup\":\"PCF\",\"orientation\":\"v\",\"showlegend\":true,\"text\":[0.41,0.3,0.4,0.39,0.58,0.95,0.58,0.55,0.77,1.08,0.59,1.37,0.34,0.96,0.97,0.51,0.82,0.76,1.14,1.06,0.99,1.07,1.13,0.39,1.73,2.03,0.88,0.92,1.12,1.57,0.81,1.13,0.7,0.71,1.44,1.43,1.14,1.25,1.42,0.94,1.06,0.46,0.9,1.25,0.96,1.21,0.89,0.87,1.34,0.7,2.01,0.86,1.04,1.35,1.11,0.37,0.76,0.93,0.91,0.36,0.48,0.23,0.66,0.3,0.75,0.3,0.6,0.28,0.28,0.29,0.99,0.23,0.33,0.13,0.0,0.48,0.38,0.52,0.2,1.53,0.82,0.94,0.39,0.28,0.09,0.93,0.32],\"textposition\":\"inside\",\"x\":[0,1,2,3,4,5,6,7,8,9,10,11,12,13,14,15,16,17,18,19,20,21,22,23,24,25,26,27,28,29,30,31,32,33,34,35,36,37,38,39,40,41,42,43,44,45,46,47,48,49,50,51,52,53,54,55,56,57,58,59,60,61,62,63,64,65,66,67,68,69,70,71,72,73,74,75,76,77,78,79,80,81,82,83,84,85,86],\"xaxis\":\"x\",\"y\":[0.41,0.3,0.4,0.39,0.58,0.95,0.58,0.55,0.77,1.08,0.59,1.37,0.34,0.96,0.97,0.51,0.82,0.76,1.14,1.06,0.99,1.07,1.13,0.39,1.73,2.03,0.88,0.92,1.12,1.57,0.81,1.13,0.7,0.71,1.44,1.43,1.14,1.25,1.42,0.94,1.06,0.46,0.9,1.25,0.96,1.21,0.89,0.87,1.34,0.7,2.01,0.86,1.04,1.35,1.11,0.37,0.76,0.93,0.91,0.36,0.48,0.23,0.66,0.3,0.75,0.3,0.6,0.28,0.28,0.29,0.99,0.23,0.33,0.13,0.0,0.48,0.38,0.52,0.2,1.53,0.82,0.94,0.39,0.28,0.09,0.93,0.32],\"yaxis\":\"y\",\"type\":\"bar\",\"texttemplate\":\"%{text:.2f}%\"},{\"alignmentgroup\":\"True\",\"customdata\":[[\"Bernin\"],[\"Bernin\"],[\"Bernin\"],[\"Biviers\"],[\"Biviers\"],[\"Corenc\"],[\"Corenc\"],[\"Corenc\"],[\"Grenoble\"],[\"Grenoble\"],[\"Grenoble\"],[\"Grenoble\"],[\"Grenoble\"],[\"Grenoble\"],[\"Grenoble\"],[\"Grenoble\"],[\"Grenoble\"],[\"Grenoble\"],[\"Grenoble\"],[\"Grenoble\"],[\"Grenoble\"],[\"Grenoble\"],[\"Grenoble\"],[\"Grenoble\"],[\"Grenoble\"],[\"Grenoble\"],[\"Grenoble\"],[\"Grenoble\"],[\"Grenoble\"],[\"Grenoble\"],[\"Grenoble\"],[\"Grenoble\"],[\"Grenoble\"],[\"Grenoble\"],[\"Grenoble\"],[\"Grenoble\"],[\"Grenoble\"],[\"Grenoble\"],[\"Grenoble\"],[\"Grenoble\"],[\"Grenoble\"],[\"Grenoble\"],[\"Grenoble\"],[\"Grenoble\"],[\"Grenoble\"],[\"Grenoble\"],[\"Grenoble\"],[\"Grenoble\"],[\"Grenoble\"],[\"Grenoble\"],[\"Grenoble\"],[\"Meylan\"],[\"Meylan\"],[\"Meylan\"],[\"Meylan\"],[\"Meylan\"],[\"Meylan\"],[\"Meylan\"],[\"Meylan\"],[\"Meylan\"],[\"Meylan\"],[\"Meylan\"],[\"Meylan\"],[\"Meylan\"],[\"Meylan\"],[\"Meylan\"],[\"Meylan\"],[\"Montbonnot-Saint-Martin\"],[\"Montbonnot-Saint-Martin\"],[\"Montbonnot-Saint-Martin\"],[\"Montbonnot-Saint-Martin\"],[\"Montbonnot-Saint-Martin\"],[\"Saint-Ismier\"],[\"Saint-Ismier\"],[\"Saint-Ismier\"],[\"Saint-Ismier\"],[\"Saint-Ismier\"],[\"Saint-Ismier\"],[\"Saint-Ismier\"],[\"Saint-Nazaire-les-Eymes\"],[\"Saint-Nazaire-les-Eymes\"],[\"Saint-Nazaire-les-Eymes\"],[\"Le Sappey-en-Chartreuse\"],[\"La Tronche\"],[\"La Tronche\"],[\"La Tronche\"],[\"La Tronche\"]],\"hovertemplate\":\"Liste=EELV\\u003cbr\\u003eIndex=%{x}\\u003cbr\\u003ePourcentage de Votes=%{text}\\u003cbr\\u003eCommune=%{customdata[0]}\\u003cextra\\u003e\\u003c\\u002fextra\\u003e\",\"legendgroup\":\"EELV\",\"marker\":{\"color\":\"#53dc20\",\"pattern\":{\"shape\":\"\"}},\"name\":\"EELV\",\"offsetgroup\":\"EELV\",\"orientation\":\"v\",\"showlegend\":true,\"text\":[6.58,6.63,7.39,6.46,6.2,8.21,8.6,7.76,9.04,9.97,8.61,9.01,0.0,11.29,10.8,10.69,9.62,8.23,7.77,11.63,9.72,10.73,10.03,3.85,8.65,8.67,3.59,2.89,7.66,6.99,8.31,9.97,6.08,8.24,7.33,8.5,10.8,8.34,6.88,8.51,6.24,1.83,9.87,12.45,10.5,10.63,8.36,12.32,8.07,4.84,8.03,5.59,5.45,3.95,3.84,5.22,5.66,5.8,6.16,6.65,5.01,3.73,10.18,6.78,8.32,3.22,4.99,4.86,5.53,4.59,5.14,7.05,6.28,6.38,3.8,5.07,4.16,4.42,4.79,5.52,6.31,9.04,16.63,10.42,9.06,7.53,9.35],\"textposition\":\"inside\",\"x\":[0,1,2,3,4,5,6,7,8,9,10,11,12,13,14,15,16,17,18,19,20,21,22,23,24,25,26,27,28,29,30,31,32,33,34,35,36,37,38,39,40,41,42,43,44,45,46,47,48,49,50,51,52,53,54,55,56,57,58,59,60,61,62,63,64,65,66,67,68,69,70,71,72,73,74,75,76,77,78,79,80,81,82,83,84,85,86],\"xaxis\":\"x\",\"y\":[6.58,6.63,7.39,6.46,6.2,8.21,8.6,7.76,9.04,9.97,8.61,9.01,0.0,11.29,10.8,10.69,9.62,8.23,7.77,11.63,9.72,10.73,10.03,3.85,8.65,8.67,3.59,2.89,7.66,6.99,8.31,9.97,6.08,8.24,7.33,8.5,10.8,8.34,6.88,8.51,6.24,1.83,9.87,12.45,10.5,10.63,8.36,12.32,8.07,4.84,8.03,5.59,5.45,3.95,3.84,5.22,5.66,5.8,6.16,6.65,5.01,3.73,10.18,6.78,8.32,3.22,4.99,4.86,5.53,4.59,5.14,7.05,6.28,6.38,3.8,5.07,4.16,4.42,4.79,5.52,6.31,9.04,16.63,10.42,9.06,7.53,9.35],\"yaxis\":\"y\",\"type\":\"bar\",\"texttemplate\":\"%{text:.2f}%\"},{\"alignmentgroup\":\"True\",\"customdata\":[[\"Bernin\"],[\"Bernin\"],[\"Bernin\"],[\"Biviers\"],[\"Biviers\"],[\"Corenc\"],[\"Corenc\"],[\"Corenc\"],[\"Grenoble\"],[\"Grenoble\"],[\"Grenoble\"],[\"Grenoble\"],[\"Grenoble\"],[\"Grenoble\"],[\"Grenoble\"],[\"Grenoble\"],[\"Grenoble\"],[\"Grenoble\"],[\"Grenoble\"],[\"Grenoble\"],[\"Grenoble\"],[\"Grenoble\"],[\"Grenoble\"],[\"Grenoble\"],[\"Grenoble\"],[\"Grenoble\"],[\"Grenoble\"],[\"Grenoble\"],[\"Grenoble\"],[\"Grenoble\"],[\"Grenoble\"],[\"Grenoble\"],[\"Grenoble\"],[\"Grenoble\"],[\"Grenoble\"],[\"Grenoble\"],[\"Grenoble\"],[\"Grenoble\"],[\"Grenoble\"],[\"Grenoble\"],[\"Grenoble\"],[\"Grenoble\"],[\"Grenoble\"],[\"Grenoble\"],[\"Grenoble\"],[\"Grenoble\"],[\"Grenoble\"],[\"Grenoble\"],[\"Grenoble\"],[\"Grenoble\"],[\"Grenoble\"],[\"Meylan\"],[\"Meylan\"],[\"Meylan\"],[\"Meylan\"],[\"Meylan\"],[\"Meylan\"],[\"Meylan\"],[\"Meylan\"],[\"Meylan\"],[\"Meylan\"],[\"Meylan\"],[\"Meylan\"],[\"Meylan\"],[\"Meylan\"],[\"Meylan\"],[\"Meylan\"],[\"Montbonnot-Saint-Martin\"],[\"Montbonnot-Saint-Martin\"],[\"Montbonnot-Saint-Martin\"],[\"Montbonnot-Saint-Martin\"],[\"Montbonnot-Saint-Martin\"],[\"Saint-Ismier\"],[\"Saint-Ismier\"],[\"Saint-Ismier\"],[\"Saint-Ismier\"],[\"Saint-Ismier\"],[\"Saint-Ismier\"],[\"Saint-Ismier\"],[\"Saint-Nazaire-les-Eymes\"],[\"Saint-Nazaire-les-Eymes\"],[\"Saint-Nazaire-les-Eymes\"],[\"Le Sappey-en-Chartreuse\"],[\"La Tronche\"],[\"La Tronche\"],[\"La Tronche\"],[\"La Tronche\"]],\"hovertemplate\":\"Liste=PS-PP\\u003cbr\\u003eIndex=%{x}\\u003cbr\\u003ePourcentage de Votes=%{text}\\u003cbr\\u003eCommune=%{customdata[0]}\\u003cextra\\u003e\\u003c\\u002fextra\\u003e\",\"legendgroup\":\"PS-PP\",\"marker\":{\"color\":\"#fe92fc\",\"pattern\":{\"shape\":\"\"}},\"name\":\"PS-PP\",\"offsetgroup\":\"PS-PP\",\"orientation\":\"v\",\"showlegend\":true,\"text\":[13.67,13.96,12.75,13.5,13.07,14.0,14.96,12.41,14.68,14.57,14.68,15.87,14.27,17.55,15.47,13.87,15.25,15.7,21.35,17.86,14.25,17.7,11.69,3.55,18.31,13.56,7.98,3.58,11.21,11.33,14.29,14.99,11.01,13.37,8.89,11.16,10.65,15.54,14.78,15.25,13.21,1.83,15.75,16.6,20.42,14.27,14.67,16.91,14.17,11.09,12.25,11.29,15.99,11.43,11.51,12.8,12.31,12.53,12.43,12.47,8.82,9.6,15.54,14.57,14.61,9.75,10.98,10.83,15.21,13.63,10.29,13.06,12.68,16.0,11.07,13.65,10.2,11.43,10.78,12.46,13.72,13.26,16.63,11.74,15.87,12.47,15.38],\"textposition\":\"inside\",\"x\":[0,1,2,3,4,5,6,7,8,9,10,11,12,13,14,15,16,17,18,19,20,21,22,23,24,25,26,27,28,29,30,31,32,33,34,35,36,37,38,39,40,41,42,43,44,45,46,47,48,49,50,51,52,53,54,55,56,57,58,59,60,61,62,63,64,65,66,67,68,69,70,71,72,73,74,75,76,77,78,79,80,81,82,83,84,85,86],\"xaxis\":\"x\",\"y\":[13.67,13.96,12.75,13.5,13.07,14.0,14.96,12.41,14.68,14.57,14.68,15.87,14.27,17.55,15.47,13.87,15.25,15.7,21.35,17.86,14.25,17.7,11.69,3.55,18.31,13.56,7.98,3.58,11.21,11.33,14.29,14.99,11.01,13.37,8.89,11.16,10.65,15.54,14.78,15.25,13.21,1.83,15.75,16.6,20.42,14.27,14.67,16.91,14.17,11.09,12.25,11.29,15.99,11.43,11.51,12.8,12.31,12.53,12.43,12.47,8.82,9.6,15.54,14.57,14.61,9.75,10.98,10.83,15.21,13.63,10.29,13.06,12.68,16.0,11.07,13.65,10.2,11.43,10.78,12.46,13.72,13.26,16.63,11.74,15.87,12.47,15.38],\"yaxis\":\"y\",\"type\":\"bar\",\"texttemplate\":\"%{text:.2f}%\"},{\"alignmentgroup\":\"True\",\"customdata\":[[\"Bernin\"],[\"Bernin\"],[\"Bernin\"],[\"Biviers\"],[\"Biviers\"],[\"Corenc\"],[\"Corenc\"],[\"Corenc\"],[\"Grenoble\"],[\"Grenoble\"],[\"Grenoble\"],[\"Grenoble\"],[\"Grenoble\"],[\"Grenoble\"],[\"Grenoble\"],[\"Grenoble\"],[\"Grenoble\"],[\"Grenoble\"],[\"Grenoble\"],[\"Grenoble\"],[\"Grenoble\"],[\"Grenoble\"],[\"Grenoble\"],[\"Grenoble\"],[\"Grenoble\"],[\"Grenoble\"],[\"Grenoble\"],[\"Grenoble\"],[\"Grenoble\"],[\"Grenoble\"],[\"Grenoble\"],[\"Grenoble\"],[\"Grenoble\"],[\"Grenoble\"],[\"Grenoble\"],[\"Grenoble\"],[\"Grenoble\"],[\"Grenoble\"],[\"Grenoble\"],[\"Grenoble\"],[\"Grenoble\"],[\"Grenoble\"],[\"Grenoble\"],[\"Grenoble\"],[\"Grenoble\"],[\"Grenoble\"],[\"Grenoble\"],[\"Grenoble\"],[\"Grenoble\"],[\"Grenoble\"],[\"Grenoble\"],[\"Meylan\"],[\"Meylan\"],[\"Meylan\"],[\"Meylan\"],[\"Meylan\"],[\"Meylan\"],[\"Meylan\"],[\"Meylan\"],[\"Meylan\"],[\"Meylan\"],[\"Meylan\"],[\"Meylan\"],[\"Meylan\"],[\"Meylan\"],[\"Meylan\"],[\"Meylan\"],[\"Montbonnot-Saint-Martin\"],[\"Montbonnot-Saint-Martin\"],[\"Montbonnot-Saint-Martin\"],[\"Montbonnot-Saint-Martin\"],[\"Montbonnot-Saint-Martin\"],[\"Saint-Ismier\"],[\"Saint-Ismier\"],[\"Saint-Ismier\"],[\"Saint-Ismier\"],[\"Saint-Ismier\"],[\"Saint-Ismier\"],[\"Saint-Ismier\"],[\"Saint-Nazaire-les-Eymes\"],[\"Saint-Nazaire-les-Eymes\"],[\"Saint-Nazaire-les-Eymes\"],[\"Le Sappey-en-Chartreuse\"],[\"La Tronche\"],[\"La Tronche\"],[\"La Tronche\"],[\"La Tronche\"]],\"hovertemplate\":\"Liste=Pirate\\u003cbr\\u003eIndex=%{x}\\u003cbr\\u003ePourcentage de Votes=%{text}\\u003cbr\\u003eCommune=%{customdata[0]}\\u003cextra\\u003e\\u003c\\u002fextra\\u003e\",\"legendgroup\":\"Pirate\",\"marker\":{\"color\":\"#000000\",\"pattern\":{\"shape\":\"\"}},\"name\":\"Pirate\",\"offsetgroup\":\"Pirate\",\"orientation\":\"v\",\"showlegend\":true,\"text\":[0.0,0.0,0.0,0.19,0.0,0.0,0.0,0.0,0.17,0.0,1.08,0.0,0.0,0.09,0.0,0.0,0.2,0.09,0.21,0.12,0.11,0.0,0.0,0.0,0.18,0.09,0.09,0.0,0.09,0.24,0.1,0.0,0.0,0.0,0.12,0.0,0.0,0.0,0.0,0.0,0.32,0.0,0.0,0.0,0.1,0.0,0.36,0.17,0.0,0.18,0.0,0.0,0.0,0.21,0.0,0.12,0.11,0.35,0.0,0.0,0.0,0.0,0.22,0.0,0.11,0.0,0.0,0.0,0.0,0.0,0.3,0.0,0.0,0.0,0.0,0.12,0.0,0.0,0.1,0.0,0.27,0.0,0.1,0.0,0.0,0.28,0.32],\"textposition\":\"inside\",\"x\":[0,1,2,3,4,5,6,7,8,9,10,11,12,13,14,15,16,17,18,19,20,21,22,23,24,25,26,27,28,29,30,31,32,33,34,35,36,37,38,39,40,41,42,43,44,45,46,47,48,49,50,51,52,53,54,55,56,57,58,59,60,61,62,63,64,65,66,67,68,69,70,71,72,73,74,75,76,77,78,79,80,81,82,83,84,85,86],\"xaxis\":\"x\",\"y\":[0.0,0.0,0.0,0.19,0.0,0.0,0.0,0.0,0.17,0.0,1.08,0.0,0.0,0.09,0.0,0.0,0.2,0.09,0.21,0.12,0.11,0.0,0.0,0.0,0.18,0.09,0.09,0.0,0.09,0.24,0.1,0.0,0.0,0.0,0.12,0.0,0.0,0.0,0.0,0.0,0.32,0.0,0.0,0.0,0.1,0.0,0.36,0.17,0.0,0.18,0.0,0.0,0.0,0.21,0.0,0.12,0.11,0.35,0.0,0.0,0.0,0.0,0.22,0.0,0.11,0.0,0.0,0.0,0.0,0.0,0.3,0.0,0.0,0.0,0.0,0.12,0.0,0.0,0.1,0.0,0.27,0.0,0.1,0.0,0.0,0.28,0.32],\"yaxis\":\"y\",\"type\":\"bar\",\"texttemplate\":\"%{text:.2f}%\"},{\"alignmentgroup\":\"True\",\"customdata\":[[\"Bernin\"],[\"Bernin\"],[\"Bernin\"],[\"Biviers\"],[\"Biviers\"],[\"Corenc\"],[\"Corenc\"],[\"Corenc\"],[\"Grenoble\"],[\"Grenoble\"],[\"Grenoble\"],[\"Grenoble\"],[\"Grenoble\"],[\"Grenoble\"],[\"Grenoble\"],[\"Grenoble\"],[\"Grenoble\"],[\"Grenoble\"],[\"Grenoble\"],[\"Grenoble\"],[\"Grenoble\"],[\"Grenoble\"],[\"Grenoble\"],[\"Grenoble\"],[\"Grenoble\"],[\"Grenoble\"],[\"Grenoble\"],[\"Grenoble\"],[\"Grenoble\"],[\"Grenoble\"],[\"Grenoble\"],[\"Grenoble\"],[\"Grenoble\"],[\"Grenoble\"],[\"Grenoble\"],[\"Grenoble\"],[\"Grenoble\"],[\"Grenoble\"],[\"Grenoble\"],[\"Grenoble\"],[\"Grenoble\"],[\"Grenoble\"],[\"Grenoble\"],[\"Grenoble\"],[\"Grenoble\"],[\"Grenoble\"],[\"Grenoble\"],[\"Grenoble\"],[\"Grenoble\"],[\"Grenoble\"],[\"Grenoble\"],[\"Meylan\"],[\"Meylan\"],[\"Meylan\"],[\"Meylan\"],[\"Meylan\"],[\"Meylan\"],[\"Meylan\"],[\"Meylan\"],[\"Meylan\"],[\"Meylan\"],[\"Meylan\"],[\"Meylan\"],[\"Meylan\"],[\"Meylan\"],[\"Meylan\"],[\"Meylan\"],[\"Montbonnot-Saint-Martin\"],[\"Montbonnot-Saint-Martin\"],[\"Montbonnot-Saint-Martin\"],[\"Montbonnot-Saint-Martin\"],[\"Montbonnot-Saint-Martin\"],[\"Saint-Ismier\"],[\"Saint-Ismier\"],[\"Saint-Ismier\"],[\"Saint-Ismier\"],[\"Saint-Ismier\"],[\"Saint-Ismier\"],[\"Saint-Ismier\"],[\"Saint-Nazaire-les-Eymes\"],[\"Saint-Nazaire-les-Eymes\"],[\"Saint-Nazaire-les-Eymes\"],[\"Le Sappey-en-Chartreuse\"],[\"La Tronche\"],[\"La Tronche\"],[\"La Tronche\"],[\"La Tronche\"]],\"hovertemplate\":\"Liste=Animaliste\\u003cbr\\u003eIndex=%{x}\\u003cbr\\u003ePourcentage de Votes=%{text}\\u003cbr\\u003eCommune=%{customdata[0]}\\u003cextra\\u003e\\u003c\\u002fextra\\u003e\",\"legendgroup\":\"Animaliste\",\"marker\":{\"color\":\"#b30ef1\",\"pattern\":{\"shape\":\"\"}},\"name\":\"Animaliste\",\"offsetgroup\":\"Animaliste\",\"orientation\":\"v\",\"showlegend\":true,\"text\":[0.62,0.3,1.11,0.58,0.48,1.04,1.32,1.0,0.77,1.08,0.59,0.69,0.59,1.48,0.49,0.89,1.23,0.76,0.83,1.29,0.99,0.54,0.87,0.59,1.0,1.38,0.96,0.46,1.5,0.6,1.72,1.54,1.06,0.97,0.84,0.41,1.28,1.15,0.4,0.56,0.74,1.83,1.2,0.39,0.96,1.12,1.16,0.95,1.34,1.23,0.84,0.97,0.35,0.94,0.62,0.0,1.31,1.51,0.57,1.19,1.19,0.68,1.53,0.61,1.49,0.3,1.1,0.83,0.74,0.72,1.19,1.04,1.08,1.25,0.22,0.6,1.76,0.39,0.9,0.94,1.1,1.41,0.78,1.22,0.45,1.3,0.65],\"textposition\":\"inside\",\"x\":[0,1,2,3,4,5,6,7,8,9,10,11,12,13,14,15,16,17,18,19,20,21,22,23,24,25,26,27,28,29,30,31,32,33,34,35,36,37,38,39,40,41,42,43,44,45,46,47,48,49,50,51,52,53,54,55,56,57,58,59,60,61,62,63,64,65,66,67,68,69,70,71,72,73,74,75,76,77,78,79,80,81,82,83,84,85,86],\"xaxis\":\"x\",\"y\":[0.62,0.3,1.11,0.58,0.48,1.04,1.32,1.0,0.77,1.08,0.59,0.69,0.59,1.48,0.49,0.89,1.23,0.76,0.83,1.29,0.99,0.54,0.87,0.59,1.0,1.38,0.96,0.46,1.5,0.6,1.72,1.54,1.06,0.97,0.84,0.41,1.28,1.15,0.4,0.56,0.74,1.83,1.2,0.39,0.96,1.12,1.16,0.95,1.34,1.23,0.84,0.97,0.35,0.94,0.62,0.0,1.31,1.51,0.57,1.19,1.19,0.68,1.53,0.61,1.49,0.3,1.1,0.83,0.74,0.72,1.19,1.04,1.08,1.25,0.22,0.6,1.76,0.39,0.9,0.94,1.1,1.41,0.78,1.22,0.45,1.3,0.65],\"yaxis\":\"y\",\"type\":\"bar\",\"texttemplate\":\"%{text:.2f}%\"},{\"alignmentgroup\":\"True\",\"customdata\":[[\"Bernin\"],[\"Bernin\"],[\"Bernin\"],[\"Biviers\"],[\"Biviers\"],[\"Corenc\"],[\"Corenc\"],[\"Corenc\"],[\"Grenoble\"],[\"Grenoble\"],[\"Grenoble\"],[\"Grenoble\"],[\"Grenoble\"],[\"Grenoble\"],[\"Grenoble\"],[\"Grenoble\"],[\"Grenoble\"],[\"Grenoble\"],[\"Grenoble\"],[\"Grenoble\"],[\"Grenoble\"],[\"Grenoble\"],[\"Grenoble\"],[\"Grenoble\"],[\"Grenoble\"],[\"Grenoble\"],[\"Grenoble\"],[\"Grenoble\"],[\"Grenoble\"],[\"Grenoble\"],[\"Grenoble\"],[\"Grenoble\"],[\"Grenoble\"],[\"Grenoble\"],[\"Grenoble\"],[\"Grenoble\"],[\"Grenoble\"],[\"Grenoble\"],[\"Grenoble\"],[\"Grenoble\"],[\"Grenoble\"],[\"Grenoble\"],[\"Grenoble\"],[\"Grenoble\"],[\"Grenoble\"],[\"Grenoble\"],[\"Grenoble\"],[\"Grenoble\"],[\"Grenoble\"],[\"Grenoble\"],[\"Grenoble\"],[\"Meylan\"],[\"Meylan\"],[\"Meylan\"],[\"Meylan\"],[\"Meylan\"],[\"Meylan\"],[\"Meylan\"],[\"Meylan\"],[\"Meylan\"],[\"Meylan\"],[\"Meylan\"],[\"Meylan\"],[\"Meylan\"],[\"Meylan\"],[\"Meylan\"],[\"Meylan\"],[\"Montbonnot-Saint-Martin\"],[\"Montbonnot-Saint-Martin\"],[\"Montbonnot-Saint-Martin\"],[\"Montbonnot-Saint-Martin\"],[\"Montbonnot-Saint-Martin\"],[\"Saint-Ismier\"],[\"Saint-Ismier\"],[\"Saint-Ismier\"],[\"Saint-Ismier\"],[\"Saint-Ismier\"],[\"Saint-Ismier\"],[\"Saint-Ismier\"],[\"Saint-Nazaire-les-Eymes\"],[\"Saint-Nazaire-les-Eymes\"],[\"Saint-Nazaire-les-Eymes\"],[\"Le Sappey-en-Chartreuse\"],[\"La Tronche\"],[\"La Tronche\"],[\"La Tronche\"],[\"La Tronche\"]],\"hovertemplate\":\"Liste=Equinoxe\\u003cbr\\u003eIndex=%{x}\\u003cbr\\u003ePourcentage de Votes=%{text}\\u003cbr\\u003eCommune=%{customdata[0]}\\u003cextra\\u003e\\u003c\\u002fextra\\u003e\",\"legendgroup\":\"Equinoxe\",\"marker\":{\"color\":\"#f37d00 \",\"pattern\":{\"shape\":\"\"}},\"name\":\"Equinoxe\",\"offsetgroup\":\"Equinoxe\",\"orientation\":\"v\",\"showlegend\":true,\"text\":[0.1,0.6,0.4,0.68,1.06,0.35,0.5,0.64,1.11,0.59,0.39,0.51,0.51,0.26,0.88,1.27,1.02,0.09,0.52,0.12,1.1,0.54,0.26,0.2,0.46,0.65,0.44,0.12,0.28,0.6,0.2,0.89,0.53,0.62,1.2,0.31,0.57,0.52,0.61,0.47,0.42,0.46,0.2,0.58,0.58,1.31,0.36,0.69,0.1,0.18,0.74,0.0,0.23,0.21,0.25,0.37,0.54,0.12,0.46,0.24,0.72,0.45,0.0,0.3,0.21,0.3,0.6,0.14,0.37,0.0,0.59,0.23,0.87,0.0,0.34,0.12,0.63,0.13,0.3,0.59,0.27,0.0,0.98,0.56,0.9,0.19,0.86],\"textposition\":\"inside\",\"x\":[0,1,2,3,4,5,6,7,8,9,10,11,12,13,14,15,16,17,18,19,20,21,22,23,24,25,26,27,28,29,30,31,32,33,34,35,36,37,38,39,40,41,42,43,44,45,46,47,48,49,50,51,52,53,54,55,56,57,58,59,60,61,62,63,64,65,66,67,68,69,70,71,72,73,74,75,76,77,78,79,80,81,82,83,84,85,86],\"xaxis\":\"x\",\"y\":[0.1,0.6,0.4,0.68,1.06,0.35,0.5,0.64,1.11,0.59,0.39,0.51,0.51,0.26,0.88,1.27,1.02,0.09,0.52,0.12,1.1,0.54,0.26,0.2,0.46,0.65,0.44,0.12,0.28,0.6,0.2,0.89,0.53,0.62,1.2,0.31,0.57,0.52,0.61,0.47,0.42,0.46,0.2,0.58,0.58,1.31,0.36,0.69,0.1,0.18,0.74,0.0,0.23,0.21,0.25,0.37,0.54,0.12,0.46,0.24,0.72,0.45,0.0,0.3,0.21,0.3,0.6,0.14,0.37,0.0,0.59,0.23,0.87,0.0,0.34,0.12,0.63,0.13,0.3,0.59,0.27,0.0,0.98,0.56,0.9,0.19,0.86],\"yaxis\":\"y\",\"type\":\"bar\",\"texttemplate\":\"%{text:.2f}%\"},{\"alignmentgroup\":\"True\",\"customdata\":[[\"Bernin\"],[\"Bernin\"],[\"Bernin\"],[\"Biviers\"],[\"Biviers\"],[\"Corenc\"],[\"Corenc\"],[\"Corenc\"],[\"Grenoble\"],[\"Grenoble\"],[\"Grenoble\"],[\"Grenoble\"],[\"Grenoble\"],[\"Grenoble\"],[\"Grenoble\"],[\"Grenoble\"],[\"Grenoble\"],[\"Grenoble\"],[\"Grenoble\"],[\"Grenoble\"],[\"Grenoble\"],[\"Grenoble\"],[\"Grenoble\"],[\"Grenoble\"],[\"Grenoble\"],[\"Grenoble\"],[\"Grenoble\"],[\"Grenoble\"],[\"Grenoble\"],[\"Grenoble\"],[\"Grenoble\"],[\"Grenoble\"],[\"Grenoble\"],[\"Grenoble\"],[\"Grenoble\"],[\"Grenoble\"],[\"Grenoble\"],[\"Grenoble\"],[\"Grenoble\"],[\"Grenoble\"],[\"Grenoble\"],[\"Grenoble\"],[\"Grenoble\"],[\"Grenoble\"],[\"Grenoble\"],[\"Grenoble\"],[\"Grenoble\"],[\"Grenoble\"],[\"Grenoble\"],[\"Grenoble\"],[\"Grenoble\"],[\"Meylan\"],[\"Meylan\"],[\"Meylan\"],[\"Meylan\"],[\"Meylan\"],[\"Meylan\"],[\"Meylan\"],[\"Meylan\"],[\"Meylan\"],[\"Meylan\"],[\"Meylan\"],[\"Meylan\"],[\"Meylan\"],[\"Meylan\"],[\"Meylan\"],[\"Meylan\"],[\"Montbonnot-Saint-Martin\"],[\"Montbonnot-Saint-Martin\"],[\"Montbonnot-Saint-Martin\"],[\"Montbonnot-Saint-Martin\"],[\"Montbonnot-Saint-Martin\"],[\"Saint-Ismier\"],[\"Saint-Ismier\"],[\"Saint-Ismier\"],[\"Saint-Ismier\"],[\"Saint-Ismier\"],[\"Saint-Ismier\"],[\"Saint-Ismier\"],[\"Saint-Nazaire-les-Eymes\"],[\"Saint-Nazaire-les-Eymes\"],[\"Saint-Nazaire-les-Eymes\"],[\"Le Sappey-en-Chartreuse\"],[\"La Tronche\"],[\"La Tronche\"],[\"La Tronche\"],[\"La Tronche\"]],\"hovertemplate\":\"Liste=Ecologie au centre\\u003cbr\\u003eIndex=%{x}\\u003cbr\\u003ePourcentage de Votes=%{text}\\u003cbr\\u003eCommune=%{customdata[0]}\\u003cextra\\u003e\\u003c\\u002fextra\\u003e\",\"legendgroup\":\"Ecologie au centre\",\"marker\":{\"color\":\"#99fca5\",\"pattern\":{\"shape\":\"\"}},\"name\":\"Ecologie au centre\",\"offsetgroup\":\"Ecologie au centre\",\"orientation\":\"v\",\"showlegend\":true,\"text\":[1.64,0.9,1.11,1.16,0.29,0.61,0.66,1.09,1.02,0.78,0.78,0.51,0.17,0.43,0.68,0.38,0.61,0.28,0.41,0.94,1.55,0.75,0.61,0.49,1.28,0.83,0.61,1.16,0.56,0.48,0.61,0.57,0.35,0.97,0.84,1.02,0.71,0.63,1.32,0.37,1.06,1.83,1.0,1.06,0.48,0.75,0.89,0.52,0.93,0.53,0.63,0.54,0.81,0.52,0.74,0.87,0.87,0.7,0.91,0.71,1.07,0.9,0.33,0.71,0.75,0.4,0.7,0.56,1.29,0.57,1.19,1.16,0.76,0.75,0.56,0.6,0.63,0.78,0.6,0.82,0.96,1.41,1.47,0.56,1.43,0.37,0.97],\"textposition\":\"inside\",\"x\":[0,1,2,3,4,5,6,7,8,9,10,11,12,13,14,15,16,17,18,19,20,21,22,23,24,25,26,27,28,29,30,31,32,33,34,35,36,37,38,39,40,41,42,43,44,45,46,47,48,49,50,51,52,53,54,55,56,57,58,59,60,61,62,63,64,65,66,67,68,69,70,71,72,73,74,75,76,77,78,79,80,81,82,83,84,85,86],\"xaxis\":\"x\",\"y\":[1.64,0.9,1.11,1.16,0.29,0.61,0.66,1.09,1.02,0.78,0.78,0.51,0.17,0.43,0.68,0.38,0.61,0.28,0.41,0.94,1.55,0.75,0.61,0.49,1.28,0.83,0.61,1.16,0.56,0.48,0.61,0.57,0.35,0.97,0.84,1.02,0.71,0.63,1.32,0.37,1.06,1.83,1.0,1.06,0.48,0.75,0.89,0.52,0.93,0.53,0.63,0.54,0.81,0.52,0.74,0.87,0.87,0.7,0.91,0.71,1.07,0.9,0.33,0.71,0.75,0.4,0.7,0.56,1.29,0.57,1.19,1.16,0.76,0.75,0.56,0.6,0.63,0.78,0.6,0.82,0.96,1.41,1.47,0.56,1.43,0.37,0.97],\"yaxis\":\"y\",\"type\":\"bar\",\"texttemplate\":\"%{text:.2f}%\"},{\"alignmentgroup\":\"True\",\"customdata\":[[\"Bernin\"],[\"Bernin\"],[\"Bernin\"],[\"Biviers\"],[\"Biviers\"],[\"Corenc\"],[\"Corenc\"],[\"Corenc\"],[\"Grenoble\"],[\"Grenoble\"],[\"Grenoble\"],[\"Grenoble\"],[\"Grenoble\"],[\"Grenoble\"],[\"Grenoble\"],[\"Grenoble\"],[\"Grenoble\"],[\"Grenoble\"],[\"Grenoble\"],[\"Grenoble\"],[\"Grenoble\"],[\"Grenoble\"],[\"Grenoble\"],[\"Grenoble\"],[\"Grenoble\"],[\"Grenoble\"],[\"Grenoble\"],[\"Grenoble\"],[\"Grenoble\"],[\"Grenoble\"],[\"Grenoble\"],[\"Grenoble\"],[\"Grenoble\"],[\"Grenoble\"],[\"Grenoble\"],[\"Grenoble\"],[\"Grenoble\"],[\"Grenoble\"],[\"Grenoble\"],[\"Grenoble\"],[\"Grenoble\"],[\"Grenoble\"],[\"Grenoble\"],[\"Grenoble\"],[\"Grenoble\"],[\"Grenoble\"],[\"Grenoble\"],[\"Grenoble\"],[\"Grenoble\"],[\"Grenoble\"],[\"Grenoble\"],[\"Meylan\"],[\"Meylan\"],[\"Meylan\"],[\"Meylan\"],[\"Meylan\"],[\"Meylan\"],[\"Meylan\"],[\"Meylan\"],[\"Meylan\"],[\"Meylan\"],[\"Meylan\"],[\"Meylan\"],[\"Meylan\"],[\"Meylan\"],[\"Meylan\"],[\"Meylan\"],[\"Montbonnot-Saint-Martin\"],[\"Montbonnot-Saint-Martin\"],[\"Montbonnot-Saint-Martin\"],[\"Montbonnot-Saint-Martin\"],[\"Montbonnot-Saint-Martin\"],[\"Saint-Ismier\"],[\"Saint-Ismier\"],[\"Saint-Ismier\"],[\"Saint-Ismier\"],[\"Saint-Ismier\"],[\"Saint-Ismier\"],[\"Saint-Ismier\"],[\"Saint-Nazaire-les-Eymes\"],[\"Saint-Nazaire-les-Eymes\"],[\"Saint-Nazaire-les-Eymes\"],[\"Le Sappey-en-Chartreuse\"],[\"La Tronche\"],[\"La Tronche\"],[\"La Tronche\"],[\"La Tronche\"]],\"hovertemplate\":\"Liste=Renaissance\\u003cbr\\u003eIndex=%{x}\\u003cbr\\u003ePourcentage de Votes=%{text}\\u003cbr\\u003eCommune=%{customdata[0]}\\u003cextra\\u003e\\u003c\\u002fextra\\u003e\",\"legendgroup\":\"Renaissance\",\"marker\":{\"color\":\"#f3e80e\",\"pattern\":{\"shape\":\"\"}},\"name\":\"Renaissance\",\"offsetgroup\":\"Renaissance\",\"orientation\":\"v\",\"showlegend\":true,\"text\":[15.72,13.65,11.13,19.29,16.75,13.48,13.14,16.33,8.53,5.96,8.81,8.15,12.84,7.73,9.24,6.87,5.42,5.87,9.43,12.46,7.18,9.55,7.07,3.26,8.83,8.21,5.61,2.77,4.77,6.27,8.0,8.27,5.46,10.63,5.53,6.65,6.68,8.86,9.41,10.48,10.78,2.74,9.67,9.17,10.02,7.0,8.0,9.45,6.51,7.75,7.39,14.09,12.51,11.12,12.0,13.42,12.42,10.56,12.88,18.05,18.36,18.31,6.02,18.12,10.66,17.39,12.28,16.11,15.94,17.65,11.57,15.72,21.78,18.5,17.79,20.41,12.22,13.9,12.08,18.21,12.89,14.67,10.37,10.61,15.96,10.6,10.75],\"textposition\":\"inside\",\"x\":[0,1,2,3,4,5,6,7,8,9,10,11,12,13,14,15,16,17,18,19,20,21,22,23,24,25,26,27,28,29,30,31,32,33,34,35,36,37,38,39,40,41,42,43,44,45,46,47,48,49,50,51,52,53,54,55,56,57,58,59,60,61,62,63,64,65,66,67,68,69,70,71,72,73,74,75,76,77,78,79,80,81,82,83,84,85,86],\"xaxis\":\"x\",\"y\":[15.72,13.65,11.13,19.29,16.75,13.48,13.14,16.33,8.53,5.96,8.81,8.15,12.84,7.73,9.24,6.87,5.42,5.87,9.43,12.46,7.18,9.55,7.07,3.26,8.83,8.21,5.61,2.77,4.77,6.27,8.0,8.27,5.46,10.63,5.53,6.65,6.68,8.86,9.41,10.48,10.78,2.74,9.67,9.17,10.02,7.0,8.0,9.45,6.51,7.75,7.39,14.09,12.51,11.12,12.0,13.42,12.42,10.56,12.88,18.05,18.36,18.31,6.02,18.12,10.66,17.39,12.28,16.11,15.94,17.65,11.57,15.72,21.78,18.5,17.79,20.41,12.22,13.9,12.08,18.21,12.89,14.67,10.37,10.61,15.96,10.6,10.75],\"yaxis\":\"y\",\"type\":\"bar\",\"texttemplate\":\"%{text:.2f}%\"},{\"alignmentgroup\":\"True\",\"customdata\":[[\"Bernin\"],[\"Bernin\"],[\"Bernin\"],[\"Biviers\"],[\"Biviers\"],[\"Corenc\"],[\"Corenc\"],[\"Corenc\"],[\"Grenoble\"],[\"Grenoble\"],[\"Grenoble\"],[\"Grenoble\"],[\"Grenoble\"],[\"Grenoble\"],[\"Grenoble\"],[\"Grenoble\"],[\"Grenoble\"],[\"Grenoble\"],[\"Grenoble\"],[\"Grenoble\"],[\"Grenoble\"],[\"Grenoble\"],[\"Grenoble\"],[\"Grenoble\"],[\"Grenoble\"],[\"Grenoble\"],[\"Grenoble\"],[\"Grenoble\"],[\"Grenoble\"],[\"Grenoble\"],[\"Grenoble\"],[\"Grenoble\"],[\"Grenoble\"],[\"Grenoble\"],[\"Grenoble\"],[\"Grenoble\"],[\"Grenoble\"],[\"Grenoble\"],[\"Grenoble\"],[\"Grenoble\"],[\"Grenoble\"],[\"Grenoble\"],[\"Grenoble\"],[\"Grenoble\"],[\"Grenoble\"],[\"Grenoble\"],[\"Grenoble\"],[\"Grenoble\"],[\"Grenoble\"],[\"Grenoble\"],[\"Grenoble\"],[\"Meylan\"],[\"Meylan\"],[\"Meylan\"],[\"Meylan\"],[\"Meylan\"],[\"Meylan\"],[\"Meylan\"],[\"Meylan\"],[\"Meylan\"],[\"Meylan\"],[\"Meylan\"],[\"Meylan\"],[\"Meylan\"],[\"Meylan\"],[\"Meylan\"],[\"Meylan\"],[\"Montbonnot-Saint-Martin\"],[\"Montbonnot-Saint-Martin\"],[\"Montbonnot-Saint-Martin\"],[\"Montbonnot-Saint-Martin\"],[\"Montbonnot-Saint-Martin\"],[\"Saint-Ismier\"],[\"Saint-Ismier\"],[\"Saint-Ismier\"],[\"Saint-Ismier\"],[\"Saint-Ismier\"],[\"Saint-Ismier\"],[\"Saint-Ismier\"],[\"Saint-Nazaire-les-Eymes\"],[\"Saint-Nazaire-les-Eymes\"],[\"Saint-Nazaire-les-Eymes\"],[\"Le Sappey-en-Chartreuse\"],[\"La Tronche\"],[\"La Tronche\"],[\"La Tronche\"],[\"La Tronche\"]],\"hovertemplate\":\"Liste=LR\\u003cbr\\u003eIndex=%{x}\\u003cbr\\u003ePourcentage de Votes=%{text}\\u003cbr\\u003eCommune=%{customdata[0]}\\u003cextra\\u003e\\u003c\\u002fextra\\u003e\",\"legendgroup\":\"LR\",\"marker\":{\"color\":\"#0ebff3\",\"pattern\":{\"shape\":\"\"}},\"name\":\"LR\",\"offsetgroup\":\"LR\",\"orientation\":\"v\",\"showlegend\":true,\"text\":[4.21,5.72,7.19,9.74,8.33,9.16,7.11,8.94,4.01,1.56,7.24,3.6,8.53,3.48,5.64,1.91,3.17,2.37,4.77,4.7,2.87,2.47,3.49,0.69,3.64,2.12,1.58,1.27,2.52,2.29,3.14,3.48,3.7,5.76,2.76,2.87,4.12,3.13,5.47,7.76,5.29,1.37,3.99,3.38,4.34,4.57,4.62,4.42,3.52,2.38,2.85,4.95,6.72,3.64,7.43,5.96,6.54,4.29,4.22,7.72,8.58,7.46,3.61,7.69,3.3,11.06,5.19,10.83,6.82,7.03,4.45,8.79,7.15,9.63,9.73,7.61,6.93,5.19,6.29,7.99,6.86,4.58,2.94,5.16,9.06,5.21,4.84],\"textposition\":\"inside\",\"x\":[0,1,2,3,4,5,6,7,8,9,10,11,12,13,14,15,16,17,18,19,20,21,22,23,24,25,26,27,28,29,30,31,32,33,34,35,36,37,38,39,40,41,42,43,44,45,46,47,48,49,50,51,52,53,54,55,56,57,58,59,60,61,62,63,64,65,66,67,68,69,70,71,72,73,74,75,76,77,78,79,80,81,82,83,84,85,86],\"xaxis\":\"x\",\"y\":[4.21,5.72,7.19,9.74,8.33,9.16,7.11,8.94,4.01,1.56,7.24,3.6,8.53,3.48,5.64,1.91,3.17,2.37,4.77,4.7,2.87,2.47,3.49,0.69,3.64,2.12,1.58,1.27,2.52,2.29,3.14,3.48,3.7,5.76,2.76,2.87,4.12,3.13,5.47,7.76,5.29,1.37,3.99,3.38,4.34,4.57,4.62,4.42,3.52,2.38,2.85,4.95,6.72,3.64,7.43,5.96,6.54,4.29,4.22,7.72,8.58,7.46,3.61,7.69,3.3,11.06,5.19,10.83,6.82,7.03,4.45,8.79,7.15,9.63,9.73,7.61,6.93,5.19,6.29,7.99,6.86,4.58,2.94,5.16,9.06,5.21,4.84],\"yaxis\":\"y\",\"type\":\"bar\",\"texttemplate\":\"%{text:.2f}%\"},{\"alignmentgroup\":\"True\",\"customdata\":[[\"Bernin\"],[\"Bernin\"],[\"Bernin\"],[\"Biviers\"],[\"Biviers\"],[\"Corenc\"],[\"Corenc\"],[\"Corenc\"],[\"Grenoble\"],[\"Grenoble\"],[\"Grenoble\"],[\"Grenoble\"],[\"Grenoble\"],[\"Grenoble\"],[\"Grenoble\"],[\"Grenoble\"],[\"Grenoble\"],[\"Grenoble\"],[\"Grenoble\"],[\"Grenoble\"],[\"Grenoble\"],[\"Grenoble\"],[\"Grenoble\"],[\"Grenoble\"],[\"Grenoble\"],[\"Grenoble\"],[\"Grenoble\"],[\"Grenoble\"],[\"Grenoble\"],[\"Grenoble\"],[\"Grenoble\"],[\"Grenoble\"],[\"Grenoble\"],[\"Grenoble\"],[\"Grenoble\"],[\"Grenoble\"],[\"Grenoble\"],[\"Grenoble\"],[\"Grenoble\"],[\"Grenoble\"],[\"Grenoble\"],[\"Grenoble\"],[\"Grenoble\"],[\"Grenoble\"],[\"Grenoble\"],[\"Grenoble\"],[\"Grenoble\"],[\"Grenoble\"],[\"Grenoble\"],[\"Grenoble\"],[\"Grenoble\"],[\"Meylan\"],[\"Meylan\"],[\"Meylan\"],[\"Meylan\"],[\"Meylan\"],[\"Meylan\"],[\"Meylan\"],[\"Meylan\"],[\"Meylan\"],[\"Meylan\"],[\"Meylan\"],[\"Meylan\"],[\"Meylan\"],[\"Meylan\"],[\"Meylan\"],[\"Meylan\"],[\"Montbonnot-Saint-Martin\"],[\"Montbonnot-Saint-Martin\"],[\"Montbonnot-Saint-Martin\"],[\"Montbonnot-Saint-Martin\"],[\"Montbonnot-Saint-Martin\"],[\"Saint-Ismier\"],[\"Saint-Ismier\"],[\"Saint-Ismier\"],[\"Saint-Ismier\"],[\"Saint-Ismier\"],[\"Saint-Ismier\"],[\"Saint-Ismier\"],[\"Saint-Nazaire-les-Eymes\"],[\"Saint-Nazaire-les-Eymes\"],[\"Saint-Nazaire-les-Eymes\"],[\"Le Sappey-en-Chartreuse\"],[\"La Tronche\"],[\"La Tronche\"],[\"La Tronche\"],[\"La Tronche\"]],\"hovertemplate\":\"Liste=RN\\u003cbr\\u003eIndex=%{x}\\u003cbr\\u003ePourcentage de Votes=%{text}\\u003cbr\\u003eCommune=%{customdata[0]}\\u003cextra\\u003e\\u003c\\u002fextra\\u003e\",\"legendgroup\":\"RN\",\"marker\":{\"color\":\"#0e2df3\",\"pattern\":{\"shape\":\"\"}},\"name\":\"RN\",\"offsetgroup\":\"RN\",\"orientation\":\"v\",\"showlegend\":true,\"text\":[9.35,10.64,12.96,8.78,11.42,8.9,9.01,8.67,6.57,4.79,7.24,5.23,6.25,4.0,8.27,4.58,4.71,4.45,6.63,7.29,7.4,5.79,7.16,9.38,5.74,8.86,9.2,9.94,12.24,8.92,8.81,7.54,6.96,9.03,8.41,10.44,11.79,7.3,9.92,6.83,7.51,5.94,7.88,5.12,6.74,6.53,8.09,5.29,9.0,11.27,9.61,11.18,10.89,10.71,10.15,9.81,12.53,9.28,10.26,9.98,9.89,12.43,10.39,10.32,11.19,10.35,13.97,10.97,11.24,13.2,17.21,11.21,10.08,7.63,10.07,10.87,15.49,13.51,14.57,11.16,13.03,15.61,6.46,7.42,4.93,8.09,9.68],\"textposition\":\"inside\",\"x\":[0,1,2,3,4,5,6,7,8,9,10,11,12,13,14,15,16,17,18,19,20,21,22,23,24,25,26,27,28,29,30,31,32,33,34,35,36,37,38,39,40,41,42,43,44,45,46,47,48,49,50,51,52,53,54,55,56,57,58,59,60,61,62,63,64,65,66,67,68,69,70,71,72,73,74,75,76,77,78,79,80,81,82,83,84,85,86],\"xaxis\":\"x\",\"y\":[9.35,10.64,12.96,8.78,11.42,8.9,9.01,8.67,6.57,4.79,7.24,5.23,6.25,4.0,8.27,4.58,4.71,4.45,6.63,7.29,7.4,5.79,7.16,9.38,5.74,8.86,9.2,9.94,12.24,8.92,8.81,7.54,6.96,9.03,8.41,10.44,11.79,7.3,9.92,6.83,7.51,5.94,7.88,5.12,6.74,6.53,8.09,5.29,9.0,11.27,9.61,11.18,10.89,10.71,10.15,9.81,12.53,9.28,10.26,9.98,9.89,12.43,10.39,10.32,11.19,10.35,13.97,10.97,11.24,13.2,17.21,11.21,10.08,7.63,10.07,10.87,15.49,13.51,14.57,11.16,13.03,15.61,6.46,7.42,4.93,8.09,9.68],\"yaxis\":\"y\",\"type\":\"bar\",\"texttemplate\":\"%{text:.2f}%\"},{\"alignmentgroup\":\"True\",\"customdata\":[[\"Bernin\"],[\"Bernin\"],[\"Bernin\"],[\"Biviers\"],[\"Biviers\"],[\"Corenc\"],[\"Corenc\"],[\"Corenc\"],[\"Grenoble\"],[\"Grenoble\"],[\"Grenoble\"],[\"Grenoble\"],[\"Grenoble\"],[\"Grenoble\"],[\"Grenoble\"],[\"Grenoble\"],[\"Grenoble\"],[\"Grenoble\"],[\"Grenoble\"],[\"Grenoble\"],[\"Grenoble\"],[\"Grenoble\"],[\"Grenoble\"],[\"Grenoble\"],[\"Grenoble\"],[\"Grenoble\"],[\"Grenoble\"],[\"Grenoble\"],[\"Grenoble\"],[\"Grenoble\"],[\"Grenoble\"],[\"Grenoble\"],[\"Grenoble\"],[\"Grenoble\"],[\"Grenoble\"],[\"Grenoble\"],[\"Grenoble\"],[\"Grenoble\"],[\"Grenoble\"],[\"Grenoble\"],[\"Grenoble\"],[\"Grenoble\"],[\"Grenoble\"],[\"Grenoble\"],[\"Grenoble\"],[\"Grenoble\"],[\"Grenoble\"],[\"Grenoble\"],[\"Grenoble\"],[\"Grenoble\"],[\"Grenoble\"],[\"Meylan\"],[\"Meylan\"],[\"Meylan\"],[\"Meylan\"],[\"Meylan\"],[\"Meylan\"],[\"Meylan\"],[\"Meylan\"],[\"Meylan\"],[\"Meylan\"],[\"Meylan\"],[\"Meylan\"],[\"Meylan\"],[\"Meylan\"],[\"Meylan\"],[\"Meylan\"],[\"Montbonnot-Saint-Martin\"],[\"Montbonnot-Saint-Martin\"],[\"Montbonnot-Saint-Martin\"],[\"Montbonnot-Saint-Martin\"],[\"Montbonnot-Saint-Martin\"],[\"Saint-Ismier\"],[\"Saint-Ismier\"],[\"Saint-Ismier\"],[\"Saint-Ismier\"],[\"Saint-Ismier\"],[\"Saint-Ismier\"],[\"Saint-Ismier\"],[\"Saint-Nazaire-les-Eymes\"],[\"Saint-Nazaire-les-Eymes\"],[\"Saint-Nazaire-les-Eymes\"],[\"Le Sappey-en-Chartreuse\"],[\"La Tronche\"],[\"La Tronche\"],[\"La Tronche\"],[\"La Tronche\"]],\"hovertemplate\":\"Liste=Asselineau\\u003cbr\\u003eIndex=%{x}\\u003cbr\\u003ePourcentage de Votes=%{text}\\u003cbr\\u003eCommune=%{customdata[0]}\\u003cextra\\u003e\\u003c\\u002fextra\\u003e\",\"legendgroup\":\"Asselineau\",\"marker\":{\"color\":\"#6772ff\",\"pattern\":{\"shape\":\"\"}},\"name\":\"Asselineau\",\"offsetgroup\":\"Asselineau\",\"orientation\":\"v\",\"showlegend\":true,\"text\":[0.41,0.5,0.3,0.48,0.48,0.78,0.66,0.36,0.43,0.59,0.49,0.6,0.42,0.35,0.49,0.13,0.1,0.38,0.41,0.71,0.44,0.11,0.26,0.79,0.82,0.37,0.26,0.81,0.37,0.48,0.3,1.05,0.18,0.53,0.48,0.2,1.14,0.52,0.51,0.28,0.63,0.0,0.5,0.58,0.39,0.28,0.53,0.52,0.93,0.62,0.74,0.43,1.39,0.21,0.5,0.25,0.65,0.93,0.23,0.59,0.48,0.23,0.44,0.4,0.75,0.2,0.2,0.83,0.65,0.57,0.59,0.35,0.65,0.88,0.34,0.48,0.38,0.26,0.0,0.94,0.82,0.7,0.39,0.66,0.27,0.37,0.43],\"textposition\":\"inside\",\"x\":[0,1,2,3,4,5,6,7,8,9,10,11,12,13,14,15,16,17,18,19,20,21,22,23,24,25,26,27,28,29,30,31,32,33,34,35,36,37,38,39,40,41,42,43,44,45,46,47,48,49,50,51,52,53,54,55,56,57,58,59,60,61,62,63,64,65,66,67,68,69,70,71,72,73,74,75,76,77,78,79,80,81,82,83,84,85,86],\"xaxis\":\"x\",\"y\":[0.41,0.5,0.3,0.48,0.48,0.78,0.66,0.36,0.43,0.59,0.49,0.6,0.42,0.35,0.49,0.13,0.1,0.38,0.41,0.71,0.44,0.11,0.26,0.79,0.82,0.37,0.26,0.81,0.37,0.48,0.3,1.05,0.18,0.53,0.48,0.2,1.14,0.52,0.51,0.28,0.63,0.0,0.5,0.58,0.39,0.28,0.53,0.52,0.93,0.62,0.74,0.43,1.39,0.21,0.5,0.25,0.65,0.93,0.23,0.59,0.48,0.23,0.44,0.4,0.75,0.2,0.2,0.83,0.65,0.57,0.59,0.35,0.65,0.88,0.34,0.48,0.38,0.26,0.0,0.94,0.82,0.7,0.39,0.66,0.27,0.37,0.43],\"yaxis\":\"y\",\"type\":\"bar\",\"texttemplate\":\"%{text:.2f}%\"},{\"alignmentgroup\":\"True\",\"customdata\":[[\"Bernin\"],[\"Bernin\"],[\"Bernin\"],[\"Biviers\"],[\"Biviers\"],[\"Corenc\"],[\"Corenc\"],[\"Corenc\"],[\"Grenoble\"],[\"Grenoble\"],[\"Grenoble\"],[\"Grenoble\"],[\"Grenoble\"],[\"Grenoble\"],[\"Grenoble\"],[\"Grenoble\"],[\"Grenoble\"],[\"Grenoble\"],[\"Grenoble\"],[\"Grenoble\"],[\"Grenoble\"],[\"Grenoble\"],[\"Grenoble\"],[\"Grenoble\"],[\"Grenoble\"],[\"Grenoble\"],[\"Grenoble\"],[\"Grenoble\"],[\"Grenoble\"],[\"Grenoble\"],[\"Grenoble\"],[\"Grenoble\"],[\"Grenoble\"],[\"Grenoble\"],[\"Grenoble\"],[\"Grenoble\"],[\"Grenoble\"],[\"Grenoble\"],[\"Grenoble\"],[\"Grenoble\"],[\"Grenoble\"],[\"Grenoble\"],[\"Grenoble\"],[\"Grenoble\"],[\"Grenoble\"],[\"Grenoble\"],[\"Grenoble\"],[\"Grenoble\"],[\"Grenoble\"],[\"Grenoble\"],[\"Grenoble\"],[\"Meylan\"],[\"Meylan\"],[\"Meylan\"],[\"Meylan\"],[\"Meylan\"],[\"Meylan\"],[\"Meylan\"],[\"Meylan\"],[\"Meylan\"],[\"Meylan\"],[\"Meylan\"],[\"Meylan\"],[\"Meylan\"],[\"Meylan\"],[\"Meylan\"],[\"Meylan\"],[\"Montbonnot-Saint-Martin\"],[\"Montbonnot-Saint-Martin\"],[\"Montbonnot-Saint-Martin\"],[\"Montbonnot-Saint-Martin\"],[\"Montbonnot-Saint-Martin\"],[\"Saint-Ismier\"],[\"Saint-Ismier\"],[\"Saint-Ismier\"],[\"Saint-Ismier\"],[\"Saint-Ismier\"],[\"Saint-Ismier\"],[\"Saint-Ismier\"],[\"Saint-Nazaire-les-Eymes\"],[\"Saint-Nazaire-les-Eymes\"],[\"Saint-Nazaire-les-Eymes\"],[\"Le Sappey-en-Chartreuse\"],[\"La Tronche\"],[\"La Tronche\"],[\"La Tronche\"],[\"La Tronche\"]],\"hovertemplate\":\"Liste=Les Patriotes\\u003cbr\\u003eIndex=%{x}\\u003cbr\\u003ePourcentage de Votes=%{text}\\u003cbr\\u003eCommune=%{customdata[0]}\\u003cextra\\u003e\\u003c\\u002fextra\\u003e\",\"legendgroup\":\"Les Patriotes\",\"marker\":{\"color\":\"#afb5fa\",\"pattern\":{\"shape\":\"\"}},\"name\":\"Les Patriotes\",\"offsetgroup\":\"Les Patriotes\",\"orientation\":\"v\",\"showlegend\":true,\"text\":[0.82,0.9,0.4,0.29,0.68,0.43,0.5,0.36,0.34,0.0,0.59,0.26,0.17,0.26,0.29,0.25,0.51,0.19,0.41,0.12,0.44,0.64,0.26,0.69,0.27,0.09,0.26,0.23,0.37,0.72,0.2,0.65,0.35,0.18,0.36,0.92,0.14,0.94,0.51,0.56,0.32,1.37,0.4,0.1,0.0,0.19,0.18,0.26,0.62,0.44,0.63,0.0,0.58,0.0,0.62,0.62,0.22,0.7,0.68,0.12,0.12,0.34,0.55,1.01,0.11,0.4,0.3,0.42,0.28,0.29,0.79,0.35,0.33,0.63,0.22,0.36,0.0,1.17,0.0,0.12,0.27,0.0,0.39,0.56,0.27,0.37,0.65],\"textposition\":\"inside\",\"x\":[0,1,2,3,4,5,6,7,8,9,10,11,12,13,14,15,16,17,18,19,20,21,22,23,24,25,26,27,28,29,30,31,32,33,34,35,36,37,38,39,40,41,42,43,44,45,46,47,48,49,50,51,52,53,54,55,56,57,58,59,60,61,62,63,64,65,66,67,68,69,70,71,72,73,74,75,76,77,78,79,80,81,82,83,84,85,86],\"xaxis\":\"x\",\"y\":[0.82,0.9,0.4,0.29,0.68,0.43,0.5,0.36,0.34,0.0,0.59,0.26,0.17,0.26,0.29,0.25,0.51,0.19,0.41,0.12,0.44,0.64,0.26,0.69,0.27,0.09,0.26,0.23,0.37,0.72,0.2,0.65,0.35,0.18,0.36,0.92,0.14,0.94,0.51,0.56,0.32,1.37,0.4,0.1,0.0,0.19,0.18,0.26,0.62,0.44,0.63,0.0,0.58,0.0,0.62,0.62,0.22,0.7,0.68,0.12,0.12,0.34,0.55,1.01,0.11,0.4,0.3,0.42,0.28,0.29,0.79,0.35,0.33,0.63,0.22,0.36,0.0,1.17,0.0,0.12,0.27,0.0,0.39,0.56,0.27,0.37,0.65],\"yaxis\":\"y\",\"type\":\"bar\",\"texttemplate\":\"%{text:.2f}%\"},{\"alignmentgroup\":\"True\",\"customdata\":[[\"Bernin\"],[\"Bernin\"],[\"Bernin\"],[\"Biviers\"],[\"Biviers\"],[\"Corenc\"],[\"Corenc\"],[\"Corenc\"],[\"Grenoble\"],[\"Grenoble\"],[\"Grenoble\"],[\"Grenoble\"],[\"Grenoble\"],[\"Grenoble\"],[\"Grenoble\"],[\"Grenoble\"],[\"Grenoble\"],[\"Grenoble\"],[\"Grenoble\"],[\"Grenoble\"],[\"Grenoble\"],[\"Grenoble\"],[\"Grenoble\"],[\"Grenoble\"],[\"Grenoble\"],[\"Grenoble\"],[\"Grenoble\"],[\"Grenoble\"],[\"Grenoble\"],[\"Grenoble\"],[\"Grenoble\"],[\"Grenoble\"],[\"Grenoble\"],[\"Grenoble\"],[\"Grenoble\"],[\"Grenoble\"],[\"Grenoble\"],[\"Grenoble\"],[\"Grenoble\"],[\"Grenoble\"],[\"Grenoble\"],[\"Grenoble\"],[\"Grenoble\"],[\"Grenoble\"],[\"Grenoble\"],[\"Grenoble\"],[\"Grenoble\"],[\"Grenoble\"],[\"Grenoble\"],[\"Grenoble\"],[\"Grenoble\"],[\"Meylan\"],[\"Meylan\"],[\"Meylan\"],[\"Meylan\"],[\"Meylan\"],[\"Meylan\"],[\"Meylan\"],[\"Meylan\"],[\"Meylan\"],[\"Meylan\"],[\"Meylan\"],[\"Meylan\"],[\"Meylan\"],[\"Meylan\"],[\"Meylan\"],[\"Meylan\"],[\"Montbonnot-Saint-Martin\"],[\"Montbonnot-Saint-Martin\"],[\"Montbonnot-Saint-Martin\"],[\"Montbonnot-Saint-Martin\"],[\"Montbonnot-Saint-Martin\"],[\"Saint-Ismier\"],[\"Saint-Ismier\"],[\"Saint-Ismier\"],[\"Saint-Ismier\"],[\"Saint-Ismier\"],[\"Saint-Ismier\"],[\"Saint-Ismier\"],[\"Saint-Nazaire-les-Eymes\"],[\"Saint-Nazaire-les-Eymes\"],[\"Saint-Nazaire-les-Eymes\"],[\"Le Sappey-en-Chartreuse\"],[\"La Tronche\"],[\"La Tronche\"],[\"La Tronche\"],[\"La Tronche\"]],\"hovertemplate\":\"Liste=Reconqu\\u00eate\\u003cbr\\u003eIndex=%{x}\\u003cbr\\u003ePourcentage de Votes=%{text}\\u003cbr\\u003eCommune=%{customdata[0]}\\u003cextra\\u003e\\u003c\\u002fextra\\u003e\",\"legendgroup\":\"Reconqu\\u00eate\",\"marker\":{\"color\":\"#411018\",\"pattern\":{\"shape\":\"\"}},\"name\":\"Reconqu\\u00eate\",\"offsetgroup\":\"Reconqu\\u00eate\",\"orientation\":\"v\",\"showlegend\":true,\"text\":[3.19,3.51,3.34,6.75,5.13,3.89,4.38,5.57,2.22,1.86,4.4,2.57,4.39,1.82,3.7,2.67,1.33,1.14,3.32,2.47,2.43,2.04,2.09,1.18,3.1,1.66,1.49,0.58,1.96,1.81,2.13,2.35,2.2,3.45,3.13,2.15,1.56,2.4,2.23,2.53,3.38,1.37,2.79,2.12,1.73,2.61,2.22,2.25,2.38,1.58,2.22,2.9,3.59,2.29,2.85,2.48,3.92,2.9,3.31,5.11,5.48,4.86,2.41,2.73,3.09,7.24,3.69,4.58,3.5,4.88,2.08,3.01,2.82,3.38,3.13,2.54,3.53,2.47,3.89,4.11,4.25,2.93,2.35,2.35,3.59,2.23,2.69],\"textposition\":\"inside\",\"x\":[0,1,2,3,4,5,6,7,8,9,10,11,12,13,14,15,16,17,18,19,20,21,22,23,24,25,26,27,28,29,30,31,32,33,34,35,36,37,38,39,40,41,42,43,44,45,46,47,48,49,50,51,52,53,54,55,56,57,58,59,60,61,62,63,64,65,66,67,68,69,70,71,72,73,74,75,76,77,78,79,80,81,82,83,84,85,86],\"xaxis\":\"x\",\"y\":[3.19,3.51,3.34,6.75,5.13,3.89,4.38,5.57,2.22,1.86,4.4,2.57,4.39,1.82,3.7,2.67,1.33,1.14,3.32,2.47,2.43,2.04,2.09,1.18,3.1,1.66,1.49,0.58,1.96,1.81,2.13,2.35,2.2,3.45,3.13,2.15,1.56,2.4,2.23,2.53,3.38,1.37,2.79,2.12,1.73,2.61,2.22,2.25,2.38,1.58,2.22,2.9,3.59,2.29,2.85,2.48,3.92,2.9,3.31,5.11,5.48,4.86,2.41,2.73,3.09,7.24,3.69,4.58,3.5,4.88,2.08,3.01,2.82,3.38,3.13,2.54,3.53,2.47,3.89,4.11,4.25,2.93,2.35,2.35,3.59,2.23,2.69],\"yaxis\":\"y\",\"type\":\"bar\",\"texttemplate\":\"%{text:.2f}%\"}],                        {\"template\":{\"data\":{\"histogram2dcontour\":[{\"type\":\"histogram2dcontour\",\"colorbar\":{\"outlinewidth\":0,\"ticks\":\"\"},\"colorscale\":[[0.0,\"#0d0887\"],[0.1111111111111111,\"#46039f\"],[0.2222222222222222,\"#7201a8\"],[0.3333333333333333,\"#9c179e\"],[0.4444444444444444,\"#bd3786\"],[0.5555555555555556,\"#d8576b\"],[0.6666666666666666,\"#ed7953\"],[0.7777777777777778,\"#fb9f3a\"],[0.8888888888888888,\"#fdca26\"],[1.0,\"#f0f921\"]]}],\"choropleth\":[{\"type\":\"choropleth\",\"colorbar\":{\"outlinewidth\":0,\"ticks\":\"\"}}],\"histogram2d\":[{\"type\":\"histogram2d\",\"colorbar\":{\"outlinewidth\":0,\"ticks\":\"\"},\"colorscale\":[[0.0,\"#0d0887\"],[0.1111111111111111,\"#46039f\"],[0.2222222222222222,\"#7201a8\"],[0.3333333333333333,\"#9c179e\"],[0.4444444444444444,\"#bd3786\"],[0.5555555555555556,\"#d8576b\"],[0.6666666666666666,\"#ed7953\"],[0.7777777777777778,\"#fb9f3a\"],[0.8888888888888888,\"#fdca26\"],[1.0,\"#f0f921\"]]}],\"heatmap\":[{\"type\":\"heatmap\",\"colorbar\":{\"outlinewidth\":0,\"ticks\":\"\"},\"colorscale\":[[0.0,\"#0d0887\"],[0.1111111111111111,\"#46039f\"],[0.2222222222222222,\"#7201a8\"],[0.3333333333333333,\"#9c179e\"],[0.4444444444444444,\"#bd3786\"],[0.5555555555555556,\"#d8576b\"],[0.6666666666666666,\"#ed7953\"],[0.7777777777777778,\"#fb9f3a\"],[0.8888888888888888,\"#fdca26\"],[1.0,\"#f0f921\"]]}],\"heatmapgl\":[{\"type\":\"heatmapgl\",\"colorbar\":{\"outlinewidth\":0,\"ticks\":\"\"},\"colorscale\":[[0.0,\"#0d0887\"],[0.1111111111111111,\"#46039f\"],[0.2222222222222222,\"#7201a8\"],[0.3333333333333333,\"#9c179e\"],[0.4444444444444444,\"#bd3786\"],[0.5555555555555556,\"#d8576b\"],[0.6666666666666666,\"#ed7953\"],[0.7777777777777778,\"#fb9f3a\"],[0.8888888888888888,\"#fdca26\"],[1.0,\"#f0f921\"]]}],\"contourcarpet\":[{\"type\":\"contourcarpet\",\"colorbar\":{\"outlinewidth\":0,\"ticks\":\"\"}}],\"contour\":[{\"type\":\"contour\",\"colorbar\":{\"outlinewidth\":0,\"ticks\":\"\"},\"colorscale\":[[0.0,\"#0d0887\"],[0.1111111111111111,\"#46039f\"],[0.2222222222222222,\"#7201a8\"],[0.3333333333333333,\"#9c179e\"],[0.4444444444444444,\"#bd3786\"],[0.5555555555555556,\"#d8576b\"],[0.6666666666666666,\"#ed7953\"],[0.7777777777777778,\"#fb9f3a\"],[0.8888888888888888,\"#fdca26\"],[1.0,\"#f0f921\"]]}],\"surface\":[{\"type\":\"surface\",\"colorbar\":{\"outlinewidth\":0,\"ticks\":\"\"},\"colorscale\":[[0.0,\"#0d0887\"],[0.1111111111111111,\"#46039f\"],[0.2222222222222222,\"#7201a8\"],[0.3333333333333333,\"#9c179e\"],[0.4444444444444444,\"#bd3786\"],[0.5555555555555556,\"#d8576b\"],[0.6666666666666666,\"#ed7953\"],[0.7777777777777778,\"#fb9f3a\"],[0.8888888888888888,\"#fdca26\"],[1.0,\"#f0f921\"]]}],\"mesh3d\":[{\"type\":\"mesh3d\",\"colorbar\":{\"outlinewidth\":0,\"ticks\":\"\"}}],\"scatter\":[{\"fillpattern\":{\"fillmode\":\"overlay\",\"size\":10,\"solidity\":0.2},\"type\":\"scatter\"}],\"parcoords\":[{\"type\":\"parcoords\",\"line\":{\"colorbar\":{\"outlinewidth\":0,\"ticks\":\"\"}}}],\"scatterpolargl\":[{\"type\":\"scatterpolargl\",\"marker\":{\"colorbar\":{\"outlinewidth\":0,\"ticks\":\"\"}}}],\"bar\":[{\"error_x\":{\"color\":\"#2a3f5f\"},\"error_y\":{\"color\":\"#2a3f5f\"},\"marker\":{\"line\":{\"color\":\"#E5ECF6\",\"width\":0.5},\"pattern\":{\"fillmode\":\"overlay\",\"size\":10,\"solidity\":0.2}},\"type\":\"bar\"}],\"scattergeo\":[{\"type\":\"scattergeo\",\"marker\":{\"colorbar\":{\"outlinewidth\":0,\"ticks\":\"\"}}}],\"scatterpolar\":[{\"type\":\"scatterpolar\",\"marker\":{\"colorbar\":{\"outlinewidth\":0,\"ticks\":\"\"}}}],\"histogram\":[{\"marker\":{\"pattern\":{\"fillmode\":\"overlay\",\"size\":10,\"solidity\":0.2}},\"type\":\"histogram\"}],\"scattergl\":[{\"type\":\"scattergl\",\"marker\":{\"colorbar\":{\"outlinewidth\":0,\"ticks\":\"\"}}}],\"scatter3d\":[{\"type\":\"scatter3d\",\"line\":{\"colorbar\":{\"outlinewidth\":0,\"ticks\":\"\"}},\"marker\":{\"colorbar\":{\"outlinewidth\":0,\"ticks\":\"\"}}}],\"scattermapbox\":[{\"type\":\"scattermapbox\",\"marker\":{\"colorbar\":{\"outlinewidth\":0,\"ticks\":\"\"}}}],\"scatterternary\":[{\"type\":\"scatterternary\",\"marker\":{\"colorbar\":{\"outlinewidth\":0,\"ticks\":\"\"}}}],\"scattercarpet\":[{\"type\":\"scattercarpet\",\"marker\":{\"colorbar\":{\"outlinewidth\":0,\"ticks\":\"\"}}}],\"carpet\":[{\"aaxis\":{\"endlinecolor\":\"#2a3f5f\",\"gridcolor\":\"white\",\"linecolor\":\"white\",\"minorgridcolor\":\"white\",\"startlinecolor\":\"#2a3f5f\"},\"baxis\":{\"endlinecolor\":\"#2a3f5f\",\"gridcolor\":\"white\",\"linecolor\":\"white\",\"minorgridcolor\":\"white\",\"startlinecolor\":\"#2a3f5f\"},\"type\":\"carpet\"}],\"table\":[{\"cells\":{\"fill\":{\"color\":\"#EBF0F8\"},\"line\":{\"color\":\"white\"}},\"header\":{\"fill\":{\"color\":\"#C8D4E3\"},\"line\":{\"color\":\"white\"}},\"type\":\"table\"}],\"barpolar\":[{\"marker\":{\"line\":{\"color\":\"#E5ECF6\",\"width\":0.5},\"pattern\":{\"fillmode\":\"overlay\",\"size\":10,\"solidity\":0.2}},\"type\":\"barpolar\"}],\"pie\":[{\"automargin\":true,\"type\":\"pie\"}]},\"layout\":{\"autotypenumbers\":\"strict\",\"colorway\":[\"#636efa\",\"#EF553B\",\"#00cc96\",\"#ab63fa\",\"#FFA15A\",\"#19d3f3\",\"#FF6692\",\"#B6E880\",\"#FF97FF\",\"#FECB52\"],\"font\":{\"color\":\"#2a3f5f\"},\"hovermode\":\"closest\",\"hoverlabel\":{\"align\":\"left\"},\"paper_bgcolor\":\"white\",\"plot_bgcolor\":\"#E5ECF6\",\"polar\":{\"bgcolor\":\"#E5ECF6\",\"angularaxis\":{\"gridcolor\":\"white\",\"linecolor\":\"white\",\"ticks\":\"\"},\"radialaxis\":{\"gridcolor\":\"white\",\"linecolor\":\"white\",\"ticks\":\"\"}},\"ternary\":{\"bgcolor\":\"#E5ECF6\",\"aaxis\":{\"gridcolor\":\"white\",\"linecolor\":\"white\",\"ticks\":\"\"},\"baxis\":{\"gridcolor\":\"white\",\"linecolor\":\"white\",\"ticks\":\"\"},\"caxis\":{\"gridcolor\":\"white\",\"linecolor\":\"white\",\"ticks\":\"\"}},\"coloraxis\":{\"colorbar\":{\"outlinewidth\":0,\"ticks\":\"\"}},\"colorscale\":{\"sequential\":[[0.0,\"#0d0887\"],[0.1111111111111111,\"#46039f\"],[0.2222222222222222,\"#7201a8\"],[0.3333333333333333,\"#9c179e\"],[0.4444444444444444,\"#bd3786\"],[0.5555555555555556,\"#d8576b\"],[0.6666666666666666,\"#ed7953\"],[0.7777777777777778,\"#fb9f3a\"],[0.8888888888888888,\"#fdca26\"],[1.0,\"#f0f921\"]],\"sequentialminus\":[[0.0,\"#0d0887\"],[0.1111111111111111,\"#46039f\"],[0.2222222222222222,\"#7201a8\"],[0.3333333333333333,\"#9c179e\"],[0.4444444444444444,\"#bd3786\"],[0.5555555555555556,\"#d8576b\"],[0.6666666666666666,\"#ed7953\"],[0.7777777777777778,\"#fb9f3a\"],[0.8888888888888888,\"#fdca26\"],[1.0,\"#f0f921\"]],\"diverging\":[[0,\"#8e0152\"],[0.1,\"#c51b7d\"],[0.2,\"#de77ae\"],[0.3,\"#f1b6da\"],[0.4,\"#fde0ef\"],[0.5,\"#f7f7f7\"],[0.6,\"#e6f5d0\"],[0.7,\"#b8e186\"],[0.8,\"#7fbc41\"],[0.9,\"#4d9221\"],[1,\"#276419\"]]},\"xaxis\":{\"gridcolor\":\"white\",\"linecolor\":\"white\",\"ticks\":\"\",\"title\":{\"standoff\":15},\"zerolinecolor\":\"white\",\"automargin\":true,\"zerolinewidth\":2},\"yaxis\":{\"gridcolor\":\"white\",\"linecolor\":\"white\",\"ticks\":\"\",\"title\":{\"standoff\":15},\"zerolinecolor\":\"white\",\"automargin\":true,\"zerolinewidth\":2},\"scene\":{\"xaxis\":{\"backgroundcolor\":\"#E5ECF6\",\"gridcolor\":\"white\",\"linecolor\":\"white\",\"showbackground\":true,\"ticks\":\"\",\"zerolinecolor\":\"white\",\"gridwidth\":2},\"yaxis\":{\"backgroundcolor\":\"#E5ECF6\",\"gridcolor\":\"white\",\"linecolor\":\"white\",\"showbackground\":true,\"ticks\":\"\",\"zerolinecolor\":\"white\",\"gridwidth\":2},\"zaxis\":{\"backgroundcolor\":\"#E5ECF6\",\"gridcolor\":\"white\",\"linecolor\":\"white\",\"showbackground\":true,\"ticks\":\"\",\"zerolinecolor\":\"white\",\"gridwidth\":2}},\"shapedefaults\":{\"line\":{\"color\":\"#2a3f5f\"}},\"annotationdefaults\":{\"arrowcolor\":\"#2a3f5f\",\"arrowhead\":0,\"arrowwidth\":1},\"geo\":{\"bgcolor\":\"white\",\"landcolor\":\"#E5ECF6\",\"subunitcolor\":\"white\",\"showland\":true,\"showlakes\":true,\"lakecolor\":\"white\"},\"title\":{\"x\":0.05},\"mapbox\":{\"style\":\"light\"}}},\"xaxis\":{\"anchor\":\"y\",\"domain\":[0.0,1.0],\"title\":{\"text\":\"Index\"}},\"yaxis\":{\"anchor\":\"x\",\"domain\":[0.0,1.0],\"title\":{\"text\":\"Pourcentage de Votes\"}},\"legend\":{\"title\":{\"text\":\"Liste\"},\"tracegroupgap\":0},\"title\":{\"text\":\"Pourcentage des Votes par Bureau de Vote aux \\u00c9lections Europ\\u00e9ennes\"},\"barmode\":\"stack\"},                        {\"responsive\": true}                    ).then(function(){\n",
       "                            \n",
       "var gd = document.getElementById('9ec6b05f-40f1-46b4-84a1-45b62ab0e746');\n",
       "var x = new MutationObserver(function (mutations, observer) {{\n",
       "        var display = window.getComputedStyle(gd).display;\n",
       "        if (!display || display === 'none') {{\n",
       "            console.log([gd, 'removed!']);\n",
       "            Plotly.purge(gd);\n",
       "            observer.disconnect();\n",
       "        }}\n",
       "}});\n",
       "\n",
       "// Listen for the removal of the full notebook cells\n",
       "var notebookContainer = gd.closest('#notebook-container');\n",
       "if (notebookContainer) {{\n",
       "    x.observe(notebookContainer, {childList: true});\n",
       "}}\n",
       "\n",
       "// Listen for the clearing of the current output cell\n",
       "var outputEl = gd.closest('.output');\n",
       "if (outputEl) {{\n",
       "    x.observe(outputEl, {childList: true});\n",
       "}}\n",
       "\n",
       "                        })                };                });            </script>        </div>"
      ]
     },
     "metadata": {},
     "output_type": "display_data"
    }
   ],
   "source": [
    "#Représentation européennes (% par inscrits)\n",
    "#Reformatage pour graphique empilé \n",
    "\n",
    "data = pd.DataFrame({\n",
    "    'Index': df.index,\n",
    "    'Commune': df['Libellé commune'],\n",
    "    'Bureau de vote' : df['id_bv'],\n",
    "    'Abstention' : df['% Abstention_Euro'],\n",
    "    'Reconquête' : df['% VINSC_REC_Euro'], #\n",
    "    'LFI' : df['% VINSC_LFI_Euro'], #\n",
    "    'RN' : df['% VINSC_RN_Euro'], #\n",
    "    'EELV' : df['% VINSC_EELV_Euro'], #\n",
    "    'Free Palestine' : df['% VINSC_PALES_Euro'], #\n",
    "    'Animaliste' : df['% VINSC_ANIM_Euro'], #\n",
    "    'Pirate' : df['% VINSC_PIRATE_Euro'], #\n",
    "    'Renaissance' : df['% VINSC_LREM_Euro'],\n",
    "    'Equinoxe' : df['% VINSC_EQUI_Euro'], #\n",
    "    'Asselineau' : df['% VINSC_UPR_Euro'], #\n",
    "    'LR' : df['% VINSC_LR_Euro'], #\n",
    "    'Les Patriotes' : df['% VINSC_PHIL_Euro'], #\n",
    "    'PS-PP' : df['% VINSC_PP_Euro'], #\n",
    "    'PCF' : df['% VINSC_PCF_Euro'], #\n",
    "    'Ecologie au centre' : df['% VINSC_ECOC_Euro'] #\n",
    "})\n",
    "\n",
    "liste_col = ['Abstention', 'Free Palestine', 'LFI', 'PCF', 'EELV', 'PS-PP', 'Pirate', 'Animaliste', 'Equinoxe', 'Ecologie au centre', 'Renaissance', 'LR', 'RN', 'Asselineau', 'Les Patriotes', 'Reconquête']\n",
    "\n",
    "df_melted = data.melt(id_vars=['Index', 'Bureau de vote', 'Commune'], value_vars=liste_col, var_name ='Liste', value_name='Score (%)')\n",
    "\n",
    "couleurs = {\n",
    "    'Abstention': 'grey',\n",
    "    'Free Palestine': '#225b2f',\n",
    "    'LFI': '#e11818',\n",
    "    'PCF': '#db435c',\n",
    "    'EELV': '#53dc20',\n",
    "    'PS-PP': '#fe92fc',\n",
    "    'Pirate': '#000000',\n",
    "    'Animaliste': '#b30ef1',\n",
    "    'Equinoxe': '#f37d00 ',\n",
    "    'Ecologie au centre': '#99fca5',\n",
    "    'Renaissance': '#f3e80e',\n",
    "    'LR': '#0ebff3',\n",
    "    'RN': '#0e2df3',\n",
    "    'Asselineau': '#6772ff',\n",
    "    'Les Patriotes': '#afb5fa',\n",
    "    'Reconquête': '#411018'\n",
    "}\n",
    "\n",
    "# Création du graphique à barres empilées\n",
    "fig = px.bar(df_melted,\n",
    "             x='Index',  # Utiliser la colonne Bureau de vote avec accolade\n",
    "             y='Score (%)',\n",
    "             color='Liste',\n",
    "             title='Pourcentage des Votes par Bureau de Vote aux Élections Européennes',\n",
    "             labels={'Score (%)': 'Pourcentage de Votes'},\n",
    "             text='Score (%)',\n",
    "             color_discrete_map=couleurs,  # Appliquez le dictionnaire de couleurs\n",
    "             hover_data={'Commune': True})  # Affiche le libellé de la commune\n",
    "\n",
    "# Ajustement des propriétés de texte\n",
    "fig.update_traces(texttemplate='%{text:.2f}%', textposition='inside')\n",
    "fig.update_layout(barmode='stack')\n",
    "\n",
    "#Sauvegarde\n",
    "fig.write_html(\"graphiques/euro_interactive.html\") #Version interactive\n",
    "fig.write_image(\"graphiques/euro_statique.png\", width=800, height=600)\n",
    "\n",
    "# Affichage du graphique\n",
    "fig.show()"
   ]
  },
  {
   "cell_type": "code",
   "execution_count": 269,
   "id": "40ee6f51-d440-4de1-b854-396cb5d9a217",
   "metadata": {},
   "outputs": [
    {
     "data": {
      "application/vnd.plotly.v1+json": {
       "config": {
        "plotlyServerURL": "https://plot.ly"
       },
       "data": [
        {
         "customdata": [
          [
           965
          ],
          [
           992
          ],
          [
           980
          ],
          [
           1036
          ],
          [
           1032
          ],
          [
           1143
          ],
          [
           1207
          ],
          [
           1085
          ],
          [
           1168
          ],
          [
           1018
          ],
          [
           1022
          ],
          [
           1158
          ],
          [
           1171
          ],
          [
           1148
          ],
          [
           1018
          ],
          [
           787
          ],
          [
           966
          ],
          [
           1052
          ],
          [
           972
          ],
          [
           848
          ],
          [
           905
          ],
          [
           928
          ],
          [
           1144
          ],
          [
           1025
          ],
          [
           1111
          ],
          [
           1079
          ],
          [
           1135
          ],
          [
           863
          ],
          [
           1066
          ],
          [
           833
          ],
          [
           1002
          ],
          [
           1233
          ],
          [
           1135
          ],
          [
           1140
          ],
          [
           828
          ],
          [
           975
          ],
          [
           712
          ],
          [
           965
          ],
          [
           994
          ],
          [
           1070
          ],
          [
           947
          ],
          [
           217
          ],
          [
           1011
          ],
          [
           1031
          ],
          [
           1029
          ],
          [
           1059
          ],
          [
           1127
          ],
          [
           1148
          ],
          [
           974
          ],
          [
           1139
          ],
          [
           947
          ],
          [
           936
          ],
          [
           860
          ],
          [
           959
          ],
          [
           805
          ],
          [
           803
          ],
          [
           917
          ],
          [
           855
          ],
          [
           870
          ],
          [
           834
          ],
          [
           833
          ],
          [
           884
          ],
          [
           902
          ],
          [
           976
          ],
          [
           934
          ],
          [
           999
          ],
          [
           1008
          ],
          [
           714
          ],
          [
           1082
          ],
          [
           689
          ],
          [
           1005
          ],
          [
           864
          ],
          [
           927
          ],
          [
           801
          ],
          [
           889
          ],
          [
           829
          ],
          [
           788
          ],
          [
           774
          ],
          [
           1003
          ],
          [
           849
          ],
          [
           726
          ],
          [
           850
          ],
          [
           1009
          ],
          [
           1070
          ],
          [
           1103
          ],
          [
           1069
          ],
          [
           923
          ]
         ],
         "hovertemplate": "Commune: %{hovertext}<br>Olivier Véran: %{x:.2f}<br>Hugo Prévost: %{y:.2f}<br>Alexandre Lacroix: %{z:.2f}<br>Inscrits: %{customdata[0]}<br>",
         "hovertext": [
          "Bernin",
          "Bernin",
          "Bernin",
          "Biviers",
          "Biviers",
          "Corenc",
          "Corenc",
          "Corenc",
          "Grenoble",
          "Grenoble",
          "Grenoble",
          "Grenoble",
          "Grenoble",
          "Grenoble",
          "Grenoble",
          "Grenoble",
          "Grenoble",
          "Grenoble",
          "Grenoble",
          "Grenoble",
          "Grenoble",
          "Grenoble",
          "Grenoble",
          "Grenoble",
          "Grenoble",
          "Grenoble",
          "Grenoble",
          "Grenoble",
          "Grenoble",
          "Grenoble",
          "Grenoble",
          "Grenoble",
          "Grenoble",
          "Grenoble",
          "Grenoble",
          "Grenoble",
          "Grenoble",
          "Grenoble",
          "Grenoble",
          "Grenoble",
          "Grenoble",
          "Grenoble",
          "Grenoble",
          "Grenoble",
          "Grenoble",
          "Grenoble",
          "Grenoble",
          "Grenoble",
          "Grenoble",
          "Grenoble",
          "Grenoble",
          "Meylan",
          "Meylan",
          "Meylan",
          "Meylan",
          "Meylan",
          "Meylan",
          "Meylan",
          "Meylan",
          "Meylan",
          "Meylan",
          "Meylan",
          "Meylan",
          "Meylan",
          "Meylan",
          "Meylan",
          "Meylan",
          "Montbonnot-Saint-Martin",
          "Montbonnot-Saint-Martin",
          "Montbonnot-Saint-Martin",
          "Montbonnot-Saint-Martin",
          "Montbonnot-Saint-Martin",
          "Saint-Ismier",
          "Saint-Ismier",
          "Saint-Ismier",
          "Saint-Ismier",
          "Saint-Ismier",
          "Saint-Ismier",
          "Saint-Ismier",
          "Saint-Nazaire-les-Eymes",
          "Saint-Nazaire-les-Eymes",
          "Saint-Nazaire-les-Eymes",
          "Le Sappey-en-Chartreuse",
          "La Tronche",
          "La Tronche",
          "La Tronche",
          "La Tronche"
         ],
         "legendgroup": "",
         "marker": {
          "color": [
           26.81,
           26.04,
           25.86,
           19.88,
           20.61,
           29.47,
           30.27,
           25.51,
           55.48,
           67.48,
           45.41,
           53.98,
           40.07,
           61.95,
           51.98,
           64.52,
           66.08,
           69.83,
           52.07,
           46.35,
           55.14,
           57.73,
           57.79,
           62.94,
           51.97,
           53.82,
           61.17,
           62.3,
           56.52,
           56.04,
           53.03,
           53.53,
           58.67,
           45.05,
           60.48,
           56.23,
           53.79,
           51.52,
           45.45,
           44.68,
           49.43,
           64.29,
           51.86,
           62.25,
           52.45,
           59.06,
           56.81,
           60.18,
           54.68,
           53.16,
           56.07,
           34.01,
           35.87,
           40.94,
           33.52,
           35.36,
           32.83,
           39.37,
           36.17,
           26.06,
           24.77,
           20.54,
           52.23,
           24.74,
           43.39,
           16.09,
           29.5,
           21.03,
           24.74,
           21.05,
           27.68,
           24.63,
           21.46,
           23.29,
           21.99,
           19.06,
           18.83,
           23.29,
           23.78,
           18.48,
           24.78,
           27.31,
           52.32,
           44.13,
           35.77,
           44.47,
           42.39
          ],
          "coloraxis": "coloraxis",
          "size": [
           965,
           992,
           980,
           1036,
           1032,
           1143,
           1207,
           1085,
           1168,
           1018,
           1022,
           1158,
           1171,
           1148,
           1018,
           787,
           966,
           1052,
           972,
           848,
           905,
           928,
           1144,
           1025,
           1111,
           1079,
           1135,
           863,
           1066,
           833,
           1002,
           1233,
           1135,
           1140,
           828,
           975,
           712,
           965,
           994,
           1070,
           947,
           217,
           1011,
           1031,
           1029,
           1059,
           1127,
           1148,
           974,
           1139,
           947,
           936,
           860,
           959,
           805,
           803,
           917,
           855,
           870,
           834,
           833,
           884,
           902,
           976,
           934,
           999,
           1008,
           714,
           1082,
           689,
           1005,
           864,
           927,
           801,
           889,
           829,
           788,
           774,
           1003,
           849,
           726,
           850,
           1009,
           1070,
           1103,
           1069,
           923
          ],
          "sizemode": "area",
          "sizeref": 3.0825,
          "symbol": "circle"
         },
         "mode": "markers",
         "name": "",
         "scene": "scene",
         "showlegend": false,
         "type": "scatter3d",
         "x": [
          52.36,
          53.73,
          49.11,
          60,
          55.46,
          53.48,
          51.57,
          57.37,
          31.47,
          22.22,
          39.07,
          35.32,
          45.39,
          29.81,
          32.78,
          24.01,
          23.16,
          22.4,
          34.45,
          40.12,
          31.42,
          31.63,
          28.22,
          16.58,
          34.21,
          31.16,
          19.87,
          15.12,
          21.81,
          21.26,
          30.58,
          30.94,
          26.53,
          38.14,
          21.88,
          25.92,
          25.69,
          34.16,
          37.05,
          41.46,
          38.39,
          19.64,
          34.53,
          28.06,
          36.89,
          29.16,
          29.1,
          28.6,
          27,
          27.47,
          26.45,
          46.02,
          45.24,
          40.03,
          43.09,
          45.69,
          48.04,
          41.81,
          45.29,
          54.09,
          53.47,
          59.21,
          27.39,
          60.32,
          37.93,
          60.28,
          46.43,
          57.2,
          53.64,
          56.84,
          43.83,
          56.57,
          59.74,
          61.96,
          55.87,
          63.13,
          53.5,
          50.61,
          50.27,
          58.65,
          49.91,
          45.8,
          33.89,
          41.16,
          52.53,
          38.35,
          39.3
         ],
         "y": [
          26.81,
          26.04,
          25.86,
          19.88,
          20.61,
          29.47,
          30.27,
          25.51,
          55.48,
          67.48,
          45.41,
          53.98,
          40.07,
          61.95,
          51.98,
          64.52,
          66.08,
          69.83,
          52.07,
          46.35,
          55.14,
          57.73,
          57.79,
          62.94,
          51.97,
          53.82,
          61.17,
          62.3,
          56.52,
          56.04,
          53.03,
          53.53,
          58.67,
          45.05,
          60.48,
          56.23,
          53.79,
          51.52,
          45.45,
          44.68,
          49.43,
          64.29,
          51.86,
          62.25,
          52.45,
          59.06,
          56.81,
          60.18,
          54.68,
          53.16,
          56.07,
          34.01,
          35.87,
          40.94,
          33.52,
          35.36,
          32.83,
          39.37,
          36.17,
          26.06,
          24.77,
          20.54,
          52.23,
          24.74,
          43.39,
          16.09,
          29.5,
          21.03,
          24.74,
          21.05,
          27.68,
          24.63,
          21.46,
          23.29,
          21.99,
          19.06,
          18.83,
          23.29,
          23.78,
          18.48,
          24.78,
          27.31,
          52.32,
          44.13,
          35.77,
          44.47,
          42.39
         ],
         "z": [
          20.83,
          20.23,
          25.03,
          20.12,
          23.93,
          17.04,
          18.16,
          17.13,
          13.05,
          10.3,
          15.52,
          10.7,
          14.54,
          8.24,
          15.24,
          11.47,
          10.77,
          7.77,
          13.48,
          13.53,
          13.44,
          10.64,
          13.99,
          20.47,
          13.83,
          15.02,
          18.96,
          22.58,
          21.68,
          22.7,
          16.39,
          15.52,
          14.8,
          16.81,
          17.65,
          17.85,
          20.52,
          14.33,
          17.49,
          13.86,
          12.18,
          16.07,
          13.61,
          9.68,
          10.66,
          11.79,
          14.09,
          11.22,
          18.32,
          19.37,
          17.49,
          19.97,
          18.89,
          19.03,
          23.39,
          18.95,
          19.13,
          18.82,
          18.55,
          19.85,
          21.75,
          20.24,
          20.38,
          14.95,
          18.68,
          23.63,
          24.07,
          21.77,
          21.62,
          22.11,
          28.49,
          18.81,
          18.81,
          14.75,
          22.14,
          17.81,
          27.67,
          26.09,
          25.95,
          22.87,
          25.31,
          26.88,
          13.79,
          14.71,
          11.7,
          17.18,
          18.31
         ]
        }
       ],
       "layout": {
        "autosize": true,
        "coloraxis": {
         "colorbar": {
          "title": {
           "text": "Vote NFP (%)"
          }
         },
         "colorscale": [
          [
           0,
           "rgb(255,255,204)"
          ],
          [
           0.125,
           "rgb(255,237,160)"
          ],
          [
           0.25,
           "rgb(254,217,118)"
          ],
          [
           0.375,
           "rgb(254,178,76)"
          ],
          [
           0.5,
           "rgb(253,141,60)"
          ],
          [
           0.625,
           "rgb(252,78,42)"
          ],
          [
           0.75,
           "rgb(227,26,28)"
          ],
          [
           0.875,
           "rgb(189,0,38)"
          ],
          [
           1,
           "rgb(128,0,38)"
          ]
         ]
        },
        "legend": {
         "itemsizing": "constant",
         "tracegroupgap": 0
        },
        "scene": {
         "aspectmode": "auto",
         "aspectratio": {
          "x": 1.2744574281648036,
          "y": 1.4265640947631022,
          "z": 0.5500262010325917
         },
         "domain": {
          "x": [
           0,
           1
          ],
          "y": [
           0,
           1
          ]
         },
         "xaxis": {
          "title": {
           "text": "LREM (%)"
          },
          "type": "linear"
         },
         "yaxis": {
          "title": {
           "text": "NFP (%)"
          },
          "type": "linear"
         },
         "zaxis": {
          "title": {
           "text": "UXD (%)"
          },
          "type": "linear"
         }
        },
        "template": {
         "data": {
          "bar": [
           {
            "error_x": {
             "color": "#2a3f5f"
            },
            "error_y": {
             "color": "#2a3f5f"
            },
            "marker": {
             "line": {
              "color": "#E5ECF6",
              "width": 0.5
             },
             "pattern": {
              "fillmode": "overlay",
              "size": 10,
              "solidity": 0.2
             }
            },
            "type": "bar"
           }
          ],
          "barpolar": [
           {
            "marker": {
             "line": {
              "color": "#E5ECF6",
              "width": 0.5
             },
             "pattern": {
              "fillmode": "overlay",
              "size": 10,
              "solidity": 0.2
             }
            },
            "type": "barpolar"
           }
          ],
          "carpet": [
           {
            "aaxis": {
             "endlinecolor": "#2a3f5f",
             "gridcolor": "white",
             "linecolor": "white",
             "minorgridcolor": "white",
             "startlinecolor": "#2a3f5f"
            },
            "baxis": {
             "endlinecolor": "#2a3f5f",
             "gridcolor": "white",
             "linecolor": "white",
             "minorgridcolor": "white",
             "startlinecolor": "#2a3f5f"
            },
            "type": "carpet"
           }
          ],
          "choropleth": [
           {
            "colorbar": {
             "outlinewidth": 0,
             "ticks": ""
            },
            "type": "choropleth"
           }
          ],
          "contour": [
           {
            "colorbar": {
             "outlinewidth": 0,
             "ticks": ""
            },
            "colorscale": [
             [
              0,
              "#0d0887"
             ],
             [
              0.1111111111111111,
              "#46039f"
             ],
             [
              0.2222222222222222,
              "#7201a8"
             ],
             [
              0.3333333333333333,
              "#9c179e"
             ],
             [
              0.4444444444444444,
              "#bd3786"
             ],
             [
              0.5555555555555556,
              "#d8576b"
             ],
             [
              0.6666666666666666,
              "#ed7953"
             ],
             [
              0.7777777777777778,
              "#fb9f3a"
             ],
             [
              0.8888888888888888,
              "#fdca26"
             ],
             [
              1,
              "#f0f921"
             ]
            ],
            "type": "contour"
           }
          ],
          "contourcarpet": [
           {
            "colorbar": {
             "outlinewidth": 0,
             "ticks": ""
            },
            "type": "contourcarpet"
           }
          ],
          "heatmap": [
           {
            "colorbar": {
             "outlinewidth": 0,
             "ticks": ""
            },
            "colorscale": [
             [
              0,
              "#0d0887"
             ],
             [
              0.1111111111111111,
              "#46039f"
             ],
             [
              0.2222222222222222,
              "#7201a8"
             ],
             [
              0.3333333333333333,
              "#9c179e"
             ],
             [
              0.4444444444444444,
              "#bd3786"
             ],
             [
              0.5555555555555556,
              "#d8576b"
             ],
             [
              0.6666666666666666,
              "#ed7953"
             ],
             [
              0.7777777777777778,
              "#fb9f3a"
             ],
             [
              0.8888888888888888,
              "#fdca26"
             ],
             [
              1,
              "#f0f921"
             ]
            ],
            "type": "heatmap"
           }
          ],
          "heatmapgl": [
           {
            "colorbar": {
             "outlinewidth": 0,
             "ticks": ""
            },
            "colorscale": [
             [
              0,
              "#0d0887"
             ],
             [
              0.1111111111111111,
              "#46039f"
             ],
             [
              0.2222222222222222,
              "#7201a8"
             ],
             [
              0.3333333333333333,
              "#9c179e"
             ],
             [
              0.4444444444444444,
              "#bd3786"
             ],
             [
              0.5555555555555556,
              "#d8576b"
             ],
             [
              0.6666666666666666,
              "#ed7953"
             ],
             [
              0.7777777777777778,
              "#fb9f3a"
             ],
             [
              0.8888888888888888,
              "#fdca26"
             ],
             [
              1,
              "#f0f921"
             ]
            ],
            "type": "heatmapgl"
           }
          ],
          "histogram": [
           {
            "marker": {
             "pattern": {
              "fillmode": "overlay",
              "size": 10,
              "solidity": 0.2
             }
            },
            "type": "histogram"
           }
          ],
          "histogram2d": [
           {
            "colorbar": {
             "outlinewidth": 0,
             "ticks": ""
            },
            "colorscale": [
             [
              0,
              "#0d0887"
             ],
             [
              0.1111111111111111,
              "#46039f"
             ],
             [
              0.2222222222222222,
              "#7201a8"
             ],
             [
              0.3333333333333333,
              "#9c179e"
             ],
             [
              0.4444444444444444,
              "#bd3786"
             ],
             [
              0.5555555555555556,
              "#d8576b"
             ],
             [
              0.6666666666666666,
              "#ed7953"
             ],
             [
              0.7777777777777778,
              "#fb9f3a"
             ],
             [
              0.8888888888888888,
              "#fdca26"
             ],
             [
              1,
              "#f0f921"
             ]
            ],
            "type": "histogram2d"
           }
          ],
          "histogram2dcontour": [
           {
            "colorbar": {
             "outlinewidth": 0,
             "ticks": ""
            },
            "colorscale": [
             [
              0,
              "#0d0887"
             ],
             [
              0.1111111111111111,
              "#46039f"
             ],
             [
              0.2222222222222222,
              "#7201a8"
             ],
             [
              0.3333333333333333,
              "#9c179e"
             ],
             [
              0.4444444444444444,
              "#bd3786"
             ],
             [
              0.5555555555555556,
              "#d8576b"
             ],
             [
              0.6666666666666666,
              "#ed7953"
             ],
             [
              0.7777777777777778,
              "#fb9f3a"
             ],
             [
              0.8888888888888888,
              "#fdca26"
             ],
             [
              1,
              "#f0f921"
             ]
            ],
            "type": "histogram2dcontour"
           }
          ],
          "mesh3d": [
           {
            "colorbar": {
             "outlinewidth": 0,
             "ticks": ""
            },
            "type": "mesh3d"
           }
          ],
          "parcoords": [
           {
            "line": {
             "colorbar": {
              "outlinewidth": 0,
              "ticks": ""
             }
            },
            "type": "parcoords"
           }
          ],
          "pie": [
           {
            "automargin": true,
            "type": "pie"
           }
          ],
          "scatter": [
           {
            "fillpattern": {
             "fillmode": "overlay",
             "size": 10,
             "solidity": 0.2
            },
            "type": "scatter"
           }
          ],
          "scatter3d": [
           {
            "line": {
             "colorbar": {
              "outlinewidth": 0,
              "ticks": ""
             }
            },
            "marker": {
             "colorbar": {
              "outlinewidth": 0,
              "ticks": ""
             }
            },
            "type": "scatter3d"
           }
          ],
          "scattercarpet": [
           {
            "marker": {
             "colorbar": {
              "outlinewidth": 0,
              "ticks": ""
             }
            },
            "type": "scattercarpet"
           }
          ],
          "scattergeo": [
           {
            "marker": {
             "colorbar": {
              "outlinewidth": 0,
              "ticks": ""
             }
            },
            "type": "scattergeo"
           }
          ],
          "scattergl": [
           {
            "marker": {
             "colorbar": {
              "outlinewidth": 0,
              "ticks": ""
             }
            },
            "type": "scattergl"
           }
          ],
          "scattermapbox": [
           {
            "marker": {
             "colorbar": {
              "outlinewidth": 0,
              "ticks": ""
             }
            },
            "type": "scattermapbox"
           }
          ],
          "scatterpolar": [
           {
            "marker": {
             "colorbar": {
              "outlinewidth": 0,
              "ticks": ""
             }
            },
            "type": "scatterpolar"
           }
          ],
          "scatterpolargl": [
           {
            "marker": {
             "colorbar": {
              "outlinewidth": 0,
              "ticks": ""
             }
            },
            "type": "scatterpolargl"
           }
          ],
          "scatterternary": [
           {
            "marker": {
             "colorbar": {
              "outlinewidth": 0,
              "ticks": ""
             }
            },
            "type": "scatterternary"
           }
          ],
          "surface": [
           {
            "colorbar": {
             "outlinewidth": 0,
             "ticks": ""
            },
            "colorscale": [
             [
              0,
              "#0d0887"
             ],
             [
              0.1111111111111111,
              "#46039f"
             ],
             [
              0.2222222222222222,
              "#7201a8"
             ],
             [
              0.3333333333333333,
              "#9c179e"
             ],
             [
              0.4444444444444444,
              "#bd3786"
             ],
             [
              0.5555555555555556,
              "#d8576b"
             ],
             [
              0.6666666666666666,
              "#ed7953"
             ],
             [
              0.7777777777777778,
              "#fb9f3a"
             ],
             [
              0.8888888888888888,
              "#fdca26"
             ],
             [
              1,
              "#f0f921"
             ]
            ],
            "type": "surface"
           }
          ],
          "table": [
           {
            "cells": {
             "fill": {
              "color": "#EBF0F8"
             },
             "line": {
              "color": "white"
             }
            },
            "header": {
             "fill": {
              "color": "#C8D4E3"
             },
             "line": {
              "color": "white"
             }
            },
            "type": "table"
           }
          ]
         },
         "layout": {
          "annotationdefaults": {
           "arrowcolor": "#2a3f5f",
           "arrowhead": 0,
           "arrowwidth": 1
          },
          "autotypenumbers": "strict",
          "coloraxis": {
           "colorbar": {
            "outlinewidth": 0,
            "ticks": ""
           }
          },
          "colorscale": {
           "diverging": [
            [
             0,
             "#8e0152"
            ],
            [
             0.1,
             "#c51b7d"
            ],
            [
             0.2,
             "#de77ae"
            ],
            [
             0.3,
             "#f1b6da"
            ],
            [
             0.4,
             "#fde0ef"
            ],
            [
             0.5,
             "#f7f7f7"
            ],
            [
             0.6,
             "#e6f5d0"
            ],
            [
             0.7,
             "#b8e186"
            ],
            [
             0.8,
             "#7fbc41"
            ],
            [
             0.9,
             "#4d9221"
            ],
            [
             1,
             "#276419"
            ]
           ],
           "sequential": [
            [
             0,
             "#0d0887"
            ],
            [
             0.1111111111111111,
             "#46039f"
            ],
            [
             0.2222222222222222,
             "#7201a8"
            ],
            [
             0.3333333333333333,
             "#9c179e"
            ],
            [
             0.4444444444444444,
             "#bd3786"
            ],
            [
             0.5555555555555556,
             "#d8576b"
            ],
            [
             0.6666666666666666,
             "#ed7953"
            ],
            [
             0.7777777777777778,
             "#fb9f3a"
            ],
            [
             0.8888888888888888,
             "#fdca26"
            ],
            [
             1,
             "#f0f921"
            ]
           ],
           "sequentialminus": [
            [
             0,
             "#0d0887"
            ],
            [
             0.1111111111111111,
             "#46039f"
            ],
            [
             0.2222222222222222,
             "#7201a8"
            ],
            [
             0.3333333333333333,
             "#9c179e"
            ],
            [
             0.4444444444444444,
             "#bd3786"
            ],
            [
             0.5555555555555556,
             "#d8576b"
            ],
            [
             0.6666666666666666,
             "#ed7953"
            ],
            [
             0.7777777777777778,
             "#fb9f3a"
            ],
            [
             0.8888888888888888,
             "#fdca26"
            ],
            [
             1,
             "#f0f921"
            ]
           ]
          },
          "colorway": [
           "#636efa",
           "#EF553B",
           "#00cc96",
           "#ab63fa",
           "#FFA15A",
           "#19d3f3",
           "#FF6692",
           "#B6E880",
           "#FF97FF",
           "#FECB52"
          ],
          "font": {
           "color": "#2a3f5f"
          },
          "geo": {
           "bgcolor": "white",
           "lakecolor": "white",
           "landcolor": "#E5ECF6",
           "showlakes": true,
           "showland": true,
           "subunitcolor": "white"
          },
          "hoverlabel": {
           "align": "left"
          },
          "hovermode": "closest",
          "mapbox": {
           "style": "light"
          },
          "paper_bgcolor": "white",
          "plot_bgcolor": "#E5ECF6",
          "polar": {
           "angularaxis": {
            "gridcolor": "white",
            "linecolor": "white",
            "ticks": ""
           },
           "bgcolor": "#E5ECF6",
           "radialaxis": {
            "gridcolor": "white",
            "linecolor": "white",
            "ticks": ""
           }
          },
          "scene": {
           "xaxis": {
            "backgroundcolor": "#E5ECF6",
            "gridcolor": "white",
            "gridwidth": 2,
            "linecolor": "white",
            "showbackground": true,
            "ticks": "",
            "zerolinecolor": "white"
           },
           "yaxis": {
            "backgroundcolor": "#E5ECF6",
            "gridcolor": "white",
            "gridwidth": 2,
            "linecolor": "white",
            "showbackground": true,
            "ticks": "",
            "zerolinecolor": "white"
           },
           "zaxis": {
            "backgroundcolor": "#E5ECF6",
            "gridcolor": "white",
            "gridwidth": 2,
            "linecolor": "white",
            "showbackground": true,
            "ticks": "",
            "zerolinecolor": "white"
           }
          },
          "shapedefaults": {
           "line": {
            "color": "#2a3f5f"
           }
          },
          "ternary": {
           "aaxis": {
            "gridcolor": "white",
            "linecolor": "white",
            "ticks": ""
           },
           "baxis": {
            "gridcolor": "white",
            "linecolor": "white",
            "ticks": ""
           },
           "bgcolor": "#E5ECF6",
           "caxis": {
            "gridcolor": "white",
            "linecolor": "white",
            "ticks": ""
           }
          },
          "title": {
           "x": 0.05
          },
          "xaxis": {
           "automargin": true,
           "gridcolor": "white",
           "linecolor": "white",
           "ticks": "",
           "title": {
            "standoff": 15
           },
           "zerolinecolor": "white",
           "zerolinewidth": 2
          },
          "yaxis": {
           "automargin": true,
           "gridcolor": "white",
           "linecolor": "white",
           "ticks": "",
           "title": {
            "standoff": 15
           },
           "zerolinecolor": "white",
           "zerolinewidth": 2
          }
         }
        },
        "title": {
         "text": "Représentation des votes (% exprimés) par bureau de vote"
        }
       }
      },
      "text/html": [
       "<div>                            <div id=\"b876c0dc-2edb-4117-bc21-08d074501914\" class=\"plotly-graph-div\" style=\"height:525px; width:100%;\"></div>            <script type=\"text/javascript\">                require([\"plotly\"], function(Plotly) {                    window.PLOTLYENV=window.PLOTLYENV || {};                                    if (document.getElementById(\"b876c0dc-2edb-4117-bc21-08d074501914\")) {                    Plotly.newPlot(                        \"b876c0dc-2edb-4117-bc21-08d074501914\",                        [{\"hovertemplate\":\"Commune: %{hovertext}\\u003cbr\\u003eOlivier V\\u00e9ran: %{x:.2f}\\u003cbr\\u003eHugo Pr\\u00e9vost: %{y:.2f}\\u003cbr\\u003eAlexandre Lacroix: %{z:.2f}\\u003cbr\\u003eInscrits: %{customdata[0]}\\u003cbr\\u003e\",\"hovertext\":[\"Bernin\",\"Bernin\",\"Bernin\",\"Biviers\",\"Biviers\",\"Corenc\",\"Corenc\",\"Corenc\",\"Grenoble\",\"Grenoble\",\"Grenoble\",\"Grenoble\",\"Grenoble\",\"Grenoble\",\"Grenoble\",\"Grenoble\",\"Grenoble\",\"Grenoble\",\"Grenoble\",\"Grenoble\",\"Grenoble\",\"Grenoble\",\"Grenoble\",\"Grenoble\",\"Grenoble\",\"Grenoble\",\"Grenoble\",\"Grenoble\",\"Grenoble\",\"Grenoble\",\"Grenoble\",\"Grenoble\",\"Grenoble\",\"Grenoble\",\"Grenoble\",\"Grenoble\",\"Grenoble\",\"Grenoble\",\"Grenoble\",\"Grenoble\",\"Grenoble\",\"Grenoble\",\"Grenoble\",\"Grenoble\",\"Grenoble\",\"Grenoble\",\"Grenoble\",\"Grenoble\",\"Grenoble\",\"Grenoble\",\"Grenoble\",\"Meylan\",\"Meylan\",\"Meylan\",\"Meylan\",\"Meylan\",\"Meylan\",\"Meylan\",\"Meylan\",\"Meylan\",\"Meylan\",\"Meylan\",\"Meylan\",\"Meylan\",\"Meylan\",\"Meylan\",\"Meylan\",\"Montbonnot-Saint-Martin\",\"Montbonnot-Saint-Martin\",\"Montbonnot-Saint-Martin\",\"Montbonnot-Saint-Martin\",\"Montbonnot-Saint-Martin\",\"Saint-Ismier\",\"Saint-Ismier\",\"Saint-Ismier\",\"Saint-Ismier\",\"Saint-Ismier\",\"Saint-Ismier\",\"Saint-Ismier\",\"Saint-Nazaire-les-Eymes\",\"Saint-Nazaire-les-Eymes\",\"Saint-Nazaire-les-Eymes\",\"Le Sappey-en-Chartreuse\",\"La Tronche\",\"La Tronche\",\"La Tronche\",\"La Tronche\"],\"legendgroup\":\"\",\"marker\":{\"color\":[26.81,26.04,25.86,19.88,20.61,29.47,30.27,25.51,55.48,67.48,45.41,53.98,40.07,61.95,51.98,64.52,66.08,69.83,52.07,46.35,55.14,57.73,57.79,62.94,51.97,53.82,61.17,62.3,56.52,56.04,53.03,53.53,58.67,45.05,60.48,56.23,53.79,51.52,45.45,44.68,49.43,64.29,51.86,62.25,52.45,59.06,56.81,60.18,54.68,53.16,56.07,34.01,35.87,40.94,33.52,35.36,32.83,39.37,36.17,26.06,24.77,20.54,52.23,24.74,43.39,16.09,29.5,21.03,24.74,21.05,27.68,24.63,21.46,23.29,21.99,19.06,18.83,23.29,23.78,18.48,24.78,27.31,52.32,44.13,35.77,44.47,42.39],\"coloraxis\":\"coloraxis\",\"size\":[965,992,980,1036,1032,1143,1207,1085,1168,1018,1022,1158,1171,1148,1018,787,966,1052,972,848,905,928,1144,1025,1111,1079,1135,863,1066,833,1002,1233,1135,1140,828,975,712,965,994,1070,947,217,1011,1031,1029,1059,1127,1148,974,1139,947,936,860,959,805,803,917,855,870,834,833,884,902,976,934,999,1008,714,1082,689,1005,864,927,801,889,829,788,774,1003,849,726,850,1009,1070,1103,1069,923],\"sizemode\":\"area\",\"sizeref\":3.0825,\"symbol\":\"circle\"},\"mode\":\"markers\",\"name\":\"\",\"scene\":\"scene\",\"showlegend\":false,\"x\":[52.36,53.73,49.11,60.0,55.46,53.48,51.57,57.37,31.47,22.22,39.07,35.32,45.39,29.81,32.78,24.01,23.16,22.4,34.45,40.12,31.42,31.63,28.22,16.58,34.21,31.16,19.87,15.12,21.81,21.26,30.58,30.94,26.53,38.14,21.88,25.92,25.69,34.16,37.05,41.46,38.39,19.64,34.53,28.06,36.89,29.16,29.1,28.6,27.0,27.47,26.45,46.02,45.24,40.03,43.09,45.69,48.04,41.81,45.29,54.09,53.47,59.21,27.39,60.32,37.93,60.28,46.43,57.2,53.64,56.84,43.83,56.57,59.74,61.96,55.87,63.13,53.5,50.61,50.27,58.65,49.91,45.8,33.89,41.16,52.53,38.35,39.3],\"y\":[26.81,26.04,25.86,19.88,20.61,29.47,30.27,25.51,55.48,67.48,45.41,53.98,40.07,61.95,51.98,64.52,66.08,69.83,52.07,46.35,55.14,57.73,57.79,62.94,51.97,53.82,61.17,62.3,56.52,56.04,53.03,53.53,58.67,45.05,60.48,56.23,53.79,51.52,45.45,44.68,49.43,64.29,51.86,62.25,52.45,59.06,56.81,60.18,54.68,53.16,56.07,34.01,35.87,40.94,33.52,35.36,32.83,39.37,36.17,26.06,24.77,20.54,52.23,24.74,43.39,16.09,29.5,21.03,24.74,21.05,27.68,24.63,21.46,23.29,21.99,19.06,18.83,23.29,23.78,18.48,24.78,27.31,52.32,44.13,35.77,44.47,42.39],\"z\":[20.83,20.23,25.03,20.12,23.93,17.04,18.16,17.13,13.05,10.3,15.52,10.7,14.54,8.24,15.24,11.47,10.77,7.77,13.48,13.53,13.44,10.64,13.99,20.47,13.83,15.02,18.96,22.58,21.68,22.7,16.39,15.52,14.8,16.81,17.65,17.85,20.52,14.33,17.49,13.86,12.18,16.07,13.61,9.68,10.66,11.79,14.09,11.22,18.32,19.37,17.49,19.97,18.89,19.03,23.39,18.95,19.13,18.82,18.55,19.85,21.75,20.24,20.38,14.95,18.68,23.63,24.07,21.77,21.62,22.11,28.49,18.81,18.81,14.75,22.14,17.81,27.67,26.09,25.95,22.87,25.31,26.88,13.79,14.71,11.7,17.18,18.31],\"type\":\"scatter3d\",\"customdata\":[[965],[992],[980],[1036],[1032],[1143],[1207],[1085],[1168],[1018],[1022],[1158],[1171],[1148],[1018],[787],[966],[1052],[972],[848],[905],[928],[1144],[1025],[1111],[1079],[1135],[863],[1066],[833],[1002],[1233],[1135],[1140],[828],[975],[712],[965],[994],[1070],[947],[217],[1011],[1031],[1029],[1059],[1127],[1148],[974],[1139],[947],[936],[860],[959],[805],[803],[917],[855],[870],[834],[833],[884],[902],[976],[934],[999],[1008],[714],[1082],[689],[1005],[864],[927],[801],[889],[829],[788],[774],[1003],[849],[726],[850],[1009],[1070],[1103],[1069],[923]]}],                        {\"template\":{\"data\":{\"histogram2dcontour\":[{\"type\":\"histogram2dcontour\",\"colorbar\":{\"outlinewidth\":0,\"ticks\":\"\"},\"colorscale\":[[0.0,\"#0d0887\"],[0.1111111111111111,\"#46039f\"],[0.2222222222222222,\"#7201a8\"],[0.3333333333333333,\"#9c179e\"],[0.4444444444444444,\"#bd3786\"],[0.5555555555555556,\"#d8576b\"],[0.6666666666666666,\"#ed7953\"],[0.7777777777777778,\"#fb9f3a\"],[0.8888888888888888,\"#fdca26\"],[1.0,\"#f0f921\"]]}],\"choropleth\":[{\"type\":\"choropleth\",\"colorbar\":{\"outlinewidth\":0,\"ticks\":\"\"}}],\"histogram2d\":[{\"type\":\"histogram2d\",\"colorbar\":{\"outlinewidth\":0,\"ticks\":\"\"},\"colorscale\":[[0.0,\"#0d0887\"],[0.1111111111111111,\"#46039f\"],[0.2222222222222222,\"#7201a8\"],[0.3333333333333333,\"#9c179e\"],[0.4444444444444444,\"#bd3786\"],[0.5555555555555556,\"#d8576b\"],[0.6666666666666666,\"#ed7953\"],[0.7777777777777778,\"#fb9f3a\"],[0.8888888888888888,\"#fdca26\"],[1.0,\"#f0f921\"]]}],\"heatmap\":[{\"type\":\"heatmap\",\"colorbar\":{\"outlinewidth\":0,\"ticks\":\"\"},\"colorscale\":[[0.0,\"#0d0887\"],[0.1111111111111111,\"#46039f\"],[0.2222222222222222,\"#7201a8\"],[0.3333333333333333,\"#9c179e\"],[0.4444444444444444,\"#bd3786\"],[0.5555555555555556,\"#d8576b\"],[0.6666666666666666,\"#ed7953\"],[0.7777777777777778,\"#fb9f3a\"],[0.8888888888888888,\"#fdca26\"],[1.0,\"#f0f921\"]]}],\"heatmapgl\":[{\"type\":\"heatmapgl\",\"colorbar\":{\"outlinewidth\":0,\"ticks\":\"\"},\"colorscale\":[[0.0,\"#0d0887\"],[0.1111111111111111,\"#46039f\"],[0.2222222222222222,\"#7201a8\"],[0.3333333333333333,\"#9c179e\"],[0.4444444444444444,\"#bd3786\"],[0.5555555555555556,\"#d8576b\"],[0.6666666666666666,\"#ed7953\"],[0.7777777777777778,\"#fb9f3a\"],[0.8888888888888888,\"#fdca26\"],[1.0,\"#f0f921\"]]}],\"contourcarpet\":[{\"type\":\"contourcarpet\",\"colorbar\":{\"outlinewidth\":0,\"ticks\":\"\"}}],\"contour\":[{\"type\":\"contour\",\"colorbar\":{\"outlinewidth\":0,\"ticks\":\"\"},\"colorscale\":[[0.0,\"#0d0887\"],[0.1111111111111111,\"#46039f\"],[0.2222222222222222,\"#7201a8\"],[0.3333333333333333,\"#9c179e\"],[0.4444444444444444,\"#bd3786\"],[0.5555555555555556,\"#d8576b\"],[0.6666666666666666,\"#ed7953\"],[0.7777777777777778,\"#fb9f3a\"],[0.8888888888888888,\"#fdca26\"],[1.0,\"#f0f921\"]]}],\"surface\":[{\"type\":\"surface\",\"colorbar\":{\"outlinewidth\":0,\"ticks\":\"\"},\"colorscale\":[[0.0,\"#0d0887\"],[0.1111111111111111,\"#46039f\"],[0.2222222222222222,\"#7201a8\"],[0.3333333333333333,\"#9c179e\"],[0.4444444444444444,\"#bd3786\"],[0.5555555555555556,\"#d8576b\"],[0.6666666666666666,\"#ed7953\"],[0.7777777777777778,\"#fb9f3a\"],[0.8888888888888888,\"#fdca26\"],[1.0,\"#f0f921\"]]}],\"mesh3d\":[{\"type\":\"mesh3d\",\"colorbar\":{\"outlinewidth\":0,\"ticks\":\"\"}}],\"scatter\":[{\"fillpattern\":{\"fillmode\":\"overlay\",\"size\":10,\"solidity\":0.2},\"type\":\"scatter\"}],\"parcoords\":[{\"type\":\"parcoords\",\"line\":{\"colorbar\":{\"outlinewidth\":0,\"ticks\":\"\"}}}],\"scatterpolargl\":[{\"type\":\"scatterpolargl\",\"marker\":{\"colorbar\":{\"outlinewidth\":0,\"ticks\":\"\"}}}],\"bar\":[{\"error_x\":{\"color\":\"#2a3f5f\"},\"error_y\":{\"color\":\"#2a3f5f\"},\"marker\":{\"line\":{\"color\":\"#E5ECF6\",\"width\":0.5},\"pattern\":{\"fillmode\":\"overlay\",\"size\":10,\"solidity\":0.2}},\"type\":\"bar\"}],\"scattergeo\":[{\"type\":\"scattergeo\",\"marker\":{\"colorbar\":{\"outlinewidth\":0,\"ticks\":\"\"}}}],\"scatterpolar\":[{\"type\":\"scatterpolar\",\"marker\":{\"colorbar\":{\"outlinewidth\":0,\"ticks\":\"\"}}}],\"histogram\":[{\"marker\":{\"pattern\":{\"fillmode\":\"overlay\",\"size\":10,\"solidity\":0.2}},\"type\":\"histogram\"}],\"scattergl\":[{\"type\":\"scattergl\",\"marker\":{\"colorbar\":{\"outlinewidth\":0,\"ticks\":\"\"}}}],\"scatter3d\":[{\"type\":\"scatter3d\",\"line\":{\"colorbar\":{\"outlinewidth\":0,\"ticks\":\"\"}},\"marker\":{\"colorbar\":{\"outlinewidth\":0,\"ticks\":\"\"}}}],\"scattermapbox\":[{\"type\":\"scattermapbox\",\"marker\":{\"colorbar\":{\"outlinewidth\":0,\"ticks\":\"\"}}}],\"scatterternary\":[{\"type\":\"scatterternary\",\"marker\":{\"colorbar\":{\"outlinewidth\":0,\"ticks\":\"\"}}}],\"scattercarpet\":[{\"type\":\"scattercarpet\",\"marker\":{\"colorbar\":{\"outlinewidth\":0,\"ticks\":\"\"}}}],\"carpet\":[{\"aaxis\":{\"endlinecolor\":\"#2a3f5f\",\"gridcolor\":\"white\",\"linecolor\":\"white\",\"minorgridcolor\":\"white\",\"startlinecolor\":\"#2a3f5f\"},\"baxis\":{\"endlinecolor\":\"#2a3f5f\",\"gridcolor\":\"white\",\"linecolor\":\"white\",\"minorgridcolor\":\"white\",\"startlinecolor\":\"#2a3f5f\"},\"type\":\"carpet\"}],\"table\":[{\"cells\":{\"fill\":{\"color\":\"#EBF0F8\"},\"line\":{\"color\":\"white\"}},\"header\":{\"fill\":{\"color\":\"#C8D4E3\"},\"line\":{\"color\":\"white\"}},\"type\":\"table\"}],\"barpolar\":[{\"marker\":{\"line\":{\"color\":\"#E5ECF6\",\"width\":0.5},\"pattern\":{\"fillmode\":\"overlay\",\"size\":10,\"solidity\":0.2}},\"type\":\"barpolar\"}],\"pie\":[{\"automargin\":true,\"type\":\"pie\"}]},\"layout\":{\"autotypenumbers\":\"strict\",\"colorway\":[\"#636efa\",\"#EF553B\",\"#00cc96\",\"#ab63fa\",\"#FFA15A\",\"#19d3f3\",\"#FF6692\",\"#B6E880\",\"#FF97FF\",\"#FECB52\"],\"font\":{\"color\":\"#2a3f5f\"},\"hovermode\":\"closest\",\"hoverlabel\":{\"align\":\"left\"},\"paper_bgcolor\":\"white\",\"plot_bgcolor\":\"#E5ECF6\",\"polar\":{\"bgcolor\":\"#E5ECF6\",\"angularaxis\":{\"gridcolor\":\"white\",\"linecolor\":\"white\",\"ticks\":\"\"},\"radialaxis\":{\"gridcolor\":\"white\",\"linecolor\":\"white\",\"ticks\":\"\"}},\"ternary\":{\"bgcolor\":\"#E5ECF6\",\"aaxis\":{\"gridcolor\":\"white\",\"linecolor\":\"white\",\"ticks\":\"\"},\"baxis\":{\"gridcolor\":\"white\",\"linecolor\":\"white\",\"ticks\":\"\"},\"caxis\":{\"gridcolor\":\"white\",\"linecolor\":\"white\",\"ticks\":\"\"}},\"coloraxis\":{\"colorbar\":{\"outlinewidth\":0,\"ticks\":\"\"}},\"colorscale\":{\"sequential\":[[0.0,\"#0d0887\"],[0.1111111111111111,\"#46039f\"],[0.2222222222222222,\"#7201a8\"],[0.3333333333333333,\"#9c179e\"],[0.4444444444444444,\"#bd3786\"],[0.5555555555555556,\"#d8576b\"],[0.6666666666666666,\"#ed7953\"],[0.7777777777777778,\"#fb9f3a\"],[0.8888888888888888,\"#fdca26\"],[1.0,\"#f0f921\"]],\"sequentialminus\":[[0.0,\"#0d0887\"],[0.1111111111111111,\"#46039f\"],[0.2222222222222222,\"#7201a8\"],[0.3333333333333333,\"#9c179e\"],[0.4444444444444444,\"#bd3786\"],[0.5555555555555556,\"#d8576b\"],[0.6666666666666666,\"#ed7953\"],[0.7777777777777778,\"#fb9f3a\"],[0.8888888888888888,\"#fdca26\"],[1.0,\"#f0f921\"]],\"diverging\":[[0,\"#8e0152\"],[0.1,\"#c51b7d\"],[0.2,\"#de77ae\"],[0.3,\"#f1b6da\"],[0.4,\"#fde0ef\"],[0.5,\"#f7f7f7\"],[0.6,\"#e6f5d0\"],[0.7,\"#b8e186\"],[0.8,\"#7fbc41\"],[0.9,\"#4d9221\"],[1,\"#276419\"]]},\"xaxis\":{\"gridcolor\":\"white\",\"linecolor\":\"white\",\"ticks\":\"\",\"title\":{\"standoff\":15},\"zerolinecolor\":\"white\",\"automargin\":true,\"zerolinewidth\":2},\"yaxis\":{\"gridcolor\":\"white\",\"linecolor\":\"white\",\"ticks\":\"\",\"title\":{\"standoff\":15},\"zerolinecolor\":\"white\",\"automargin\":true,\"zerolinewidth\":2},\"scene\":{\"xaxis\":{\"backgroundcolor\":\"#E5ECF6\",\"gridcolor\":\"white\",\"linecolor\":\"white\",\"showbackground\":true,\"ticks\":\"\",\"zerolinecolor\":\"white\",\"gridwidth\":2},\"yaxis\":{\"backgroundcolor\":\"#E5ECF6\",\"gridcolor\":\"white\",\"linecolor\":\"white\",\"showbackground\":true,\"ticks\":\"\",\"zerolinecolor\":\"white\",\"gridwidth\":2},\"zaxis\":{\"backgroundcolor\":\"#E5ECF6\",\"gridcolor\":\"white\",\"linecolor\":\"white\",\"showbackground\":true,\"ticks\":\"\",\"zerolinecolor\":\"white\",\"gridwidth\":2}},\"shapedefaults\":{\"line\":{\"color\":\"#2a3f5f\"}},\"annotationdefaults\":{\"arrowcolor\":\"#2a3f5f\",\"arrowhead\":0,\"arrowwidth\":1},\"geo\":{\"bgcolor\":\"white\",\"landcolor\":\"#E5ECF6\",\"subunitcolor\":\"white\",\"showland\":true,\"showlakes\":true,\"lakecolor\":\"white\"},\"title\":{\"x\":0.05},\"mapbox\":{\"style\":\"light\"}}},\"scene\":{\"domain\":{\"x\":[0.0,1.0],\"y\":[0.0,1.0]},\"xaxis\":{\"title\":{\"text\":\"LREM (%)\"}},\"yaxis\":{\"title\":{\"text\":\"NFP (%)\"}},\"zaxis\":{\"title\":{\"text\":\"UXD (%)\"}}},\"coloraxis\":{\"colorbar\":{\"title\":{\"text\":\"Vote NFP (%)\"}},\"colorscale\":[[0.0,\"rgb(255,255,204)\"],[0.125,\"rgb(255,237,160)\"],[0.25,\"rgb(254,217,118)\"],[0.375,\"rgb(254,178,76)\"],[0.5,\"rgb(253,141,60)\"],[0.625,\"rgb(252,78,42)\"],[0.75,\"rgb(227,26,28)\"],[0.875,\"rgb(189,0,38)\"],[1.0,\"rgb(128,0,38)\"]]},\"legend\":{\"tracegroupgap\":0,\"itemsizing\":\"constant\"},\"title\":{\"text\":\"Repr\\u00e9sentation des votes (% exprim\\u00e9s) par bureau de vote\"}},                        {\"responsive\": true}                    ).then(function(){\n",
       "                            \n",
       "var gd = document.getElementById('b876c0dc-2edb-4117-bc21-08d074501914');\n",
       "var x = new MutationObserver(function (mutations, observer) {{\n",
       "        var display = window.getComputedStyle(gd).display;\n",
       "        if (!display || display === 'none') {{\n",
       "            console.log([gd, 'removed!']);\n",
       "            Plotly.purge(gd);\n",
       "            observer.disconnect();\n",
       "        }}\n",
       "}});\n",
       "\n",
       "// Listen for the removal of the full notebook cells\n",
       "var notebookContainer = gd.closest('#notebook-container');\n",
       "if (notebookContainer) {{\n",
       "    x.observe(notebookContainer, {childList: true});\n",
       "}}\n",
       "\n",
       "// Listen for the clearing of the current output cell\n",
       "var outputEl = gd.closest('.output');\n",
       "if (outputEl) {{\n",
       "    x.observe(outputEl, {childList: true});\n",
       "}}\n",
       "\n",
       "                        })                };                });            </script>        </div>"
      ]
     },
     "metadata": {},
     "output_type": "display_data"
    }
   ],
   "source": [
    "#Représentation 2nd tour législatives (% suffrages exprimés) \n",
    "\n",
    "# Visualisation en 3D avec la colonne Couleur\n",
    "manip = df.copy() \n",
    "manip['Vote NFP (%)'] = manip['% VEXP_UG_LegiT2']\n",
    "\n",
    "fig = px.scatter_3d(\n",
    "    manip,\n",
    "    x='% VEXP_LREM_LegiT2',         # Proportion pour Olivier Véran\n",
    "    y='% VEXP_UG_LegiT2',           # Proportion pour Hugo Prévost\n",
    "    z='% VEXP_UXD_LegiT2',          # Proportion pour Alexandre Lacroix\n",
    "    color='Vote NFP (%)',                # Intensité couleur selon la colonne créée\n",
    "    color_continuous_scale=px.colors.sequential.YlOrRd,  # Dégradé de jaune à rouge\n",
    "    size='Inscrits_LegiT1',         # Taille des points selon le nombre total d'inscrits\n",
    "    hover_name='Libellé commune',   # Nom de la commune\n",
    "    title=\"Représentation des votes (% exprimés) par bureau de vote\"\n",
    ")\n",
    "\n",
    "# Ajouter un hovertemplate pour personnaliser les info-bulles\n",
    "fig.update_traces(\n",
    "    hovertemplate=(\n",
    "        'Commune: %{hovertext}<br>' +\n",
    "        'Olivier Véran: %{x:.2f}<br>' +\n",
    "        'Hugo Prévost: %{y:.2f}<br>' +\n",
    "        'Alexandre Lacroix: %{z:.2f}<br>' +\n",
    "        'Inscrits: %{customdata[0]}<br>'\n",
    "    ),\n",
    "    customdata=df[['Inscrits_LegiT1']].values,  # Ajouter les inscrits comme données personnalisées\n",
    ")\n",
    "\n",
    "\n",
    "# Personnalisation des axes\n",
    "fig.update_layout(scene=dict(\n",
    "    xaxis_title=\"LREM (%)\",\n",
    "    yaxis_title=\"NFP (%)\",\n",
    "    zaxis_title=\"UXD (%)\"\n",
    "))\n",
    "\n",
    "# Supprimer la barre de dégradé (color bar)\n",
    "fig.write_html(\"graphiques/votes_BV_LEGIT2.html\")\n",
    "\n",
    "# Afficher le graphique \n",
    "fig.show()"
   ]
  },
  {
   "cell_type": "markdown",
   "id": "465e54c8-edd6-48c1-93b8-0798593f7093",
   "metadata": {},
   "source": [
    "### Report de voix entre législatives et européennes\n",
    "\n",
    "Plusieurs régerssions linéaires avec poids (pour tenir compte des différents tailles de bureaux de vote) va être effectuée en prenant le nombre absolue de votant mais également le score en pourcentage (des isncrits, ainsi que exprimés). \n",
    "\n",
    "On va s'intéresser notamment au report de voix des électeurs de la liste PS-PP, ont-ils préféré NFP-LFI ou LREM ?\n",
    "\n",
    "Le poids sera fixé sur le nombre d'inscrits au premier tour des législatives de 2024 (les variations sont faibles entre les élections)"
   ]
  },
  {
   "cell_type": "code",
   "execution_count": 270,
   "id": "3f742a14-756a-4c98-bf80-1a3d6f7071af",
   "metadata": {},
   "outputs": [
    {
     "name": "stdout",
     "output_type": "stream",
     "text": [
      "                            WLS Regression Results                            \n",
      "==============================================================================\n",
      "Dep. Variable:           Voix_PP_Euro   R-squared:                       0.058\n",
      "Model:                            WLS   Adj. R-squared:                  0.047\n",
      "Method:                 Least Squares   F-statistic:                     5.210\n",
      "Date:                Thu, 31 Oct 2024   Prob (F-statistic):             0.0250\n",
      "Time:                        17:36:43   Log-Likelihood:                -434.46\n",
      "No. Observations:                  87   AIC:                             872.9\n",
      "Df Residuals:                      85   BIC:                             877.9\n",
      "Df Model:                           1                                         \n",
      "Covariance Type:            nonrobust                                         \n",
      "====================================================================================\n",
      "                       coef    std err          t      P>|t|      [0.025      0.975]\n",
      "------------------------------------------------------------------------------------\n",
      "const              106.9179     12.363      8.648      0.000      82.336     131.500\n",
      "Voix_LREM_LegiT1     0.1090      0.048      2.283      0.025       0.014       0.204\n",
      "==============================================================================\n",
      "Omnibus:                        1.376   Durbin-Watson:                   1.220\n",
      "Prob(Omnibus):                  0.503   Jarque-Bera (JB):                1.433\n",
      "Skew:                           0.277   Prob(JB):                        0.489\n",
      "Kurtosis:                       2.704   Cond. No.                         834.\n",
      "==============================================================================\n",
      "\n",
      "Notes:\n",
      "[1] Standard Errors assume that the covariance matrix of the errors is correctly specified.\n"
     ]
    }
   ],
   "source": [
    "#PS-PP\n",
    "#Lien nombre de voix\n",
    "X = df[['Voix_LREM_LegiT1']]\n",
    "X = sm.add_constant(X) \n",
    "\n",
    "Y = df['Voix_PP_Euro']\n",
    "\n",
    "weights = df['Inscrits_LegiT1']\n",
    "\n",
    "model = sm.WLS(Y, X, weights=weights).fit() \n",
    "print(model.summary())"
   ]
  },
  {
   "cell_type": "code",
   "execution_count": 85,
   "id": "61d48d07-0b92-4d96-a3b8-1b2dd15f8635",
   "metadata": {},
   "outputs": [
    {
     "name": "stdout",
     "output_type": "stream",
     "text": [
      "                            WLS Regression Results                            \n",
      "==============================================================================\n",
      "Dep. Variable:           Voix_PP_Euro   R-squared:                       0.328\n",
      "Model:                            WLS   Adj. R-squared:                  0.320\n",
      "Method:                 Least Squares   F-statistic:                     41.55\n",
      "Date:                Thu, 31 Oct 2024   Prob (F-statistic):           6.65e-09\n",
      "Time:                        14:17:01   Log-Likelihood:                -419.74\n",
      "No. Observations:                  87   AIC:                             843.5\n",
      "Df Residuals:                      85   BIC:                             848.4\n",
      "Df Model:                           1                                         \n",
      "Covariance Type:            nonrobust                                         \n",
      "==================================================================================\n",
      "                     coef    std err          t      P>|t|      [0.025      0.975]\n",
      "----------------------------------------------------------------------------------\n",
      "const             81.3415      8.752      9.294      0.000      63.940      98.743\n",
      "Voix_UG_LegiT1     0.1737      0.027      6.446      0.000       0.120       0.227\n",
      "==============================================================================\n",
      "Omnibus:                       16.796   Durbin-Watson:                   1.451\n",
      "Prob(Omnibus):                  0.000   Jarque-Bera (JB):               26.151\n",
      "Skew:                          -0.799   Prob(JB):                     2.10e-06\n",
      "Kurtosis:                       5.158   Cond. No.                         877.\n",
      "==============================================================================\n",
      "\n",
      "Notes:\n",
      "[1] Standard Errors assume that the covariance matrix of the errors is correctly specified.\n"
     ]
    }
   ],
   "source": [
    "X = df[['Voix_UG_LegiT1']]\n",
    "X = sm.add_constant(X) \n",
    "\n",
    "Y = df['Voix_PP_Euro']\n",
    "\n",
    "weights = df['Inscrits_LegiT1']\n",
    "\n",
    "model = sm.WLS(Y, X, weights=weights).fit() \n",
    "print(model.summary())"
   ]
  },
  {
   "cell_type": "markdown",
   "id": "5a5c1e86-ed28-4383-8212-e88be37ec23e",
   "metadata": {},
   "source": [
    "Une voix supplémentaire pour LREM dans un bureau de vote est corrélé à 0,11 voix supplémentaires pour la liste PS-PP aux européennes (alors qu'une voix supplémentaire pour le NFP augmente ces voix de 0,17). "
   ]
  },
  {
   "cell_type": "code",
   "execution_count": 87,
   "id": "3f6cf116-32bd-4d14-9083-936083be2bd8",
   "metadata": {},
   "outputs": [
    {
     "name": "stdout",
     "output_type": "stream",
     "text": [
      "                            WLS Regression Results                            \n",
      "==============================================================================\n",
      "Dep. Variable:        % VINSC_PP_Euro   R-squared:                       0.014\n",
      "Model:                            WLS   Adj. R-squared:                  0.002\n",
      "Method:                 Least Squares   F-statistic:                     1.198\n",
      "Date:                Thu, 31 Oct 2024   Prob (F-statistic):              0.277\n",
      "Time:                        14:17:51   Log-Likelihood:                -217.05\n",
      "No. Observations:                  87   AIC:                             438.1\n",
      "Df Residuals:                      85   BIC:                             443.0\n",
      "Df Model:                           1                                         \n",
      "Covariance Type:            nonrobust                                         \n",
      "=======================================================================================\n",
      "                          coef    std err          t      P>|t|      [0.025      0.975]\n",
      "---------------------------------------------------------------------------------------\n",
      "const                  12.3845      0.993     12.477      0.000      10.411      14.358\n",
      "% VINSC_LREM_LegiT1     0.0410      0.037      1.094      0.277      -0.033       0.115\n",
      "==============================================================================\n",
      "Omnibus:                        5.382   Durbin-Watson:                   1.454\n",
      "Prob(Omnibus):                  0.068   Jarque-Bera (JB):                6.775\n",
      "Skew:                          -0.217   Prob(JB):                       0.0338\n",
      "Kurtosis:                       4.297   Cond. No.                         83.6\n",
      "==============================================================================\n",
      "\n",
      "Notes:\n",
      "[1] Standard Errors assume that the covariance matrix of the errors is correctly specified.\n"
     ]
    }
   ],
   "source": [
    "X = df[['% VINSC_LREM_LegiT1']]\n",
    "X = sm.add_constant(X) \n",
    "\n",
    "Y = df['% VINSC_PP_Euro']\n",
    "\n",
    "weights = df['Inscrits_LegiT1']\n",
    "\n",
    "model = sm.WLS(Y, X, weights=weights).fit() \n",
    "print(model.summary())"
   ]
  },
  {
   "cell_type": "code",
   "execution_count": 88,
   "id": "75b6ab31-dbb2-458e-a288-7266049b7b82",
   "metadata": {},
   "outputs": [
    {
     "name": "stdout",
     "output_type": "stream",
     "text": [
      "                            WLS Regression Results                            \n",
      "==============================================================================\n",
      "Dep. Variable:        % VINSC_PP_Euro   R-squared:                       0.115\n",
      "Model:                            WLS   Adj. R-squared:                  0.104\n",
      "Method:                 Least Squares   F-statistic:                     11.03\n",
      "Date:                Thu, 31 Oct 2024   Prob (F-statistic):            0.00132\n",
      "Time:                        14:18:14   Log-Likelihood:                -212.35\n",
      "No. Observations:                  87   AIC:                             428.7\n",
      "Df Residuals:                      85   BIC:                             433.6\n",
      "Df Model:                           1                                         \n",
      "Covariance Type:            nonrobust                                         \n",
      "=====================================================================================\n",
      "                        coef    std err          t      P>|t|      [0.025      0.975]\n",
      "-------------------------------------------------------------------------------------\n",
      "const                10.5277      0.919     11.455      0.000       8.700      12.355\n",
      "% VINSC_UG_LegiT1     0.0961      0.029      3.321      0.001       0.039       0.154\n",
      "==============================================================================\n",
      "Omnibus:                       24.990   Durbin-Watson:                   1.524\n",
      "Prob(Omnibus):                  0.000   Jarque-Bera (JB):               52.983\n",
      "Skew:                          -1.026   Prob(JB):                     3.12e-12\n",
      "Kurtosis:                       6.226   Cond. No.                         97.8\n",
      "==============================================================================\n",
      "\n",
      "Notes:\n",
      "[1] Standard Errors assume that the covariance matrix of the errors is correctly specified.\n"
     ]
    }
   ],
   "source": [
    "X = df[['% VINSC_UG_LegiT1']]\n",
    "X = sm.add_constant(X) \n",
    "\n",
    "Y = df['% VINSC_PP_Euro']\n",
    "\n",
    "weights = df['Inscrits_LegiT1']\n",
    "\n",
    "model = sm.WLS(Y, X, weights=weights).fit() \n",
    "print(model.summary())"
   ]
  },
  {
   "cell_type": "markdown",
   "id": "7d5d0e46-492d-4ba9-bdd7-a4c477809302",
   "metadata": {},
   "source": [
    "En proportion des inscrits, pas de corrélation significative entre le vote PS-PP aux européennes et le vote Véran, et 1% de score en + pour Prevost est corrélé avec 0.08% de score supplémentaire pour la liste PS-PP. Analysons l'effet de l'abstention : en effet, la participation varie selon les préférences politiques. Pour des raisons statistiques (problèmes de multicolinéarité), nous ne regardons que la proportion des inscrits et non la valeur absolue en terme de votant."
   ]
  },
  {
   "cell_type": "code",
   "execution_count": 92,
   "id": "70c212f4-18c0-40bf-921f-f90c06be41de",
   "metadata": {},
   "outputs": [
    {
     "name": "stdout",
     "output_type": "stream",
     "text": [
      "                            WLS Regression Results                            \n",
      "==============================================================================\n",
      "Dep. Variable:        % VINSC_PP_Euro   R-squared:                       0.486\n",
      "Model:                            WLS   Adj. R-squared:                  0.473\n",
      "Method:                 Least Squares   F-statistic:                     39.66\n",
      "Date:                Thu, 31 Oct 2024   Prob (F-statistic):           7.45e-13\n",
      "Time:                        14:20:15   Log-Likelihood:                -188.73\n",
      "No. Observations:                  87   AIC:                             383.5\n",
      "Df Residuals:                      84   BIC:                             390.9\n",
      "Df Model:                           2                                         \n",
      "Covariance Type:            nonrobust                                         \n",
      "========================================================================================\n",
      "                           coef    std err          t      P>|t|      [0.025      0.975]\n",
      "----------------------------------------------------------------------------------------\n",
      "const                   30.0086      2.133     14.066      0.000      25.766      34.251\n",
      "% VINSC_LREM_LegiT1     -0.1587      0.035     -4.476      0.000      -0.229      -0.088\n",
      "% Abstentions_LegiT1    -0.5222      0.059     -8.778      0.000      -0.640      -0.404\n",
      "==============================================================================\n",
      "Omnibus:                        0.088   Durbin-Watson:                   1.435\n",
      "Prob(Omnibus):                  0.957   Jarque-Bera (JB):                0.023\n",
      "Skew:                          -0.035   Prob(JB):                        0.989\n",
      "Kurtosis:                       2.962   Cond. No.                         328.\n",
      "==============================================================================\n",
      "\n",
      "Notes:\n",
      "[1] Standard Errors assume that the covariance matrix of the errors is correctly specified.\n"
     ]
    }
   ],
   "source": [
    "X = df[['% VINSC_LREM_LegiT1', '% Abstentions_LegiT1']]\n",
    "X = sm.add_constant(X) \n",
    "\n",
    "Y = df['% VINSC_PP_Euro']\n",
    "\n",
    "weights = df['Inscrits_LegiT1']\n",
    "\n",
    "model = sm.WLS(Y, X, weights=weights).fit() \n",
    "print(model.summary())"
   ]
  },
  {
   "cell_type": "code",
   "execution_count": 95,
   "id": "3a53f089-0e75-42d5-9ad2-fba2ca80938a",
   "metadata": {},
   "outputs": [
    {
     "name": "stdout",
     "output_type": "stream",
     "text": [
      "                            WLS Regression Results                            \n",
      "==============================================================================\n",
      "Dep. Variable:        % VINSC_PP_Euro   R-squared:                       0.578\n",
      "Model:                            WLS   Adj. R-squared:                  0.568\n",
      "Method:                 Least Squares   F-statistic:                     57.42\n",
      "Date:                Thu, 31 Oct 2024   Prob (F-statistic):           1.91e-16\n",
      "Time:                        14:20:54   Log-Likelihood:                -180.17\n",
      "No. Observations:                  87   AIC:                             366.3\n",
      "Df Residuals:                      84   BIC:                             373.7\n",
      "Df Model:                           2                                         \n",
      "Covariance Type:            nonrobust                                         \n",
      "========================================================================================\n",
      "                           coef    std err          t      P>|t|      [0.025      0.975]\n",
      "----------------------------------------------------------------------------------------\n",
      "const                   19.1503      1.103     17.366      0.000      16.957      21.343\n",
      "% VINSC_UG_LegiT1        0.1338      0.020      6.532      0.000       0.093       0.175\n",
      "% Abstentions_LegiT1    -0.4042      0.042     -9.592      0.000      -0.488      -0.320\n",
      "==============================================================================\n",
      "Omnibus:                        0.670   Durbin-Watson:                   1.524\n",
      "Prob(Omnibus):                  0.715   Jarque-Bera (JB):                0.245\n",
      "Skew:                          -0.054   Prob(JB):                        0.885\n",
      "Kurtosis:                       3.236   Cond. No.                         211.\n",
      "==============================================================================\n",
      "\n",
      "Notes:\n",
      "[1] Standard Errors assume that the covariance matrix of the errors is correctly specified.\n"
     ]
    }
   ],
   "source": [
    "X = df[['% VINSC_UG_LegiT1', '% Abstentions_LegiT1']]\n",
    "X = sm.add_constant(X) \n",
    "\n",
    "Y = df['% VINSC_PP_Euro']\n",
    "\n",
    "weights = df['Inscrits_LegiT1']\n",
    "\n",
    "model = sm.WLS(Y, X, weights=weights).fit() \n",
    "print(model.summary())"
   ]
  },
  {
   "cell_type": "markdown",
   "id": "0de39d10-9ddc-4a60-843d-ae5c8493ef66",
   "metadata": {},
   "source": [
    "Les électeurs de Glucksmann sont moins abstentionnistes. \n",
    "A abstention égale, 1% de vote supplémentaire parmi les innscrits pour la liste PS-PP est corrélée avec -0.16% de vote pour Véran au premier tour contre +0.13% pour Prevost. \n",
    "Vérifions si ces mêmes dynamiques sont observées au second tour. "
   ]
  },
  {
   "cell_type": "code",
   "execution_count": 96,
   "id": "b234ac5e-1958-4bdb-8a2d-9047a3930a2f",
   "metadata": {},
   "outputs": [
    {
     "name": "stdout",
     "output_type": "stream",
     "text": [
      "                            WLS Regression Results                            \n",
      "==============================================================================\n",
      "Dep. Variable:        % VINSC_PP_Euro   R-squared:                       0.477\n",
      "Model:                            WLS   Adj. R-squared:                  0.464\n",
      "Method:                 Least Squares   F-statistic:                     38.27\n",
      "Date:                Thu, 31 Oct 2024   Prob (F-statistic):           1.53e-12\n",
      "Time:                        14:21:23   Log-Likelihood:                -189.48\n",
      "No. Observations:                  87   AIC:                             385.0\n",
      "Df Residuals:                      84   BIC:                             392.4\n",
      "Df Model:                           2                                         \n",
      "Covariance Type:            nonrobust                                         \n",
      "========================================================================================\n",
      "                           coef    std err          t      P>|t|      [0.025      0.975]\n",
      "----------------------------------------------------------------------------------------\n",
      "const                   30.2709      2.153     14.060      0.000      25.989      34.552\n",
      "% VINSC_LREM_LegiT2     -0.1440      0.029     -4.885      0.000      -0.203      -0.085\n",
      "% Abstentions_LegiT2    -0.5157      0.060     -8.665      0.000      -0.634      -0.397\n",
      "==============================================================================\n",
      "Omnibus:                        2.095   Durbin-Watson:                   1.455\n",
      "Prob(Omnibus):                  0.351   Jarque-Bera (JB):                1.447\n",
      "Skew:                           0.237   Prob(JB):                        0.485\n",
      "Kurtosis:                       3.418   Cond. No.                         365.\n",
      "==============================================================================\n",
      "\n",
      "Notes:\n",
      "[1] Standard Errors assume that the covariance matrix of the errors is correctly specified.\n",
      "                            WLS Regression Results                            \n",
      "==============================================================================\n",
      "Dep. Variable:        % VINSC_PP_Euro   R-squared:                       0.568\n",
      "Model:                            WLS   Adj. R-squared:                  0.558\n",
      "Method:                 Least Squares   F-statistic:                     55.19\n",
      "Date:                Thu, 31 Oct 2024   Prob (F-statistic):           4.96e-16\n",
      "Time:                        14:21:23   Log-Likelihood:                -181.16\n",
      "No. Observations:                  87   AIC:                             368.3\n",
      "Df Residuals:                      84   BIC:                             375.7\n",
      "Df Model:                           2                                         \n",
      "Covariance Type:            nonrobust                                         \n",
      "========================================================================================\n",
      "                           coef    std err          t      P>|t|      [0.025      0.975]\n",
      "----------------------------------------------------------------------------------------\n",
      "const                   18.5450      1.076     17.228      0.000      16.404      20.686\n",
      "% VINSC_UG_LegiT2        0.1406      0.021      6.826      0.000       0.100       0.182\n",
      "% Abstentions_LegiT2    -0.3929      0.042     -9.447      0.000      -0.476      -0.310\n",
      "==============================================================================\n",
      "Omnibus:                        2.515   Durbin-Watson:                   1.638\n",
      "Prob(Omnibus):                  0.284   Jarque-Bera (JB):                1.879\n",
      "Skew:                           0.228   Prob(JB):                        0.391\n",
      "Kurtosis:                       3.556   Cond. No.                         210.\n",
      "==============================================================================\n",
      "\n",
      "Notes:\n",
      "[1] Standard Errors assume that the covariance matrix of the errors is correctly specified.\n"
     ]
    }
   ],
   "source": [
    "X = df[['% VINSC_LREM_LegiT2', '% Abstentions_LegiT2']]\n",
    "X = sm.add_constant(X) \n",
    "\n",
    "Y = df['% VINSC_PP_Euro']\n",
    "\n",
    "weights = df['Inscrits_LegiT1']\n",
    "\n",
    "model = sm.WLS(Y, X, weights=weights).fit() \n",
    "print(model.summary())\n",
    "\n",
    "X = df[['% VINSC_UG_LegiT2', '% Abstentions_LegiT2']]\n",
    "X = sm.add_constant(X) \n",
    "\n",
    "Y = df['% VINSC_PP_Euro']\n",
    "\n",
    "weights = df['Inscrits_LegiT1']\n",
    "\n",
    "model = sm.WLS(Y, X, weights=weights).fit() \n",
    "print(model.summary())"
   ]
  },
  {
   "cell_type": "markdown",
   "id": "34bc4924-f61c-41e6-baa7-2ef21ace0718",
   "metadata": {},
   "source": [
    "Une même dynamique est observée au deuxième tour\n",
    "\n",
    "__Conclusion : une candidature LFI ne semble pas particulièrement repoussoir pour un électeur de la liste PS-PP.__\n",
    "Bien que nous ignorons les reports exacts, cette corrélation semble suggérer davantage de lien entre un vote NFP-LFI / PS-PP qu'un vote LREM / PS-PP. Toutefois, il ne faut pas nécessairement interpréter ces résultats comme vrais dans la durée.\n",
    "\n",
    "Il faut garder en tête que l'abstention est un prédicteur plus fort du vote PS-PP aux européennes que le vote effectué lors des législatives.\n"
   ]
  },
  {
   "cell_type": "markdown",
   "id": "f36e35f3-8ee4-4b0a-b22c-904aae4f479f",
   "metadata": {},
   "source": [
    "### Effets du regain de participation \n",
    "\n",
    "Avons-nous observé un gain de participation dans la circonscription entre les élections ? Nous allons effectuer les démarches suivantes :\n",
    "- Analyse du différentiel de participation entre européennes / Législatives premier tour puis européennes / Législatives second tour\n",
    "- Observer la corrélation entre les votes pour les listes européennes et le différentiel d'abstention"
   ]
  },
  {
   "cell_type": "code",
   "execution_count": 119,
   "id": "453bd916-eb19-4149-89a9-23ddcca8d0b5",
   "metadata": {},
   "outputs": [],
   "source": [
    "df2 = df.copy()\n",
    "\n",
    "df2['% diff_participation_EUROT1'] = df2['% Votants_LegiT1'] - df2['% Votants_Euro']\n",
    "df2['% diff_participation_EUROT2'] = df2['% Votants_LegiT2'] - df2['% Votants_Euro']\n",
    "df2['% diff_participation_E2E'] = df2['% diff_participation_EUROT1'] - df2['% diff_participation_EUROT2'] #Diff entre deux tours"
   ]
  },
  {
   "cell_type": "code",
   "execution_count": 120,
   "id": "a005bcce-a260-4177-8210-7d0ad401eba6",
   "metadata": {},
   "outputs": [
    {
     "data": {
      "text/html": [
       "<div>\n",
       "<style scoped>\n",
       "    .dataframe tbody tr th:only-of-type {\n",
       "        vertical-align: middle;\n",
       "    }\n",
       "\n",
       "    .dataframe tbody tr th {\n",
       "        vertical-align: top;\n",
       "    }\n",
       "\n",
       "    .dataframe thead th {\n",
       "        text-align: right;\n",
       "    }\n",
       "</style>\n",
       "<table border=\"1\" class=\"dataframe\">\n",
       "  <thead>\n",
       "    <tr style=\"text-align: right;\">\n",
       "      <th></th>\n",
       "      <th>% diff_participation_EUROT1</th>\n",
       "      <th>% diff_participation_EUROT1</th>\n",
       "      <th>% diff_participation_E2E</th>\n",
       "    </tr>\n",
       "  </thead>\n",
       "  <tbody>\n",
       "    <tr>\n",
       "      <th>count</th>\n",
       "      <td>87.00000</td>\n",
       "      <td>87.00000</td>\n",
       "      <td>87.000000</td>\n",
       "    </tr>\n",
       "    <tr>\n",
       "      <th>mean</th>\n",
       "      <td>11.98000</td>\n",
       "      <td>11.98000</td>\n",
       "      <td>0.183103</td>\n",
       "    </tr>\n",
       "    <tr>\n",
       "      <th>std</th>\n",
       "      <td>2.42199</td>\n",
       "      <td>2.42199</td>\n",
       "      <td>1.313223</td>\n",
       "    </tr>\n",
       "    <tr>\n",
       "      <th>min</th>\n",
       "      <td>-2.01000</td>\n",
       "      <td>-2.01000</td>\n",
       "      <td>-2.620000</td>\n",
       "    </tr>\n",
       "    <tr>\n",
       "      <th>25%</th>\n",
       "      <td>10.87500</td>\n",
       "      <td>10.87500</td>\n",
       "      <td>-0.700000</td>\n",
       "    </tr>\n",
       "    <tr>\n",
       "      <th>50%</th>\n",
       "      <td>12.03000</td>\n",
       "      <td>12.03000</td>\n",
       "      <td>0.240000</td>\n",
       "    </tr>\n",
       "    <tr>\n",
       "      <th>75%</th>\n",
       "      <td>13.44500</td>\n",
       "      <td>13.44500</td>\n",
       "      <td>1.000000</td>\n",
       "    </tr>\n",
       "    <tr>\n",
       "      <th>max</th>\n",
       "      <td>16.38000</td>\n",
       "      <td>16.38000</td>\n",
       "      <td>3.920000</td>\n",
       "    </tr>\n",
       "  </tbody>\n",
       "</table>\n",
       "</div>"
      ],
      "text/plain": [
       "       % diff_participation_EUROT1  % diff_participation_EUROT1  \\\n",
       "count                     87.00000                     87.00000   \n",
       "mean                      11.98000                     11.98000   \n",
       "std                        2.42199                      2.42199   \n",
       "min                       -2.01000                     -2.01000   \n",
       "25%                       10.87500                     10.87500   \n",
       "50%                       12.03000                     12.03000   \n",
       "75%                       13.44500                     13.44500   \n",
       "max                       16.38000                     16.38000   \n",
       "\n",
       "       % diff_participation_E2E  \n",
       "count                 87.000000  \n",
       "mean                   0.183103  \n",
       "std                    1.313223  \n",
       "min                   -2.620000  \n",
       "25%                   -0.700000  \n",
       "50%                    0.240000  \n",
       "75%                    1.000000  \n",
       "max                    3.920000  "
      ]
     },
     "execution_count": 120,
     "metadata": {},
     "output_type": "execute_result"
    }
   ],
   "source": [
    "df2[['% diff_participation_EUROT1', '% diff_participation_EUROT1','% diff_participation_E2E']].describe()"
   ]
  },
  {
   "cell_type": "code",
   "execution_count": 115,
   "id": "0db7474b-4787-4454-9f60-c449357eb1d1",
   "metadata": {},
   "outputs": [
    {
     "name": "stderr",
     "output_type": "stream",
     "text": [
      "/tmp/ipykernel_10038/525668472.py:5: MatplotlibDeprecationWarning:\n",
      "\n",
      "The get_cmap function was deprecated in Matplotlib 3.7 and will be removed in 3.11. Use ``matplotlib.colormaps[name]`` or ``matplotlib.colormaps.get_cmap()`` or ``pyplot.get_cmap()`` instead.\n",
      "\n"
     ]
    },
    {
     "data": {
      "image/png": "[encoded data removed]",
      "text/plain": [
       "<Figure size 1000x600 with 1 Axes>"
      ]
     },
     "metadata": {},
     "output_type": "display_data"
    },
    {
     "name": "stderr",
     "output_type": "stream",
     "text": [
      "/tmp/ipykernel_10038/525668472.py:29: MatplotlibDeprecationWarning:\n",
      "\n",
      "The get_cmap function was deprecated in Matplotlib 3.7 and will be removed in 3.11. Use ``matplotlib.colormaps[name]`` or ``matplotlib.colormaps.get_cmap()`` or ``pyplot.get_cmap()`` instead.\n",
      "\n"
     ]
    },
    {
     "data": {
      "image/png": "[encoded data removed]",
      "text/plain": [
       "<Figure size 1000x600 with 1 Axes>"
      ]
     },
     "metadata": {},
     "output_type": "display_data"
    }
   ],
   "source": [
    "x_values = np.arange(0, len(df2), 1)\n",
    "# Créer le nuage de points\n",
    "# Créer un colormap\n",
    "unique_labels = df2['Libellé commune'].unique()\n",
    "colors = plt.cm.get_cmap('tab10', len(unique_labels))  # Choisir un colormap avec suffisamment de couleurs\n",
    "\n",
    "# Mapper les couleurs aux labels\n",
    "color_map = {label: colors(i) for i, label in enumerate(unique_labels)}\n",
    "\n",
    "# Tracer les points\n",
    "plt.figure(figsize=(10, 6))\n",
    "for label in unique_labels:\n",
    "    plt.scatter(x_values[df2['Libellé commune'] == label],\n",
    "                df2['% diff_participation_EUROT1'][df2['Libellé commune'] == label],\n",
    "                alpha=0.7,\n",
    "                color=color_map[label],\n",
    "                label=label)\n",
    "\n",
    "plt.xlabel(\"Bureau de vote (index)\")\n",
    "plt.ylabel(\"Différentiel d'abstention (%)\")\n",
    "plt.title(\"Différentiel d'abstention entre les élections législatives (T1) et européennes\")\n",
    "plt.legend(title=\"Libellé commune\", bbox_to_anchor=(1.05, 1), loc='upper left')\n",
    "plt.savefig('graphiques/diff_euroT1.jpg')\n",
    "plt.show()\n",
    "\n",
    "plt.close() \n",
    "\n",
    "unique_labels = df2['Libellé commune'].unique()\n",
    "colors = plt.cm.get_cmap('tab10', len(unique_labels))  # Choisir un colormap avec suffisamment de couleurs\n",
    "\n",
    "# Mapper les couleurs aux labels\n",
    "color_map = {label: colors(i) for i, label in enumerate(unique_labels)}\n",
    "\n",
    "# Tracer les points\n",
    "plt.figure(figsize=(10, 6))\n",
    "for label in unique_labels:\n",
    "    plt.scatter(x_values[df2['Libellé commune'] == label],\n",
    "                df2['% diff_participation_EUROT2'][df2['Libellé commune'] == label],\n",
    "                alpha=0.7,\n",
    "                color=color_map[label],\n",
    "                label=label)\n",
    "\n",
    "plt.xlabel(\"Bureau de vote (index)\")\n",
    "plt.ylabel(\"Différentiel d'abstention (%)\")\n",
    "plt.title(\"Différentiel d'abstention entre les élections législatives (T2) et européennes\")\n",
    "plt.legend(title=\"Libellé commune\", bbox_to_anchor=(1.05, 1), loc='upper left')\n",
    "plt.savefig('graphiques/diff_euroT2.jpg')\n",
    "plt.show()"
   ]
  },
  {
   "cell_type": "markdown",
   "id": "c40f8515-ccee-4169-b610-97a87385a8a3",
   "metadata": {},
   "source": [
    "La participation a augmenté de plus de 10% en moyenne, seul le bureau de vote avec un nombre faible de votant (qui est un bureau de vote assez dfiférent des autres) enregistre une baisse. Le regain de participation ne semble pas énormément varier entre les villes.\n",
    "\n",
    "Entre les deux tours, la participation varie peu.\n",
    "\n",
    "En dehors de ce bureau aberrant, les différences d'abstention paraissent normalement distribués, on va donc continuer avec les régressions linéaires pondérées. Nous allons comparer la participation au premier tour et les résultats de différentes listes aux européennes"
   ]
  },
  {
   "cell_type": "code",
   "execution_count": 130,
   "id": "e1a6acdc-ec7c-41b6-a303-f34768d382e0",
   "metadata": {},
   "outputs": [
    {
     "name": "stdout",
     "output_type": "stream",
     "text": [
      "                                 WLS Regression Results                                \n",
      "=======================================================================================\n",
      "Dep. Variable:     % diff_participation_EUROT1   R-squared:                       0.008\n",
      "Model:                                     WLS   Adj. R-squared:                 -0.004\n",
      "Method:                          Least Squares   F-statistic:                    0.6982\n",
      "Date:                         Thu, 31 Oct 2024   Prob (F-statistic):              0.406\n",
      "Time:                                 14:48:13   Log-Likelihood:                -183.21\n",
      "No. Observations:                           87   AIC:                             370.4\n",
      "Df Residuals:                               85   BIC:                             375.4\n",
      "Df Model:                                    1                                         \n",
      "Covariance Type:                     nonrobust                                         \n",
      "====================================================================================\n",
      "                       coef    std err          t      P>|t|      [0.025      0.975]\n",
      "------------------------------------------------------------------------------------\n",
      "const               12.4149      0.451     27.550      0.000      11.519      13.311\n",
      "% VINSC_LFI_Euro    -0.0391      0.047     -0.836      0.406      -0.132       0.054\n",
      "==============================================================================\n",
      "Omnibus:                        3.420   Durbin-Watson:                   1.667\n",
      "Prob(Omnibus):                  0.181   Jarque-Bera (JB):                2.691\n",
      "Skew:                          -0.382   Prob(JB):                        0.260\n",
      "Kurtosis:                       3.400   Cond. No.                         20.5\n",
      "==============================================================================\n",
      "\n",
      "Notes:\n",
      "[1] Standard Errors assume that the covariance matrix of the errors is correctly specified.\n",
      "                                 WLS Regression Results                                \n",
      "=======================================================================================\n",
      "Dep. Variable:     % diff_participation_EUROT1   R-squared:                       0.002\n",
      "Model:                                     WLS   Adj. R-squared:                 -0.010\n",
      "Method:                          Least Squares   F-statistic:                    0.1798\n",
      "Date:                         Thu, 31 Oct 2024   Prob (F-statistic):              0.673\n",
      "Time:                                 14:48:13   Log-Likelihood:                -183.48\n",
      "No. Observations:                           87   AIC:                             371.0\n",
      "Df Residuals:                               85   BIC:                             375.9\n",
      "Df Model:                                    1                                         \n",
      "Covariance Type:                     nonrobust                                         \n",
      "===================================================================================\n",
      "                      coef    std err          t      P>|t|      [0.025      0.975]\n",
      "-----------------------------------------------------------------------------------\n",
      "const              12.2343      0.415     29.455      0.000      11.408      13.060\n",
      "% VEXP_LFI_Euro    -0.0109      0.026     -0.424      0.673      -0.062       0.040\n",
      "==============================================================================\n",
      "Omnibus:                        2.699   Durbin-Watson:                   1.640\n",
      "Prob(Omnibus):                  0.259   Jarque-Bera (JB):                2.033\n",
      "Skew:                          -0.337   Prob(JB):                        0.362\n",
      "Kurtosis:                       3.325   Cond. No.                         31.4\n",
      "==============================================================================\n",
      "\n",
      "Notes:\n",
      "[1] Standard Errors assume that the covariance matrix of the errors is correctly specified.\n"
     ]
    }
   ],
   "source": [
    "X = df2[['% VINSC_LFI_Euro']]\n",
    "X = sm.add_constant(X) \n",
    "\n",
    "Y = df2['% diff_participation_EUROT1']\n",
    "\n",
    "weights = df2['Inscrits_LegiT1']\n",
    "\n",
    "model = sm.WLS(Y, X, weights=weights).fit() \n",
    "print(model.summary())\n",
    "\n",
    "X = df2[['% VEXP_LFI_Euro']]\n",
    "X = sm.add_constant(X) \n",
    "\n",
    "Y = df2['% diff_participation_EUROT1']\n",
    "\n",
    "weights = df2['Inscrits_LegiT1']\n",
    "\n",
    "model = sm.WLS(Y, X, weights=weights).fit() \n",
    "print(model.summary())"
   ]
  },
  {
   "cell_type": "code",
   "execution_count": 123,
   "id": "03b73610-bb95-43dd-a229-1a491ce94c45",
   "metadata": {},
   "outputs": [
    {
     "name": "stdout",
     "output_type": "stream",
     "text": [
      "                                 WLS Regression Results                                \n",
      "=======================================================================================\n",
      "Dep. Variable:     % diff_participation_EUROT1   R-squared:                       0.027\n",
      "Model:                                     WLS   Adj. R-squared:                  0.016\n",
      "Method:                          Least Squares   F-statistic:                     2.386\n",
      "Date:                         Thu, 31 Oct 2024   Prob (F-statistic):              0.126\n",
      "Time:                                 14:46:16   Log-Likelihood:                -182.36\n",
      "No. Observations:                           87   AIC:                             368.7\n",
      "Df Residuals:                               85   BIC:                             373.7\n",
      "Df Model:                                    1                                         \n",
      "Covariance Type:                     nonrobust                                         \n",
      "====================================================================================\n",
      "                       coef    std err          t      P>|t|      [0.025      0.975]\n",
      "------------------------------------------------------------------------------------\n",
      "const               12.6981      0.451     28.174      0.000      11.802      13.594\n",
      "% VINSC_PCF_Euro    -0.7605      0.492     -1.545      0.126      -1.739       0.218\n",
      "==============================================================================\n",
      "Omnibus:                        5.108   Durbin-Watson:                   1.687\n",
      "Prob(Omnibus):                  0.078   Jarque-Bera (JB):                4.362\n",
      "Skew:                          -0.480   Prob(JB):                        0.113\n",
      "Kurtosis:                       3.531   Cond. No.                         4.03\n",
      "==============================================================================\n",
      "\n",
      "Notes:\n",
      "[1] Standard Errors assume that the covariance matrix of the errors is correctly specified.\n",
      "                                 WLS Regression Results                                \n",
      "=======================================================================================\n",
      "Dep. Variable:     % diff_participation_EUROT1   R-squared:                       0.017\n",
      "Model:                                     WLS   Adj. R-squared:                  0.006\n",
      "Method:                          Least Squares   F-statistic:                     1.497\n",
      "Date:                         Thu, 31 Oct 2024   Prob (F-statistic):              0.225\n",
      "Time:                                 14:46:16   Log-Likelihood:                -182.81\n",
      "No. Observations:                           87   AIC:                             369.6\n",
      "Df Residuals:                               85   BIC:                             374.5\n",
      "Df Model:                                    1                                         \n",
      "Covariance Type:                     nonrobust                                         \n",
      "===================================================================================\n",
      "                      coef    std err          t      P>|t|      [0.025      0.975]\n",
      "-----------------------------------------------------------------------------------\n",
      "const              12.5644      0.447     28.108      0.000      11.676      13.453\n",
      "% VEXP_PCF_Euro    -0.3709      0.303     -1.223      0.225      -0.974       0.232\n",
      "==============================================================================\n",
      "Omnibus:                        3.698   Durbin-Watson:                   1.677\n",
      "Prob(Omnibus):                  0.157   Jarque-Bera (JB):                2.970\n",
      "Skew:                          -0.411   Prob(JB):                        0.226\n",
      "Kurtosis:                       3.379   Cond. No.                         4.29\n",
      "==============================================================================\n",
      "\n",
      "Notes:\n",
      "[1] Standard Errors assume that the covariance matrix of the errors is correctly specified.\n"
     ]
    }
   ],
   "source": [
    "X = df2[['% VINSC_PCF_Euro']]\n",
    "X = sm.add_constant(X) \n",
    "\n",
    "Y = df2['% diff_participation_EUROT1']\n",
    "\n",
    "weights = df2['Inscrits_LegiT1']\n",
    "\n",
    "model = sm.WLS(Y, X, weights=weights).fit() \n",
    "print(model.summary())\n",
    "\n",
    "X = df2[['% VEXP_PCF_Euro']]\n",
    "X = sm.add_constant(X) \n",
    "\n",
    "Y = df2['% diff_participation_EUROT1']\n",
    "\n",
    "weights = df2['Inscrits_LegiT1']\n",
    "\n",
    "model = sm.WLS(Y, X, weights=weights).fit() \n",
    "print(model.summary())"
   ]
  },
  {
   "cell_type": "code",
   "execution_count": 124,
   "id": "a6e640da-3fea-4d49-951a-4801edbbcca0",
   "metadata": {},
   "outputs": [
    {
     "name": "stdout",
     "output_type": "stream",
     "text": [
      "                                 WLS Regression Results                                \n",
      "=======================================================================================\n",
      "Dep. Variable:     % diff_participation_EUROT1   R-squared:                       0.003\n",
      "Model:                                     WLS   Adj. R-squared:                 -0.009\n",
      "Method:                          Least Squares   F-statistic:                    0.2701\n",
      "Date:                         Thu, 31 Oct 2024   Prob (F-statistic):              0.605\n",
      "Time:                                 14:46:40   Log-Likelihood:                -183.43\n",
      "No. Observations:                           87   AIC:                             370.9\n",
      "Df Residuals:                               85   BIC:                             375.8\n",
      "Df Model:                                    1                                         \n",
      "Covariance Type:                     nonrobust                                         \n",
      "=====================================================================================\n",
      "                        coef    std err          t      P>|t|      [0.025      0.975]\n",
      "-------------------------------------------------------------------------------------\n",
      "const                12.3974      0.641     19.344      0.000      11.123      13.672\n",
      "% VINSC_EELV_Euro    -0.0419      0.081     -0.520      0.605      -0.202       0.118\n",
      "==============================================================================\n",
      "Omnibus:                        3.781   Durbin-Watson:                   1.631\n",
      "Prob(Omnibus):                  0.151   Jarque-Bera (JB):                3.034\n",
      "Skew:                          -0.389   Prob(JB):                        0.219\n",
      "Kurtosis:                       3.483   Cond. No.                         24.1\n",
      "==============================================================================\n",
      "\n",
      "Notes:\n",
      "[1] Standard Errors assume that the covariance matrix of the errors is correctly specified.\n",
      "                                 WLS Regression Results                                \n",
      "=======================================================================================\n",
      "Dep. Variable:     % diff_participation_EUROT1   R-squared:                       0.000\n",
      "Model:                                     WLS   Adj. R-squared:                 -0.012\n",
      "Method:                          Least Squares   F-statistic:                   0.01085\n",
      "Date:                         Thu, 31 Oct 2024   Prob (F-statistic):              0.917\n",
      "Time:                                 14:46:40   Log-Likelihood:                -183.56\n",
      "No. Observations:                           87   AIC:                             371.1\n",
      "Df Residuals:                               85   BIC:                             376.1\n",
      "Df Model:                                    1                                         \n",
      "Covariance Type:                     nonrobust                                         \n",
      "====================================================================================\n",
      "                       coef    std err          t      P>|t|      [0.025      0.975]\n",
      "------------------------------------------------------------------------------------\n",
      "const               12.1507      0.680     17.871      0.000      10.799      13.502\n",
      "% VEXP_EELV_Euro    -0.0057      0.055     -0.104      0.917      -0.114       0.103\n",
      "==============================================================================\n",
      "Omnibus:                        2.881   Durbin-Watson:                   1.617\n",
      "Prob(Omnibus):                  0.237   Jarque-Bera (JB):                2.182\n",
      "Skew:                          -0.338   Prob(JB):                        0.336\n",
      "Kurtosis:                       3.382   Cond. No.                         39.7\n",
      "==============================================================================\n",
      "\n",
      "Notes:\n",
      "[1] Standard Errors assume that the covariance matrix of the errors is correctly specified.\n"
     ]
    }
   ],
   "source": [
    "X = df2[['% VINSC_EELV_Euro']]\n",
    "X = sm.add_constant(X) \n",
    "\n",
    "Y = df2['% diff_participation_EUROT1']\n",
    "\n",
    "weights = df2['Inscrits_LegiT1']\n",
    "\n",
    "model = sm.WLS(Y, X, weights=weights).fit() \n",
    "print(model.summary())\n",
    "\n",
    "X = df2[['% VEXP_EELV_Euro']]\n",
    "X = sm.add_constant(X) \n",
    "\n",
    "Y = df2['% diff_participation_EUROT1']\n",
    "\n",
    "weights = df2['Inscrits_LegiT1']\n",
    "\n",
    "model = sm.WLS(Y, X, weights=weights).fit() \n",
    "print(model.summary())"
   ]
  },
  {
   "cell_type": "code",
   "execution_count": 125,
   "id": "0402f854-7caa-44a6-9c29-f307170452a0",
   "metadata": {},
   "outputs": [
    {
     "name": "stdout",
     "output_type": "stream",
     "text": [
      "                                 WLS Regression Results                                \n",
      "=======================================================================================\n",
      "Dep. Variable:     % diff_participation_EUROT1   R-squared:                       0.029\n",
      "Model:                                     WLS   Adj. R-squared:                  0.017\n",
      "Method:                          Least Squares   F-statistic:                     2.504\n",
      "Date:                         Thu, 31 Oct 2024   Prob (F-statistic):              0.117\n",
      "Time:                                 14:47:02   Log-Likelihood:                -182.30\n",
      "No. Observations:                           87   AIC:                             368.6\n",
      "Df Residuals:                               85   BIC:                             373.5\n",
      "Df Model:                                    1                                         \n",
      "Covariance Type:                     nonrobust                                         \n",
      "===================================================================================\n",
      "                      coef    std err          t      P>|t|      [0.025      0.975]\n",
      "-----------------------------------------------------------------------------------\n",
      "const              13.6170      0.992     13.727      0.000      11.645      15.589\n",
      "% VINSC_PP_Euro    -0.1143      0.072     -1.582      0.117      -0.258       0.029\n",
      "==============================================================================\n",
      "Omnibus:                        6.921   Durbin-Watson:                   1.631\n",
      "Prob(Omnibus):                  0.031   Jarque-Bera (JB):                7.210\n",
      "Skew:                          -0.456   Prob(JB):                       0.0272\n",
      "Kurtosis:                       4.076   Cond. No.                         64.7\n",
      "==============================================================================\n",
      "\n",
      "Notes:\n",
      "[1] Standard Errors assume that the covariance matrix of the errors is correctly specified.\n",
      "                                 WLS Regression Results                                \n",
      "=======================================================================================\n",
      "Dep. Variable:     % diff_participation_EUROT1   R-squared:                       0.010\n",
      "Model:                                     WLS   Adj. R-squared:                 -0.002\n",
      "Method:                          Least Squares   F-statistic:                    0.8468\n",
      "Date:                         Thu, 31 Oct 2024   Prob (F-statistic):              0.360\n",
      "Time:                                 14:47:02   Log-Likelihood:                -183.14\n",
      "No. Observations:                           87   AIC:                             370.3\n",
      "Df Residuals:                               85   BIC:                             375.2\n",
      "Df Model:                                    1                                         \n",
      "Covariance Type:                     nonrobust                                         \n",
      "==================================================================================\n",
      "                     coef    std err          t      P>|t|      [0.025      0.975]\n",
      "----------------------------------------------------------------------------------\n",
      "const             13.1223      1.149     11.421      0.000      10.838      15.407\n",
      "% VEXP_PP_Euro    -0.0492      0.053     -0.920      0.360      -0.155       0.057\n",
      "==============================================================================\n",
      "Omnibus:                        4.665   Durbin-Watson:                   1.636\n",
      "Prob(Omnibus):                  0.097   Jarque-Bera (JB):                4.068\n",
      "Skew:                          -0.390   Prob(JB):                        0.131\n",
      "Kurtosis:                       3.716   Cond. No.                         116.\n",
      "==============================================================================\n",
      "\n",
      "Notes:\n",
      "[1] Standard Errors assume that the covariance matrix of the errors is correctly specified.\n"
     ]
    }
   ],
   "source": [
    "X = df2[['% VINSC_PP_Euro']]\n",
    "X = sm.add_constant(X) \n",
    "\n",
    "Y = df2['% diff_participation_EUROT1']\n",
    "\n",
    "weights = df2['Inscrits_LegiT1']\n",
    "\n",
    "model = sm.WLS(Y, X, weights=weights).fit() \n",
    "print(model.summary())\n",
    "\n",
    "X = df2[['% VEXP_PP_Euro']]\n",
    "X = sm.add_constant(X) \n",
    "\n",
    "Y = df2['% diff_participation_EUROT1']\n",
    "\n",
    "weights = df2['Inscrits_LegiT1']\n",
    "\n",
    "model = sm.WLS(Y, X, weights=weights).fit() \n",
    "print(model.summary())"
   ]
  },
  {
   "cell_type": "code",
   "execution_count": 126,
   "id": "bcdf7a20-dfe9-447f-8650-ad8200010e70",
   "metadata": {},
   "outputs": [
    {
     "name": "stdout",
     "output_type": "stream",
     "text": [
      "                                 WLS Regression Results                                \n",
      "=======================================================================================\n",
      "Dep. Variable:     % diff_participation_EUROT1   R-squared:                       0.001\n",
      "Model:                                     WLS   Adj. R-squared:                 -0.010\n",
      "Method:                          Least Squares   F-statistic:                    0.1274\n",
      "Date:                         Thu, 31 Oct 2024   Prob (F-statistic):              0.722\n",
      "Time:                                 14:47:19   Log-Likelihood:                -183.50\n",
      "No. Observations:                           87   AIC:                             371.0\n",
      "Df Residuals:                               85   BIC:                             375.9\n",
      "Df Model:                                    1                                         \n",
      "Covariance Type:                     nonrobust                                         \n",
      "=====================================================================================\n",
      "                        coef    std err          t      P>|t|      [0.025      0.975]\n",
      "-------------------------------------------------------------------------------------\n",
      "const                11.8846      0.597     19.911      0.000      10.698      13.071\n",
      "% VINSC_LREM_Euro     0.0180      0.050      0.357      0.722      -0.082       0.118\n",
      "==============================================================================\n",
      "Omnibus:                        2.639   Durbin-Watson:                   1.631\n",
      "Prob(Omnibus):                  0.267   Jarque-Bera (JB):                1.978\n",
      "Skew:                          -0.332   Prob(JB):                        0.372\n",
      "Kurtosis:                       3.324   Cond. No.                         33.1\n",
      "==============================================================================\n",
      "\n",
      "Notes:\n",
      "[1] Standard Errors assume that the covariance matrix of the errors is correctly specified.\n",
      "                                 WLS Regression Results                                \n",
      "=======================================================================================\n",
      "Dep. Variable:     % diff_participation_EUROT1   R-squared:                       0.008\n",
      "Model:                                     WLS   Adj. R-squared:                 -0.004\n",
      "Method:                          Least Squares   F-statistic:                    0.6970\n",
      "Date:                         Thu, 31 Oct 2024   Prob (F-statistic):              0.406\n",
      "Time:                                 14:47:19   Log-Likelihood:                -183.21\n",
      "No. Observations:                           87   AIC:                             370.4\n",
      "Df Residuals:                               85   BIC:                             375.4\n",
      "Df Model:                                    1                                         \n",
      "Covariance Type:                     nonrobust                                         \n",
      "====================================================================================\n",
      "                       coef    std err          t      P>|t|      [0.025      0.975]\n",
      "------------------------------------------------------------------------------------\n",
      "const               11.5750      0.645     17.934      0.000      10.292      12.858\n",
      "% VEXP_LREM_Euro     0.0294      0.035      0.835      0.406      -0.041       0.099\n",
      "==============================================================================\n",
      "Omnibus:                        2.856   Durbin-Watson:                   1.649\n",
      "Prob(Omnibus):                  0.240   Jarque-Bera (JB):                2.185\n",
      "Skew:                          -0.354   Prob(JB):                        0.335\n",
      "Kurtosis:                       3.320   Cond. No.                         55.5\n",
      "==============================================================================\n",
      "\n",
      "Notes:\n",
      "[1] Standard Errors assume that the covariance matrix of the errors is correctly specified.\n"
     ]
    }
   ],
   "source": [
    "X = df2[['% VINSC_LREM_Euro']]\n",
    "X = sm.add_constant(X) \n",
    "\n",
    "Y = df2['% diff_participation_EUROT1']\n",
    "\n",
    "weights = df2['Inscrits_LegiT1']\n",
    "\n",
    "model = sm.WLS(Y, X, weights=weights).fit() \n",
    "print(model.summary())\n",
    "\n",
    "X = df2[['% VEXP_LREM_Euro']]\n",
    "X = sm.add_constant(X) \n",
    "\n",
    "Y = df2['% diff_participation_EUROT1']\n",
    "\n",
    "weights = df2['Inscrits_LegiT1']\n",
    "\n",
    "model = sm.WLS(Y, X, weights=weights).fit() \n",
    "print(model.summary())"
   ]
  },
  {
   "cell_type": "code",
   "execution_count": 127,
   "id": "56e15c34-d085-45a9-a7e3-e03f3f16686c",
   "metadata": {},
   "outputs": [
    {
     "name": "stdout",
     "output_type": "stream",
     "text": [
      "                                 WLS Regression Results                                \n",
      "=======================================================================================\n",
      "Dep. Variable:     % diff_participation_EUROT1   R-squared:                       0.002\n",
      "Model:                                     WLS   Adj. R-squared:                 -0.010\n",
      "Method:                          Least Squares   F-statistic:                    0.1796\n",
      "Date:                         Thu, 31 Oct 2024   Prob (F-statistic):              0.673\n",
      "Time:                                 14:47:28   Log-Likelihood:                -183.48\n",
      "No. Observations:                           87   AIC:                             371.0\n",
      "Df Residuals:                               85   BIC:                             375.9\n",
      "Df Model:                                    1                                         \n",
      "Covariance Type:                     nonrobust                                         \n",
      "===================================================================================\n",
      "                      coef    std err          t      P>|t|      [0.025      0.975]\n",
      "-----------------------------------------------------------------------------------\n",
      "const              12.2803      0.512     24.001      0.000      11.263      13.298\n",
      "% VINSC_LR_Euro    -0.0380      0.090     -0.424      0.673      -0.216       0.140\n",
      "==============================================================================\n",
      "Omnibus:                        2.834   Durbin-Watson:                   1.590\n",
      "Prob(Omnibus):                  0.242   Jarque-Bera (JB):                2.130\n",
      "Skew:                          -0.321   Prob(JB):                        0.345\n",
      "Kurtosis:                       3.418   Cond. No.                         14.0\n",
      "==============================================================================\n",
      "\n",
      "Notes:\n",
      "[1] Standard Errors assume that the covariance matrix of the errors is correctly specified.\n",
      "                                 WLS Regression Results                                \n",
      "=======================================================================================\n",
      "Dep. Variable:     % diff_participation_EUROT1   R-squared:                       0.000\n",
      "Model:                                     WLS   Adj. R-squared:                 -0.012\n",
      "Method:                          Least Squares   F-statistic:                   0.01968\n",
      "Date:                         Thu, 31 Oct 2024   Prob (F-statistic):              0.889\n",
      "Time:                                 14:47:28   Log-Likelihood:                -183.56\n",
      "No. Observations:                           87   AIC:                             371.1\n",
      "Df Residuals:                               85   BIC:                             376.0\n",
      "Df Model:                                    1                                         \n",
      "Covariance Type:                     nonrobust                                         \n",
      "==================================================================================\n",
      "                     coef    std err          t      P>|t|      [0.025      0.975]\n",
      "----------------------------------------------------------------------------------\n",
      "const             12.1533      0.542     22.406      0.000      11.075      13.232\n",
      "% VEXP_LR_Euro    -0.0086      0.062     -0.140      0.889      -0.131       0.114\n",
      "==============================================================================\n",
      "Omnibus:                        2.712   Durbin-Watson:                   1.606\n",
      "Prob(Omnibus):                  0.258   Jarque-Bera (JB):                2.024\n",
      "Skew:                          -0.323   Prob(JB):                        0.363\n",
      "Kurtosis:                       3.376   Cond. No.                         22.5\n",
      "==============================================================================\n",
      "\n",
      "Notes:\n",
      "[1] Standard Errors assume that the covariance matrix of the errors is correctly specified.\n"
     ]
    }
   ],
   "source": [
    "X = df2[['% VINSC_LR_Euro']]\n",
    "X = sm.add_constant(X) \n",
    "\n",
    "Y = df2['% diff_participation_EUROT1']\n",
    "\n",
    "weights = df2['Inscrits_LegiT1']\n",
    "\n",
    "model = sm.WLS(Y, X, weights=weights).fit() \n",
    "print(model.summary())\n",
    "\n",
    "X = df2[['% VEXP_LR_Euro']]\n",
    "X = sm.add_constant(X) \n",
    "\n",
    "Y = df2['% diff_participation_EUROT1']\n",
    "\n",
    "weights = df2['Inscrits_LegiT1']\n",
    "\n",
    "model = sm.WLS(Y, X, weights=weights).fit() \n",
    "print(model.summary())"
   ]
  },
  {
   "cell_type": "code",
   "execution_count": 128,
   "id": "6d8c17aa-71e0-4d89-bd7e-ad162542f99d",
   "metadata": {},
   "outputs": [
    {
     "name": "stdout",
     "output_type": "stream",
     "text": [
      "                                 WLS Regression Results                                \n",
      "=======================================================================================\n",
      "Dep. Variable:     % diff_participation_EUROT1   R-squared:                       0.029\n",
      "Model:                                     WLS   Adj. R-squared:                  0.017\n",
      "Method:                          Least Squares   F-statistic:                     2.516\n",
      "Date:                         Thu, 31 Oct 2024   Prob (F-statistic):              0.116\n",
      "Time:                                 14:47:37   Log-Likelihood:                -182.30\n",
      "No. Observations:                           87   AIC:                             368.6\n",
      "Df Residuals:                               85   BIC:                             373.5\n",
      "Df Model:                                    1                                         \n",
      "Covariance Type:                     nonrobust                                         \n",
      "===================================================================================\n",
      "                      coef    std err          t      P>|t|      [0.025      0.975]\n",
      "-----------------------------------------------------------------------------------\n",
      "const              10.9642      0.737     14.883      0.000       9.499      12.429\n",
      "% VINSC_RN_Euro     0.1234      0.078      1.586      0.116      -0.031       0.278\n",
      "==============================================================================\n",
      "Omnibus:                        2.669   Durbin-Watson:                   1.726\n",
      "Prob(Omnibus):                  0.263   Jarque-Bera (JB):                2.045\n",
      "Skew:                          -0.352   Prob(JB):                        0.360\n",
      "Kurtosis:                       3.264   Cond. No.                         33.3\n",
      "==============================================================================\n",
      "\n",
      "Notes:\n",
      "[1] Standard Errors assume that the covariance matrix of the errors is correctly specified.\n",
      "                                 WLS Regression Results                                \n",
      "=======================================================================================\n",
      "Dep. Variable:     % diff_participation_EUROT1   R-squared:                       0.041\n",
      "Model:                                     WLS   Adj. R-squared:                  0.030\n",
      "Method:                          Least Squares   F-statistic:                     3.670\n",
      "Date:                         Thu, 31 Oct 2024   Prob (F-statistic):             0.0587\n",
      "Time:                                 14:47:37   Log-Likelihood:                -181.73\n",
      "No. Observations:                           87   AIC:                             367.5\n",
      "Df Residuals:                               85   BIC:                             372.4\n",
      "Df Model:                                    1                                         \n",
      "Covariance Type:                     nonrobust                                         \n",
      "==================================================================================\n",
      "                     coef    std err          t      P>|t|      [0.025      0.975]\n",
      "----------------------------------------------------------------------------------\n",
      "const             10.8107      0.697     15.515      0.000       9.425      12.196\n",
      "% VEXP_RN_Euro     0.0876      0.046      1.916      0.059      -0.003       0.179\n",
      "==============================================================================\n",
      "Omnibus:                        4.911   Durbin-Watson:                   1.722\n",
      "Prob(Omnibus):                  0.086   Jarque-Bera (JB):                4.201\n",
      "Skew:                          -0.442   Prob(JB):                        0.122\n",
      "Kurtosis:                       3.615   Cond. No.                         50.7\n",
      "==============================================================================\n",
      "\n",
      "Notes:\n",
      "[1] Standard Errors assume that the covariance matrix of the errors is correctly specified.\n"
     ]
    }
   ],
   "source": [
    "X = df2[['% VINSC_RN_Euro']]\n",
    "X = sm.add_constant(X) \n",
    "\n",
    "Y = df2['% diff_participation_EUROT1']\n",
    "\n",
    "weights = df2['Inscrits_LegiT1']\n",
    "\n",
    "model = sm.WLS(Y, X, weights=weights).fit() \n",
    "print(model.summary())\n",
    "\n",
    "X = df2[['% VEXP_RN_Euro']]\n",
    "X = sm.add_constant(X) \n",
    "\n",
    "Y = df2['% diff_participation_EUROT1']\n",
    "\n",
    "weights = df2['Inscrits_LegiT1']\n",
    "\n",
    "model = sm.WLS(Y, X, weights=weights).fit() \n",
    "print(model.summary())"
   ]
  },
  {
   "cell_type": "code",
   "execution_count": 129,
   "id": "4b322279-f526-401a-8401-d00adcb30761",
   "metadata": {},
   "outputs": [
    {
     "name": "stdout",
     "output_type": "stream",
     "text": [
      "                                 WLS Regression Results                                \n",
      "=======================================================================================\n",
      "Dep. Variable:     % diff_participation_EUROT1   R-squared:                       0.003\n",
      "Model:                                     WLS   Adj. R-squared:                 -0.009\n",
      "Method:                          Least Squares   F-statistic:                    0.2205\n",
      "Date:                         Thu, 31 Oct 2024   Prob (F-statistic):              0.640\n",
      "Time:                                 14:47:44   Log-Likelihood:                -183.46\n",
      "No. Observations:                           87   AIC:                             370.9\n",
      "Df Residuals:                               85   BIC:                             375.8\n",
      "Df Model:                                    1                                         \n",
      "Covariance Type:                     nonrobust                                         \n",
      "====================================================================================\n",
      "                       coef    std err          t      P>|t|      [0.025      0.975]\n",
      "------------------------------------------------------------------------------------\n",
      "const               12.3324      0.572     21.562      0.000      11.195      13.470\n",
      "% VINSC_REC_Euro    -0.0842      0.179     -0.470      0.640      -0.441       0.272\n",
      "==============================================================================\n",
      "Omnibus:                        2.713   Durbin-Watson:                   1.598\n",
      "Prob(Omnibus):                  0.258   Jarque-Bera (JB):                2.017\n",
      "Skew:                          -0.312   Prob(JB):                        0.365\n",
      "Kurtosis:                       3.410   Cond. No.                         9.24\n",
      "==============================================================================\n",
      "\n",
      "Notes:\n",
      "[1] Standard Errors assume that the covariance matrix of the errors is correctly specified.\n",
      "                                 WLS Regression Results                                \n",
      "=======================================================================================\n",
      "Dep. Variable:     % diff_participation_EUROT1   R-squared:                       0.000\n",
      "Model:                                     WLS   Adj. R-squared:                 -0.011\n",
      "Method:                          Least Squares   F-statistic:                   0.03928\n",
      "Date:                         Thu, 31 Oct 2024   Prob (F-statistic):              0.843\n",
      "Time:                                 14:47:44   Log-Likelihood:                -183.55\n",
      "No. Observations:                           87   AIC:                             371.1\n",
      "Df Residuals:                               85   BIC:                             376.0\n",
      "Df Model:                                    1                                         \n",
      "Covariance Type:                     nonrobust                                         \n",
      "===================================================================================\n",
      "                      coef    std err          t      P>|t|      [0.025      0.975]\n",
      "-----------------------------------------------------------------------------------\n",
      "const              12.1995      0.623     19.566      0.000      10.960      13.439\n",
      "% VEXP_REC_Euro    -0.0250      0.126     -0.198      0.843      -0.276       0.226\n",
      "==============================================================================\n",
      "Omnibus:                        2.588   Durbin-Watson:                   1.607\n",
      "Prob(Omnibus):                  0.274   Jarque-Bera (JB):                1.912\n",
      "Skew:                          -0.315   Prob(JB):                        0.384\n",
      "Kurtosis:                       3.363   Cond. No.                         14.9\n",
      "==============================================================================\n",
      "\n",
      "Notes:\n",
      "[1] Standard Errors assume that the covariance matrix of the errors is correctly specified.\n"
     ]
    }
   ],
   "source": [
    "X = df2[['% VINSC_REC_Euro']]\n",
    "X = sm.add_constant(X) \n",
    "\n",
    "Y = df2['% diff_participation_EUROT1']\n",
    "\n",
    "weights = df2['Inscrits_LegiT1']\n",
    "\n",
    "model = sm.WLS(Y, X, weights=weights).fit() \n",
    "print(model.summary())\n",
    "\n",
    "X = df2[['% VEXP_REC_Euro']]\n",
    "X = sm.add_constant(X) \n",
    "\n",
    "Y = df2['% diff_participation_EUROT1']\n",
    "\n",
    "weights = df2['Inscrits_LegiT1']\n",
    "\n",
    "model = sm.WLS(Y, X, weights=weights).fit() \n",
    "print(model.summary())"
   ]
  },
  {
   "cell_type": "markdown",
   "id": "dbfb1177-2c8e-4778-bbbd-819beed18df8",
   "metadata": {},
   "source": [
    "Seul le pourcentage de voix exprimé pour le RN aux européennes est positivement corrélé avec le différentiel de participation au premier tour : 1% de plus donné à la liste de Bardella est corrélé au gain de 0.09% de participation entre les 2 élections. Vérifions si cela reste vrai en comparant au second tour."
   ]
  },
  {
   "cell_type": "code",
   "execution_count": 131,
   "id": "b98a8e93-8db6-4c1c-b9ca-5ce6da420197",
   "metadata": {},
   "outputs": [
    {
     "name": "stdout",
     "output_type": "stream",
     "text": [
      "                                 WLS Regression Results                                \n",
      "=======================================================================================\n",
      "Dep. Variable:     % diff_participation_EUROT2   R-squared:                       0.048\n",
      "Model:                                     WLS   Adj. R-squared:                  0.037\n",
      "Method:                          Least Squares   F-statistic:                     4.281\n",
      "Date:                         Thu, 31 Oct 2024   Prob (F-statistic):             0.0416\n",
      "Time:                                 14:54:19   Log-Likelihood:                -195.66\n",
      "No. Observations:                           87   AIC:                             395.3\n",
      "Df Residuals:                               85   BIC:                             400.3\n",
      "Df Model:                                    1                                         \n",
      "Covariance Type:                     nonrobust                                         \n",
      "====================================================================================\n",
      "                       coef    std err          t      P>|t|      [0.025      0.975]\n",
      "------------------------------------------------------------------------------------\n",
      "const               12.8413      0.520     24.696      0.000      11.807      13.875\n",
      "% VINSC_LFI_Euro    -0.1118      0.054     -2.069      0.042      -0.219      -0.004\n",
      "==============================================================================\n",
      "Omnibus:                        3.447   Durbin-Watson:                   1.808\n",
      "Prob(Omnibus):                  0.178   Jarque-Bera (JB):                2.836\n",
      "Skew:                          -0.295   Prob(JB):                        0.242\n",
      "Kurtosis:                       3.660   Cond. No.                         20.5\n",
      "==============================================================================\n",
      "\n",
      "Notes:\n",
      "[1] Standard Errors assume that the covariance matrix of the errors is correctly specified.\n",
      "                                 WLS Regression Results                                \n",
      "=======================================================================================\n",
      "Dep. Variable:     % diff_participation_EUROT2   R-squared:                       0.030\n",
      "Model:                                     WLS   Adj. R-squared:                  0.018\n",
      "Method:                          Least Squares   F-statistic:                     2.602\n",
      "Date:                         Thu, 31 Oct 2024   Prob (F-statistic):              0.110\n",
      "Time:                                 14:54:19   Log-Likelihood:                -196.49\n",
      "No. Observations:                           87   AIC:                             397.0\n",
      "Df Residuals:                               85   BIC:                             401.9\n",
      "Df Model:                                    1                                         \n",
      "Covariance Type:                     nonrobust                                         \n",
      "===================================================================================\n",
      "                      coef    std err          t      P>|t|      [0.025      0.975]\n",
      "-----------------------------------------------------------------------------------\n",
      "const              12.5606      0.482     26.039      0.000      11.602      13.520\n",
      "% VEXP_LFI_Euro    -0.0481      0.030     -1.613      0.110      -0.107       0.011\n",
      "==============================================================================\n",
      "Omnibus:                        1.923   Durbin-Watson:                   1.758\n",
      "Prob(Omnibus):                  0.382   Jarque-Bera (JB):                1.296\n",
      "Skew:                          -0.197   Prob(JB):                        0.523\n",
      "Kurtosis:                       3.450   Cond. No.                         31.4\n",
      "==============================================================================\n",
      "\n",
      "Notes:\n",
      "[1] Standard Errors assume that the covariance matrix of the errors is correctly specified.\n",
      "                                 WLS Regression Results                                \n",
      "=======================================================================================\n",
      "Dep. Variable:     % diff_participation_EUROT2   R-squared:                       0.056\n",
      "Model:                                     WLS   Adj. R-squared:                  0.045\n",
      "Method:                          Least Squares   F-statistic:                     5.038\n",
      "Date:                         Thu, 31 Oct 2024   Prob (F-statistic):             0.0274\n",
      "Time:                                 14:54:19   Log-Likelihood:                -195.30\n",
      "No. Observations:                           87   AIC:                             394.6\n",
      "Df Residuals:                               85   BIC:                             399.5\n",
      "Df Model:                                    1                                         \n",
      "Covariance Type:                     nonrobust                                         \n",
      "====================================================================================\n",
      "                       coef    std err          t      P>|t|      [0.025      0.975]\n",
      "------------------------------------------------------------------------------------\n",
      "const               12.9305      0.523     24.727      0.000      11.891      13.970\n",
      "% VINSC_PCF_Euro    -1.2821      0.571     -2.245      0.027      -2.418      -0.146\n",
      "==============================================================================\n",
      "Omnibus:                        3.747   Durbin-Watson:                   1.766\n",
      "Prob(Omnibus):                  0.154   Jarque-Bera (JB):                3.240\n",
      "Skew:                          -0.292   Prob(JB):                        0.198\n",
      "Kurtosis:                       3.743   Cond. No.                         4.03\n",
      "==============================================================================\n",
      "\n",
      "Notes:\n",
      "[1] Standard Errors assume that the covariance matrix of the errors is correctly specified.\n",
      "                                 WLS Regression Results                                \n",
      "=======================================================================================\n",
      "Dep. Variable:     % diff_participation_EUROT2   R-squared:                       0.045\n",
      "Model:                                     WLS   Adj. R-squared:                  0.033\n",
      "Method:                          Least Squares   F-statistic:                     3.979\n",
      "Date:                         Thu, 31 Oct 2024   Prob (F-statistic):             0.0493\n",
      "Time:                                 14:54:19   Log-Likelihood:                -195.81\n",
      "No. Observations:                           87   AIC:                             395.6\n",
      "Df Residuals:                               85   BIC:                             400.6\n",
      "Df Model:                                    1                                         \n",
      "Covariance Type:                     nonrobust                                         \n",
      "===================================================================================\n",
      "                      coef    std err          t      P>|t|      [0.025      0.975]\n",
      "-----------------------------------------------------------------------------------\n",
      "const              12.8048      0.519     24.669      0.000      11.773      13.837\n",
      "% VEXP_PCF_Euro    -0.7023      0.352     -1.995      0.049      -1.402      -0.002\n",
      "==============================================================================\n",
      "Omnibus:                        2.566   Durbin-Watson:                   1.756\n",
      "Prob(Omnibus):                  0.277   Jarque-Bera (JB):                1.928\n",
      "Skew:                          -0.233   Prob(JB):                        0.381\n",
      "Kurtosis:                       3.561   Cond. No.                         4.29\n",
      "==============================================================================\n",
      "\n",
      "Notes:\n",
      "[1] Standard Errors assume that the covariance matrix of the errors is correctly specified.\n",
      "                                 WLS Regression Results                                \n",
      "=======================================================================================\n",
      "Dep. Variable:     % diff_participation_EUROT2   R-squared:                       0.016\n",
      "Model:                                     WLS   Adj. R-squared:                  0.005\n",
      "Method:                          Least Squares   F-statistic:                     1.395\n",
      "Date:                         Thu, 31 Oct 2024   Prob (F-statistic):              0.241\n",
      "Time:                                 14:54:19   Log-Likelihood:                -197.09\n",
      "No. Observations:                           87   AIC:                             398.2\n",
      "Df Residuals:                               85   BIC:                             403.1\n",
      "Df Model:                                    1                                         \n",
      "Covariance Type:                     nonrobust                                         \n",
      "=====================================================================================\n",
      "                        coef    std err          t      P>|t|      [0.025      0.975]\n",
      "-------------------------------------------------------------------------------------\n",
      "const                12.7288      0.750     16.974      0.000      11.238      14.220\n",
      "% VINSC_EELV_Euro    -0.1114      0.094     -1.181      0.241      -0.299       0.076\n",
      "==============================================================================\n",
      "Omnibus:                        3.227   Durbin-Watson:                   1.656\n",
      "Prob(Omnibus):                  0.199   Jarque-Bera (JB):                2.897\n",
      "Skew:                          -0.192   Prob(JB):                        0.235\n",
      "Kurtosis:                       3.807   Cond. No.                         24.1\n",
      "==============================================================================\n",
      "\n",
      "Notes:\n",
      "[1] Standard Errors assume that the covariance matrix of the errors is correctly specified.\n",
      "                                 WLS Regression Results                                \n",
      "=======================================================================================\n",
      "Dep. Variable:     % diff_participation_EUROT2   R-squared:                       0.010\n",
      "Model:                                     WLS   Adj. R-squared:                 -0.002\n",
      "Method:                          Least Squares   F-statistic:                    0.8390\n",
      "Date:                         Thu, 31 Oct 2024   Prob (F-statistic):              0.362\n",
      "Time:                                 14:54:19   Log-Likelihood:                -197.37\n",
      "No. Observations:                           87   AIC:                             398.7\n",
      "Df Residuals:                               85   BIC:                             403.7\n",
      "Df Model:                                    1                                         \n",
      "Covariance Type:                     nonrobust                                         \n",
      "====================================================================================\n",
      "                       coef    std err          t      P>|t|      [0.025      0.975]\n",
      "------------------------------------------------------------------------------------\n",
      "const               12.5868      0.797     15.795      0.000      11.002      14.171\n",
      "% VEXP_EELV_Euro    -0.0586      0.064     -0.916      0.362      -0.186       0.069\n",
      "==============================================================================\n",
      "Omnibus:                        2.732   Durbin-Watson:                   1.653\n",
      "Prob(Omnibus):                  0.255   Jarque-Bera (JB):                2.268\n",
      "Skew:                          -0.170   Prob(JB):                        0.322\n",
      "Kurtosis:                       3.714   Cond. No.                         39.7\n",
      "==============================================================================\n",
      "\n",
      "Notes:\n",
      "[1] Standard Errors assume that the covariance matrix of the errors is correctly specified.\n",
      "                                 WLS Regression Results                                \n",
      "=======================================================================================\n",
      "Dep. Variable:     % diff_participation_EUROT2   R-squared:                       0.025\n",
      "Model:                                     WLS   Adj. R-squared:                  0.014\n",
      "Method:                          Least Squares   F-statistic:                     2.217\n",
      "Date:                         Thu, 31 Oct 2024   Prob (F-statistic):              0.140\n",
      "Time:                                 14:54:19   Log-Likelihood:                -196.68\n",
      "No. Observations:                           87   AIC:                             397.4\n",
      "Df Residuals:                               85   BIC:                             402.3\n",
      "Df Model:                                    1                                         \n",
      "Covariance Type:                     nonrobust                                         \n",
      "===================================================================================\n",
      "                      coef    std err          t      P>|t|      [0.025      0.975]\n",
      "-----------------------------------------------------------------------------------\n",
      "const              13.5965      1.170     11.619      0.000      11.270      15.923\n",
      "% VINSC_PP_Euro    -0.1269      0.085     -1.489      0.140      -0.296       0.043\n",
      "==============================================================================\n",
      "Omnibus:                        5.036   Durbin-Watson:                   1.629\n",
      "Prob(Omnibus):                  0.081   Jarque-Bera (JB):                6.240\n",
      "Skew:                          -0.189   Prob(JB):                       0.0442\n",
      "Kurtosis:                       4.256   Cond. No.                         64.7\n",
      "==============================================================================\n",
      "\n",
      "Notes:\n",
      "[1] Standard Errors assume that the covariance matrix of the errors is correctly specified.\n",
      "                                 WLS Regression Results                                \n",
      "=======================================================================================\n",
      "Dep. Variable:     % diff_participation_EUROT2   R-squared:                       0.010\n",
      "Model:                                     WLS   Adj. R-squared:                 -0.002\n",
      "Method:                          Least Squares   F-statistic:                    0.8375\n",
      "Date:                         Thu, 31 Oct 2024   Prob (F-statistic):              0.363\n",
      "Time:                                 14:54:19   Log-Likelihood:                -197.37\n",
      "No. Observations:                           87   AIC:                             398.7\n",
      "Df Residuals:                               85   BIC:                             403.7\n",
      "Df Model:                                    1                                         \n",
      "Covariance Type:                     nonrobust                                         \n",
      "==================================================================================\n",
      "                     coef    std err          t      P>|t|      [0.025      0.975]\n",
      "----------------------------------------------------------------------------------\n",
      "const             13.1110      1.353      9.689      0.000      10.420      15.802\n",
      "% VEXP_PP_Euro    -0.0576      0.063     -0.915      0.363      -0.183       0.068\n",
      "==============================================================================\n",
      "Omnibus:                        3.713   Durbin-Watson:                   1.634\n",
      "Prob(Omnibus):                  0.156   Jarque-Bera (JB):                3.874\n",
      "Skew:                          -0.146   Prob(JB):                        0.144\n",
      "Kurtosis:                       3.992   Cond. No.                         116.\n",
      "==============================================================================\n",
      "\n",
      "Notes:\n",
      "[1] Standard Errors assume that the covariance matrix of the errors is correctly specified.\n",
      "                                 WLS Regression Results                                \n",
      "=======================================================================================\n",
      "Dep. Variable:     % diff_participation_EUROT2   R-squared:                       0.031\n",
      "Model:                                     WLS   Adj. R-squared:                  0.020\n",
      "Method:                          Least Squares   F-statistic:                     2.717\n",
      "Date:                         Thu, 31 Oct 2024   Prob (F-statistic):              0.103\n",
      "Time:                                 14:54:19   Log-Likelihood:                -196.43\n",
      "No. Observations:                           87   AIC:                             396.9\n",
      "Df Residuals:                               85   BIC:                             401.8\n",
      "Df Model:                                    1                                         \n",
      "Covariance Type:                     nonrobust                                         \n",
      "=====================================================================================\n",
      "                        coef    std err          t      P>|t|      [0.025      0.975]\n",
      "-------------------------------------------------------------------------------------\n",
      "const                10.8290      0.693     15.637      0.000       9.452      12.206\n",
      "% VINSC_LREM_Euro     0.0965      0.059      1.648      0.103      -0.020       0.213\n",
      "==============================================================================\n",
      "Omnibus:                        1.748   Durbin-Watson:                   1.737\n",
      "Prob(Omnibus):                  0.417   Jarque-Bera (JB):                1.152\n",
      "Skew:                          -0.143   Prob(JB):                        0.562\n",
      "Kurtosis:                       3.486   Cond. No.                         33.1\n",
      "==============================================================================\n",
      "\n",
      "Notes:\n",
      "[1] Standard Errors assume that the covariance matrix of the errors is correctly specified.\n",
      "                                 WLS Regression Results                                \n",
      "=======================================================================================\n",
      "Dep. Variable:     % diff_participation_EUROT2   R-squared:                       0.054\n",
      "Model:                                     WLS   Adj. R-squared:                  0.043\n",
      "Method:                          Least Squares   F-statistic:                     4.895\n",
      "Date:                         Thu, 31 Oct 2024   Prob (F-statistic):             0.0296\n",
      "Time:                                 14:54:19   Log-Likelihood:                -195.37\n",
      "No. Observations:                           87   AIC:                             394.7\n",
      "Df Residuals:                               85   BIC:                             399.7\n",
      "Df Model:                                    1                                         \n",
      "Covariance Type:                     nonrobust                                         \n",
      "====================================================================================\n",
      "                       coef    std err          t      P>|t|      [0.025      0.975]\n",
      "------------------------------------------------------------------------------------\n",
      "const               10.3449      0.742     13.939      0.000       8.869      11.821\n",
      "% VEXP_LREM_Euro     0.0895      0.040      2.212      0.030       0.009       0.170\n",
      "==============================================================================\n",
      "Omnibus:                        2.014   Durbin-Watson:                   1.773\n",
      "Prob(Omnibus):                  0.365   Jarque-Bera (JB):                1.394\n",
      "Skew:                          -0.184   Prob(JB):                        0.498\n",
      "Kurtosis:                       3.499   Cond. No.                         55.5\n",
      "==============================================================================\n",
      "\n",
      "Notes:\n",
      "[1] Standard Errors assume that the covariance matrix of the errors is correctly specified.\n",
      "                                 WLS Regression Results                                \n",
      "=======================================================================================\n",
      "Dep. Variable:     % diff_participation_EUROT2   R-squared:                       0.002\n",
      "Model:                                     WLS   Adj. R-squared:                 -0.009\n",
      "Method:                          Least Squares   F-statistic:                    0.2066\n",
      "Date:                         Thu, 31 Oct 2024   Prob (F-statistic):              0.651\n",
      "Time:                                 14:54:19   Log-Likelihood:                -197.69\n",
      "No. Observations:                           87   AIC:                             399.4\n",
      "Df Residuals:                               85   BIC:                             404.3\n",
      "Df Model:                                    1                                         \n",
      "Covariance Type:                     nonrobust                                         \n",
      "===================================================================================\n",
      "                      coef    std err          t      P>|t|      [0.025      0.975]\n",
      "-----------------------------------------------------------------------------------\n",
      "const              11.6456      0.603     19.328      0.000      10.448      12.844\n",
      "% VINSC_LR_Euro     0.0480      0.106      0.454      0.651      -0.162       0.258\n",
      "==============================================================================\n",
      "Omnibus:                        2.030   Durbin-Watson:                   1.637\n",
      "Prob(Omnibus):                  0.362   Jarque-Bera (JB):                1.478\n",
      "Skew:                          -0.120   Prob(JB):                        0.478\n",
      "Kurtosis:                       3.592   Cond. No.                         14.0\n",
      "==============================================================================\n",
      "\n",
      "Notes:\n",
      "[1] Standard Errors assume that the covariance matrix of the errors is correctly specified.\n",
      "                                 WLS Regression Results                                \n",
      "=======================================================================================\n",
      "Dep. Variable:     % diff_participation_EUROT2   R-squared:                       0.007\n",
      "Model:                                     WLS   Adj. R-squared:                 -0.005\n",
      "Method:                          Least Squares   F-statistic:                    0.5900\n",
      "Date:                         Thu, 31 Oct 2024   Prob (F-statistic):              0.445\n",
      "Time:                                 14:54:19   Log-Likelihood:                -197.50\n",
      "No. Observations:                           87   AIC:                             399.0\n",
      "Df Residuals:                               85   BIC:                             403.9\n",
      "Df Model:                                    1                                         \n",
      "Covariance Type:                     nonrobust                                         \n",
      "==================================================================================\n",
      "                     coef    std err          t      P>|t|      [0.025      0.975]\n",
      "----------------------------------------------------------------------------------\n",
      "const             11.4451      0.637     17.976      0.000      10.179      12.711\n",
      "% VEXP_LR_Euro     0.0555      0.072      0.768      0.445      -0.088       0.199\n",
      "==============================================================================\n",
      "Omnibus:                        2.026   Durbin-Watson:                   1.664\n",
      "Prob(Omnibus):                  0.363   Jarque-Bera (JB):                1.461\n",
      "Skew:                          -0.131   Prob(JB):                        0.482\n",
      "Kurtosis:                       3.578   Cond. No.                         22.5\n",
      "==============================================================================\n",
      "\n",
      "Notes:\n",
      "[1] Standard Errors assume that the covariance matrix of the errors is correctly specified.\n",
      "                                 WLS Regression Results                                \n",
      "=======================================================================================\n",
      "Dep. Variable:     % diff_participation_EUROT2   R-squared:                       0.047\n",
      "Model:                                     WLS   Adj. R-squared:                  0.036\n",
      "Method:                          Least Squares   F-statistic:                     4.238\n",
      "Date:                         Thu, 31 Oct 2024   Prob (F-statistic):             0.0426\n",
      "Time:                                 14:54:19   Log-Likelihood:                -195.68\n",
      "No. Observations:                           87   AIC:                             395.4\n",
      "Df Residuals:                               85   BIC:                             400.3\n",
      "Df Model:                                    1                                         \n",
      "Covariance Type:                     nonrobust                                         \n",
      "===================================================================================\n",
      "                      coef    std err          t      P>|t|      [0.025      0.975]\n",
      "-----------------------------------------------------------------------------------\n",
      "const              10.1999      0.859     11.871      0.000       8.492      11.908\n",
      "% VINSC_RN_Euro     0.1868      0.091      2.059      0.043       0.006       0.367\n",
      "==============================================================================\n",
      "Omnibus:                        2.348   Durbin-Watson:                   1.800\n",
      "Prob(Omnibus):                  0.309   Jarque-Bera (JB):                1.733\n",
      "Skew:                          -0.201   Prob(JB):                        0.420\n",
      "Kurtosis:                       3.563   Cond. No.                         33.3\n",
      "==============================================================================\n",
      "\n",
      "Notes:\n",
      "[1] Standard Errors assume that the covariance matrix of the errors is correctly specified.\n",
      "                                 WLS Regression Results                                \n",
      "=======================================================================================\n",
      "Dep. Variable:     % diff_participation_EUROT2   R-squared:                       0.054\n",
      "Model:                                     WLS   Adj. R-squared:                  0.043\n",
      "Method:                          Least Squares   F-statistic:                     4.885\n",
      "Date:                         Thu, 31 Oct 2024   Prob (F-statistic):             0.0298\n",
      "Time:                                 14:54:19   Log-Likelihood:                -195.37\n",
      "No. Observations:                           87   AIC:                             394.7\n",
      "Df Residuals:                               85   BIC:                             399.7\n",
      "Df Model:                                    1                                         \n",
      "Covariance Type:                     nonrobust                                         \n",
      "==================================================================================\n",
      "                     coef    std err          t      P>|t|      [0.025      0.975]\n",
      "----------------------------------------------------------------------------------\n",
      "const             10.1766      0.815     12.486      0.000       8.556      11.797\n",
      "% VEXP_RN_Euro     0.1183      0.054      2.210      0.030       0.012       0.225\n",
      "==============================================================================\n",
      "Omnibus:                        4.317   Durbin-Watson:                   1.782\n",
      "Prob(Omnibus):                  0.115   Jarque-Bera (JB):                4.166\n",
      "Skew:                          -0.280   Prob(JB):                        0.125\n",
      "Kurtosis:                       3.914   Cond. No.                         50.7\n",
      "==============================================================================\n",
      "\n",
      "Notes:\n",
      "[1] Standard Errors assume that the covariance matrix of the errors is correctly specified.\n",
      "                                 WLS Regression Results                                \n",
      "=======================================================================================\n",
      "Dep. Variable:     % diff_participation_EUROT2   R-squared:                       0.000\n",
      "Model:                                     WLS   Adj. R-squared:                 -0.012\n",
      "Method:                          Least Squares   F-statistic:                   0.01979\n",
      "Date:                         Thu, 31 Oct 2024   Prob (F-statistic):              0.888\n",
      "Time:                                 14:54:19   Log-Likelihood:                -197.79\n",
      "No. Observations:                           87   AIC:                             399.6\n",
      "Df Residuals:                               85   BIC:                             404.5\n",
      "Df Model:                                    1                                         \n",
      "Covariance Type:                     nonrobust                                         \n",
      "====================================================================================\n",
      "                       coef    std err          t      P>|t|      [0.025      0.975]\n",
      "------------------------------------------------------------------------------------\n",
      "const               11.8063      0.674     17.506      0.000      10.465      13.147\n",
      "% VINSC_REC_Euro     0.0297      0.211      0.141      0.888      -0.391       0.450\n",
      "==============================================================================\n",
      "Omnibus:                        2.170   Durbin-Watson:                   1.606\n",
      "Prob(Omnibus):                  0.338   Jarque-Bera (JB):                1.642\n",
      "Skew:                          -0.121   Prob(JB):                        0.440\n",
      "Kurtosis:                       3.628   Cond. No.                         9.24\n",
      "==============================================================================\n",
      "\n",
      "Notes:\n",
      "[1] Standard Errors assume that the covariance matrix of the errors is correctly specified.\n",
      "                                 WLS Regression Results                                \n",
      "=======================================================================================\n",
      "Dep. Variable:     % diff_participation_EUROT2   R-squared:                       0.002\n",
      "Model:                                     WLS   Adj. R-squared:                 -0.010\n",
      "Method:                          Least Squares   F-statistic:                    0.1853\n",
      "Date:                         Thu, 31 Oct 2024   Prob (F-statistic):              0.668\n",
      "Time:                                 14:54:19   Log-Likelihood:                -197.71\n",
      "No. Observations:                           87   AIC:                             399.4\n",
      "Df Residuals:                               85   BIC:                             404.3\n",
      "Df Model:                                    1                                         \n",
      "Covariance Type:                     nonrobust                                         \n",
      "===================================================================================\n",
      "                      coef    std err          t      P>|t|      [0.025      0.975]\n",
      "-----------------------------------------------------------------------------------\n",
      "const              11.5977      0.734     15.808      0.000      10.139      13.056\n",
      "% VEXP_REC_Euro     0.0639      0.148      0.430      0.668      -0.231       0.359\n",
      "==============================================================================\n",
      "Omnibus:                        2.248   Durbin-Watson:                   1.620\n",
      "Prob(Omnibus):                  0.325   Jarque-Bera (JB):                1.705\n",
      "Skew:                          -0.143   Prob(JB):                        0.426\n",
      "Kurtosis:                       3.623   Cond. No.                         14.9\n",
      "==============================================================================\n",
      "\n",
      "Notes:\n",
      "[1] Standard Errors assume that the covariance matrix of the errors is correctly specified.\n"
     ]
    }
   ],
   "source": [
    "X = df2[['% VINSC_LFI_Euro']]\n",
    "X = sm.add_constant(X) \n",
    "\n",
    "Y = df2['% diff_participation_EUROT2']\n",
    "\n",
    "weights = df2['Inscrits_LegiT1']\n",
    "\n",
    "model = sm.WLS(Y, X, weights=weights).fit() \n",
    "print(model.summary())\n",
    "\n",
    "X = df2[['% VEXP_LFI_Euro']]\n",
    "X = sm.add_constant(X) \n",
    "\n",
    "Y = df2['% diff_participation_EUROT2']\n",
    "\n",
    "weights = df2['Inscrits_LegiT1']\n",
    "\n",
    "model = sm.WLS(Y, X, weights=weights).fit() \n",
    "print(model.summary())\n",
    "\n",
    "X = df2[['% VINSC_PCF_Euro']]\n",
    "X = sm.add_constant(X) \n",
    "\n",
    "Y = df2['% diff_participation_EUROT2']\n",
    "\n",
    "weights = df2['Inscrits_LegiT1']\n",
    "\n",
    "model = sm.WLS(Y, X, weights=weights).fit() \n",
    "print(model.summary())\n",
    "\n",
    "X = df2[['% VEXP_PCF_Euro']]\n",
    "X = sm.add_constant(X) \n",
    "\n",
    "Y = df2['% diff_participation_EUROT2']\n",
    "\n",
    "weights = df2['Inscrits_LegiT1']\n",
    "\n",
    "model = sm.WLS(Y, X, weights=weights).fit() \n",
    "print(model.summary())\n",
    "\n",
    "X = df2[['% VINSC_EELV_Euro']]\n",
    "X = sm.add_constant(X) \n",
    "\n",
    "Y = df2['% diff_participation_EUROT2']\n",
    "\n",
    "weights = df2['Inscrits_LegiT1']\n",
    "\n",
    "model = sm.WLS(Y, X, weights=weights).fit() \n",
    "print(model.summary())\n",
    "\n",
    "X = df2[['% VEXP_EELV_Euro']]\n",
    "X = sm.add_constant(X) \n",
    "\n",
    "Y = df2['% diff_participation_EUROT2']\n",
    "\n",
    "weights = df2['Inscrits_LegiT1']\n",
    "\n",
    "model = sm.WLS(Y, X, weights=weights).fit() \n",
    "print(model.summary())\n",
    "\n",
    "X = df2[['% VINSC_PP_Euro']]\n",
    "X = sm.add_constant(X) \n",
    "\n",
    "Y = df2['% diff_participation_EUROT2']\n",
    "\n",
    "weights = df2['Inscrits_LegiT1']\n",
    "\n",
    "model = sm.WLS(Y, X, weights=weights).fit() \n",
    "print(model.summary())\n",
    "\n",
    "X = df2[['% VEXP_PP_Euro']]\n",
    "X = sm.add_constant(X) \n",
    "\n",
    "Y = df2['% diff_participation_EUROT2']\n",
    "\n",
    "weights = df2['Inscrits_LegiT1']\n",
    "\n",
    "model = sm.WLS(Y, X, weights=weights).fit() \n",
    "print(model.summary())\n",
    "\n",
    "X = df2[['% VINSC_LREM_Euro']]\n",
    "X = sm.add_constant(X) \n",
    "\n",
    "Y = df2['% diff_participation_EUROT2']\n",
    "\n",
    "weights = df2['Inscrits_LegiT1']\n",
    "\n",
    "model = sm.WLS(Y, X, weights=weights).fit() \n",
    "print(model.summary())\n",
    "\n",
    "X = df2[['% VEXP_LREM_Euro']]\n",
    "X = sm.add_constant(X) \n",
    "\n",
    "Y = df2['% diff_participation_EUROT2']\n",
    "\n",
    "weights = df2['Inscrits_LegiT1']\n",
    "\n",
    "model = sm.WLS(Y, X, weights=weights).fit() \n",
    "print(model.summary())\n",
    "\n",
    "X = df2[['% VINSC_LR_Euro']]\n",
    "X = sm.add_constant(X) \n",
    "\n",
    "Y = df2['% diff_participation_EUROT2']\n",
    "\n",
    "weights = df2['Inscrits_LegiT1']\n",
    "\n",
    "model = sm.WLS(Y, X, weights=weights).fit() \n",
    "print(model.summary())\n",
    "\n",
    "X = df2[['% VEXP_LR_Euro']]\n",
    "X = sm.add_constant(X) \n",
    "\n",
    "Y = df2['% diff_participation_EUROT2']\n",
    "\n",
    "weights = df2['Inscrits_LegiT1']\n",
    "\n",
    "model = sm.WLS(Y, X, weights=weights).fit() \n",
    "print(model.summary())\n",
    "\n",
    "X = df2[['% VINSC_RN_Euro']]\n",
    "X = sm.add_constant(X) \n",
    "\n",
    "Y = df2['% diff_participation_EUROT2']\n",
    "\n",
    "weights = df2['Inscrits_LegiT1']\n",
    "\n",
    "model = sm.WLS(Y, X, weights=weights).fit() \n",
    "print(model.summary())\n",
    "\n",
    "X = df2[['% VEXP_RN_Euro']]\n",
    "X = sm.add_constant(X) \n",
    "\n",
    "Y = df2['% diff_participation_EUROT2']\n",
    "\n",
    "weights = df2['Inscrits_LegiT1']\n",
    "\n",
    "model = sm.WLS(Y, X, weights=weights).fit() \n",
    "print(model.summary())\n",
    "\n",
    "X = df2[['% VINSC_REC_Euro']]\n",
    "X = sm.add_constant(X) \n",
    "\n",
    "Y = df2['% diff_participation_EUROT2']\n",
    "\n",
    "weights = df2['Inscrits_LegiT1']\n",
    "\n",
    "model = sm.WLS(Y, X, weights=weights).fit() \n",
    "print(model.summary())\n",
    "\n",
    "X = df2[['% VEXP_REC_Euro']]\n",
    "X = sm.add_constant(X) \n",
    "\n",
    "Y = df2['% diff_participation_EUROT2']\n",
    "\n",
    "weights = df2['Inscrits_LegiT1']\n",
    "\n",
    "model = sm.WLS(Y, X, weights=weights).fit() \n",
    "print(model.summary())"
   ]
  },
  {
   "cell_type": "markdown",
   "id": "0a9a4b2f-b27d-4bc6-858d-f53a874b112d",
   "metadata": {},
   "source": [
    "Au second tour, on observe davantage d'effet du parti voté aux européennes sur l'abstention. Pour les électeurs de gauche, on observe des corrélations négatives entre la part de vote LFI parmi les inscrits et le différentiel d'abstention, ainsi que pour le PCF (mais cela s'exprime en + dans la part des suffrages exprimés). \n",
    "\n",
    "La part de suffrage exprimé pour la liste LREM est positivement corrélé à la différence de participation. \n",
    "La part de vote RN parmi les inscrits ainsi que les exprimés est positivement corrélé avec la différence de participation. \n",
    "\n",
    "Le nombre d'inscrits sera supposé égal aux nombre d'inscrits au second tour des élections législatives 2024.\n",
    "\n",
    "Cela semble donc suggérer que les électeurs RN et LREM se sont possiblement davantage mobilisés au second tour des législatives qu'aux européennes, tandis qu'on observe l'effet inverse chez les électeurs LFI-PCF. \n",
    "\n",
    "__Au premier tour, la mobilisation ne semble pas corrélée à la préférence partisane (à part légèrement pour le RN). En revanche, au second tour, davantage de personnes de droite se sont mobilisées, et moins de personnes de gauche. Peut-être que le candidat de gauche ayant été en tête, les électeurs de gauche se sont moins déplacés et ceux de droite daantage. Il est donc crucial de se concentrer sur la campagne d'entre deux tours pour le NFP.__ \n",
    "\n",
    "## Projection des résultats de la législative partielle de janvier 2025\n",
    "\n",
    "Nous allons donc chercher à prédire les résultats possibles pour les élections à venir. Cependant, il faudra s'atteler à plusieurs difficultés \n",
    "\n",
    "- La baisse de participation : en contexte de législatives partielles, la participation est souvent plus basse, on ne peut donc pas se baser sur la participation aux élections de l'été 2024 pour prédire le résultat.\n",
    "- Inconnue sur le candidat macroniste : Véran ou un autre ? En effet, nous pouvons supposer que la personne de Véran a un effet au-delà de l'étiquette (apprécié comme baron local/respectabilité du passé de ministre, mais image dégradée par la gestion COVID + polémique sur la chirurgie esthétique). Nous allons donc devoir envisager deux scénario : Véran VS inconnu macroniste\n",
    "- Présence d'un ou deux candidats à gauche (Lyes Louffok, Amandine Germain) : nous considérerons le cas d'une candidature unique de Lyes Louffok, ou le cas de deux candidatures\n",
    "\n",
    "L'objectif ici est de se concentrer sur les 3 blocs (Gauche, Bourgeois (macron / Centre-Droit), Extrême Droite). Nous ne nous psoerons pas la question d'une candidature LR ici. Egalement, nous supposons que le nom du candidat RN n'a pas d'importance car la force du RN se situe dans son étiquette et non dans ses candidats. \n",
    "\n",
    "Nous supposerons également une candidature LR (Nathalie Béranger) et une candidature Lutte Ouvrière dans les prévisions du premier tour. La baisse de participation affectera également tous les votes au sein d'un même bureau (vu qu'aucun parti n'a semblé considérablement bénéficié du gain de participation aux législatives lros du 1er tour)\n",
    "\n",
    "Nous procéderons à des simulations pour obtenir des résultats variables"
   ]
  },
  {
   "cell_type": "markdown",
   "id": "b32a27ff-ed60-4e8d-a884-2c51adf8944f",
   "metadata": {},
   "source": [
    "### Prévision de l'abstention\n",
    "\n",
    "Il est difficile de prévoir la participation à une législative partielle. En effet, en considérant les 5 élections législatives partielles ayant eu lieu dans des circonscriptions en France depuis 2022 (on ne compte pas celles des Fr. de l'étranger), on s'aperçoit que la participation a baissé de 15% à 35% entre la partielle et la législative de 2022. En terme de participation, la 1ère circonscription de L'Isère avait un taux d'abstention d'environ 43% en 2022, ce qui correspond aux chiffres observées dans la 2ème circonscription des Yvelines ou de la première circonscription de l'Ariège. Cependant, l'abstention a été de 73% pour le premier tour et 77% pour le second dans les Yvelines tandis qu'on obtenait plutot des taux d'abstention de 60% et 62% en Ariège. \n",
    "\n",
    "Nous ferions donc varier aléatoirement l'abstention par bureau de vote de 20% à la baisse en moyenne (avec des écarts type de 3%). \n",
    "Nous testerons également un scénario punitif où la participation baisserait de 15% en moyenne hors Grenoble et de 25% à Grenoble (considérer un scénario plutôt pessimiste puisque la gauche fait ses scores principalement à Grenoble dans la circonscription). Cela repose sur l'hypothèse que la démobilisation serait plus forte dans les quartiers de Teisseire et de l'Abbaye\n",
    "\n",
    "### Effet Véran\n",
    "\n",
    "Véran a-t-il un effet mobilisateur ou repoussoir auprès de l'électorat grenoblois de centre-droit ? Nous avons déjà établi que les électeurs de PS-PP semblaient préférer Prevost à Véran. Mais qu'en est-il des électeurs LREM ? Nous allons comparer avec les résultats des européennes : notre intuition est qu'un électeur de la liste de Valérie Hayer choisissait + le mouvement Renaissance qu'une personne en particulier (ce qui parait raisonnable). Nous allons donc chercher à mesurer si Véran a attiré plus de voix ou éloigné davantage d'électeurs. Nous avons contrôlé par l'abstention."
   ]
  },
  {
   "cell_type": "code",
   "execution_count": 133,
   "id": "5b9d2c9d-795f-4624-b6bd-af3187afb9cf",
   "metadata": {},
   "outputs": [
    {
     "name": "stdout",
     "output_type": "stream",
     "text": [
      "                            WLS Regression Results                            \n",
      "==============================================================================\n",
      "Dep. Variable:     % VEXP_LREM_LegiT1   R-squared:                       0.916\n",
      "Model:                            WLS   Adj. R-squared:                  0.914\n",
      "Method:                 Least Squares   F-statistic:                     456.5\n",
      "Date:                Thu, 31 Oct 2024   Prob (F-statistic):           7.48e-46\n",
      "Time:                        15:38:22   Log-Likelihood:                -217.09\n",
      "No. Observations:                  87   AIC:                             440.2\n",
      "Df Residuals:                      84   BIC:                             447.6\n",
      "Df Model:                           2                                         \n",
      "Covariance Type:            nonrobust                                         \n",
      "=====================================================================================\n",
      "                        coef    std err          t      P>|t|      [0.025      0.975]\n",
      "-------------------------------------------------------------------------------------\n",
      "const                16.5450      3.158      5.239      0.000      10.265      22.825\n",
      "% VEXP_LREM_Euro      1.4770      0.058     25.256      0.000       1.361       1.593\n",
      "% Abstention_Euro    -0.2450      0.071     -3.474      0.001      -0.385      -0.105\n",
      "==============================================================================\n",
      "Omnibus:                        3.629   Durbin-Watson:                   1.629\n",
      "Prob(Omnibus):                  0.163   Jarque-Bera (JB):                2.886\n",
      "Skew:                           0.376   Prob(JB):                        0.236\n",
      "Kurtosis:                       3.481   Cond. No.                         402.\n",
      "==============================================================================\n",
      "\n",
      "Notes:\n",
      "[1] Standard Errors assume that the covariance matrix of the errors is correctly specified.\n",
      "                            WLS Regression Results                            \n",
      "==============================================================================\n",
      "Dep. Variable:     % VEXP_LREM_LegiT2   R-squared:                       0.929\n",
      "Model:                            WLS   Adj. R-squared:                  0.927\n",
      "Method:                 Least Squares   F-statistic:                     549.8\n",
      "Date:                Thu, 31 Oct 2024   Prob (F-statistic):           5.58e-49\n",
      "Time:                        15:38:22   Log-Likelihood:                -229.01\n",
      "No. Observations:                  87   AIC:                             464.0\n",
      "Df Residuals:                      84   BIC:                             471.4\n",
      "Df Model:                           2                                         \n",
      "Covariance Type:            nonrobust                                         \n",
      "=====================================================================================\n",
      "                        coef    std err          t      P>|t|      [0.025      0.975]\n",
      "-------------------------------------------------------------------------------------\n",
      "const                16.7293      3.622      4.619      0.000       9.527      23.931\n",
      "% VEXP_LREM_Euro      1.8792      0.067     28.021      0.000       1.746       2.013\n",
      "% Abstention_Euro    -0.2630      0.081     -3.251      0.002      -0.424      -0.102\n",
      "==============================================================================\n",
      "Omnibus:                        2.331   Durbin-Watson:                   1.755\n",
      "Prob(Omnibus):                  0.312   Jarque-Bera (JB):                1.666\n",
      "Skew:                           0.277   Prob(JB):                        0.435\n",
      "Kurtosis:                       3.391   Cond. No.                         402.\n",
      "==============================================================================\n",
      "\n",
      "Notes:\n",
      "[1] Standard Errors assume that the covariance matrix of the errors is correctly specified.\n"
     ]
    }
   ],
   "source": [
    "X = df[['% VEXP_LREM_Euro', '% Abstention_Euro']]\n",
    "X = sm.add_constant(X) \n",
    "\n",
    "Y = df2['% VEXP_LREM_LegiT1']\n",
    "\n",
    "weights = df2['Inscrits_LegiT1']\n",
    "\n",
    "model = sm.WLS(Y, X, weights=weights).fit() \n",
    "print(model.summary())\n",
    "\n",
    "X = df[['% VEXP_LREM_Euro', '% Abstention_Euro']]\n",
    "X = sm.add_constant(X) \n",
    "\n",
    "Y = df2['% VEXP_LREM_LegiT2']\n",
    "\n",
    "weights = df2['Inscrits_LegiT1']\n",
    "\n",
    "model = sm.WLS(Y, X, weights=weights).fit() \n",
    "print(model.summary())"
   ]
  },
  {
   "cell_type": "markdown",
   "id": "0d59abe9-8983-4dca-80b4-e85b2be55212",
   "metadata": {},
   "source": [
    "1% de vote en plus pour Véran est corrélé au gain de 1,47% des suffrages inscrits aux européennes et de 1,90% des suffrages exprimés aux européennes. Cela semble donc suggérer que la figure d'Olivier Véran serait repoussoir, il faut donc prévoir davantage de vote pour le camp LREM si c'est une personne inconnue qui se présente. \n",
    "\n",
    "### Prévisions de premier tour si configuration identique à l'été 2024\n",
    "\n",
    "Nous allons commencer par le scénario le plus proche de la législative de 2024 : un candidat LFI-NFP contre Olivier Véran. les scores varieront aléatoirement par rapport aux scores de 2024 (en ayant des différences plus ou moins importantes : plus les candidats ont eu de voix, plus leur résultat est supposé variable). \n",
    "\n",
    "NOTE : Le total ne fait pas 100% à cause des variations aléatoires\n"
   ]
  },
  {
   "cell_type": "code",
   "execution_count": 349,
   "id": "d8e23693-f04f-41d9-a432-bd34c423d8fc",
   "metadata": {},
   "outputs": [],
   "source": [
    "def var_participation(value, code_commune): #Fonction pour pénalisation égale par l'abstention entre les communes\n",
    "    random_var = np.random.normal(20, 3, 1)[0]\n",
    "    part = value-random_var \n",
    "    part = np.clip(part, 0,100) #Le nombre doit être compris entre 0 et 100\n",
    "    return part\n",
    "\n",
    "def var_participation_penalite(value, code_commune): \n",
    "    if code_commune == 38185:  # Code pour Grenoble\n",
    "        random_var = np.random.normal(25, 3, 1)[0]\n",
    "        part = value - random_var \n",
    "        part = np.clip(part, 0, 100)  # Clip entre 0 et 100 pour Grenoble\n",
    "    else:\n",
    "        random_var = np.random.normal(15, 3, 1)[0]\n",
    "        part = value - random_var \n",
    "        part = np.clip(part, 0, 100)  # Clip entre 0 et 80 pour les autres communes\n",
    "    return part\n",
    "\n",
    "def report_aleatoire_voix(df_results):\n",
    "    # Créer une variation aléatoire avec une distribution normale\n",
    "    inscrits = df_results['Inscrits'].sum()\n",
    "    df_results['var_LREM'] = abs(np.random.normal(0, 0.05, size=len(df))) #5% de variation aléatoire\n",
    "    df_results['var_LR'] = abs(np.random.normal(0, 0.02, size=len(df))) \n",
    "    df_results['var_UG'] = abs(np.random.normal(0, 0.05, size=len(df)))\n",
    "    df_results['var_LO'] = abs(np.random.normal(0, 0.007, size=len(df)))\n",
    "    df_results['var_UXD'] = abs(np.random.normal(0, 0.035, size=len(df)))\n",
    "\n",
    "    df_report = pd.DataFrame( {'P_LREM': ['A', 0.4, 0.25, 0, 0.35], 'P_LR' : [0.45, 'A', 0.15, 0, 0.4], 'P_UG' : [0.7, 0.1, 'A', 0.05, 0.15],  \n",
    "    'P_LO' : [0.05, 0.05, 0.8, 'A', 0.1], 'P_UXD':[0.3, 0.55, 0.1, 0.05, 'A']}, \n",
    "    index = ['G_LREM', 'G_LR', 'G_UG', 'G_LO', 'G_UXD'] \n",
    "    )\n",
    "\n",
    "    df_report.reset_index(drop=True, inplace=True)\n",
    "    df_report.columns = range(df_report.shape[1])\n",
    "\n",
    "    #Electeurs qui ne changent pas d'avis entre les deux législatives\n",
    "    df_results['Voix_LREM'] = (df['% VEXP_LREM_LegiT1']/100 * df_results['Votants']) \n",
    "    df_results['Voix_LR'] = (df['% VEXP_LR_LegiT1']/100 * df_results['Votants'])  \n",
    "    df_results['Voix_UG'] = (df['% VEXP_UG_LegiT1']/100 * df_results['Votants']) \n",
    "    df_results['Voix_LO'] = (df['% VEXP_LO_LegiT1']/100 * df_results['Votants']) \n",
    "    df_results['Voix_UXD'] = (df['% VEXP_UXD_LegiT1']/100 * df_results['Votants'])  \n",
    "\n",
    "    df_results2 = df_results.copy()\n",
    "\n",
    "    df_results['Voix_LREM'] = (df['% VEXP_LREM_LegiT1']/100 * df_results['Votants']) * (1- df_results['var_LREM'])\n",
    "    df_results['Voix_LR'] = (df['% VEXP_LR_LegiT1']/100 * df_results['Votants'])  * (1- df_results['var_LR'])\n",
    "    df_results['Voix_UG'] = (df['% VEXP_UG_LegiT1']/100 * df_results['Votants']) * (1- df_results['var_UG'])\n",
    "    df_results['Voix_LO'] = (df['% VEXP_LO_LegiT1']/100 * df_results['Votants']) * (1- df_results['var_LO'])\n",
    "    df_results['Voix_UXD'] = (df['% VEXP_UXD_LegiT1']/100 * df_results['Votants'])  * (1- df_results['var_UXD'])\n",
    "\n",
    "    col_list = ['Voix_LREM', 'Voix_LR', 'Voix_UG', 'Voix_LO', 'Voix_UXD']\n",
    "    var_list = ['var_LREM', 'var_LR', 'var_UG', 'var_LO', 'var_UXD']\n",
    "\n",
    "\n",
    "    for col, var, i in zip(col_list, var_list, range(5)):\n",
    "        for col2, j in zip(col_list, range(5)):\n",
    "            if col != col2:\n",
    "                df_results[col2] += df_results2[col]*(df_report.loc[j, i]*df_results[var])\n",
    "\n",
    "    df_results = df_results.drop(columns=var_list)\n",
    "    \n",
    "    return df_results \n",
    "    \n",
    "# Fonction de simulation\n",
    "def simu_veran_lfi_T1(var_function_abs): #Fonction augmentant l'abstention à Grenoble \n",
    "    df_results = pd.DataFrame()\n",
    "    df_results['Inscrits'] = df['Inscrits_LegiT2'] #On fixe le nombre d'inscrits\n",
    "    df_results['% Votants'] = df.apply(\n",
    "        lambda row: var_function_abs(row['% Votants_LegiT1'], row['Code commune']), axis=1 #On estime le pourcent de votant aléatoirement\n",
    "    )\n",
    "    df_results['Votants'] = df_results['% Votants']/100 * df_results['Inscrits']\n",
    "    df_results['Votants'] = df_results['Votants'].apply(lambda x: round(x)) #On arront à l'entier le nombre de votants \n",
    "\n",
    "    df_results = report_aleatoire_voix(df_results)\n",
    "\n",
    "    #Arrondis\n",
    "    for col in ['Voix_LREM', 'Voix_LR', 'Voix_UG', 'Voix_LO', 'Voix_UXD']:\n",
    "        df_results[col] = df_results[col].apply(lambda x: round(x))\n",
    "\n",
    "    #Obtention des pourcentages par inscrits / suffrages exprimés\n",
    "    df_results['% VEXP_LREM'] = df_results['Voix_LREM']/df_results['Votants']\n",
    "    df_results['% VEXP_LR'] = df_results['Voix_LR']/df_results['Votants']\n",
    "    df_results['% VEXP_LO'] = df_results['Voix_LO']/df_results['Votants']\n",
    "    df_results['% VEXP_UG'] = df_results['Voix_UG']/df_results['Votants']\n",
    "    df_results['% VEXP_UXD'] = df_results['Voix_UXD']/df_results['Votants']\n",
    "    \n",
    "    df_results['% VINSC_LREM'] = df_results['Voix_LREM']/df_results['Inscrits']\n",
    "    df_results['% VINSC_LR'] = df_results['Voix_LR']/df_results['Inscrits']\n",
    "    df_results['% VINSC_LO'] = df_results['Voix_LO']/df_results['Inscrits']\n",
    "    df_results['% VINSC_UG'] = df_results['Voix_UG']/df_results['Inscrits']\n",
    "    df_results['% VINSC_UXD'] = df_results['Voix_UXD']/df_results['Inscrits']\n",
    "\n",
    "    return df_results\n",
    "\n",
    "#Fonction pour résumer les résultats\n",
    "def sum_ressimu(simu, var_function_abs):\n",
    "    #Récupération des résultats\n",
    "    df_results=simu(var_function_abs)\n",
    "\n",
    "    #Calcul des totaux\n",
    "    total_votants = df_results['Votants'].sum()\n",
    "    total_inscrits = df_results['Inscrits'].sum()\n",
    "    total_voixLREM = df_results['Voix_LREM'].sum()\n",
    "    total_voixLR = df_results['Voix_LR'].sum()\n",
    "    total_voixLO = df_results['Voix_LO'].sum()\n",
    "    total_voixUXD = df_results['Voix_UXD'].sum()\n",
    "    total_voixUG = df_results['Voix_UG'].sum()\n",
    "\n",
    "    #Calcul des pourcentages \n",
    "    Abs = 1 - (total_votants/total_inscrits) \n",
    "    \n",
    "    inscr_LREM = total_voixLREM/total_inscrits *100\n",
    "    inscr_LR = total_voixLR/total_inscrits *100\n",
    "    inscr_LO = total_voixLO/total_inscrits *100\n",
    "    inscr_UXD = total_voixUXD/total_inscrits *100\n",
    "    inscr_UG = total_voixUG/total_inscrits *100\n",
    "\n",
    "    exp_LREM = total_voixLREM/total_votants *100\n",
    "    exp_LR = total_voixLR/total_votants *100\n",
    "    exp_LO = total_voixLO/total_votants *100\n",
    "    exp_UXD = total_voixUXD/total_votants *100\n",
    "    exp_UG = total_voixUG/total_votants *100\n",
    "\n",
    "    df_total = pd.DataFrame({\n",
    "        'Total_Voix': [total_voixLREM, total_voixLR, total_voixLO, total_voixUXD, total_voixUG],\n",
    "        'Pourcentage_Inscrits': [inscr_LREM, inscr_LR, inscr_LO, inscr_UXD, inscr_UG],\n",
    "        'Pourcentage_Exp': [exp_LREM, exp_LR, exp_LO, exp_UXD, exp_UG]\n",
    "    }, index=['LREM', 'LR', 'LO', 'UXD', 'UG'])\n",
    "\n",
    "    df_total.loc['Abstention'] = ['x', Abs, 'x'] \n",
    "\n",
    "    return df_total\n",
    "    "
   ]
  },
  {
   "cell_type": "code",
   "execution_count": 351,
   "id": "8b007fb1-8cfa-452e-8727-3089ddcf1089",
   "metadata": {},
   "outputs": [
    {
     "data": {
      "image/png": "[encoded data removed]",
      "text/plain": [
       "<Figure size 1200x600 with 1 Axes>"
      ]
     },
     "metadata": {},
     "output_type": "display_data"
    }
   ],
   "source": [
    "def run_multiple_simulations(n_simulations, simu, var_function_abs):\n",
    "    results = {\n",
    "        'LREM': [],\n",
    "        'LR': [],\n",
    "        'LO': [],\n",
    "        'UXD': [],\n",
    "        'UG': [],\n",
    "    }\n",
    "\n",
    "    for _ in range(n_simulations):\n",
    "        df_total = sum_ressimu(simu, var_function_abs)\n",
    "        \n",
    "        # Collecte des scores pour chaque parti\n",
    "        results['LREM'].append(df_total.loc['LREM', 'Pourcentage_Exp'])\n",
    "        results['LR'].append(df_total.loc['LR', 'Pourcentage_Exp'])\n",
    "        results['LO'].append(df_total.loc['LO', 'Pourcentage_Exp'])\n",
    "        results['UXD'].append(df_total.loc['UXD', 'Pourcentage_Exp'])\n",
    "        results['UG'].append(df_total.loc['UG', 'Pourcentage_Exp'])\n",
    "\n",
    "    return pd.DataFrame(results)\n",
    "\n",
    "def run_multiple_simulations(n_simulations, simu, var_function_abs):\n",
    "    results = {\n",
    "        'LREM': [],\n",
    "        'LR': [],\n",
    "        'LO': [],\n",
    "        'UXD': [],\n",
    "        'UG': [],\n",
    "    }\n",
    "\n",
    "    for _ in range(n_simulations):\n",
    "        df_total = sum_ressimu(simu, var_function_abs)\n",
    "        \n",
    "        # Collecte des scores pour chaque parti\n",
    "        results['LREM'].append(df_total.loc['LREM', 'Pourcentage_Exp'])\n",
    "        results['LR'].append(df_total.loc['LR', 'Pourcentage_Exp'])\n",
    "        results['LO'].append(df_total.loc['LO', 'Pourcentage_Exp'])\n",
    "        results['UXD'].append(df_total.loc['UXD', 'Pourcentage_Exp'])\n",
    "        results['UG'].append(df_total.loc['UG', 'Pourcentage_Exp'])\n",
    "\n",
    "    return pd.DataFrame(results)\n",
    "\n",
    "# Exécuter plusieurs simulations\n",
    "n_simulations = 1000  # Nombre de simulations\n",
    "df_results = run_multiple_simulations(n_simulations, simu_veran_lfi_T1, var_participation)\n",
    "\n",
    "# Création de la boîte à moustaches\n",
    "plt.figure(figsize=(12, 6))\n",
    "sns.boxplot(data=df_results)\n",
    "plt.title('Boîte à Moustaches des Variations des Scores des Partis')\n",
    "plt.xlabel('Partis')\n",
    "plt.ylabel('Pourcentage des suffrages exprimés')\n",
    "plt.grid()\n",
    "plt.show()"
   ]
  },
  {
   "cell_type": "markdown",
   "id": "c41a040e-fde6-41dc-a2e3-ccfcdbd2fbd5",
   "metadata": {},
   "source": [
    "Les résultats sont proches de juin : c'est logique puisqu'on a supposé que l'abstention touchait également tous les bureaux de vote. Voyons ce qui se passe si Grenoble s'abstient davantage "
   ]
  },
  {
   "cell_type": "code",
   "execution_count": 352,
   "id": "14f291df-bb30-4d2a-b065-e0e06f1a5f7b",
   "metadata": {},
   "outputs": [
    {
     "data": {
      "image/png": "[encoded data removed]",
      "text/plain": [
       "<Figure size 1200x600 with 1 Axes>"
      ]
     },
     "metadata": {},
     "output_type": "display_data"
    }
   ],
   "source": [
    "n_simulations = 1000  # Nombre de simulations\n",
    "df_results = run_multiple_simulations(n_simulations, simu_veran_lfi_T1, var_participation_penalite)\n",
    "\n",
    "# Création de la boîte à moustaches\n",
    "plt.figure(figsize=(12, 6))\n",
    "sns.boxplot(data=df_results)\n",
    "plt.title('Boîte à Moustaches des Variations des Scores des Partis')\n",
    "plt.xlabel('Partis')\n",
    "plt.ylabel('Pourcentage des suffrages exprimés')\n",
    "plt.grid()\n",
    "plt.show()"
   ]
  },
  {
   "cell_type": "markdown",
   "id": "abe4c27c-d848-4558-99e8-ea8baab146d7",
   "metadata": {},
   "source": [
    "## Prévision second tour\n",
    "\n",
    "Le score du NFP baisse un peu et celui de Véran augmente un peu en pénalisant Grenoble, ce qui est attendu. Cependant, à quelle fréquence obtient-on des triangulaires dans cette circonscription ? "
   ]
  },
  {
   "cell_type": "code",
   "execution_count": 353,
   "id": "ad5dfe23-f2a6-40ad-ad5d-03ea389cc3c5",
   "metadata": {},
   "outputs": [],
   "source": [
    "def frequence_triangulaire(n_simulations, simu, var_function_abs):\n",
    "    count_triang = 0\n",
    "    for i in range(n_simulations):\n",
    "        df_total = sum_ressimu(simu, var_function_abs)\n",
    "        df_total['Pourcentage_Inscrits'] = df_total['Pourcentage_Inscrits'].astype(float)\n",
    "        if df_total.loc['UXD', 'Pourcentage_Inscrits'] >= 12.5:\n",
    "            count_triang=count_triang+1\n",
    "    freq = count_triang/n_simulations\n",
    "    return freq\n",
    "\n",
    "    "
   ]
  },
  {
   "cell_type": "code",
   "execution_count": 354,
   "id": "d176a306-110d-454e-b94b-0ec2bb9d4dd0",
   "metadata": {},
   "outputs": [
    {
     "data": {
      "text/plain": [
       "0.0"
      ]
     },
     "execution_count": 354,
     "metadata": {},
     "output_type": "execute_result"
    }
   ],
   "source": [
    "frequence_triangulaire(1000, simu_veran_lfi_T1, var_participation)"
   ]
  },
  {
   "cell_type": "code",
   "execution_count": 355,
   "id": "40098326-9bdd-4af8-855a-f35543a525b6",
   "metadata": {},
   "outputs": [
    {
     "data": {
      "text/plain": [
       "0.0"
      ]
     },
     "execution_count": 355,
     "metadata": {},
     "output_type": "execute_result"
    }
   ],
   "source": [
    "frequence_triangulaire(1000, simu_veran_lfi_T1, var_participation_penalite)"
   ]
  },
  {
   "cell_type": "markdown",
   "id": "6942721c-034f-4dcd-b266-037f4ee416f3",
   "metadata": {},
   "source": [
    "La triangulaire est un scénario extrêmement improbable si notre modèle est bon. La question sera alors les reports de voix au second tour. POur ce faire, nous nous baserons sur les reports de l'élection législative de 2022 pour comprendre ce qui pourrait se jouer. "
   ]
  }
 ],
 "metadata": {
  "kernelspec": {
   "display_name": "Python 3 (ipykernel)",
   "language": "python",
   "name": "python3"
  },
  "language_info": {
   "codemirror_mode": {
    "name": "ipython",
    "version": 3
   },
   "file_extension": ".py",
   "mimetype": "text/x-python",
   "name": "python",
   "nbconvert_exporter": "python",
   "pygments_lexer": "ipython3",
   "version": "3.12.6"
  }
 },
 "nbformat": 4,
 "nbformat_minor": 5
}
